{
  "nbformat": 4,
  "nbformat_minor": 0,
  "metadata": {
    "colab": {
      "name": "12-pip와 가상환경.ipynb",
      "provenance": [],
      "collapsed_sections": [],
      "authorship_tag": "ABX9TyNA/+QH+1+/+bVai7VFt45v",
      "include_colab_link": true
    },
    "kernelspec": {
      "name": "python3",
      "display_name": "Python 3"
    },
    "language_info": {
      "name": "python"
    }
  },
  "cells": [
    {
      "cell_type": "markdown",
      "metadata": {
        "id": "view-in-github",
        "colab_type": "text"
      },
      "source": [
        "<a href=\"https://colab.research.google.com/github/Wooney98/playdata-python/blob/main/12_pip%EC%99%80_%EA%B0%80%EC%83%81%ED%99%98%EA%B2%BD.ipynb\" target=\"_parent\"><img src=\"https://colab.research.google.com/assets/colab-badge.svg\" alt=\"Open In Colab\"/></a>"
      ]
    },
    {
      "cell_type": "markdown",
      "source": [
        "# PIP란?\n",
        "- Package installer for Python\n",
        "- Python 패키지를 설치하고 관리하는 패키지 매니저\n",
        "- http://pypi.org"
      ],
      "metadata": {
        "id": "jwmVfaEK0jKu"
      }
    },
    {
      "cell_type": "markdown",
      "source": [
        "- 현재 설치된 패키지 리스트와 버전을 출력\n",
        "```shell\n",
        "pip list\n",
        "```"
      ],
      "metadata": {
        "id": "g_pv0pIl0wsi"
      }
    },
    {
      "cell_type": "code",
      "execution_count": null,
      "metadata": {
        "colab": {
          "base_uri": "https://localhost:8080/"
        },
        "id": "BAH9cKL6zp6X",
        "outputId": "770799f6-b785-4421-e58d-48485c995f02"
      },
      "outputs": [
        {
          "output_type": "stream",
          "name": "stdout",
          "text": [
            "Package                       Version\n",
            "----------------------------- ----------------------------\n",
            "absl-py                       1.2.0\n",
            "aiohttp                       3.8.1\n",
            "aiosignal                     1.2.0\n",
            "alabaster                     0.7.12\n",
            "albumentations                1.2.1\n",
            "altair                        4.2.0\n",
            "appdirs                       1.4.4\n",
            "argon2-cffi                   21.3.0\n",
            "argon2-cffi-bindings          21.2.0\n",
            "arviz                         0.12.1\n",
            "astor                         0.8.1\n",
            "astropy                       4.3.1\n",
            "astunparse                    1.6.3\n",
            "async-timeout                 4.0.2\n",
            "asynctest                     0.13.0\n",
            "atari-py                      0.2.9\n",
            "atomicwrites                  1.4.1\n",
            "attrs                         22.1.0\n",
            "audioread                     2.1.9\n",
            "autograd                      1.4\n",
            "Babel                         2.10.3\n",
            "backcall                      0.2.0\n",
            "beautifulsoup4                4.6.3\n",
            "bleach                        5.0.1\n",
            "blis                          0.7.8\n",
            "bokeh                         2.3.3\n",
            "branca                        0.5.0\n",
            "bs4                           0.0.1\n",
            "CacheControl                  0.12.11\n",
            "cached-property               1.5.2\n",
            "cachetools                    4.2.4\n",
            "catalogue                     2.0.8\n",
            "certifi                       2022.6.15\n",
            "cffi                          1.15.1\n",
            "cftime                        1.6.1\n",
            "chardet                       3.0.4\n",
            "charset-normalizer            2.1.0\n",
            "click                         7.1.2\n",
            "clikit                        0.6.2\n",
            "cloudpickle                   1.3.0\n",
            "cmake                         3.22.6\n",
            "cmdstanpy                     1.0.4\n",
            "colorcet                      3.0.0\n",
            "colorlover                    0.3.0\n",
            "community                     1.0.0b1\n",
            "contextlib2                   0.5.5\n",
            "convertdate                   2.4.0\n",
            "crashtest                     0.3.1\n",
            "crcmod                        1.7\n",
            "cufflinks                     0.17.3\n",
            "cvxopt                        1.3.0\n",
            "cvxpy                         1.2.1\n",
            "cycler                        0.11.0\n",
            "cymem                         2.0.6\n",
            "Cython                        0.29.32\n",
            "daft                          0.0.4\n",
            "dask                          2.12.0\n",
            "datascience                   0.17.5\n",
            "debugpy                       1.0.0\n",
            "decorator                     4.4.2\n",
            "defusedxml                    0.7.1\n",
            "deprecat                      2.1.1\n",
            "descartes                     1.1.0\n",
            "dill                          0.3.5.1\n",
            "distributed                   1.25.3\n",
            "dlib                          19.24.0\n",
            "dm-tree                       0.1.7\n",
            "docutils                      0.17.1\n",
            "dopamine-rl                   1.0.5\n",
            "earthengine-api               0.1.317\n",
            "easydict                      1.9\n",
            "ecos                          2.0.10\n",
            "editdistance                  0.5.3\n",
            "en-core-web-sm                3.4.0\n",
            "entrypoints                   0.4\n",
            "ephem                         4.1.3\n",
            "et-xmlfile                    1.1.0\n",
            "etils                         0.6.0\n",
            "fa2                           0.3.5\n",
            "fastai                        2.7.7\n",
            "fastcore                      1.5.13\n",
            "fastdownload                  0.0.7\n",
            "fastdtw                       0.3.4\n",
            "fastjsonschema                2.16.1\n",
            "fastprogress                  1.0.3\n",
            "fastrlock                     0.8\n",
            "feather-format                0.4.1\n",
            "filelock                      3.7.1\n",
            "firebase-admin                4.4.0\n",
            "fix-yahoo-finance             0.0.22\n",
            "Flask                         1.1.4\n",
            "flatbuffers                   2.0\n",
            "folium                        0.12.1.post1\n",
            "frozenlist                    1.3.0\n",
            "future                        0.16.0\n",
            "gast                          0.5.3\n",
            "GDAL                          2.2.2\n",
            "gdown                         4.4.0\n",
            "gensim                        3.6.0\n",
            "geographiclib                 1.52\n",
            "geopy                         1.17.0\n",
            "gin-config                    0.5.0\n",
            "glob2                         0.7\n",
            "google                        2.0.3\n",
            "google-api-core               1.31.6\n",
            "google-api-python-client      1.12.11\n",
            "google-auth                   1.35.0\n",
            "google-auth-httplib2          0.0.4\n",
            "google-auth-oauthlib          0.4.6\n",
            "google-cloud-bigquery         1.21.0\n",
            "google-cloud-bigquery-storage 1.1.2\n",
            "google-cloud-core             1.0.3\n",
            "google-cloud-datastore        1.8.0\n",
            "google-cloud-firestore        1.7.0\n",
            "google-cloud-language         1.2.0\n",
            "google-cloud-storage          1.18.1\n",
            "google-cloud-translate        1.5.0\n",
            "google-colab                  1.0.0\n",
            "google-pasta                  0.2.0\n",
            "google-resumable-media        0.4.1\n",
            "googleapis-common-protos      1.56.4\n",
            "googledrivedownloader         0.4\n",
            "graphviz                      0.10.1\n",
            "greenlet                      1.1.2\n",
            "grpcio                        1.47.0\n",
            "gspread                       3.4.2\n",
            "gspread-dataframe             3.0.8\n",
            "gym                           0.17.3\n",
            "h5py                          3.1.0\n",
            "HeapDict                      1.0.1\n",
            "hijri-converter               2.2.4\n",
            "holidays                      0.14.2\n",
            "holoviews                     1.14.9\n",
            "html5lib                      1.0.1\n",
            "httpimport                    0.5.18\n",
            "httplib2                      0.17.4\n",
            "httplib2shim                  0.0.3\n",
            "httpstan                      4.6.1\n",
            "humanize                      0.5.1\n",
            "hyperopt                      0.1.2\n",
            "idna                          2.10\n",
            "imageio                       2.9.0\n",
            "imagesize                     1.4.1\n",
            "imbalanced-learn              0.8.1\n",
            "imblearn                      0.0\n",
            "imgaug                        0.4.0\n",
            "importlib-metadata            4.12.0\n",
            "importlib-resources           5.9.0\n",
            "imutils                       0.5.4\n",
            "inflect                       2.1.0\n",
            "intel-openmp                  2022.1.0\n",
            "intervaltree                  2.1.0\n",
            "ipykernel                     4.10.1\n",
            "ipython                       5.5.0\n",
            "ipython-genutils              0.2.0\n",
            "ipython-sql                   0.3.9\n",
            "ipywidgets                    7.7.1\n",
            "itsdangerous                  1.1.0\n",
            "jax                           0.3.14\n",
            "jaxlib                        0.3.14+cuda11.cudnn805\n",
            "jedi                          0.18.1\n",
            "jieba                         0.42.1\n",
            "Jinja2                        2.11.3\n",
            "joblib                        1.1.0\n",
            "jpeg4py                       0.1.4\n",
            "jsonschema                    4.3.3\n",
            "jupyter                       1.0.0\n",
            "jupyter-client                5.3.5\n",
            "jupyter-console               5.2.0\n",
            "jupyter-core                  4.11.1\n",
            "jupyterlab-pygments           0.2.2\n",
            "jupyterlab-widgets            1.1.1\n",
            "kaggle                        1.5.12\n",
            "kapre                         0.3.7\n",
            "keras                         2.8.0\n",
            "Keras-Preprocessing           1.1.2\n",
            "keras-vis                     0.4.1\n",
            "kiwisolver                    1.4.4\n",
            "korean-lunar-calendar         0.2.1\n",
            "langcodes                     3.3.0\n",
            "libclang                      14.0.6\n",
            "librosa                       0.8.1\n",
            "lightgbm                      2.2.3\n",
            "llvmlite                      0.39.0\n",
            "lmdb                          0.99\n",
            "LunarCalendar                 0.0.9\n",
            "lxml                          4.9.1\n",
            "Markdown                      3.4.1\n",
            "MarkupSafe                    2.0.1\n",
            "marshmallow                   3.17.0\n",
            "matplotlib                    3.2.2\n",
            "matplotlib-inline             0.1.3\n",
            "matplotlib-venn               0.11.7\n",
            "missingno                     0.5.1\n",
            "mistune                       0.8.4\n",
            "mizani                        0.6.0\n",
            "mkl                           2019.0\n",
            "mlxtend                       0.14.0\n",
            "more-itertools                8.13.0\n",
            "moviepy                       0.2.3.5\n",
            "mpmath                        1.2.1\n",
            "msgpack                       1.0.4\n",
            "multidict                     6.0.2\n",
            "multitasking                  0.0.11\n",
            "murmurhash                    1.0.7\n",
            "music21                       5.5.0\n",
            "natsort                       5.5.0\n",
            "nbclient                      0.6.6\n",
            "nbconvert                     5.6.1\n",
            "nbformat                      5.4.0\n",
            "nest-asyncio                  1.5.5\n",
            "netCDF4                       1.6.0\n",
            "networkx                      2.6.3\n",
            "nibabel                       3.0.2\n",
            "nltk                          3.7\n",
            "notebook                      5.3.1\n",
            "numba                         0.56.0\n",
            "numexpr                       2.8.3\n",
            "numpy                         1.21.6\n",
            "oauth2client                  4.1.3\n",
            "oauthlib                      3.2.0\n",
            "okgrade                       0.4.3\n",
            "opencv-contrib-python         4.6.0.66\n",
            "opencv-python                 4.6.0.66\n",
            "opencv-python-headless        4.6.0.66\n",
            "openpyxl                      3.0.10\n",
            "opt-einsum                    3.3.0\n",
            "osqp                          0.6.2.post0\n",
            "packaging                     21.3\n",
            "palettable                    3.3.0\n",
            "pandas                        1.3.5\n",
            "pandas-datareader             0.9.0\n",
            "pandas-gbq                    0.13.3\n",
            "pandas-profiling              1.4.1\n",
            "pandocfilters                 1.5.0\n",
            "panel                         0.12.1\n",
            "param                         1.12.2\n",
            "parso                         0.8.3\n",
            "pastel                        0.2.1\n",
            "pathlib                       1.0.1\n",
            "pathy                         0.6.2\n",
            "patsy                         0.5.2\n",
            "pep517                        0.13.0\n",
            "pexpect                       4.8.0\n",
            "pickleshare                   0.7.5\n",
            "Pillow                        7.1.2\n",
            "pip                           21.1.3\n",
            "pip-tools                     6.2.0\n",
            "pkgutil-resolve-name          1.3.10\n",
            "plotly                        5.5.0\n",
            "plotnine                      0.6.0\n",
            "pluggy                        0.7.1\n",
            "pooch                         1.6.0\n",
            "portpicker                    1.3.9\n",
            "prefetch-generator            1.0.1\n",
            "preshed                       3.0.6\n",
            "prettytable                   3.3.0\n",
            "progressbar2                  3.38.0\n",
            "prometheus-client             0.14.1\n",
            "promise                       2.3\n",
            "prompt-toolkit                1.0.18\n",
            "prophet                       1.1\n",
            "protobuf                      3.17.3\n",
            "psutil                        5.4.8\n",
            "psycopg2                      2.9.3\n",
            "ptyprocess                    0.7.0\n",
            "py                            1.11.0\n",
            "pyarrow                       6.0.1\n",
            "pyasn1                        0.4.8\n",
            "pyasn1-modules                0.2.8\n",
            "pycocotools                   2.0.4\n",
            "pycparser                     2.21\n",
            "pyct                          0.4.8\n",
            "pydantic                      1.9.1\n",
            "pydata-google-auth            1.4.0\n",
            "pydot                         1.3.0\n",
            "pydot-ng                      2.0.0\n",
            "pydotplus                     2.0.2\n",
            "PyDrive                       1.3.1\n",
            "pyemd                         0.5.1\n",
            "pyerfa                        2.0.0.1\n",
            "pyglet                        1.5.0\n",
            "Pygments                      2.6.1\n",
            "pygobject                     3.26.1\n",
            "pylev                         1.4.0\n",
            "pymc3                         3.11.5\n",
            "PyMeeus                       0.5.11\n",
            "pymongo                       4.2.0\n",
            "pymystem3                     0.2.0\n",
            "PyOpenGL                      3.1.6\n",
            "pyparsing                     3.0.9\n",
            "pyrsistent                    0.18.1\n",
            "pysimdjson                    3.2.0\n",
            "pysndfile                     1.3.8\n",
            "PySocks                       1.7.1\n",
            "pystan                        3.3.0\n",
            "pytest                        3.6.4\n",
            "python-apt                    0.0.0\n",
            "python-chess                  0.23.11\n",
            "python-dateutil               2.8.2\n",
            "python-louvain                0.16\n",
            "python-slugify                6.1.2\n",
            "python-utils                  3.3.3\n",
            "pytz                          2022.1\n",
            "pyviz-comms                   2.2.0\n",
            "PyWavelets                    1.3.0\n",
            "PyYAML                        3.13\n",
            "pyzmq                         23.2.0\n",
            "qdldl                         0.1.5.post2\n",
            "qtconsole                     5.3.1\n",
            "QtPy                          2.1.0\n",
            "qudida                        0.0.4\n",
            "regex                         2022.6.2\n",
            "requests                      2.23.0\n",
            "requests-oauthlib             1.3.1\n",
            "resampy                       0.3.1\n",
            "rpy2                          3.4.5\n",
            "rsa                           4.9\n",
            "scikit-image                  0.18.3\n",
            "scikit-learn                  1.0.2\n",
            "scipy                         1.7.3\n",
            "screen-resolution-extra       0.0.0\n",
            "scs                           3.2.0\n",
            "seaborn                       0.11.2\n",
            "semver                        2.13.0\n",
            "Send2Trash                    1.8.0\n",
            "setuptools                    57.4.0\n",
            "setuptools-git                1.2\n",
            "Shapely                       1.8.2\n",
            "simplegeneric                 0.8.1\n",
            "six                           1.15.0\n",
            "sklearn                       0.0\n",
            "sklearn-pandas                1.8.0\n",
            "smart-open                    5.2.1\n",
            "snowballstemmer               2.2.0\n",
            "sortedcontainers              2.4.0\n",
            "SoundFile                     0.10.3.post1\n",
            "soupsieve                     2.3.2.post1\n",
            "spacy                         3.4.1\n",
            "spacy-legacy                  3.0.9\n",
            "spacy-loggers                 1.0.3\n",
            "Sphinx                        1.8.6\n",
            "sphinxcontrib-serializinghtml 1.1.5\n",
            "sphinxcontrib-websupport      1.2.4\n",
            "SQLAlchemy                    1.4.39\n",
            "sqlparse                      0.4.2\n",
            "srsly                         2.4.4\n",
            "statsmodels                   0.10.2\n",
            "sympy                         1.7.1\n",
            "tables                        3.7.0\n",
            "tabulate                      0.8.10\n",
            "tblib                         1.7.0\n",
            "tenacity                      8.0.1\n",
            "tensorboard                   2.8.0\n",
            "tensorboard-data-server       0.6.1\n",
            "tensorboard-plugin-wit        1.8.1\n",
            "tensorflow                    2.8.2+zzzcolab20220719082949\n",
            "tensorflow-datasets           4.6.0\n",
            "tensorflow-estimator          2.8.0\n",
            "tensorflow-gcs-config         2.8.0\n",
            "tensorflow-hub                0.12.0\n",
            "tensorflow-io-gcs-filesystem  0.26.0\n",
            "tensorflow-metadata           1.9.0\n",
            "tensorflow-probability        0.16.0\n",
            "termcolor                     1.1.0\n",
            "terminado                     0.13.3\n",
            "testpath                      0.6.0\n",
            "text-unidecode                1.3\n",
            "textblob                      0.15.3\n",
            "Theano-PyMC                   1.1.2\n",
            "thinc                         8.1.0\n",
            "threadpoolctl                 3.1.0\n",
            "tifffile                      2021.11.2\n",
            "tinycss2                      1.1.1\n",
            "toml                          0.10.2\n",
            "tomli                         2.0.1\n",
            "toolz                         0.12.0\n",
            "torch                         1.12.0+cu113\n",
            "torchaudio                    0.12.0+cu113\n",
            "torchsummary                  1.5.1\n",
            "torchtext                     0.13.0\n",
            "torchvision                   0.13.0+cu113\n",
            "tornado                       5.1.1\n",
            "tqdm                          4.64.0\n",
            "traitlets                     5.1.1\n",
            "tweepy                        3.10.0\n",
            "typeguard                     2.7.1\n",
            "typer                         0.4.2\n",
            "typing-extensions             4.1.1\n",
            "tzlocal                       1.5.1\n",
            "ujson                         5.4.0\n",
            "uritemplate                   3.0.1\n",
            "urllib3                       1.24.3\n",
            "vega-datasets                 0.9.0\n",
            "wasabi                        0.10.1\n",
            "wcwidth                       0.2.5\n",
            "webargs                       8.2.0\n",
            "webencodings                  0.5.1\n",
            "Werkzeug                      1.0.1\n",
            "wheel                         0.37.1\n",
            "widgetsnbextension            3.6.1\n",
            "wordcloud                     1.8.2.2\n",
            "wrapt                         1.14.1\n",
            "xarray                        0.20.2\n",
            "xarray-einstats               0.2.2\n",
            "xgboost                       0.90\n",
            "xkit                          0.0.0\n",
            "xlrd                          1.1.0\n",
            "xlwt                          1.3.0\n",
            "yarl                          1.8.1\n",
            "yellowbrick                   1.4\n",
            "zict                          2.2.0\n",
            "zipp                          3.8.1\n"
          ]
        }
      ],
      "source": [
        "!pip list"
      ]
    },
    {
      "cell_type": "markdown",
      "source": [
        "- 패키지 설치,삭체\n",
        "```shell\n",
        "pip install <패키지이름>\n",
        "pip uninstall <패키지이름>\n",
        "```"
      ],
      "metadata": {
        "id": "7wnrfgZE1ZhB"
      }
    },
    {
      "cell_type": "code",
      "source": [
        "!pip install catboost"
      ],
      "metadata": {
        "colab": {
          "base_uri": "https://localhost:8080/"
        },
        "id": "DKy-v0Wn1DYd",
        "outputId": "fab3a5db-b8b9-4cb4-e3c0-dc395571e75f"
      },
      "execution_count": null,
      "outputs": [
        {
          "output_type": "stream",
          "name": "stdout",
          "text": [
            "Looking in indexes: https://pypi.org/simple, https://us-python.pkg.dev/colab-wheels/public/simple/\n",
            "Collecting catboost\n",
            "  Downloading catboost-1.0.6-cp37-none-manylinux1_x86_64.whl (76.6 MB)\n",
            "\u001b[K     |████████████████████████████████| 76.6 MB 1.1 MB/s \n",
            "\u001b[?25hRequirement already satisfied: numpy>=1.16.0 in /usr/local/lib/python3.7/dist-packages (from catboost) (1.21.6)\n",
            "Requirement already satisfied: scipy in /usr/local/lib/python3.7/dist-packages (from catboost) (1.7.3)\n",
            "Requirement already satisfied: matplotlib in /usr/local/lib/python3.7/dist-packages (from catboost) (3.2.2)\n",
            "Requirement already satisfied: plotly in /usr/local/lib/python3.7/dist-packages (from catboost) (5.5.0)\n",
            "Requirement already satisfied: six in /usr/local/lib/python3.7/dist-packages (from catboost) (1.15.0)\n",
            "Requirement already satisfied: pandas>=0.24.0 in /usr/local/lib/python3.7/dist-packages (from catboost) (1.3.5)\n",
            "Requirement already satisfied: graphviz in /usr/local/lib/python3.7/dist-packages (from catboost) (0.10.1)\n",
            "Requirement already satisfied: pytz>=2017.3 in /usr/local/lib/python3.7/dist-packages (from pandas>=0.24.0->catboost) (2022.1)\n",
            "Requirement already satisfied: python-dateutil>=2.7.3 in /usr/local/lib/python3.7/dist-packages (from pandas>=0.24.0->catboost) (2.8.2)\n",
            "Requirement already satisfied: cycler>=0.10 in /usr/local/lib/python3.7/dist-packages (from matplotlib->catboost) (0.11.0)\n",
            "Requirement already satisfied: kiwisolver>=1.0.1 in /usr/local/lib/python3.7/dist-packages (from matplotlib->catboost) (1.4.4)\n",
            "Requirement already satisfied: pyparsing!=2.0.4,!=2.1.2,!=2.1.6,>=2.0.1 in /usr/local/lib/python3.7/dist-packages (from matplotlib->catboost) (3.0.9)\n",
            "Requirement already satisfied: typing-extensions in /usr/local/lib/python3.7/dist-packages (from kiwisolver>=1.0.1->matplotlib->catboost) (4.1.1)\n",
            "Requirement already satisfied: tenacity>=6.2.0 in /usr/local/lib/python3.7/dist-packages (from plotly->catboost) (8.0.1)\n",
            "Installing collected packages: catboost\n",
            "Successfully installed catboost-1.0.6\n"
          ]
        }
      ]
    },
    {
      "cell_type": "code",
      "source": [
        "!pip uninstall catboost"
      ],
      "metadata": {
        "colab": {
          "base_uri": "https://localhost:8080/"
        },
        "id": "RJLdWkPr1fz-",
        "outputId": "2e6f3901-e254-4ef2-d5d3-7b15ec757141"
      },
      "execution_count": null,
      "outputs": [
        {
          "output_type": "stream",
          "name": "stdout",
          "text": [
            "Found existing installation: catboost 1.0.6\n",
            "Uninstalling catboost-1.0.6:\n",
            "  Would remove:\n",
            "    /usr/local/etc/jupyter/nbconfig/notebook.d/catboost-widget.json\n",
            "    /usr/local/lib/python3.7/dist-packages/catboost-1.0.6.dist-info/*\n",
            "    /usr/local/lib/python3.7/dist-packages/catboost/*\n",
            "    /usr/local/share/jupyter/labextensions/catboost-widget/package.json\n",
            "    /usr/local/share/jupyter/labextensions/catboost-widget/static/138.594e2e2f9fae55d2125b.js\n",
            "    /usr/local/share/jupyter/labextensions/catboost-widget/static/479.8635cb839b51b24dbe44.js\n",
            "    /usr/local/share/jupyter/labextensions/catboost-widget/static/479.8635cb839b51b24dbe44.js.LICENSE.txt\n",
            "    /usr/local/share/jupyter/labextensions/catboost-widget/static/486.c2672c1c6aabd4dcb1c5.js\n",
            "    /usr/local/share/jupyter/labextensions/catboost-widget/static/486.c2672c1c6aabd4dcb1c5.js.LICENSE.txt\n",
            "    /usr/local/share/jupyter/labextensions/catboost-widget/static/755.f7277b38a5f70148dece.js\n",
            "    /usr/local/share/jupyter/labextensions/catboost-widget/static/755.f7277b38a5f70148dece.js.LICENSE.txt\n",
            "    /usr/local/share/jupyter/labextensions/catboost-widget/static/908.11316378aafcadcd81b8.js\n",
            "    /usr/local/share/jupyter/labextensions/catboost-widget/static/remoteEntry.ebd57709384ca584b1c0.js\n",
            "    /usr/local/share/jupyter/labextensions/catboost-widget/static/style.js\n",
            "    /usr/local/share/jupyter/nbextensions/catboost-widget/extension.js\n",
            "    /usr/local/share/jupyter/nbextensions/catboost-widget/index.js\n",
            "Proceed (y/n)? y\n",
            "  Successfully uninstalled catboost-1.0.6\n"
          ]
        }
      ]
    },
    {
      "cell_type": "markdown",
      "source": [
        "- 설치되어있는 패키지 기록해놓기\n",
        "```shell\n",
        "pip freeze > requirements.txt\n",
        "```"
      ],
      "metadata": {
        "id": "SW4_kT1M2wYO"
      }
    },
    {
      "cell_type": "code",
      "source": [
        "!pip freeze > requirements.txt"
      ],
      "metadata": {
        "id": "i5ALHlod17F2"
      },
      "execution_count": null,
      "outputs": []
    },
    {
      "cell_type": "markdown",
      "source": [
        "- 기록해놓은 파일을 이용하여 개발 환경 복구하기\n",
        "```shell\n",
        "pip install -r requirements.txt\n",
        "```"
      ],
      "metadata": {
        "id": "P4FkWeXk3MaM"
      }
    },
    {
      "cell_type": "markdown",
      "source": [
        "# 파이썬 가상환경이란?\n",
        "- 독립적인 파이썬 실행 환경\n",
        "- 각각의 가상환경은 다른 가상환경에 영향을 미치지 않는다.\n",
        "    - Python 3.4 이후 버전에서는 기본적으로 지원\n",
        "    - 사용자가 지정한 폴더에 파이썬및 기본 패키지들이 설치"
      ],
      "metadata": {
        "id": "2Atc-_YQlZPH"
      }
    },
    {
      "cell_type": "markdown",
      "source": [
        "![다운로드.jpg](data:image/jpeg;base64,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)"
      ],
      "metadata": {
        "id": "p2ge-sIrlXdy"
      }
    },
    {
      "cell_type": "markdown",
      "source": [
        "## 가상환경 명령어\n"
      ],
      "metadata": {
        "id": "0X3IeFkjLni6"
      }
    },
    {
      "cell_type": "markdown",
      "source": [
        "- 가상환경 생성하기\n",
        "```shell\n",
        "python -m venv <가상환경이름>\n",
        "```"
      ],
      "metadata": {
        "id": "nCmOfRnhLq8S"
      }
    },
    {
      "cell_type": "markdown",
      "source": [
        "- 가상환경 진입하기(Windows)\n",
        "```shell\n",
        "<가상환경이름> \\Scripts\\activate\n",
        "```"
      ],
      "metadata": {
        "id": "Rk_zEV3AL4FJ"
      }
    },
    {
      "cell_type": "markdown",
      "source": [
        "- 가상환경 진입하기(Linux)\n",
        "```shell\n",
        "source <가상환경이름>/bin/activate\n",
        "```"
      ],
      "metadata": {
        "id": "Do08NJfyMKch"
      }
    },
    {
      "cell_type": "markdown",
      "source": [
        "- 가상환경에서 빠져나오기\n",
        "```shell\n",
        " deactivate\n",
        "```"
      ],
      "metadata": {
        "id": "jBRSHwY5MgJa"
      }
    },
    {
      "cell_type": "code",
      "source": [
        ""
      ],
      "metadata": {
        "id": "l01NNcsR3CGX"
      },
      "execution_count": null,
      "outputs": []
    }
  ]
}