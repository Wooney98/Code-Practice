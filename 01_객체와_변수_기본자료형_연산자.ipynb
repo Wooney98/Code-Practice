{
  "nbformat": 4,
  "nbformat_minor": 0,
  "metadata": {
    "colab": {
      "name": "01-객체와 변수_기본자료형_연산자.ipynb",
      "provenance": [],
      "toc_visible": true,
      "authorship_tag": "ABX9TyP/aAUN/yGPiJE7j2rR3KqU",
      "include_colab_link": true
    },
    "kernelspec": {
      "name": "python3",
      "display_name": "Python 3"
    },
    "language_info": {
      "name": "python"
    }
  },
  "cells": [
    {
      "cell_type": "markdown",
      "metadata": {
        "id": "view-in-github",
        "colab_type": "text"
      },
      "source": [
        "<a href=\"https://colab.research.google.com/github/Wooney98/playdata-colab/blob/main/01_%EA%B0%9D%EC%B2%B4%EC%99%80_%EB%B3%80%EC%88%98_%EA%B8%B0%EB%B3%B8%EC%9E%90%EB%A3%8C%ED%98%95_%EC%97%B0%EC%82%B0%EC%9E%90.ipynb\" target=\"_parent\"><img src=\"https://colab.research.google.com/assets/colab-badge.svg\" alt=\"Open In Colab\"/></a>"
      ]
    },
    {
      "cell_type": "markdown",
      "source": [
        "# 값(객체), 변수, 키워드\n",
        "## 객체\n",
        "- 객체라고 함\n",
        "- 프로그래밍에서 처리해야하는 대상\n",
        "- 수, 문자, 이미지, 음성 데이터 등\n",
        "\n",
        "## 변수\n",
        "- 값(객체)을 담을 수 있는 공간\n",
        "- 값(객체)이 위치(주소)를 갖고 있는 공간\n",
        "\n",
        "##키워드\n",
        "- 예악어(조건문, 반복문 등)\n",
        "- 문법적인 요소\n",
        "\n"
      ],
      "metadata": {
        "id": "ixklN30WmjkB"
      }
    },
    {
      "cell_type": "code",
      "execution_count": 1,
      "metadata": {
        "colab": {
          "base_uri": "https://localhost:8080/"
        },
        "id": "NFPs86QsmKVq",
        "outputId": "838237f3-efe0-4971-bff9-67cf72bb1226"
      },
      "outputs": [
        {
          "output_type": "execute_result",
          "data": {
            "text/plain": [
              "1004"
            ]
          },
          "metadata": {},
          "execution_count": 1
        }
      ],
      "source": [
        "x = 1004\n",
        "x"
      ]
    },
    {
      "cell_type": "code",
      "source": [
        "y=x \n",
        "y"
      ],
      "metadata": {
        "colab": {
          "base_uri": "https://localhost:8080/"
        },
        "id": "MVs0gfHZobx5",
        "outputId": "4db124ed-f846-4c79-b2fc-157404df3367"
      },
      "execution_count": 6,
      "outputs": [
        {
          "output_type": "execute_result",
          "data": {
            "text/plain": [
              "1004"
            ]
          },
          "metadata": {},
          "execution_count": 6
        }
      ]
    },
    {
      "cell_type": "code",
      "source": [
        "id(x), id(y)\n",
        "#x와 y의 주소값은 같다. -> 변수값은 다르지만 객체값(주소값)은 같다."
      ],
      "metadata": {
        "colab": {
          "base_uri": "https://localhost:8080/"
        },
        "id": "xC6urM7Oo6sZ",
        "outputId": "b23e2bd2-3496-4c97-c43c-74680c06e9c5"
      },
      "execution_count": 5,
      "outputs": [
        {
          "output_type": "execute_result",
          "data": {
            "text/plain": [
              "(139655469931984, 139655469931984)"
            ]
          },
          "metadata": {},
          "execution_count": 5
        }
      ]
    },
    {
      "cell_type": "code",
      "source": [
        "x = 1001\n",
        "y = 1001\n",
        "id(x), id(y)"
      ],
      "metadata": {
        "colab": {
          "base_uri": "https://localhost:8080/"
        },
        "id": "yq3DCNPbodvh",
        "outputId": "1cd5dd7e-1921-4b02-b517-7f9e261ffbb7"
      },
      "execution_count": 7,
      "outputs": [
        {
          "output_type": "execute_result",
          "data": {
            "text/plain": [
              "(139655417186480, 139655417185232)"
            ]
          },
          "metadata": {},
          "execution_count": 7
        }
      ]
    },
    {
      "cell_type": "markdown",
      "source": [
        "# 변수를 왜 사용하는가?\n",
        "- 코드의 재사용과 가독성을 높여주고, 중복을 제거하여 유지보수에 용이하다."
      ],
      "metadata": {
        "id": "mcsTW47LpR0f"
      }
    },
    {
      "cell_type": "code",
      "source": [
        "print(\"9단 출력\")\n",
        "x = 9\n",
        "for y in range(1,10):\n",
        "    print(x*y)"
      ],
      "metadata": {
        "colab": {
          "base_uri": "https://localhost:8080/"
        },
        "id": "4KMJkg3ypB5R",
        "outputId": "6a34e5db-85eb-4aee-d306-a1df29187b6e"
      },
      "execution_count": 10,
      "outputs": [
        {
          "output_type": "stream",
          "name": "stdout",
          "text": [
            "9단 출력\n",
            "9\n",
            "18\n",
            "27\n",
            "36\n",
            "45\n",
            "54\n",
            "63\n",
            "72\n",
            "81\n"
          ]
        }
      ]
    },
    {
      "cell_type": "markdown",
      "source": [
        "# 특별한 변수 언더바(`_`)\n",
        "- 대화형 환경에서 마지막으로 실행된 반환 결과를 `_`에 자동 할당"
      ],
      "metadata": {
        "id": "ILslYg5JqBQQ"
      }
    },
    {
      "cell_type": "code",
      "source": [
        "a = 3\n",
        "a"
      ],
      "metadata": {
        "colab": {
          "base_uri": "https://localhost:8080/"
        },
        "id": "lZaBa3iRpeeu",
        "outputId": "7927fa6a-0678-4bc0-fe33-1257862f0d28"
      },
      "execution_count": 11,
      "outputs": [
        {
          "output_type": "execute_result",
          "data": {
            "text/plain": [
              "3"
            ]
          },
          "metadata": {},
          "execution_count": 11
        }
      ]
    },
    {
      "cell_type": "code",
      "source": [
        "_"
      ],
      "metadata": {
        "colab": {
          "base_uri": "https://localhost:8080/"
        },
        "id": "ISLkQepgqRTv",
        "outputId": "7719d480-f2c2-4539-e61b-086ed4311fe4"
      },
      "execution_count": 12,
      "outputs": [
        {
          "output_type": "execute_result",
          "data": {
            "text/plain": [
              "3"
            ]
          },
          "metadata": {},
          "execution_count": 12
        }
      ]
    },
    {
      "cell_type": "markdown",
      "source": [
        "##상수\n",
        "- 변하지 않는 수, 변수\n",
        "- 파이썬에서는 상수를 지원해주지 않는다."
      ],
      "metadata": {
        "id": "b6ZTsu4hs_LX"
      }
    },
    {
      "cell_type": "code",
      "source": [
        "DATA_PATH=\"/dir/train/\" #상수를 대문자로 선언한다."
      ],
      "metadata": {
        "id": "vTqK6wN0qSDp"
      },
      "execution_count": 13,
      "outputs": []
    },
    {
      "cell_type": "markdown",
      "source": [
        "## 변수 이름 규칙\n",
        "- 대소문자 구분\n",
        "- 알파벳, 숫자, 언더바(`_`)\n",
        "- 변수명 첫 글자에 숫자는 문법오류\n",
        "- python 키워드 및 정의된 함수 및 클래스명으로 사용 불가"
      ],
      "metadata": {
        "id": "QdBWNkkDtX0A"
      }
    },
    {
      "cell_type": "code",
      "source": [
        "1a = 1"
      ],
      "metadata": {
        "colab": {
          "base_uri": "https://localhost:8080/",
          "height": 136
        },
        "id": "dX5i1uIWtWrZ",
        "outputId": "8783343f-2fca-46ed-b5a9-d476abeef99a"
      },
      "execution_count": 14,
      "outputs": [
        {
          "output_type": "error",
          "ename": "SyntaxError",
          "evalue": "ignored",
          "traceback": [
            "\u001b[0;36m  File \u001b[0;32m\"<ipython-input-14-cc67e5ecf289>\"\u001b[0;36m, line \u001b[0;32m1\u001b[0m\n\u001b[0;31m    1a = 1\u001b[0m\n\u001b[0m     ^\u001b[0m\n\u001b[0;31mSyntaxError\u001b[0m\u001b[0;31m:\u001b[0m invalid syntax\n"
          ]
        }
      ]
    },
    {
      "cell_type": "code",
      "source": [
        "if = 2"
      ],
      "metadata": {
        "colab": {
          "base_uri": "https://localhost:8080/",
          "height": 136
        },
        "id": "kpw_cyYdt4fq",
        "outputId": "e2dd8898-ff8c-49d1-88c2-39a639f3375c"
      },
      "execution_count": 15,
      "outputs": [
        {
          "output_type": "error",
          "ename": "SyntaxError",
          "evalue": "ignored",
          "traceback": [
            "\u001b[0;36m  File \u001b[0;32m\"<ipython-input-15-24e9fac9684a>\"\u001b[0;36m, line \u001b[0;32m1\u001b[0m\n\u001b[0;31m    if = 2\u001b[0m\n\u001b[0m       ^\u001b[0m\n\u001b[0;31mSyntaxError\u001b[0m\u001b[0;31m:\u001b[0m invalid syntax\n"
          ]
        }
      ]
    },
    {
      "cell_type": "markdown",
      "source": [
        "# 자료형(data type)\n",
        "- 파이썬은 기본적으로 4가지 자료형이 존재\n",
        "    - `int` : -1,0,3 정수를 의미\n",
        "    - `float` : 3.14, 3.0, -1.5와 같은 실수를 의미\n",
        "    - `bool` : 참(True)/거짓(False)을 나타내는 논리자료형을 의미\n",
        "    - `str` : 문자열 의미"
      ],
      "metadata": {
        "id": "TJFgckmMuNF4"
      }
    },
    {
      "cell_type": "code",
      "source": [
        "a = 1\n",
        "type(a)"
      ],
      "metadata": {
        "colab": {
          "base_uri": "https://localhost:8080/"
        },
        "id": "dcy9Alcht6Vz",
        "outputId": "17735e1c-d074-4982-e71f-7214023098fb"
      },
      "execution_count": 21,
      "outputs": [
        {
          "output_type": "execute_result",
          "data": {
            "text/plain": [
              "int"
            ]
          },
          "metadata": {},
          "execution_count": 21
        }
      ]
    },
    {
      "cell_type": "code",
      "source": [
        "b = 1.0\n",
        "type(b)"
      ],
      "metadata": {
        "colab": {
          "base_uri": "https://localhost:8080/"
        },
        "id": "pNmNVru5vFyL",
        "outputId": "649a5142-01ce-4631-8e5c-e6b1185897cb"
      },
      "execution_count": 18,
      "outputs": [
        {
          "output_type": "execute_result",
          "data": {
            "text/plain": [
              "float"
            ]
          },
          "metadata": {},
          "execution_count": 18
        }
      ]
    },
    {
      "cell_type": "code",
      "source": [
        "c = True\n",
        "type(c)"
      ],
      "metadata": {
        "colab": {
          "base_uri": "https://localhost:8080/"
        },
        "id": "k_f6pfZNvJQ2",
        "outputId": "a6c89c63-dc9f-45d2-edbb-34de443b8cd0"
      },
      "execution_count": 19,
      "outputs": [
        {
          "output_type": "execute_result",
          "data": {
            "text/plain": [
              "bool"
            ]
          },
          "metadata": {},
          "execution_count": 19
        }
      ]
    },
    {
      "cell_type": "code",
      "source": [
        "d = \"Hello\"\n",
        "type(d)"
      ],
      "metadata": {
        "colab": {
          "base_uri": "https://localhost:8080/"
        },
        "id": "ea8c8O3ovKV0",
        "outputId": "83d4ced3-0602-45e4-a2df-381256d9ab9a"
      },
      "execution_count": 20,
      "outputs": [
        {
          "output_type": "execute_result",
          "data": {
            "text/plain": [
              "str"
            ]
          },
          "metadata": {},
          "execution_count": 20
        }
      ]
    },
    {
      "cell_type": "markdown",
      "source": [
        "# 자료형 변환(Casting)"
      ],
      "metadata": {
        "id": "g_SSxdezvOyY"
      }
    },
    {
      "cell_type": "code",
      "source": [
        "int_value = 3\n",
        "float_value = 3.14\n",
        "bool_value = True\n",
        "str_value = '3'"
      ],
      "metadata": {
        "id": "DK2huM14vL1G"
      },
      "execution_count": 22,
      "outputs": []
    },
    {
      "cell_type": "code",
      "source": [
        "int(float_value)"
      ],
      "metadata": {
        "colab": {
          "base_uri": "https://localhost:8080/"
        },
        "id": "YS_npgFJvb7T",
        "outputId": "217666f2-f955-4600-a118-81bffbf03277"
      },
      "execution_count": 23,
      "outputs": [
        {
          "output_type": "execute_result",
          "data": {
            "text/plain": [
              "3"
            ]
          },
          "metadata": {},
          "execution_count": 23
        }
      ]
    },
    {
      "cell_type": "code",
      "source": [
        "float(int_value)"
      ],
      "metadata": {
        "colab": {
          "base_uri": "https://localhost:8080/"
        },
        "id": "qb-NPm3_vkIH",
        "outputId": "1dba64f1-6b40-4666-ac0d-9c98f897d0f5"
      },
      "execution_count": 24,
      "outputs": [
        {
          "output_type": "execute_result",
          "data": {
            "text/plain": [
              "3.0"
            ]
          },
          "metadata": {},
          "execution_count": 24
        }
      ]
    },
    {
      "cell_type": "code",
      "source": [
        "str(float_value)"
      ],
      "metadata": {
        "colab": {
          "base_uri": "https://localhost:8080/",
          "height": 35
        },
        "id": "KmIzA5tQvpOV",
        "outputId": "a21acb14-40c4-4276-8c6a-bc89546d1787"
      },
      "execution_count": 25,
      "outputs": [
        {
          "output_type": "execute_result",
          "data": {
            "text/plain": [
              "'3.14'"
            ],
            "application/vnd.google.colaboratory.intrinsic+json": {
              "type": "string"
            }
          },
          "metadata": {},
          "execution_count": 25
        }
      ]
    },
    {
      "cell_type": "code",
      "source": [
        "bool(int_value)\n",
        "# 0이 아니면 True"
      ],
      "metadata": {
        "colab": {
          "base_uri": "https://localhost:8080/"
        },
        "id": "1iAD5-5tvvtW",
        "outputId": "e3c2aa33-1f75-4339-8b90-64a4e55427b4"
      },
      "execution_count": 26,
      "outputs": [
        {
          "output_type": "execute_result",
          "data": {
            "text/plain": [
              "True"
            ]
          },
          "metadata": {},
          "execution_count": 26
        }
      ]
    },
    {
      "cell_type": "code",
      "source": [
        "int(str_value)"
      ],
      "metadata": {
        "colab": {
          "base_uri": "https://localhost:8080/"
        },
        "id": "g4UG0kzSv0Uj",
        "outputId": "c6111c16-04db-4c0c-c85a-eef37c171ee3"
      },
      "execution_count": 28,
      "outputs": [
        {
          "output_type": "execute_result",
          "data": {
            "text/plain": [
              "3"
            ]
          },
          "metadata": {},
          "execution_count": 28
        }
      ]
    },
    {
      "cell_type": "markdown",
      "source": [
        "# None\n",
        "- 없음을 나타내는 Python의 특수한 객체"
      ],
      "metadata": {
        "id": "mTCrfkSkwO1H"
      }
    },
    {
      "cell_type": "code",
      "source": [
        "a = None\n",
        "a"
      ],
      "metadata": {
        "id": "juktcPq3v_5A"
      },
      "execution_count": 29,
      "outputs": []
    },
    {
      "cell_type": "markdown",
      "source": [
        "# 변수의 이름을 지을 때의 관례\n",
        "- 명사로 시작하며, 의미 있는 단어로 명명\n",
        "- 소문자로만 작성하며, 단어와 단어 사이를 언더바(`_`)를 사용해 이어주기\n",
        "- `bool`자료형을 담는 변수명은 `is_`로 시작하며, 뒤에 나오는 명사가 참인지 거짓인지를 추측하게 한다."
      ],
      "metadata": {
        "id": "Xnh9tINFwdDy"
      }
    },
    {
      "cell_type": "code",
      "source": [
        "student_name = \"손성우\"\n",
        "is_number = False"
      ],
      "metadata": {
        "id": "7LW6CN7JwWvx"
      },
      "execution_count": 31,
      "outputs": []
    },
    {
      "cell_type": "markdown",
      "source": [
        "# 연산자\n",
        "## 산술연산자\n",
        "- 산술연산의 결과를 반환한다.\n",
        "- `+,-,*,/,//,%,**`"
      ],
      "metadata": {
        "id": "WTtFwM0ZxyJ_"
      }
    },
    {
      "cell_type": "code",
      "source": [
        "print(1+2) #더하기\n",
        "print(1-2) #빼기\n",
        "print(1*2) #곱하기\n",
        "print(1/2) #나누기\n",
        "print(1//2) #몫\n",
        "print(1%2) #나머지\n",
        "print(1**2) #거듭제곱"
      ],
      "metadata": {
        "colab": {
          "base_uri": "https://localhost:8080/"
        },
        "id": "ryfF5dzHxoBD",
        "outputId": "9fcf0905-d50f-4af5-bbe0-9e5cef75e429"
      },
      "execution_count": 32,
      "outputs": [
        {
          "output_type": "stream",
          "name": "stdout",
          "text": [
            "3\n",
            "-1\n",
            "2\n",
            "0.5\n",
            "0\n",
            "1\n",
            "1\n"
          ]
        }
      ]
    },
    {
      "cell_type": "markdown",
      "source": [
        "## 대입연산자\n",
        "- 값을 변수에 할당한다.\n",
        "- 산술연산결과의 값을 변수에 할당한다.\n",
        "- `=, +=, -=, *=, /=, .....`"
      ],
      "metadata": {
        "id": "ggU6_78py4nB"
      }
    },
    {
      "cell_type": "code",
      "source": [
        "num = 3\n",
        "num = num - 2 #num -= 2\n",
        "num"
      ],
      "metadata": {
        "colab": {
          "base_uri": "https://localhost:8080/"
        },
        "id": "lZVMFnroyjf2",
        "outputId": "53c76172-67e9-4655-c675-bc5c5b6c2832"
      },
      "execution_count": 34,
      "outputs": [
        {
          "output_type": "execute_result",
          "data": {
            "text/plain": [
              "1"
            ]
          },
          "metadata": {},
          "execution_count": 34
        }
      ]
    },
    {
      "cell_type": "code",
      "source": [
        "num = 3\n",
        "num += 2\n",
        "num"
      ],
      "metadata": {
        "colab": {
          "base_uri": "https://localhost:8080/"
        },
        "id": "uMx3VR6szVhi",
        "outputId": "712dabfc-d756-4cbc-eef1-cb96d7432cff"
      },
      "execution_count": 36,
      "outputs": [
        {
          "output_type": "execute_result",
          "data": {
            "text/plain": [
              "5"
            ]
          },
          "metadata": {},
          "execution_count": 36
        }
      ]
    },
    {
      "cell_type": "markdown",
      "source": [
        "## 비교연산자\n",
        "- 변수 또는 객ㅊ체를 비교하여 bool 객체를 반환\n",
        "- `>, <, >=, <=, !=, ==`**굵은 텍스트**"
      ],
      "metadata": {
        "id": "8fxDONfGzw14"
      }
    },
    {
      "cell_type": "code",
      "source": [
        "a = 5\n",
        "b = 3\n",
        "\n",
        "print(a > b) # a가 b보다 크다.\n",
        "print(a < b) # a가 b보다 작다.\n",
        "print(a >= 5) # a가 5보다 크거나 같다.\n",
        "print(b <= 3) # b가 3보다 작거나 같다.\n",
        "print(a == b) # a는 b와 같다.\n",
        "print(a != b) # a는 b와 다르다."
      ],
      "metadata": {
        "colab": {
          "base_uri": "https://localhost:8080/"
        },
        "id": "dmRp35dZzeU0",
        "outputId": "bfb239d1-63a6-441f-acc9-6c661f740ee3"
      },
      "execution_count": 38,
      "outputs": [
        {
          "output_type": "stream",
          "name": "stdout",
          "text": [
            "True\n",
            "False\n",
            "True\n",
            "True\n",
            "False\n",
            "True\n"
          ]
        }
      ]
    },
    {
      "cell_type": "markdown",
      "source": [
        "## 논리연산자\n",
        "- 논리 자료형인 bool객체를 연산해서 bool객체를 반환한다.\n",
        "- `and, or, not`\n",
        "- `is_a and is_b` : 모두 참이면 True, 하나라도 거짓이면 False\n",
        "- `is_a or is_b` : 둘중 하나라도 참이면 True, 둘다 거짓이면 False\n",
        "- `not is_a` : is_a가 참이면 False, 거짓이면 True"
      ],
      "metadata": {
        "id": "gpxRpOS70v7S"
      }
    },
    {
      "cell_type": "code",
      "source": [
        "1 < 3 and 3 > 1"
      ],
      "metadata": {
        "colab": {
          "base_uri": "https://localhost:8080/"
        },
        "id": "vwYt_G0N0NcL",
        "outputId": "29c8dc24-e79a-4d9b-ad9b-71bf2287a86e"
      },
      "execution_count": 39,
      "outputs": [
        {
          "output_type": "execute_result",
          "data": {
            "text/plain": [
              "True"
            ]
          },
          "metadata": {},
          "execution_count": 39
        }
      ]
    },
    {
      "cell_type": "code",
      "source": [
        "1 < 3 and 1 > 1"
      ],
      "metadata": {
        "colab": {
          "base_uri": "https://localhost:8080/"
        },
        "id": "XP-YHe9R1lKn",
        "outputId": "0a65dd30-6c26-454f-aa7b-2dfc4a252cbc"
      },
      "execution_count": 40,
      "outputs": [
        {
          "output_type": "execute_result",
          "data": {
            "text/plain": [
              "False"
            ]
          },
          "metadata": {},
          "execution_count": 40
        }
      ]
    },
    {
      "cell_type": "code",
      "source": [
        "1 < 3 or 1 > 1"
      ],
      "metadata": {
        "colab": {
          "base_uri": "https://localhost:8080/"
        },
        "id": "nK_RYxGk1phm",
        "outputId": "9cd9c296-8a45-42e3-a01f-f9c91bf86eb1"
      },
      "execution_count": 42,
      "outputs": [
        {
          "output_type": "execute_result",
          "data": {
            "text/plain": [
              "True"
            ]
          },
          "metadata": {},
          "execution_count": 42
        }
      ]
    },
    {
      "cell_type": "code",
      "source": [
        "not False"
      ],
      "metadata": {
        "colab": {
          "base_uri": "https://localhost:8080/"
        },
        "id": "nQmNBwBY1tC5",
        "outputId": "c82e5126-2e58-4df3-c1c4-cfbb028ae05d"
      },
      "execution_count": 43,
      "outputs": [
        {
          "output_type": "execute_result",
          "data": {
            "text/plain": [
              "True"
            ]
          },
          "metadata": {},
          "execution_count": 43
        }
      ]
    },
    {
      "cell_type": "code",
      "source": [
        "1 < 3 and 1 < 2 and 1 < 1"
      ],
      "metadata": {
        "colab": {
          "base_uri": "https://localhost:8080/"
        },
        "id": "MwhC2S3O1xsP",
        "outputId": "6c5e7ef7-40f9-47b1-d6f0-eba42755b6dd"
      },
      "execution_count": 44,
      "outputs": [
        {
          "output_type": "execute_result",
          "data": {
            "text/plain": [
              "False"
            ]
          },
          "metadata": {},
          "execution_count": 44
        }
      ]
    },
    {
      "cell_type": "code",
      "source": [
        "(1 < 3 and 1 < 2) or 1 < 1"
      ],
      "metadata": {
        "colab": {
          "base_uri": "https://localhost:8080/"
        },
        "id": "lelTqli02MiK",
        "outputId": "eb6bca99-bc27-4b1a-f5ac-cd7d7333d78d"
      },
      "execution_count": 45,
      "outputs": [
        {
          "output_type": "execute_result",
          "data": {
            "text/plain": [
              "True"
            ]
          },
          "metadata": {},
          "execution_count": 45
        }
      ]
    },
    {
      "cell_type": "code",
      "source": [
        "not(1 < 3 and 1 < 2)"
      ],
      "metadata": {
        "colab": {
          "base_uri": "https://localhost:8080/"
        },
        "id": "nl_A-ZeD2Py_",
        "outputId": "bcd71990-75dd-48b5-a48f-a856d669bb55"
      },
      "execution_count": 46,
      "outputs": [
        {
          "output_type": "execute_result",
          "data": {
            "text/plain": [
              "False"
            ]
          },
          "metadata": {},
          "execution_count": 46
        }
      ]
    },
    {
      "cell_type": "markdown",
      "source": [
        "## 포함연산자\n",
        "- 어떠한 값이 포함 되어있는지 여부에 따라 bool객체를 반환\n"
      ],
      "metadata": {
        "id": "GRsSS-xy2Va4"
      }
    },
    {
      "cell_type": "code",
      "source": [
        "\"a\" in \"abcd\""
      ],
      "metadata": {
        "colab": {
          "base_uri": "https://localhost:8080/"
        },
        "id": "Llcmfo712TVX",
        "outputId": "89cab69b-0ec4-40bf-a803-f5af7bdc5e5b"
      },
      "execution_count": 47,
      "outputs": [
        {
          "output_type": "execute_result",
          "data": {
            "text/plain": [
              "True"
            ]
          },
          "metadata": {},
          "execution_count": 47
        }
      ]
    },
    {
      "cell_type": "code",
      "source": [
        "\"a\" not in \"abcd\""
      ],
      "metadata": {
        "colab": {
          "base_uri": "https://localhost:8080/"
        },
        "id": "wToWuui22sN1",
        "outputId": "6a50e2a2-18a3-4c44-afff-dd118746e24a"
      },
      "execution_count": 48,
      "outputs": [
        {
          "output_type": "execute_result",
          "data": {
            "text/plain": [
              "False"
            ]
          },
          "metadata": {},
          "execution_count": 48
        }
      ]
    }
  ]
}