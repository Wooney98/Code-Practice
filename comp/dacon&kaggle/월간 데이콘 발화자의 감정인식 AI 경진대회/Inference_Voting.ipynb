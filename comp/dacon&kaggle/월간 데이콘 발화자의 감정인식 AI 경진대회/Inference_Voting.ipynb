{
  "nbformat": 4,
  "nbformat_minor": 0,
  "metadata": {
    "colab": {
      "provenance": [],
      "collapsed_sections": [
        "CJ_eFk5OvTkR"
      ]
    },
    "kernelspec": {
      "name": "python3",
      "display_name": "Python 3"
    },
    "language_info": {
      "name": "python"
    }
  },
  "cells": [
    {
      "cell_type": "markdown",
      "source": [
        "### 여러 pred값들 concatenate"
      ],
      "metadata": {
        "id": "vtKGTkAPEDd7"
      }
    },
    {
      "cell_type": "code",
      "source": [
        "import random\n",
        "import pandas as pd\n",
        "import numpy as np\n",
        "import os\n",
        "\n",
        "from sklearn.preprocessing import LabelEncoder\n",
        "from sklearn.feature_extraction.text import CountVectorizer ,TfidfVectorizer\n",
        "# ------------------------------------------\n",
        "import torch\n",
        "# ------------------------------------------\n",
        "from tqdm.auto import tqdm\n",
        "from sklearn.metrics import f1_score"
      ],
      "metadata": {
        "id": "atHdv9qH9cTG"
      },
      "execution_count": null,
      "outputs": []
    },
    {
      "cell_type": "markdown",
      "source": [
        "# 라벨인코더로 트랜스폼 필수"
      ],
      "metadata": {
        "id": "m-PK8Dv3u2S4"
      }
    },
    {
      "cell_type": "markdown",
      "source": [
        "label encoder "
      ],
      "metadata": {
        "id": "kZnMAcamGsfI"
      }
    },
    {
      "cell_type": "code",
      "source": [
        "train = pd.read_csv('/content/drive/MyDrive/DL_Senti_발화자/train.csv')\n",
        "le = LabelEncoder()\n",
        "train[\"target\"] = le.fit_transform(train['Target'].to_numpy())"
      ],
      "metadata": {
        "id": "VZw9b1tA-mr0"
      },
      "execution_count": null,
      "outputs": []
    },
    {
      "cell_type": "code",
      "source": [
        "le.inverse_transform(train[\"target\"])"
      ],
      "metadata": {
        "colab": {
          "base_uri": "https://localhost:8080/"
        },
        "id": "NgBI-KH-tGP5",
        "outputId": "6497b4b1-e734-4197-b11b-ce651791ebb5"
      },
      "execution_count": null,
      "outputs": [
        {
          "output_type": "execute_result",
          "data": {
            "text/plain": [
              "array(['neutral', 'neutral', 'neutral', ..., 'surprise', 'neutral', 'joy'],\n",
              "      dtype=object)"
            ]
          },
          "metadata": {},
          "execution_count": 23
        }
      ]
    },
    {
      "cell_type": "markdown",
      "source": [
        "## 산술평균"
      ],
      "metadata": {
        "id": "XXh3jGkqI_Xi"
      }
    },
    {
      "cell_type": "code",
      "source": [],
      "metadata": {
        "id": "R-N92dmWu-YQ"
      },
      "execution_count": null,
      "outputs": []
    },
    {
      "cell_type": "code",
      "source": [
        "PRED1 = np.load(\"/content/drive/MyDrive/DL_Senti/0fold_pred_list.np.npy\")\n",
        "PRED2 = np.load(\"/content/drive/MyDrive/DL_Senti/xlm_roberta_base_pred_list.npy\")"
      ],
      "metadata": {
        "id": "kAiFCfIbJBiG"
      },
      "execution_count": null,
      "outputs": []
    },
    {
      "cell_type": "code",
      "source": [
        "concated_preds = np.concatenate([PRED1, PRED2])"
      ],
      "metadata": {
        "id": "Fs2UYcqOJKse"
      },
      "execution_count": null,
      "outputs": []
    },
    {
      "cell_type": "code",
      "source": [
        "concated_preds.shape"
      ],
      "metadata": {
        "colab": {
          "base_uri": "https://localhost:8080/"
        },
        "id": "uK9ZIfi6JTOJ",
        "outputId": "fba85e93-2b99-4d1e-de96-17f92182d67e"
      },
      "execution_count": null,
      "outputs": [
        {
          "output_type": "execute_result",
          "data": {
            "text/plain": [
              "(10, 2610, 7)"
            ]
          },
          "metadata": {},
          "execution_count": 7
        }
      ]
    },
    {
      "cell_type": "code",
      "source": [
        "preds = np.mean(concated_preds, axis=0)"
      ],
      "metadata": {
        "id": "wnbhqS6GJXAD"
      },
      "execution_count": null,
      "outputs": []
    },
    {
      "cell_type": "code",
      "source": [
        "pred_by_Mean = np.argmax(preds, axis=1)"
      ],
      "metadata": {
        "id": "LHS7EdQWJbMW"
      },
      "execution_count": null,
      "outputs": []
    },
    {
      "cell_type": "code",
      "source": [
        "pred_by_Mean"
      ],
      "metadata": {
        "colab": {
          "base_uri": "https://localhost:8080/"
        },
        "id": "US2xczkUJgdB",
        "outputId": "5d127f60-513f-4180-aca8-331a999c445f"
      },
      "execution_count": null,
      "outputs": [
        {
          "output_type": "execute_result",
          "data": {
            "text/plain": [
              "array([6, 4, 4, ..., 3, 4, 4])"
            ]
          },
          "metadata": {},
          "execution_count": 132
        }
      ]
    },
    {
      "cell_type": "code",
      "source": [
        "submission = pd.read_csv(\"/content/drive/MyDrive/DL_Senti/submission.csv\")\n",
        "submission = submission.drop(columns='Unnamed: 0')\n",
        "submission['Target'] = le.inverse_transform(pred)\n",
        "submission.to_csv('name.csv', index=False)"
      ],
      "metadata": {
        "id": "pe30F9oMJ0zA"
      },
      "execution_count": null,
      "outputs": []
    },
    {
      "cell_type": "markdown",
      "source": [
        "# 하드보팅"
      ],
      "metadata": {
        "id": "zgPiVoX1J5Zk"
      }
    },
    {
      "cell_type": "markdown",
      "source": [
        "## 넘파이로 저장된 pred값들로 할 경우, \n",
        "- 이 경우, 각 폴드 별 pred값들을 np로 저장하여 모든 모델의 5폴드 (모델 n * 5) 전부 하드보팅 진행\n",
        "- argmax 실행하기 전 파일이 필요함"
      ],
      "metadata": {
        "id": "cde2OR80vCKq"
      }
    },
    {
      "cell_type": "markdown",
      "source": [
        "load pred np files"
      ],
      "metadata": {
        "id": "6OVkyP3z-p47"
      }
    },
    {
      "cell_type": "markdown",
      "source": [
        "- 예시 "
      ],
      "metadata": {
        "id": "_6jTgVuRwwYb"
      }
    },
    {
      "cell_type": "code",
      "execution_count": null,
      "metadata": {
        "id": "mwFKTJCL9Q9V"
      },
      "outputs": [],
      "source": [
        "pred_list1 = np.load(\"/content/drive/MyDrive/DL_Senti/xlm_roberta_base_pred_list.npy\")\n",
        "pred_list2 = np.load(\"/content/drive/MyDrive/DL_Senti/xlm_roberta_base_pred_list.npy\")\n",
        "pred_list3 = np.load(\"/content/drive/MyDrive/DL_Senti/xlm_roberta_base_pred_list.npy\")\n",
        "pred_list4 = np.load(\"/content/drive/MyDrive/DL_Senti/xlm_roberta_base_pred_list.npy\")"
      ]
    },
    {
      "cell_type": "code",
      "source": [
        "PRED1 = np.load(\"/content/drive/MyDrive/DL_Senti/0fold_pred_list.np.npy\")\n",
        "PRED2 = np.load(\"/content/drive/MyDrive/DL_Senti/xlm_roberta_base_pred_list.npy\")"
      ],
      "metadata": {
        "id": "nN8pdQH7Hk8U"
      },
      "execution_count": null,
      "outputs": []
    },
    {
      "cell_type": "markdown",
      "source": [
        "conatenate pred files"
      ],
      "metadata": {
        "id": "FrByj4zSG4xw"
      }
    },
    {
      "cell_type": "code",
      "source": [
        "concated_preds = np.concatenate([PRED1, PRED2])"
      ],
      "metadata": {
        "id": "B_CiLAODwtXl"
      },
      "execution_count": null,
      "outputs": []
    },
    {
      "cell_type": "code",
      "source": [
        "concated_preds = np.concatenate([PRED1, PRED2])"
      ],
      "metadata": {
        "id": "EHPCdc49Fjgm"
      },
      "execution_count": null,
      "outputs": []
    },
    {
      "cell_type": "code",
      "source": [
        "concated_preds.shape"
      ],
      "metadata": {
        "colab": {
          "base_uri": "https://localhost:8080/"
        },
        "id": "wQV8V7JWDzdC",
        "outputId": "ca252ffc-d0e0-49a5-9a7a-342f5a1215ce"
      },
      "execution_count": null,
      "outputs": [
        {
          "output_type": "execute_result",
          "data": {
            "text/plain": [
              "(10, 2610, 7)"
            ]
          },
          "metadata": {},
          "execution_count": 11
        }
      ]
    },
    {
      "cell_type": "code",
      "source": [
        "mode_lst = [ stats.mode(lst, axis = 0)[0][0] for lst in zip(*concated_preds)]"
      ],
      "metadata": {
        "id": "_Teq-y1FvxOZ"
      },
      "execution_count": null,
      "outputs": []
    },
    {
      "cell_type": "markdown",
      "source": [
        "- 최빈값만 가져온 뒤 다시 array형태로변환\n",
        "- array형태로 만들어주면 1차원이 추가됨\n"
      ],
      "metadata": {
        "id": "opHcrUeEwIkJ"
      }
    },
    {
      "cell_type": "code",
      "source": [
        "mode_np = np.array(mode_lst)\n",
        "mode_np.shape"
      ],
      "metadata": {
        "id": "vR9Cct-Tv8oi"
      },
      "execution_count": null,
      "outputs": []
    },
    {
      "cell_type": "markdown",
      "source": [
        "- array 변환 시 불필요하게 생성된 차원 1개를 squeeze로 제거해줌"
      ],
      "metadata": {
        "id": "1eVrmqRUwMB7"
      }
    },
    {
      "cell_type": "code",
      "source": [
        "pred = mode_np.squeeze()"
      ],
      "metadata": {
        "id": "lnku_8uQv1RJ"
      },
      "execution_count": null,
      "outputs": []
    },
    {
      "cell_type": "code",
      "source": [
        "pred.shape"
      ],
      "metadata": {
        "id": "GyqXTpkhv3-s"
      },
      "execution_count": null,
      "outputs": []
    },
    {
      "cell_type": "markdown",
      "source": [
        "- argmax로 pred 추출"
      ],
      "metadata": {
        "id": "bmUiD9WYwn8s"
      }
    },
    {
      "cell_type": "code",
      "source": [
        "pred =  np.argmax(mode_np, axis=1)"
      ],
      "metadata": {
        "id": "oEX5nkT8wB9f"
      },
      "execution_count": null,
      "outputs": []
    },
    {
      "cell_type": "markdown",
      "source": [
        "## 이미 argmax가 적용된 csv 파일로 진행할 떄"
      ],
      "metadata": {
        "id": "CJ_eFk5OvTkR"
      }
    },
    {
      "cell_type": "code",
      "source": [
        "from scipy import stats"
      ],
      "metadata": {
        "id": "F3QVKILF90N0"
      },
      "execution_count": null,
      "outputs": []
    },
    {
      "cell_type": "code",
      "source": [
        "from google.colab import drive\n",
        "drive.mount('/content/drive')\n",
        "%cd drive/MyDrive/Data/발화자의 감정인식 AI/csv/앙상블/"
      ],
      "metadata": {
        "colab": {
          "base_uri": "https://localhost:8080/"
        },
        "id": "QS3hfKrn1LGN",
        "outputId": "0626f559-9e0a-4c41-c4ed-81cd243e576b"
      },
      "execution_count": null,
      "outputs": [
        {
          "output_type": "stream",
          "name": "stdout",
          "text": [
            "Drive already mounted at /content/drive; to attempt to forcibly remount, call drive.mount(\"/content/drive\", force_remount=True).\n",
            "/content/drive/MyDrive/Data/발화자의 감정인식 AI/csv/앙상블\n"
          ]
        }
      ]
    },
    {
      "cell_type": "markdown",
      "source": [
        "- 여기가 성우 너 csv 파일 불러온 코드"
      ],
      "metadata": {
        "id": "ANXUetcvvbe_"
      }
    },
    {
      "cell_type": "code",
      "source": [
        "pred1 = pd.read_csv(\"bert_base_uncased.csv\")\n",
        "pred2 = pd.read_csv(\"emoberta_base_model2.csv\")\n",
        "pred3 = pd.read_csv(\"emoberta_epoch_10.csv\")\n",
        "pred4 = pd.read_csv(\"emoberta_submit_step1500.csv\")\n",
        "pred5 = pd.read_csv(\"submit2.csv\")"
      ],
      "metadata": {
        "id": "N20YXpuSsAEs"
      },
      "execution_count": null,
      "outputs": []
    },
    {
      "cell_type": "code",
      "source": [
        "pred1 = pd.read_csv(\"moaardvoting.csv\")\n",
        "pred2 = pd.read_csv(\"sungwoo5hardvoting.csv\")"
      ],
      "metadata": {
        "id": "9IbkqSd2u2RX"
      },
      "execution_count": null,
      "outputs": []
    },
    {
      "cell_type": "code",
      "source": [
        "pred1['Target']"
      ],
      "metadata": {
        "colab": {
          "base_uri": "https://localhost:8080/"
        },
        "id": "1x8pk9JDs_OD",
        "outputId": "5ee5ae34-e0ac-440d-fb94-8103eba535b5"
      },
      "execution_count": null,
      "outputs": [
        {
          "output_type": "execute_result",
          "data": {
            "text/plain": [
              "0        neutral\n",
              "1        neutral\n",
              "2        neutral\n",
              "3        neutral\n",
              "4        neutral\n",
              "          ...   \n",
              "2605         joy\n",
              "2606    surprise\n",
              "2607       anger\n",
              "2608       anger\n",
              "2609     neutral\n",
              "Name: Target, Length: 2610, dtype: object"
            ]
          },
          "metadata": {},
          "execution_count": 20
        }
      ]
    },
    {
      "cell_type": "markdown",
      "source": [
        "- 성우 너 csv파일에 저장된 pred값은 전부 txt 타겟 클래스로 변환된 형태라서, 다시 숫자값으로 transform진행해줬어"
      ],
      "metadata": {
        "id": "-wUjCA1pvf3M"
      }
    },
    {
      "cell_type": "code",
      "source": [
        "le = LabelEncoder()\n",
        "pred1 = le.fit_transform(pred1['Target'].to_numpy())"
      ],
      "metadata": {
        "id": "sBCaIvL8ssUP"
      },
      "execution_count": null,
      "outputs": []
    },
    {
      "cell_type": "code",
      "source": [
        "pred1"
      ],
      "metadata": {
        "colab": {
          "base_uri": "https://localhost:8080/"
        },
        "id": "a0p9UBZYtZQz",
        "outputId": "fd1bd859-5c0e-47fa-a668-2a89a34d361f"
      },
      "execution_count": null,
      "outputs": [
        {
          "output_type": "execute_result",
          "data": {
            "text/plain": [
              "array([4, 4, 4, ..., 3, 0, 4])"
            ]
          },
          "metadata": {},
          "execution_count": 7
        }
      ]
    },
    {
      "cell_type": "code",
      "source": [
        "pred2 = le.fit_transform(pred2['Target'].to_numpy())\n",
        "pred2"
      ],
      "metadata": {
        "colab": {
          "base_uri": "https://localhost:8080/"
        },
        "id": "iHgbTsMMtYAL",
        "outputId": "93248027-42fa-46cc-b736-db14a796dd90"
      },
      "execution_count": null,
      "outputs": [
        {
          "output_type": "execute_result",
          "data": {
            "text/plain": [
              "array([6, 4, 4, ..., 3, 0, 4])"
            ]
          },
          "metadata": {},
          "execution_count": 8
        }
      ]
    },
    {
      "cell_type": "code",
      "source": [
        "pred3 = le.fit_transform(pred3['Target'].to_numpy())\n",
        "pred3"
      ],
      "metadata": {
        "colab": {
          "base_uri": "https://localhost:8080/"
        },
        "id": "7dPTYEletg1R",
        "outputId": "d5219200-16cc-416b-efce-b418a95e4728"
      },
      "execution_count": null,
      "outputs": [
        {
          "output_type": "execute_result",
          "data": {
            "text/plain": [
              "array([6, 4, 4, ..., 3, 2, 3])"
            ]
          },
          "metadata": {},
          "execution_count": 9
        }
      ]
    },
    {
      "cell_type": "code",
      "source": [
        "pred4 = le.fit_transform(pred4['Target'].to_numpy())\n",
        "pred4"
      ],
      "metadata": {
        "colab": {
          "base_uri": "https://localhost:8080/"
        },
        "id": "cNJyVOq0tkTv",
        "outputId": "ed9bfaa1-c4f2-4427-f9b3-529cd3e6b7bf"
      },
      "execution_count": null,
      "outputs": [
        {
          "output_type": "execute_result",
          "data": {
            "text/plain": [
              "array([6, 4, 4, ..., 3, 6, 4])"
            ]
          },
          "metadata": {},
          "execution_count": 10
        }
      ]
    },
    {
      "cell_type": "code",
      "source": [
        "pred5 = le.fit_transform(pred5['Target'].to_numpy())\n",
        "pred5"
      ],
      "metadata": {
        "colab": {
          "base_uri": "https://localhost:8080/"
        },
        "id": "0US8wYzr3HCc",
        "outputId": "9fa3904f-772f-4c99-d794-fee6f2e10291"
      },
      "execution_count": null,
      "outputs": [
        {
          "output_type": "execute_result",
          "data": {
            "text/plain": [
              "array([4, 4, 4, ..., 3, 4, 4])"
            ]
          },
          "metadata": {},
          "execution_count": 12
        }
      ]
    },
    {
      "cell_type": "markdown",
      "source": [
        "- 그렇게 해서 한 리스트에 전부 담고, mode를 이용해서 가장 최빈값만 가져왔어"
      ],
      "metadata": {
        "id": "7wLoE5Fcvqkn"
      }
    },
    {
      "cell_type": "code",
      "source": [
        "lst = [pred1,pred2]"
      ],
      "metadata": {
        "id": "2k26TTcLvM_n"
      },
      "execution_count": null,
      "outputs": []
    },
    {
      "cell_type": "code",
      "source": [
        "lst = [pred1, pred2, pred3, pred4, pred5]"
      ],
      "metadata": {
        "id": "KRkyhdg7sN5B"
      },
      "execution_count": null,
      "outputs": []
    },
    {
      "cell_type": "code",
      "source": [
        "mode_lst = [ stats.mode(lst, axis = 0)[0][0] for lst in zip(*lst)]"
      ],
      "metadata": {
        "id": "eFNYbNFasWWy"
      },
      "execution_count": null,
      "outputs": []
    },
    {
      "cell_type": "markdown",
      "source": [
        "submission"
      ],
      "metadata": {
        "id": "tOnj3O2nHGXK"
      }
    },
    {
      "cell_type": "code",
      "source": [
        "submission = pd.read_csv(\"/content/drive/MyDrive/Data/발화자의 감정인식 AI/sample_submission.csv\")\n",
        "#submission = submission.drop(columns='Unnamed: 0')"
      ],
      "metadata": {
        "id": "dd6OP-Vf-Xfr"
      },
      "execution_count": null,
      "outputs": []
    },
    {
      "cell_type": "code",
      "source": [
        "submission['Target'] = le.inverse_transform(mode_lst)"
      ],
      "metadata": {
        "id": "2dPgyyEcA9M3"
      },
      "execution_count": null,
      "outputs": []
    },
    {
      "cell_type": "code",
      "source": [
        "submission.to_csv('sungwoo+moa_again앙상블블.csv', index=False)"
      ],
      "metadata": {
        "id": "1QvgL88-BKgj"
      },
      "execution_count": null,
      "outputs": []
    }
  ]
}
