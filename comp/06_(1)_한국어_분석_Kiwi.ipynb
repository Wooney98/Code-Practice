{
  "nbformat": 4,
  "nbformat_minor": 0,
  "metadata": {
    "colab": {
      "provenance": [],
      "collapsed_sections": [],
      "toc_visible": true
    },
    "kernelspec": {
      "name": "python3",
      "display_name": "Python 3"
    },
    "language_info": {
      "name": "python"
    },
    "accelerator": "GPU",
    "widgets": {
      "application/vnd.jupyter.widget-state+json": {
        "ecdc10d3407e4c2fbc3aa5e7bea9fa2a": {
          "model_module": "@jupyter-widgets/controls",
          "model_name": "HBoxModel",
          "model_module_version": "1.5.0",
          "state": {
            "_dom_classes": [],
            "_model_module": "@jupyter-widgets/controls",
            "_model_module_version": "1.5.0",
            "_model_name": "HBoxModel",
            "_view_count": null,
            "_view_module": "@jupyter-widgets/controls",
            "_view_module_version": "1.5.0",
            "_view_name": "HBoxView",
            "box_style": "",
            "children": [
              "IPY_MODEL_9c0f1808fc814bd8aad2d101a5fca0a8",
              "IPY_MODEL_d22f9ad22e754151bd5ff436ce94f321",
              "IPY_MODEL_dfe8d1ab46d5494bac608db448bd818d"
            ],
            "layout": "IPY_MODEL_4f17c9fab8be443cbc90801fc2d3f853"
          }
        },
        "9c0f1808fc814bd8aad2d101a5fca0a8": {
          "model_module": "@jupyter-widgets/controls",
          "model_name": "HTMLModel",
          "model_module_version": "1.5.0",
          "state": {
            "_dom_classes": [],
            "_model_module": "@jupyter-widgets/controls",
            "_model_module_version": "1.5.0",
            "_model_name": "HTMLModel",
            "_view_count": null,
            "_view_module": "@jupyter-widgets/controls",
            "_view_module_version": "1.5.0",
            "_view_name": "HTMLView",
            "description": "",
            "description_tooltip": null,
            "layout": "IPY_MODEL_7c02c8f7de35469084a247847e75c5fd",
            "placeholder": "​",
            "style": "IPY_MODEL_969124ea10df482fbe7647d4f4664ba7",
            "value": "100%"
          }
        },
        "d22f9ad22e754151bd5ff436ce94f321": {
          "model_module": "@jupyter-widgets/controls",
          "model_name": "FloatProgressModel",
          "model_module_version": "1.5.0",
          "state": {
            "_dom_classes": [],
            "_model_module": "@jupyter-widgets/controls",
            "_model_module_version": "1.5.0",
            "_model_name": "FloatProgressModel",
            "_view_count": null,
            "_view_module": "@jupyter-widgets/controls",
            "_view_module_version": "1.5.0",
            "_view_name": "ProgressView",
            "bar_style": "success",
            "description": "",
            "description_tooltip": null,
            "layout": "IPY_MODEL_899ce91b85eb4eff9803aab660c6097e",
            "max": 149995,
            "min": 0,
            "orientation": "horizontal",
            "style": "IPY_MODEL_99bcb271e52b4483860838a8e5631a06",
            "value": 149995
          }
        },
        "dfe8d1ab46d5494bac608db448bd818d": {
          "model_module": "@jupyter-widgets/controls",
          "model_name": "HTMLModel",
          "model_module_version": "1.5.0",
          "state": {
            "_dom_classes": [],
            "_model_module": "@jupyter-widgets/controls",
            "_model_module_version": "1.5.0",
            "_model_name": "HTMLModel",
            "_view_count": null,
            "_view_module": "@jupyter-widgets/controls",
            "_view_module_version": "1.5.0",
            "_view_name": "HTMLView",
            "description": "",
            "description_tooltip": null,
            "layout": "IPY_MODEL_0994db6797aa49d593269733a5f40457",
            "placeholder": "​",
            "style": "IPY_MODEL_c5e2d92596dc4d52acb3387ffe4efcb1",
            "value": " 149995/149995 [02:39&lt;00:00, 990.15it/s]"
          }
        },
        "4f17c9fab8be443cbc90801fc2d3f853": {
          "model_module": "@jupyter-widgets/base",
          "model_name": "LayoutModel",
          "model_module_version": "1.2.0",
          "state": {
            "_model_module": "@jupyter-widgets/base",
            "_model_module_version": "1.2.0",
            "_model_name": "LayoutModel",
            "_view_count": null,
            "_view_module": "@jupyter-widgets/base",
            "_view_module_version": "1.2.0",
            "_view_name": "LayoutView",
            "align_content": null,
            "align_items": null,
            "align_self": null,
            "border": null,
            "bottom": null,
            "display": null,
            "flex": null,
            "flex_flow": null,
            "grid_area": null,
            "grid_auto_columns": null,
            "grid_auto_flow": null,
            "grid_auto_rows": null,
            "grid_column": null,
            "grid_gap": null,
            "grid_row": null,
            "grid_template_areas": null,
            "grid_template_columns": null,
            "grid_template_rows": null,
            "height": null,
            "justify_content": null,
            "justify_items": null,
            "left": null,
            "margin": null,
            "max_height": null,
            "max_width": null,
            "min_height": null,
            "min_width": null,
            "object_fit": null,
            "object_position": null,
            "order": null,
            "overflow": null,
            "overflow_x": null,
            "overflow_y": null,
            "padding": null,
            "right": null,
            "top": null,
            "visibility": null,
            "width": null
          }
        },
        "7c02c8f7de35469084a247847e75c5fd": {
          "model_module": "@jupyter-widgets/base",
          "model_name": "LayoutModel",
          "model_module_version": "1.2.0",
          "state": {
            "_model_module": "@jupyter-widgets/base",
            "_model_module_version": "1.2.0",
            "_model_name": "LayoutModel",
            "_view_count": null,
            "_view_module": "@jupyter-widgets/base",
            "_view_module_version": "1.2.0",
            "_view_name": "LayoutView",
            "align_content": null,
            "align_items": null,
            "align_self": null,
            "border": null,
            "bottom": null,
            "display": null,
            "flex": null,
            "flex_flow": null,
            "grid_area": null,
            "grid_auto_columns": null,
            "grid_auto_flow": null,
            "grid_auto_rows": null,
            "grid_column": null,
            "grid_gap": null,
            "grid_row": null,
            "grid_template_areas": null,
            "grid_template_columns": null,
            "grid_template_rows": null,
            "height": null,
            "justify_content": null,
            "justify_items": null,
            "left": null,
            "margin": null,
            "max_height": null,
            "max_width": null,
            "min_height": null,
            "min_width": null,
            "object_fit": null,
            "object_position": null,
            "order": null,
            "overflow": null,
            "overflow_x": null,
            "overflow_y": null,
            "padding": null,
            "right": null,
            "top": null,
            "visibility": null,
            "width": null
          }
        },
        "969124ea10df482fbe7647d4f4664ba7": {
          "model_module": "@jupyter-widgets/controls",
          "model_name": "DescriptionStyleModel",
          "model_module_version": "1.5.0",
          "state": {
            "_model_module": "@jupyter-widgets/controls",
            "_model_module_version": "1.5.0",
            "_model_name": "DescriptionStyleModel",
            "_view_count": null,
            "_view_module": "@jupyter-widgets/base",
            "_view_module_version": "1.2.0",
            "_view_name": "StyleView",
            "description_width": ""
          }
        },
        "899ce91b85eb4eff9803aab660c6097e": {
          "model_module": "@jupyter-widgets/base",
          "model_name": "LayoutModel",
          "model_module_version": "1.2.0",
          "state": {
            "_model_module": "@jupyter-widgets/base",
            "_model_module_version": "1.2.0",
            "_model_name": "LayoutModel",
            "_view_count": null,
            "_view_module": "@jupyter-widgets/base",
            "_view_module_version": "1.2.0",
            "_view_name": "LayoutView",
            "align_content": null,
            "align_items": null,
            "align_self": null,
            "border": null,
            "bottom": null,
            "display": null,
            "flex": null,
            "flex_flow": null,
            "grid_area": null,
            "grid_auto_columns": null,
            "grid_auto_flow": null,
            "grid_auto_rows": null,
            "grid_column": null,
            "grid_gap": null,
            "grid_row": null,
            "grid_template_areas": null,
            "grid_template_columns": null,
            "grid_template_rows": null,
            "height": null,
            "justify_content": null,
            "justify_items": null,
            "left": null,
            "margin": null,
            "max_height": null,
            "max_width": null,
            "min_height": null,
            "min_width": null,
            "object_fit": null,
            "object_position": null,
            "order": null,
            "overflow": null,
            "overflow_x": null,
            "overflow_y": null,
            "padding": null,
            "right": null,
            "top": null,
            "visibility": null,
            "width": null
          }
        },
        "99bcb271e52b4483860838a8e5631a06": {
          "model_module": "@jupyter-widgets/controls",
          "model_name": "ProgressStyleModel",
          "model_module_version": "1.5.0",
          "state": {
            "_model_module": "@jupyter-widgets/controls",
            "_model_module_version": "1.5.0",
            "_model_name": "ProgressStyleModel",
            "_view_count": null,
            "_view_module": "@jupyter-widgets/base",
            "_view_module_version": "1.2.0",
            "_view_name": "StyleView",
            "bar_color": null,
            "description_width": ""
          }
        },
        "0994db6797aa49d593269733a5f40457": {
          "model_module": "@jupyter-widgets/base",
          "model_name": "LayoutModel",
          "model_module_version": "1.2.0",
          "state": {
            "_model_module": "@jupyter-widgets/base",
            "_model_module_version": "1.2.0",
            "_model_name": "LayoutModel",
            "_view_count": null,
            "_view_module": "@jupyter-widgets/base",
            "_view_module_version": "1.2.0",
            "_view_name": "LayoutView",
            "align_content": null,
            "align_items": null,
            "align_self": null,
            "border": null,
            "bottom": null,
            "display": null,
            "flex": null,
            "flex_flow": null,
            "grid_area": null,
            "grid_auto_columns": null,
            "grid_auto_flow": null,
            "grid_auto_rows": null,
            "grid_column": null,
            "grid_gap": null,
            "grid_row": null,
            "grid_template_areas": null,
            "grid_template_columns": null,
            "grid_template_rows": null,
            "height": null,
            "justify_content": null,
            "justify_items": null,
            "left": null,
            "margin": null,
            "max_height": null,
            "max_width": null,
            "min_height": null,
            "min_width": null,
            "object_fit": null,
            "object_position": null,
            "order": null,
            "overflow": null,
            "overflow_x": null,
            "overflow_y": null,
            "padding": null,
            "right": null,
            "top": null,
            "visibility": null,
            "width": null
          }
        },
        "c5e2d92596dc4d52acb3387ffe4efcb1": {
          "model_module": "@jupyter-widgets/controls",
          "model_name": "DescriptionStyleModel",
          "model_module_version": "1.5.0",
          "state": {
            "_model_module": "@jupyter-widgets/controls",
            "_model_module_version": "1.5.0",
            "_model_name": "DescriptionStyleModel",
            "_view_count": null,
            "_view_module": "@jupyter-widgets/base",
            "_view_module_version": "1.2.0",
            "_view_name": "StyleView",
            "description_width": ""
          }
        },
        "3c43d2c5d15e4fb4a40b1ab52da5d9fc": {
          "model_module": "@jupyter-widgets/controls",
          "model_name": "HBoxModel",
          "model_module_version": "1.5.0",
          "state": {
            "_dom_classes": [],
            "_model_module": "@jupyter-widgets/controls",
            "_model_module_version": "1.5.0",
            "_model_name": "HBoxModel",
            "_view_count": null,
            "_view_module": "@jupyter-widgets/controls",
            "_view_module_version": "1.5.0",
            "_view_name": "HBoxView",
            "box_style": "",
            "children": [
              "IPY_MODEL_085508fa173d427fb6aecb476be8b191",
              "IPY_MODEL_2a06517c71eb4748a96004e1cb1361d2",
              "IPY_MODEL_d86a45fa7d99493e9e03dd7f52be9e19"
            ],
            "layout": "IPY_MODEL_59594ba6ede8496c86b9273f7c0d5e41"
          }
        },
        "085508fa173d427fb6aecb476be8b191": {
          "model_module": "@jupyter-widgets/controls",
          "model_name": "HTMLModel",
          "model_module_version": "1.5.0",
          "state": {
            "_dom_classes": [],
            "_model_module": "@jupyter-widgets/controls",
            "_model_module_version": "1.5.0",
            "_model_name": "HTMLModel",
            "_view_count": null,
            "_view_module": "@jupyter-widgets/controls",
            "_view_module_version": "1.5.0",
            "_view_name": "HTMLView",
            "description": "",
            "description_tooltip": null,
            "layout": "IPY_MODEL_2c4c918a71d64449b8c2e4eacf2eecfc",
            "placeholder": "​",
            "style": "IPY_MODEL_d96583c4118844f0a0e55033d761c207",
            "value": " 41%"
          }
        },
        "2a06517c71eb4748a96004e1cb1361d2": {
          "model_module": "@jupyter-widgets/controls",
          "model_name": "FloatProgressModel",
          "model_module_version": "1.5.0",
          "state": {
            "_dom_classes": [],
            "_model_module": "@jupyter-widgets/controls",
            "_model_module_version": "1.5.0",
            "_model_name": "FloatProgressModel",
            "_view_count": null,
            "_view_module": "@jupyter-widgets/controls",
            "_view_module_version": "1.5.0",
            "_view_name": "ProgressView",
            "bar_style": "danger",
            "description": "",
            "description_tooltip": null,
            "layout": "IPY_MODEL_d3ee0f5984ba4018b85d2fc3921b094f",
            "max": 100,
            "min": 0,
            "orientation": "horizontal",
            "style": "IPY_MODEL_d74f01d39e614baaa15c7b998719cc1a",
            "value": 41
          }
        },
        "d86a45fa7d99493e9e03dd7f52be9e19": {
          "model_module": "@jupyter-widgets/controls",
          "model_name": "HTMLModel",
          "model_module_version": "1.5.0",
          "state": {
            "_dom_classes": [],
            "_model_module": "@jupyter-widgets/controls",
            "_model_module_version": "1.5.0",
            "_model_name": "HTMLModel",
            "_view_count": null,
            "_view_module": "@jupyter-widgets/controls",
            "_view_module_version": "1.5.0",
            "_view_name": "HTMLView",
            "description": "",
            "description_tooltip": null,
            "layout": "IPY_MODEL_0b997b492d894631b23f317fd4b7141d",
            "placeholder": "​",
            "style": "IPY_MODEL_5d62e1fd65dd4f4b9e1b54fd449719d7",
            "value": " 41/100 [03:31&lt;04:54,  4.99s/it]"
          }
        },
        "59594ba6ede8496c86b9273f7c0d5e41": {
          "model_module": "@jupyter-widgets/base",
          "model_name": "LayoutModel",
          "model_module_version": "1.2.0",
          "state": {
            "_model_module": "@jupyter-widgets/base",
            "_model_module_version": "1.2.0",
            "_model_name": "LayoutModel",
            "_view_count": null,
            "_view_module": "@jupyter-widgets/base",
            "_view_module_version": "1.2.0",
            "_view_name": "LayoutView",
            "align_content": null,
            "align_items": null,
            "align_self": null,
            "border": null,
            "bottom": null,
            "display": null,
            "flex": null,
            "flex_flow": null,
            "grid_area": null,
            "grid_auto_columns": null,
            "grid_auto_flow": null,
            "grid_auto_rows": null,
            "grid_column": null,
            "grid_gap": null,
            "grid_row": null,
            "grid_template_areas": null,
            "grid_template_columns": null,
            "grid_template_rows": null,
            "height": null,
            "justify_content": null,
            "justify_items": null,
            "left": null,
            "margin": null,
            "max_height": null,
            "max_width": null,
            "min_height": null,
            "min_width": null,
            "object_fit": null,
            "object_position": null,
            "order": null,
            "overflow": null,
            "overflow_x": null,
            "overflow_y": null,
            "padding": null,
            "right": null,
            "top": null,
            "visibility": null,
            "width": null
          }
        },
        "2c4c918a71d64449b8c2e4eacf2eecfc": {
          "model_module": "@jupyter-widgets/base",
          "model_name": "LayoutModel",
          "model_module_version": "1.2.0",
          "state": {
            "_model_module": "@jupyter-widgets/base",
            "_model_module_version": "1.2.0",
            "_model_name": "LayoutModel",
            "_view_count": null,
            "_view_module": "@jupyter-widgets/base",
            "_view_module_version": "1.2.0",
            "_view_name": "LayoutView",
            "align_content": null,
            "align_items": null,
            "align_self": null,
            "border": null,
            "bottom": null,
            "display": null,
            "flex": null,
            "flex_flow": null,
            "grid_area": null,
            "grid_auto_columns": null,
            "grid_auto_flow": null,
            "grid_auto_rows": null,
            "grid_column": null,
            "grid_gap": null,
            "grid_row": null,
            "grid_template_areas": null,
            "grid_template_columns": null,
            "grid_template_rows": null,
            "height": null,
            "justify_content": null,
            "justify_items": null,
            "left": null,
            "margin": null,
            "max_height": null,
            "max_width": null,
            "min_height": null,
            "min_width": null,
            "object_fit": null,
            "object_position": null,
            "order": null,
            "overflow": null,
            "overflow_x": null,
            "overflow_y": null,
            "padding": null,
            "right": null,
            "top": null,
            "visibility": null,
            "width": null
          }
        },
        "d96583c4118844f0a0e55033d761c207": {
          "model_module": "@jupyter-widgets/controls",
          "model_name": "DescriptionStyleModel",
          "model_module_version": "1.5.0",
          "state": {
            "_model_module": "@jupyter-widgets/controls",
            "_model_module_version": "1.5.0",
            "_model_name": "DescriptionStyleModel",
            "_view_count": null,
            "_view_module": "@jupyter-widgets/base",
            "_view_module_version": "1.2.0",
            "_view_name": "StyleView",
            "description_width": ""
          }
        },
        "d3ee0f5984ba4018b85d2fc3921b094f": {
          "model_module": "@jupyter-widgets/base",
          "model_name": "LayoutModel",
          "model_module_version": "1.2.0",
          "state": {
            "_model_module": "@jupyter-widgets/base",
            "_model_module_version": "1.2.0",
            "_model_name": "LayoutModel",
            "_view_count": null,
            "_view_module": "@jupyter-widgets/base",
            "_view_module_version": "1.2.0",
            "_view_name": "LayoutView",
            "align_content": null,
            "align_items": null,
            "align_self": null,
            "border": null,
            "bottom": null,
            "display": null,
            "flex": null,
            "flex_flow": null,
            "grid_area": null,
            "grid_auto_columns": null,
            "grid_auto_flow": null,
            "grid_auto_rows": null,
            "grid_column": null,
            "grid_gap": null,
            "grid_row": null,
            "grid_template_areas": null,
            "grid_template_columns": null,
            "grid_template_rows": null,
            "height": null,
            "justify_content": null,
            "justify_items": null,
            "left": null,
            "margin": null,
            "max_height": null,
            "max_width": null,
            "min_height": null,
            "min_width": null,
            "object_fit": null,
            "object_position": null,
            "order": null,
            "overflow": null,
            "overflow_x": null,
            "overflow_y": null,
            "padding": null,
            "right": null,
            "top": null,
            "visibility": null,
            "width": null
          }
        },
        "d74f01d39e614baaa15c7b998719cc1a": {
          "model_module": "@jupyter-widgets/controls",
          "model_name": "ProgressStyleModel",
          "model_module_version": "1.5.0",
          "state": {
            "_model_module": "@jupyter-widgets/controls",
            "_model_module_version": "1.5.0",
            "_model_name": "ProgressStyleModel",
            "_view_count": null,
            "_view_module": "@jupyter-widgets/base",
            "_view_module_version": "1.2.0",
            "_view_name": "StyleView",
            "bar_color": null,
            "description_width": ""
          }
        },
        "0b997b492d894631b23f317fd4b7141d": {
          "model_module": "@jupyter-widgets/base",
          "model_name": "LayoutModel",
          "model_module_version": "1.2.0",
          "state": {
            "_model_module": "@jupyter-widgets/base",
            "_model_module_version": "1.2.0",
            "_model_name": "LayoutModel",
            "_view_count": null,
            "_view_module": "@jupyter-widgets/base",
            "_view_module_version": "1.2.0",
            "_view_name": "LayoutView",
            "align_content": null,
            "align_items": null,
            "align_self": null,
            "border": null,
            "bottom": null,
            "display": null,
            "flex": null,
            "flex_flow": null,
            "grid_area": null,
            "grid_auto_columns": null,
            "grid_auto_flow": null,
            "grid_auto_rows": null,
            "grid_column": null,
            "grid_gap": null,
            "grid_row": null,
            "grid_template_areas": null,
            "grid_template_columns": null,
            "grid_template_rows": null,
            "height": null,
            "justify_content": null,
            "justify_items": null,
            "left": null,
            "margin": null,
            "max_height": null,
            "max_width": null,
            "min_height": null,
            "min_width": null,
            "object_fit": null,
            "object_position": null,
            "order": null,
            "overflow": null,
            "overflow_x": null,
            "overflow_y": null,
            "padding": null,
            "right": null,
            "top": null,
            "visibility": null,
            "width": null
          }
        },
        "5d62e1fd65dd4f4b9e1b54fd449719d7": {
          "model_module": "@jupyter-widgets/controls",
          "model_name": "DescriptionStyleModel",
          "model_module_version": "1.5.0",
          "state": {
            "_model_module": "@jupyter-widgets/controls",
            "_model_module_version": "1.5.0",
            "_model_name": "DescriptionStyleModel",
            "_view_count": null,
            "_view_module": "@jupyter-widgets/base",
            "_view_module_version": "1.2.0",
            "_view_name": "StyleView",
            "description_width": ""
          }
        },
        "0608c893805d45199972c7ece950d1de": {
          "model_module": "@jupyter-widgets/controls",
          "model_name": "HBoxModel",
          "model_module_version": "1.5.0",
          "state": {
            "_dom_classes": [],
            "_model_module": "@jupyter-widgets/controls",
            "_model_module_version": "1.5.0",
            "_model_name": "HBoxModel",
            "_view_count": null,
            "_view_module": "@jupyter-widgets/controls",
            "_view_module_version": "1.5.0",
            "_view_name": "HBoxView",
            "box_style": "",
            "children": [
              "IPY_MODEL_a7a32ddd26774353a394f6a5aca56d87",
              "IPY_MODEL_a8516d8930784791b348712bb81f1d92",
              "IPY_MODEL_28cc74b9e51a4133bfaa51b0e25f3d13"
            ],
            "layout": "IPY_MODEL_815af8a3d97e49368270516f0eade010"
          }
        },
        "a7a32ddd26774353a394f6a5aca56d87": {
          "model_module": "@jupyter-widgets/controls",
          "model_name": "HTMLModel",
          "model_module_version": "1.5.0",
          "state": {
            "_dom_classes": [],
            "_model_module": "@jupyter-widgets/controls",
            "_model_module_version": "1.5.0",
            "_model_name": "HTMLModel",
            "_view_count": null,
            "_view_module": "@jupyter-widgets/controls",
            "_view_module_version": "1.5.0",
            "_view_name": "HTMLView",
            "description": "",
            "description_tooltip": null,
            "layout": "IPY_MODEL_a57088bf51274ee9974c97d4e6fc6ab7",
            "placeholder": "​",
            "style": "IPY_MODEL_4a8b67e39ea0425e8220269af7ad88e1",
            "value": " 40%"
          }
        },
        "a8516d8930784791b348712bb81f1d92": {
          "model_module": "@jupyter-widgets/controls",
          "model_name": "FloatProgressModel",
          "model_module_version": "1.5.0",
          "state": {
            "_dom_classes": [],
            "_model_module": "@jupyter-widgets/controls",
            "_model_module_version": "1.5.0",
            "_model_name": "FloatProgressModel",
            "_view_count": null,
            "_view_module": "@jupyter-widgets/controls",
            "_view_module_version": "1.5.0",
            "_view_name": "ProgressView",
            "bar_style": "danger",
            "description": "",
            "description_tooltip": null,
            "layout": "IPY_MODEL_b31c81a40ad64d13be02c5e1be137991",
            "max": 100,
            "min": 0,
            "orientation": "horizontal",
            "style": "IPY_MODEL_1f6751bccbd740618ea2c2fcc746ae5c",
            "value": 40
          }
        },
        "28cc74b9e51a4133bfaa51b0e25f3d13": {
          "model_module": "@jupyter-widgets/controls",
          "model_name": "HTMLModel",
          "model_module_version": "1.5.0",
          "state": {
            "_dom_classes": [],
            "_model_module": "@jupyter-widgets/controls",
            "_model_module_version": "1.5.0",
            "_model_name": "HTMLModel",
            "_view_count": null,
            "_view_module": "@jupyter-widgets/controls",
            "_view_module_version": "1.5.0",
            "_view_name": "HTMLView",
            "description": "",
            "description_tooltip": null,
            "layout": "IPY_MODEL_ceb6d75ce1994051a0981350da3ed8d1",
            "placeholder": "​",
            "style": "IPY_MODEL_e584397578174dc8a2130c7f8a3021b3",
            "value": " 40/100 [03:26&lt;05:00,  5.01s/it]"
          }
        },
        "815af8a3d97e49368270516f0eade010": {
          "model_module": "@jupyter-widgets/base",
          "model_name": "LayoutModel",
          "model_module_version": "1.2.0",
          "state": {
            "_model_module": "@jupyter-widgets/base",
            "_model_module_version": "1.2.0",
            "_model_name": "LayoutModel",
            "_view_count": null,
            "_view_module": "@jupyter-widgets/base",
            "_view_module_version": "1.2.0",
            "_view_name": "LayoutView",
            "align_content": null,
            "align_items": null,
            "align_self": null,
            "border": null,
            "bottom": null,
            "display": null,
            "flex": null,
            "flex_flow": null,
            "grid_area": null,
            "grid_auto_columns": null,
            "grid_auto_flow": null,
            "grid_auto_rows": null,
            "grid_column": null,
            "grid_gap": null,
            "grid_row": null,
            "grid_template_areas": null,
            "grid_template_columns": null,
            "grid_template_rows": null,
            "height": null,
            "justify_content": null,
            "justify_items": null,
            "left": null,
            "margin": null,
            "max_height": null,
            "max_width": null,
            "min_height": null,
            "min_width": null,
            "object_fit": null,
            "object_position": null,
            "order": null,
            "overflow": null,
            "overflow_x": null,
            "overflow_y": null,
            "padding": null,
            "right": null,
            "top": null,
            "visibility": null,
            "width": null
          }
        },
        "a57088bf51274ee9974c97d4e6fc6ab7": {
          "model_module": "@jupyter-widgets/base",
          "model_name": "LayoutModel",
          "model_module_version": "1.2.0",
          "state": {
            "_model_module": "@jupyter-widgets/base",
            "_model_module_version": "1.2.0",
            "_model_name": "LayoutModel",
            "_view_count": null,
            "_view_module": "@jupyter-widgets/base",
            "_view_module_version": "1.2.0",
            "_view_name": "LayoutView",
            "align_content": null,
            "align_items": null,
            "align_self": null,
            "border": null,
            "bottom": null,
            "display": null,
            "flex": null,
            "flex_flow": null,
            "grid_area": null,
            "grid_auto_columns": null,
            "grid_auto_flow": null,
            "grid_auto_rows": null,
            "grid_column": null,
            "grid_gap": null,
            "grid_row": null,
            "grid_template_areas": null,
            "grid_template_columns": null,
            "grid_template_rows": null,
            "height": null,
            "justify_content": null,
            "justify_items": null,
            "left": null,
            "margin": null,
            "max_height": null,
            "max_width": null,
            "min_height": null,
            "min_width": null,
            "object_fit": null,
            "object_position": null,
            "order": null,
            "overflow": null,
            "overflow_x": null,
            "overflow_y": null,
            "padding": null,
            "right": null,
            "top": null,
            "visibility": null,
            "width": null
          }
        },
        "4a8b67e39ea0425e8220269af7ad88e1": {
          "model_module": "@jupyter-widgets/controls",
          "model_name": "DescriptionStyleModel",
          "model_module_version": "1.5.0",
          "state": {
            "_model_module": "@jupyter-widgets/controls",
            "_model_module_version": "1.5.0",
            "_model_name": "DescriptionStyleModel",
            "_view_count": null,
            "_view_module": "@jupyter-widgets/base",
            "_view_module_version": "1.2.0",
            "_view_name": "StyleView",
            "description_width": ""
          }
        },
        "b31c81a40ad64d13be02c5e1be137991": {
          "model_module": "@jupyter-widgets/base",
          "model_name": "LayoutModel",
          "model_module_version": "1.2.0",
          "state": {
            "_model_module": "@jupyter-widgets/base",
            "_model_module_version": "1.2.0",
            "_model_name": "LayoutModel",
            "_view_count": null,
            "_view_module": "@jupyter-widgets/base",
            "_view_module_version": "1.2.0",
            "_view_name": "LayoutView",
            "align_content": null,
            "align_items": null,
            "align_self": null,
            "border": null,
            "bottom": null,
            "display": null,
            "flex": null,
            "flex_flow": null,
            "grid_area": null,
            "grid_auto_columns": null,
            "grid_auto_flow": null,
            "grid_auto_rows": null,
            "grid_column": null,
            "grid_gap": null,
            "grid_row": null,
            "grid_template_areas": null,
            "grid_template_columns": null,
            "grid_template_rows": null,
            "height": null,
            "justify_content": null,
            "justify_items": null,
            "left": null,
            "margin": null,
            "max_height": null,
            "max_width": null,
            "min_height": null,
            "min_width": null,
            "object_fit": null,
            "object_position": null,
            "order": null,
            "overflow": null,
            "overflow_x": null,
            "overflow_y": null,
            "padding": null,
            "right": null,
            "top": null,
            "visibility": null,
            "width": null
          }
        },
        "1f6751bccbd740618ea2c2fcc746ae5c": {
          "model_module": "@jupyter-widgets/controls",
          "model_name": "ProgressStyleModel",
          "model_module_version": "1.5.0",
          "state": {
            "_model_module": "@jupyter-widgets/controls",
            "_model_module_version": "1.5.0",
            "_model_name": "ProgressStyleModel",
            "_view_count": null,
            "_view_module": "@jupyter-widgets/base",
            "_view_module_version": "1.2.0",
            "_view_name": "StyleView",
            "bar_color": null,
            "description_width": ""
          }
        },
        "ceb6d75ce1994051a0981350da3ed8d1": {
          "model_module": "@jupyter-widgets/base",
          "model_name": "LayoutModel",
          "model_module_version": "1.2.0",
          "state": {
            "_model_module": "@jupyter-widgets/base",
            "_model_module_version": "1.2.0",
            "_model_name": "LayoutModel",
            "_view_count": null,
            "_view_module": "@jupyter-widgets/base",
            "_view_module_version": "1.2.0",
            "_view_name": "LayoutView",
            "align_content": null,
            "align_items": null,
            "align_self": null,
            "border": null,
            "bottom": null,
            "display": null,
            "flex": null,
            "flex_flow": null,
            "grid_area": null,
            "grid_auto_columns": null,
            "grid_auto_flow": null,
            "grid_auto_rows": null,
            "grid_column": null,
            "grid_gap": null,
            "grid_row": null,
            "grid_template_areas": null,
            "grid_template_columns": null,
            "grid_template_rows": null,
            "height": null,
            "justify_content": null,
            "justify_items": null,
            "left": null,
            "margin": null,
            "max_height": null,
            "max_width": null,
            "min_height": null,
            "min_width": null,
            "object_fit": null,
            "object_position": null,
            "order": null,
            "overflow": null,
            "overflow_x": null,
            "overflow_y": null,
            "padding": null,
            "right": null,
            "top": null,
            "visibility": null,
            "width": null
          }
        },
        "e584397578174dc8a2130c7f8a3021b3": {
          "model_module": "@jupyter-widgets/controls",
          "model_name": "DescriptionStyleModel",
          "model_module_version": "1.5.0",
          "state": {
            "_model_module": "@jupyter-widgets/controls",
            "_model_module_version": "1.5.0",
            "_model_name": "DescriptionStyleModel",
            "_view_count": null,
            "_view_module": "@jupyter-widgets/base",
            "_view_module_version": "1.2.0",
            "_view_name": "StyleView",
            "description_width": ""
          }
        },
        "13d7ee9691e0423bac9e9aabda5c5c1e": {
          "model_module": "@jupyter-widgets/controls",
          "model_name": "HBoxModel",
          "model_module_version": "1.5.0",
          "state": {
            "_dom_classes": [],
            "_model_module": "@jupyter-widgets/controls",
            "_model_module_version": "1.5.0",
            "_model_name": "HBoxModel",
            "_view_count": null,
            "_view_module": "@jupyter-widgets/controls",
            "_view_module_version": "1.5.0",
            "_view_name": "HBoxView",
            "box_style": "",
            "children": [
              "IPY_MODEL_98fe71321c8f4746a499076c6b12617a",
              "IPY_MODEL_82515224e22f45d5ba11fad074138e65",
              "IPY_MODEL_e934ec3f857242da9e2827d62dc6c673"
            ],
            "layout": "IPY_MODEL_82e292d259b840cbbdc521046d68d2fc"
          }
        },
        "98fe71321c8f4746a499076c6b12617a": {
          "model_module": "@jupyter-widgets/controls",
          "model_name": "HTMLModel",
          "model_module_version": "1.5.0",
          "state": {
            "_dom_classes": [],
            "_model_module": "@jupyter-widgets/controls",
            "_model_module_version": "1.5.0",
            "_model_name": "HTMLModel",
            "_view_count": null,
            "_view_module": "@jupyter-widgets/controls",
            "_view_module_version": "1.5.0",
            "_view_name": "HTMLView",
            "description": "",
            "description_tooltip": null,
            "layout": "IPY_MODEL_f4938a80e3c54c9b9304f050efab2913",
            "placeholder": "​",
            "style": "IPY_MODEL_af72c69bf70a4057a3ac553219444a5a",
            "value": " 35%"
          }
        },
        "82515224e22f45d5ba11fad074138e65": {
          "model_module": "@jupyter-widgets/controls",
          "model_name": "FloatProgressModel",
          "model_module_version": "1.5.0",
          "state": {
            "_dom_classes": [],
            "_model_module": "@jupyter-widgets/controls",
            "_model_module_version": "1.5.0",
            "_model_name": "FloatProgressModel",
            "_view_count": null,
            "_view_module": "@jupyter-widgets/controls",
            "_view_module_version": "1.5.0",
            "_view_name": "ProgressView",
            "bar_style": "danger",
            "description": "",
            "description_tooltip": null,
            "layout": "IPY_MODEL_943906c0e0734832b8ed4ce1feab8139",
            "max": 100,
            "min": 0,
            "orientation": "horizontal",
            "style": "IPY_MODEL_a2c7e79e159d4bf8b7b6e7b2e7359fdc",
            "value": 35
          }
        },
        "e934ec3f857242da9e2827d62dc6c673": {
          "model_module": "@jupyter-widgets/controls",
          "model_name": "HTMLModel",
          "model_module_version": "1.5.0",
          "state": {
            "_dom_classes": [],
            "_model_module": "@jupyter-widgets/controls",
            "_model_module_version": "1.5.0",
            "_model_name": "HTMLModel",
            "_view_count": null,
            "_view_module": "@jupyter-widgets/controls",
            "_view_module_version": "1.5.0",
            "_view_name": "HTMLView",
            "description": "",
            "description_tooltip": null,
            "layout": "IPY_MODEL_4eb5d25febbb44a5800814adeb632a7a",
            "placeholder": "​",
            "style": "IPY_MODEL_8411f0a5799b4b549984f8bff606fbb4",
            "value": " 35/100 [03:02&lt;05:26,  5.02s/it]"
          }
        },
        "82e292d259b840cbbdc521046d68d2fc": {
          "model_module": "@jupyter-widgets/base",
          "model_name": "LayoutModel",
          "model_module_version": "1.2.0",
          "state": {
            "_model_module": "@jupyter-widgets/base",
            "_model_module_version": "1.2.0",
            "_model_name": "LayoutModel",
            "_view_count": null,
            "_view_module": "@jupyter-widgets/base",
            "_view_module_version": "1.2.0",
            "_view_name": "LayoutView",
            "align_content": null,
            "align_items": null,
            "align_self": null,
            "border": null,
            "bottom": null,
            "display": null,
            "flex": null,
            "flex_flow": null,
            "grid_area": null,
            "grid_auto_columns": null,
            "grid_auto_flow": null,
            "grid_auto_rows": null,
            "grid_column": null,
            "grid_gap": null,
            "grid_row": null,
            "grid_template_areas": null,
            "grid_template_columns": null,
            "grid_template_rows": null,
            "height": null,
            "justify_content": null,
            "justify_items": null,
            "left": null,
            "margin": null,
            "max_height": null,
            "max_width": null,
            "min_height": null,
            "min_width": null,
            "object_fit": null,
            "object_position": null,
            "order": null,
            "overflow": null,
            "overflow_x": null,
            "overflow_y": null,
            "padding": null,
            "right": null,
            "top": null,
            "visibility": null,
            "width": null
          }
        },
        "f4938a80e3c54c9b9304f050efab2913": {
          "model_module": "@jupyter-widgets/base",
          "model_name": "LayoutModel",
          "model_module_version": "1.2.0",
          "state": {
            "_model_module": "@jupyter-widgets/base",
            "_model_module_version": "1.2.0",
            "_model_name": "LayoutModel",
            "_view_count": null,
            "_view_module": "@jupyter-widgets/base",
            "_view_module_version": "1.2.0",
            "_view_name": "LayoutView",
            "align_content": null,
            "align_items": null,
            "align_self": null,
            "border": null,
            "bottom": null,
            "display": null,
            "flex": null,
            "flex_flow": null,
            "grid_area": null,
            "grid_auto_columns": null,
            "grid_auto_flow": null,
            "grid_auto_rows": null,
            "grid_column": null,
            "grid_gap": null,
            "grid_row": null,
            "grid_template_areas": null,
            "grid_template_columns": null,
            "grid_template_rows": null,
            "height": null,
            "justify_content": null,
            "justify_items": null,
            "left": null,
            "margin": null,
            "max_height": null,
            "max_width": null,
            "min_height": null,
            "min_width": null,
            "object_fit": null,
            "object_position": null,
            "order": null,
            "overflow": null,
            "overflow_x": null,
            "overflow_y": null,
            "padding": null,
            "right": null,
            "top": null,
            "visibility": null,
            "width": null
          }
        },
        "af72c69bf70a4057a3ac553219444a5a": {
          "model_module": "@jupyter-widgets/controls",
          "model_name": "DescriptionStyleModel",
          "model_module_version": "1.5.0",
          "state": {
            "_model_module": "@jupyter-widgets/controls",
            "_model_module_version": "1.5.0",
            "_model_name": "DescriptionStyleModel",
            "_view_count": null,
            "_view_module": "@jupyter-widgets/base",
            "_view_module_version": "1.2.0",
            "_view_name": "StyleView",
            "description_width": ""
          }
        },
        "943906c0e0734832b8ed4ce1feab8139": {
          "model_module": "@jupyter-widgets/base",
          "model_name": "LayoutModel",
          "model_module_version": "1.2.0",
          "state": {
            "_model_module": "@jupyter-widgets/base",
            "_model_module_version": "1.2.0",
            "_model_name": "LayoutModel",
            "_view_count": null,
            "_view_module": "@jupyter-widgets/base",
            "_view_module_version": "1.2.0",
            "_view_name": "LayoutView",
            "align_content": null,
            "align_items": null,
            "align_self": null,
            "border": null,
            "bottom": null,
            "display": null,
            "flex": null,
            "flex_flow": null,
            "grid_area": null,
            "grid_auto_columns": null,
            "grid_auto_flow": null,
            "grid_auto_rows": null,
            "grid_column": null,
            "grid_gap": null,
            "grid_row": null,
            "grid_template_areas": null,
            "grid_template_columns": null,
            "grid_template_rows": null,
            "height": null,
            "justify_content": null,
            "justify_items": null,
            "left": null,
            "margin": null,
            "max_height": null,
            "max_width": null,
            "min_height": null,
            "min_width": null,
            "object_fit": null,
            "object_position": null,
            "order": null,
            "overflow": null,
            "overflow_x": null,
            "overflow_y": null,
            "padding": null,
            "right": null,
            "top": null,
            "visibility": null,
            "width": null
          }
        },
        "a2c7e79e159d4bf8b7b6e7b2e7359fdc": {
          "model_module": "@jupyter-widgets/controls",
          "model_name": "ProgressStyleModel",
          "model_module_version": "1.5.0",
          "state": {
            "_model_module": "@jupyter-widgets/controls",
            "_model_module_version": "1.5.0",
            "_model_name": "ProgressStyleModel",
            "_view_count": null,
            "_view_module": "@jupyter-widgets/base",
            "_view_module_version": "1.2.0",
            "_view_name": "StyleView",
            "bar_color": null,
            "description_width": ""
          }
        },
        "4eb5d25febbb44a5800814adeb632a7a": {
          "model_module": "@jupyter-widgets/base",
          "model_name": "LayoutModel",
          "model_module_version": "1.2.0",
          "state": {
            "_model_module": "@jupyter-widgets/base",
            "_model_module_version": "1.2.0",
            "_model_name": "LayoutModel",
            "_view_count": null,
            "_view_module": "@jupyter-widgets/base",
            "_view_module_version": "1.2.0",
            "_view_name": "LayoutView",
            "align_content": null,
            "align_items": null,
            "align_self": null,
            "border": null,
            "bottom": null,
            "display": null,
            "flex": null,
            "flex_flow": null,
            "grid_area": null,
            "grid_auto_columns": null,
            "grid_auto_flow": null,
            "grid_auto_rows": null,
            "grid_column": null,
            "grid_gap": null,
            "grid_row": null,
            "grid_template_areas": null,
            "grid_template_columns": null,
            "grid_template_rows": null,
            "height": null,
            "justify_content": null,
            "justify_items": null,
            "left": null,
            "margin": null,
            "max_height": null,
            "max_width": null,
            "min_height": null,
            "min_width": null,
            "object_fit": null,
            "object_position": null,
            "order": null,
            "overflow": null,
            "overflow_x": null,
            "overflow_y": null,
            "padding": null,
            "right": null,
            "top": null,
            "visibility": null,
            "width": null
          }
        },
        "8411f0a5799b4b549984f8bff606fbb4": {
          "model_module": "@jupyter-widgets/controls",
          "model_name": "DescriptionStyleModel",
          "model_module_version": "1.5.0",
          "state": {
            "_model_module": "@jupyter-widgets/controls",
            "_model_module_version": "1.5.0",
            "_model_name": "DescriptionStyleModel",
            "_view_count": null,
            "_view_module": "@jupyter-widgets/base",
            "_view_module_version": "1.2.0",
            "_view_name": "StyleView",
            "description_width": ""
          }
        },
        "cb34854d86174e3da6f7a5c9b42f767f": {
          "model_module": "@jupyter-widgets/controls",
          "model_name": "HBoxModel",
          "model_module_version": "1.5.0",
          "state": {
            "_dom_classes": [],
            "_model_module": "@jupyter-widgets/controls",
            "_model_module_version": "1.5.0",
            "_model_name": "HBoxModel",
            "_view_count": null,
            "_view_module": "@jupyter-widgets/controls",
            "_view_module_version": "1.5.0",
            "_view_name": "HBoxView",
            "box_style": "",
            "children": [
              "IPY_MODEL_b85d8df580314db2865723414bbb818f",
              "IPY_MODEL_a8c9a3bb9ba24562bf6250474e836009",
              "IPY_MODEL_88ed203dbe2143439bba70395eff52a2"
            ],
            "layout": "IPY_MODEL_58b156c97885414b954bbb5604cee198"
          }
        },
        "b85d8df580314db2865723414bbb818f": {
          "model_module": "@jupyter-widgets/controls",
          "model_name": "HTMLModel",
          "model_module_version": "1.5.0",
          "state": {
            "_dom_classes": [],
            "_model_module": "@jupyter-widgets/controls",
            "_model_module_version": "1.5.0",
            "_model_name": "HTMLModel",
            "_view_count": null,
            "_view_module": "@jupyter-widgets/controls",
            "_view_module_version": "1.5.0",
            "_view_name": "HTMLView",
            "description": "",
            "description_tooltip": null,
            "layout": "IPY_MODEL_58deebd1c33d48a9b9fb4cdc02c3d75b",
            "placeholder": "​",
            "style": "IPY_MODEL_b9396c3fda7e46cc901988293de09961",
            "value": " 38%"
          }
        },
        "a8c9a3bb9ba24562bf6250474e836009": {
          "model_module": "@jupyter-widgets/controls",
          "model_name": "FloatProgressModel",
          "model_module_version": "1.5.0",
          "state": {
            "_dom_classes": [],
            "_model_module": "@jupyter-widgets/controls",
            "_model_module_version": "1.5.0",
            "_model_name": "FloatProgressModel",
            "_view_count": null,
            "_view_module": "@jupyter-widgets/controls",
            "_view_module_version": "1.5.0",
            "_view_name": "ProgressView",
            "bar_style": "danger",
            "description": "",
            "description_tooltip": null,
            "layout": "IPY_MODEL_570090d480174f7ba70c7517b434621f",
            "max": 100,
            "min": 0,
            "orientation": "horizontal",
            "style": "IPY_MODEL_0fa5f6786d934269b1ef9a0d146599dd",
            "value": 38
          }
        },
        "88ed203dbe2143439bba70395eff52a2": {
          "model_module": "@jupyter-widgets/controls",
          "model_name": "HTMLModel",
          "model_module_version": "1.5.0",
          "state": {
            "_dom_classes": [],
            "_model_module": "@jupyter-widgets/controls",
            "_model_module_version": "1.5.0",
            "_model_name": "HTMLModel",
            "_view_count": null,
            "_view_module": "@jupyter-widgets/controls",
            "_view_module_version": "1.5.0",
            "_view_name": "HTMLView",
            "description": "",
            "description_tooltip": null,
            "layout": "IPY_MODEL_0a57c5fa04794fe3a099c09d4cc32ead",
            "placeholder": "​",
            "style": "IPY_MODEL_3265b85c1f58406cb5ec1020b0427a9f",
            "value": " 38/100 [03:16&lt;05:11,  5.02s/it]"
          }
        },
        "58b156c97885414b954bbb5604cee198": {
          "model_module": "@jupyter-widgets/base",
          "model_name": "LayoutModel",
          "model_module_version": "1.2.0",
          "state": {
            "_model_module": "@jupyter-widgets/base",
            "_model_module_version": "1.2.0",
            "_model_name": "LayoutModel",
            "_view_count": null,
            "_view_module": "@jupyter-widgets/base",
            "_view_module_version": "1.2.0",
            "_view_name": "LayoutView",
            "align_content": null,
            "align_items": null,
            "align_self": null,
            "border": null,
            "bottom": null,
            "display": null,
            "flex": null,
            "flex_flow": null,
            "grid_area": null,
            "grid_auto_columns": null,
            "grid_auto_flow": null,
            "grid_auto_rows": null,
            "grid_column": null,
            "grid_gap": null,
            "grid_row": null,
            "grid_template_areas": null,
            "grid_template_columns": null,
            "grid_template_rows": null,
            "height": null,
            "justify_content": null,
            "justify_items": null,
            "left": null,
            "margin": null,
            "max_height": null,
            "max_width": null,
            "min_height": null,
            "min_width": null,
            "object_fit": null,
            "object_position": null,
            "order": null,
            "overflow": null,
            "overflow_x": null,
            "overflow_y": null,
            "padding": null,
            "right": null,
            "top": null,
            "visibility": null,
            "width": null
          }
        },
        "58deebd1c33d48a9b9fb4cdc02c3d75b": {
          "model_module": "@jupyter-widgets/base",
          "model_name": "LayoutModel",
          "model_module_version": "1.2.0",
          "state": {
            "_model_module": "@jupyter-widgets/base",
            "_model_module_version": "1.2.0",
            "_model_name": "LayoutModel",
            "_view_count": null,
            "_view_module": "@jupyter-widgets/base",
            "_view_module_version": "1.2.0",
            "_view_name": "LayoutView",
            "align_content": null,
            "align_items": null,
            "align_self": null,
            "border": null,
            "bottom": null,
            "display": null,
            "flex": null,
            "flex_flow": null,
            "grid_area": null,
            "grid_auto_columns": null,
            "grid_auto_flow": null,
            "grid_auto_rows": null,
            "grid_column": null,
            "grid_gap": null,
            "grid_row": null,
            "grid_template_areas": null,
            "grid_template_columns": null,
            "grid_template_rows": null,
            "height": null,
            "justify_content": null,
            "justify_items": null,
            "left": null,
            "margin": null,
            "max_height": null,
            "max_width": null,
            "min_height": null,
            "min_width": null,
            "object_fit": null,
            "object_position": null,
            "order": null,
            "overflow": null,
            "overflow_x": null,
            "overflow_y": null,
            "padding": null,
            "right": null,
            "top": null,
            "visibility": null,
            "width": null
          }
        },
        "b9396c3fda7e46cc901988293de09961": {
          "model_module": "@jupyter-widgets/controls",
          "model_name": "DescriptionStyleModel",
          "model_module_version": "1.5.0",
          "state": {
            "_model_module": "@jupyter-widgets/controls",
            "_model_module_version": "1.5.0",
            "_model_name": "DescriptionStyleModel",
            "_view_count": null,
            "_view_module": "@jupyter-widgets/base",
            "_view_module_version": "1.2.0",
            "_view_name": "StyleView",
            "description_width": ""
          }
        },
        "570090d480174f7ba70c7517b434621f": {
          "model_module": "@jupyter-widgets/base",
          "model_name": "LayoutModel",
          "model_module_version": "1.2.0",
          "state": {
            "_model_module": "@jupyter-widgets/base",
            "_model_module_version": "1.2.0",
            "_model_name": "LayoutModel",
            "_view_count": null,
            "_view_module": "@jupyter-widgets/base",
            "_view_module_version": "1.2.0",
            "_view_name": "LayoutView",
            "align_content": null,
            "align_items": null,
            "align_self": null,
            "border": null,
            "bottom": null,
            "display": null,
            "flex": null,
            "flex_flow": null,
            "grid_area": null,
            "grid_auto_columns": null,
            "grid_auto_flow": null,
            "grid_auto_rows": null,
            "grid_column": null,
            "grid_gap": null,
            "grid_row": null,
            "grid_template_areas": null,
            "grid_template_columns": null,
            "grid_template_rows": null,
            "height": null,
            "justify_content": null,
            "justify_items": null,
            "left": null,
            "margin": null,
            "max_height": null,
            "max_width": null,
            "min_height": null,
            "min_width": null,
            "object_fit": null,
            "object_position": null,
            "order": null,
            "overflow": null,
            "overflow_x": null,
            "overflow_y": null,
            "padding": null,
            "right": null,
            "top": null,
            "visibility": null,
            "width": null
          }
        },
        "0fa5f6786d934269b1ef9a0d146599dd": {
          "model_module": "@jupyter-widgets/controls",
          "model_name": "ProgressStyleModel",
          "model_module_version": "1.5.0",
          "state": {
            "_model_module": "@jupyter-widgets/controls",
            "_model_module_version": "1.5.0",
            "_model_name": "ProgressStyleModel",
            "_view_count": null,
            "_view_module": "@jupyter-widgets/base",
            "_view_module_version": "1.2.0",
            "_view_name": "StyleView",
            "bar_color": null,
            "description_width": ""
          }
        },
        "0a57c5fa04794fe3a099c09d4cc32ead": {
          "model_module": "@jupyter-widgets/base",
          "model_name": "LayoutModel",
          "model_module_version": "1.2.0",
          "state": {
            "_model_module": "@jupyter-widgets/base",
            "_model_module_version": "1.2.0",
            "_model_name": "LayoutModel",
            "_view_count": null,
            "_view_module": "@jupyter-widgets/base",
            "_view_module_version": "1.2.0",
            "_view_name": "LayoutView",
            "align_content": null,
            "align_items": null,
            "align_self": null,
            "border": null,
            "bottom": null,
            "display": null,
            "flex": null,
            "flex_flow": null,
            "grid_area": null,
            "grid_auto_columns": null,
            "grid_auto_flow": null,
            "grid_auto_rows": null,
            "grid_column": null,
            "grid_gap": null,
            "grid_row": null,
            "grid_template_areas": null,
            "grid_template_columns": null,
            "grid_template_rows": null,
            "height": null,
            "justify_content": null,
            "justify_items": null,
            "left": null,
            "margin": null,
            "max_height": null,
            "max_width": null,
            "min_height": null,
            "min_width": null,
            "object_fit": null,
            "object_position": null,
            "order": null,
            "overflow": null,
            "overflow_x": null,
            "overflow_y": null,
            "padding": null,
            "right": null,
            "top": null,
            "visibility": null,
            "width": null
          }
        },
        "3265b85c1f58406cb5ec1020b0427a9f": {
          "model_module": "@jupyter-widgets/controls",
          "model_name": "DescriptionStyleModel",
          "model_module_version": "1.5.0",
          "state": {
            "_model_module": "@jupyter-widgets/controls",
            "_model_module_version": "1.5.0",
            "_model_name": "DescriptionStyleModel",
            "_view_count": null,
            "_view_module": "@jupyter-widgets/base",
            "_view_module_version": "1.2.0",
            "_view_name": "StyleView",
            "description_width": ""
          }
        },
        "bac5715a95af42f79226916b33a383f2": {
          "model_module": "@jupyter-widgets/controls",
          "model_name": "HBoxModel",
          "model_module_version": "1.5.0",
          "state": {
            "_dom_classes": [],
            "_model_module": "@jupyter-widgets/controls",
            "_model_module_version": "1.5.0",
            "_model_name": "HBoxModel",
            "_view_count": null,
            "_view_module": "@jupyter-widgets/controls",
            "_view_module_version": "1.5.0",
            "_view_name": "HBoxView",
            "box_style": "",
            "children": [
              "IPY_MODEL_723734e4b6ab420ebb017b250c625491",
              "IPY_MODEL_fa51f4e6591546e6ac05fbbd7da914a3",
              "IPY_MODEL_035f47faf9614cc7871697d7752c2231"
            ],
            "layout": "IPY_MODEL_6d6d2d2bd5ae4c65aabe889b527c6fc1"
          }
        },
        "723734e4b6ab420ebb017b250c625491": {
          "model_module": "@jupyter-widgets/controls",
          "model_name": "HTMLModel",
          "model_module_version": "1.5.0",
          "state": {
            "_dom_classes": [],
            "_model_module": "@jupyter-widgets/controls",
            "_model_module_version": "1.5.0",
            "_model_name": "HTMLModel",
            "_view_count": null,
            "_view_module": "@jupyter-widgets/controls",
            "_view_module_version": "1.5.0",
            "_view_name": "HTMLView",
            "description": "",
            "description_tooltip": null,
            "layout": "IPY_MODEL_ea6b066db4b643239dc91ce86260d298",
            "placeholder": "​",
            "style": "IPY_MODEL_1f085c1c5d8d4a31a62056889c659d01",
            "value": " 37%"
          }
        },
        "fa51f4e6591546e6ac05fbbd7da914a3": {
          "model_module": "@jupyter-widgets/controls",
          "model_name": "FloatProgressModel",
          "model_module_version": "1.5.0",
          "state": {
            "_dom_classes": [],
            "_model_module": "@jupyter-widgets/controls",
            "_model_module_version": "1.5.0",
            "_model_name": "FloatProgressModel",
            "_view_count": null,
            "_view_module": "@jupyter-widgets/controls",
            "_view_module_version": "1.5.0",
            "_view_name": "ProgressView",
            "bar_style": "danger",
            "description": "",
            "description_tooltip": null,
            "layout": "IPY_MODEL_e55a6ce2b6794a5f96d31d632a3d4062",
            "max": 100,
            "min": 0,
            "orientation": "horizontal",
            "style": "IPY_MODEL_814b318ef2cc47cf91881316f7e2b1ad",
            "value": 37
          }
        },
        "035f47faf9614cc7871697d7752c2231": {
          "model_module": "@jupyter-widgets/controls",
          "model_name": "HTMLModel",
          "model_module_version": "1.5.0",
          "state": {
            "_dom_classes": [],
            "_model_module": "@jupyter-widgets/controls",
            "_model_module_version": "1.5.0",
            "_model_name": "HTMLModel",
            "_view_count": null,
            "_view_module": "@jupyter-widgets/controls",
            "_view_module_version": "1.5.0",
            "_view_name": "HTMLView",
            "description": "",
            "description_tooltip": null,
            "layout": "IPY_MODEL_b514172d8a914713ad830c548ff17389",
            "placeholder": "​",
            "style": "IPY_MODEL_259f73df0c4e466e88e6dec7551e51ca",
            "value": " 37/100 [03:10&lt;05:16,  5.02s/it]"
          }
        },
        "6d6d2d2bd5ae4c65aabe889b527c6fc1": {
          "model_module": "@jupyter-widgets/base",
          "model_name": "LayoutModel",
          "model_module_version": "1.2.0",
          "state": {
            "_model_module": "@jupyter-widgets/base",
            "_model_module_version": "1.2.0",
            "_model_name": "LayoutModel",
            "_view_count": null,
            "_view_module": "@jupyter-widgets/base",
            "_view_module_version": "1.2.0",
            "_view_name": "LayoutView",
            "align_content": null,
            "align_items": null,
            "align_self": null,
            "border": null,
            "bottom": null,
            "display": null,
            "flex": null,
            "flex_flow": null,
            "grid_area": null,
            "grid_auto_columns": null,
            "grid_auto_flow": null,
            "grid_auto_rows": null,
            "grid_column": null,
            "grid_gap": null,
            "grid_row": null,
            "grid_template_areas": null,
            "grid_template_columns": null,
            "grid_template_rows": null,
            "height": null,
            "justify_content": null,
            "justify_items": null,
            "left": null,
            "margin": null,
            "max_height": null,
            "max_width": null,
            "min_height": null,
            "min_width": null,
            "object_fit": null,
            "object_position": null,
            "order": null,
            "overflow": null,
            "overflow_x": null,
            "overflow_y": null,
            "padding": null,
            "right": null,
            "top": null,
            "visibility": null,
            "width": null
          }
        },
        "ea6b066db4b643239dc91ce86260d298": {
          "model_module": "@jupyter-widgets/base",
          "model_name": "LayoutModel",
          "model_module_version": "1.2.0",
          "state": {
            "_model_module": "@jupyter-widgets/base",
            "_model_module_version": "1.2.0",
            "_model_name": "LayoutModel",
            "_view_count": null,
            "_view_module": "@jupyter-widgets/base",
            "_view_module_version": "1.2.0",
            "_view_name": "LayoutView",
            "align_content": null,
            "align_items": null,
            "align_self": null,
            "border": null,
            "bottom": null,
            "display": null,
            "flex": null,
            "flex_flow": null,
            "grid_area": null,
            "grid_auto_columns": null,
            "grid_auto_flow": null,
            "grid_auto_rows": null,
            "grid_column": null,
            "grid_gap": null,
            "grid_row": null,
            "grid_template_areas": null,
            "grid_template_columns": null,
            "grid_template_rows": null,
            "height": null,
            "justify_content": null,
            "justify_items": null,
            "left": null,
            "margin": null,
            "max_height": null,
            "max_width": null,
            "min_height": null,
            "min_width": null,
            "object_fit": null,
            "object_position": null,
            "order": null,
            "overflow": null,
            "overflow_x": null,
            "overflow_y": null,
            "padding": null,
            "right": null,
            "top": null,
            "visibility": null,
            "width": null
          }
        },
        "1f085c1c5d8d4a31a62056889c659d01": {
          "model_module": "@jupyter-widgets/controls",
          "model_name": "DescriptionStyleModel",
          "model_module_version": "1.5.0",
          "state": {
            "_model_module": "@jupyter-widgets/controls",
            "_model_module_version": "1.5.0",
            "_model_name": "DescriptionStyleModel",
            "_view_count": null,
            "_view_module": "@jupyter-widgets/base",
            "_view_module_version": "1.2.0",
            "_view_name": "StyleView",
            "description_width": ""
          }
        },
        "e55a6ce2b6794a5f96d31d632a3d4062": {
          "model_module": "@jupyter-widgets/base",
          "model_name": "LayoutModel",
          "model_module_version": "1.2.0",
          "state": {
            "_model_module": "@jupyter-widgets/base",
            "_model_module_version": "1.2.0",
            "_model_name": "LayoutModel",
            "_view_count": null,
            "_view_module": "@jupyter-widgets/base",
            "_view_module_version": "1.2.0",
            "_view_name": "LayoutView",
            "align_content": null,
            "align_items": null,
            "align_self": null,
            "border": null,
            "bottom": null,
            "display": null,
            "flex": null,
            "flex_flow": null,
            "grid_area": null,
            "grid_auto_columns": null,
            "grid_auto_flow": null,
            "grid_auto_rows": null,
            "grid_column": null,
            "grid_gap": null,
            "grid_row": null,
            "grid_template_areas": null,
            "grid_template_columns": null,
            "grid_template_rows": null,
            "height": null,
            "justify_content": null,
            "justify_items": null,
            "left": null,
            "margin": null,
            "max_height": null,
            "max_width": null,
            "min_height": null,
            "min_width": null,
            "object_fit": null,
            "object_position": null,
            "order": null,
            "overflow": null,
            "overflow_x": null,
            "overflow_y": null,
            "padding": null,
            "right": null,
            "top": null,
            "visibility": null,
            "width": null
          }
        },
        "814b318ef2cc47cf91881316f7e2b1ad": {
          "model_module": "@jupyter-widgets/controls",
          "model_name": "ProgressStyleModel",
          "model_module_version": "1.5.0",
          "state": {
            "_model_module": "@jupyter-widgets/controls",
            "_model_module_version": "1.5.0",
            "_model_name": "ProgressStyleModel",
            "_view_count": null,
            "_view_module": "@jupyter-widgets/base",
            "_view_module_version": "1.2.0",
            "_view_name": "StyleView",
            "bar_color": null,
            "description_width": ""
          }
        },
        "b514172d8a914713ad830c548ff17389": {
          "model_module": "@jupyter-widgets/base",
          "model_name": "LayoutModel",
          "model_module_version": "1.2.0",
          "state": {
            "_model_module": "@jupyter-widgets/base",
            "_model_module_version": "1.2.0",
            "_model_name": "LayoutModel",
            "_view_count": null,
            "_view_module": "@jupyter-widgets/base",
            "_view_module_version": "1.2.0",
            "_view_name": "LayoutView",
            "align_content": null,
            "align_items": null,
            "align_self": null,
            "border": null,
            "bottom": null,
            "display": null,
            "flex": null,
            "flex_flow": null,
            "grid_area": null,
            "grid_auto_columns": null,
            "grid_auto_flow": null,
            "grid_auto_rows": null,
            "grid_column": null,
            "grid_gap": null,
            "grid_row": null,
            "grid_template_areas": null,
            "grid_template_columns": null,
            "grid_template_rows": null,
            "height": null,
            "justify_content": null,
            "justify_items": null,
            "left": null,
            "margin": null,
            "max_height": null,
            "max_width": null,
            "min_height": null,
            "min_width": null,
            "object_fit": null,
            "object_position": null,
            "order": null,
            "overflow": null,
            "overflow_x": null,
            "overflow_y": null,
            "padding": null,
            "right": null,
            "top": null,
            "visibility": null,
            "width": null
          }
        },
        "259f73df0c4e466e88e6dec7551e51ca": {
          "model_module": "@jupyter-widgets/controls",
          "model_name": "DescriptionStyleModel",
          "model_module_version": "1.5.0",
          "state": {
            "_model_module": "@jupyter-widgets/controls",
            "_model_module_version": "1.5.0",
            "_model_name": "DescriptionStyleModel",
            "_view_count": null,
            "_view_module": "@jupyter-widgets/base",
            "_view_module_version": "1.2.0",
            "_view_name": "StyleView",
            "description_width": ""
          }
        }
      }
    }
  },
  "cells": [
    {
      "cell_type": "markdown",
      "source": [
        "# 한국어 형태소 분석"
      ],
      "metadata": {
        "id": "6cfPM4haI-h4"
      }
    },
    {
      "cell_type": "code",
      "source": [
        "df = pd.read_csv(f\"{DATA_PATH}naver_review_train.csv\")\n",
        "df"
      ],
      "metadata": {
        "id": "JGwucsTcATWy",
        "colab": {
          "base_uri": "https://localhost:8080/",
          "height": 424
        },
        "outputId": "1bb027d2-2ef7-46b9-d30f-275e27a8cd55"
      },
      "execution_count": null,
      "outputs": [
        {
          "output_type": "execute_result",
          "data": {
            "text/plain": [
              "              id                                           document  label\n",
              "0        9976970                                아 더빙.. 진짜 짜증나네요 목소리      0\n",
              "1        3819312                  흠...포스터보고 초딩영화줄....오버연기조차 가볍지 않구나      1\n",
              "2       10265843                                  너무재밓었다그래서보는것을추천한다      0\n",
              "3        9045019                      교도소 이야기구먼 ..솔직히 재미는 없다..평점 조정      0\n",
              "4        6483659  사이몬페그의 익살스런 연기가 돋보였던 영화!스파이더맨에서 늙어보이기만 했던 커스틴 ...      1\n",
              "...          ...                                                ...    ...\n",
              "149995   6222902                                인간이 문제지.. 소는 뭔죄인가..      0\n",
              "149996   8549745                                      평점이 너무 낮아서...      1\n",
              "149997   9311800                    이게 뭐요? 한국인은 거들먹거리고 필리핀 혼혈은 착하다?      0\n",
              "149998   2376369                        청춘 영화의 최고봉.방황과 우울했던 날들의 자화상      1\n",
              "149999   9619869                           한국 영화 최초로 수간하는 내용이 담긴 영화      0\n",
              "\n",
              "[150000 rows x 3 columns]"
            ],
            "text/html": [
              "\n",
              "  <div id=\"df-c21fbf12-4e32-4f7d-a73f-168878325f08\">\n",
              "    <div class=\"colab-df-container\">\n",
              "      <div>\n",
              "<style scoped>\n",
              "    .dataframe tbody tr th:only-of-type {\n",
              "        vertical-align: middle;\n",
              "    }\n",
              "\n",
              "    .dataframe tbody tr th {\n",
              "        vertical-align: top;\n",
              "    }\n",
              "\n",
              "    .dataframe thead th {\n",
              "        text-align: right;\n",
              "    }\n",
              "</style>\n",
              "<table border=\"1\" class=\"dataframe\">\n",
              "  <thead>\n",
              "    <tr style=\"text-align: right;\">\n",
              "      <th></th>\n",
              "      <th>id</th>\n",
              "      <th>document</th>\n",
              "      <th>label</th>\n",
              "    </tr>\n",
              "  </thead>\n",
              "  <tbody>\n",
              "    <tr>\n",
              "      <th>0</th>\n",
              "      <td>9976970</td>\n",
              "      <td>아 더빙.. 진짜 짜증나네요 목소리</td>\n",
              "      <td>0</td>\n",
              "    </tr>\n",
              "    <tr>\n",
              "      <th>1</th>\n",
              "      <td>3819312</td>\n",
              "      <td>흠...포스터보고 초딩영화줄....오버연기조차 가볍지 않구나</td>\n",
              "      <td>1</td>\n",
              "    </tr>\n",
              "    <tr>\n",
              "      <th>2</th>\n",
              "      <td>10265843</td>\n",
              "      <td>너무재밓었다그래서보는것을추천한다</td>\n",
              "      <td>0</td>\n",
              "    </tr>\n",
              "    <tr>\n",
              "      <th>3</th>\n",
              "      <td>9045019</td>\n",
              "      <td>교도소 이야기구먼 ..솔직히 재미는 없다..평점 조정</td>\n",
              "      <td>0</td>\n",
              "    </tr>\n",
              "    <tr>\n",
              "      <th>4</th>\n",
              "      <td>6483659</td>\n",
              "      <td>사이몬페그의 익살스런 연기가 돋보였던 영화!스파이더맨에서 늙어보이기만 했던 커스틴 ...</td>\n",
              "      <td>1</td>\n",
              "    </tr>\n",
              "    <tr>\n",
              "      <th>...</th>\n",
              "      <td>...</td>\n",
              "      <td>...</td>\n",
              "      <td>...</td>\n",
              "    </tr>\n",
              "    <tr>\n",
              "      <th>149995</th>\n",
              "      <td>6222902</td>\n",
              "      <td>인간이 문제지.. 소는 뭔죄인가..</td>\n",
              "      <td>0</td>\n",
              "    </tr>\n",
              "    <tr>\n",
              "      <th>149996</th>\n",
              "      <td>8549745</td>\n",
              "      <td>평점이 너무 낮아서...</td>\n",
              "      <td>1</td>\n",
              "    </tr>\n",
              "    <tr>\n",
              "      <th>149997</th>\n",
              "      <td>9311800</td>\n",
              "      <td>이게 뭐요? 한국인은 거들먹거리고 필리핀 혼혈은 착하다?</td>\n",
              "      <td>0</td>\n",
              "    </tr>\n",
              "    <tr>\n",
              "      <th>149998</th>\n",
              "      <td>2376369</td>\n",
              "      <td>청춘 영화의 최고봉.방황과 우울했던 날들의 자화상</td>\n",
              "      <td>1</td>\n",
              "    </tr>\n",
              "    <tr>\n",
              "      <th>149999</th>\n",
              "      <td>9619869</td>\n",
              "      <td>한국 영화 최초로 수간하는 내용이 담긴 영화</td>\n",
              "      <td>0</td>\n",
              "    </tr>\n",
              "  </tbody>\n",
              "</table>\n",
              "<p>150000 rows × 3 columns</p>\n",
              "</div>\n",
              "      <button class=\"colab-df-convert\" onclick=\"convertToInteractive('df-c21fbf12-4e32-4f7d-a73f-168878325f08')\"\n",
              "              title=\"Convert this dataframe to an interactive table.\"\n",
              "              style=\"display:none;\">\n",
              "        \n",
              "  <svg xmlns=\"http://www.w3.org/2000/svg\" height=\"24px\"viewBox=\"0 0 24 24\"\n",
              "       width=\"24px\">\n",
              "    <path d=\"M0 0h24v24H0V0z\" fill=\"none\"/>\n",
              "    <path d=\"M18.56 5.44l.94 2.06.94-2.06 2.06-.94-2.06-.94-.94-2.06-.94 2.06-2.06.94zm-11 1L8.5 8.5l.94-2.06 2.06-.94-2.06-.94L8.5 2.5l-.94 2.06-2.06.94zm10 10l.94 2.06.94-2.06 2.06-.94-2.06-.94-.94-2.06-.94 2.06-2.06.94z\"/><path d=\"M17.41 7.96l-1.37-1.37c-.4-.4-.92-.59-1.43-.59-.52 0-1.04.2-1.43.59L10.3 9.45l-7.72 7.72c-.78.78-.78 2.05 0 2.83L4 21.41c.39.39.9.59 1.41.59.51 0 1.02-.2 1.41-.59l7.78-7.78 2.81-2.81c.8-.78.8-2.07 0-2.86zM5.41 20L4 18.59l7.72-7.72 1.47 1.35L5.41 20z\"/>\n",
              "  </svg>\n",
              "      </button>\n",
              "      \n",
              "  <style>\n",
              "    .colab-df-container {\n",
              "      display:flex;\n",
              "      flex-wrap:wrap;\n",
              "      gap: 12px;\n",
              "    }\n",
              "\n",
              "    .colab-df-convert {\n",
              "      background-color: #E8F0FE;\n",
              "      border: none;\n",
              "      border-radius: 50%;\n",
              "      cursor: pointer;\n",
              "      display: none;\n",
              "      fill: #1967D2;\n",
              "      height: 32px;\n",
              "      padding: 0 0 0 0;\n",
              "      width: 32px;\n",
              "    }\n",
              "\n",
              "    .colab-df-convert:hover {\n",
              "      background-color: #E2EBFA;\n",
              "      box-shadow: 0px 1px 2px rgba(60, 64, 67, 0.3), 0px 1px 3px 1px rgba(60, 64, 67, 0.15);\n",
              "      fill: #174EA6;\n",
              "    }\n",
              "\n",
              "    [theme=dark] .colab-df-convert {\n",
              "      background-color: #3B4455;\n",
              "      fill: #D2E3FC;\n",
              "    }\n",
              "\n",
              "    [theme=dark] .colab-df-convert:hover {\n",
              "      background-color: #434B5C;\n",
              "      box-shadow: 0px 1px 3px 1px rgba(0, 0, 0, 0.15);\n",
              "      filter: drop-shadow(0px 1px 2px rgba(0, 0, 0, 0.3));\n",
              "      fill: #FFFFFF;\n",
              "    }\n",
              "  </style>\n",
              "\n",
              "      <script>\n",
              "        const buttonEl =\n",
              "          document.querySelector('#df-c21fbf12-4e32-4f7d-a73f-168878325f08 button.colab-df-convert');\n",
              "        buttonEl.style.display =\n",
              "          google.colab.kernel.accessAllowed ? 'block' : 'none';\n",
              "\n",
              "        async function convertToInteractive(key) {\n",
              "          const element = document.querySelector('#df-c21fbf12-4e32-4f7d-a73f-168878325f08');\n",
              "          const dataTable =\n",
              "            await google.colab.kernel.invokeFunction('convertToInteractive',\n",
              "                                                     [key], {});\n",
              "          if (!dataTable) return;\n",
              "\n",
              "          const docLinkHtml = 'Like what you see? Visit the ' +\n",
              "            '<a target=\"_blank\" href=https://colab.research.google.com/notebooks/data_table.ipynb>data table notebook</a>'\n",
              "            + ' to learn more about interactive tables.';\n",
              "          element.innerHTML = '';\n",
              "          dataTable['output_type'] = 'display_data';\n",
              "          await google.colab.output.renderOutput(dataTable, element);\n",
              "          const docLink = document.createElement('div');\n",
              "          docLink.innerHTML = docLinkHtml;\n",
              "          element.appendChild(docLink);\n",
              "        }\n",
              "      </script>\n",
              "    </div>\n",
              "  </div>\n",
              "  "
            ]
          },
          "metadata": {},
          "execution_count": 44
        }
      ]
    },
    {
      "cell_type": "code",
      "source": [
        "df.info()"
      ],
      "metadata": {
        "id": "21KKeVu-ATRM",
        "colab": {
          "base_uri": "https://localhost:8080/"
        },
        "outputId": "1de6a3d5-d751-43b2-edb5-0cc5e946cec0"
      },
      "execution_count": null,
      "outputs": [
        {
          "output_type": "stream",
          "name": "stdout",
          "text": [
            "<class 'pandas.core.frame.DataFrame'>\n",
            "RangeIndex: 150000 entries, 0 to 149999\n",
            "Data columns (total 3 columns):\n",
            " #   Column    Non-Null Count   Dtype \n",
            "---  ------    --------------   ----- \n",
            " 0   id        150000 non-null  int64 \n",
            " 1   document  149995 non-null  object\n",
            " 2   label     150000 non-null  int64 \n",
            "dtypes: int64(2), object(1)\n",
            "memory usage: 3.4+ MB\n"
          ]
        }
      ]
    },
    {
      "cell_type": "code",
      "source": [
        "df = df.dropna().reset_index(drop=True)\n",
        "df.info()"
      ],
      "metadata": {
        "id": "s3BI-lLEbA97",
        "colab": {
          "base_uri": "https://localhost:8080/"
        },
        "outputId": "207ab96c-4dcc-4f8b-d54c-b0d78dd07a21"
      },
      "execution_count": null,
      "outputs": [
        {
          "output_type": "stream",
          "name": "stdout",
          "text": [
            "<class 'pandas.core.frame.DataFrame'>\n",
            "RangeIndex: 149995 entries, 0 to 149994\n",
            "Data columns (total 3 columns):\n",
            " #   Column    Non-Null Count   Dtype \n",
            "---  ------    --------------   ----- \n",
            " 0   id        149995 non-null  int64 \n",
            " 1   document  149995 non-null  object\n",
            " 2   label     149995 non-null  int64 \n",
            "dtypes: int64(2), object(1)\n",
            "memory usage: 3.4+ MB\n"
          ]
        }
      ]
    },
    {
      "cell_type": "markdown",
      "source": [
        "## kiwi 라이브러리\n"
      ],
      "metadata": {
        "id": "st8Bj9LOoPWJ"
      }
    },
    {
      "cell_type": "code",
      "source": [
        "!pip install kiwipiepy"
      ],
      "metadata": {
        "colab": {
          "base_uri": "https://localhost:8080/"
        },
        "id": "nQGzBsZqn1hr",
        "outputId": "7b06e05f-6815-468c-e0b7-a319c94357e7"
      },
      "execution_count": null,
      "outputs": [
        {
          "output_type": "stream",
          "name": "stdout",
          "text": [
            "Looking in indexes: https://pypi.org/simple, https://us-python.pkg.dev/colab-wheels/public/simple/\n",
            "Requirement already satisfied: kiwipiepy in /usr/local/lib/python3.7/dist-packages (0.14.0)\n",
            "Requirement already satisfied: dataclasses in /usr/local/lib/python3.7/dist-packages (from kiwipiepy) (0.6)\n",
            "Requirement already satisfied: kiwipiepy-model~=0.14 in /usr/local/lib/python3.7/dist-packages (from kiwipiepy) (0.14.0)\n"
          ]
        }
      ]
    },
    {
      "cell_type": "code",
      "source": [
        "from kiwipiepy import Kiwi\n",
        "\n",
        "kiwi = Kiwi()\n",
        "kiwi.prepare() # 분석 준비"
      ],
      "metadata": {
        "id": "bK4jZz9ooets"
      },
      "execution_count": null,
      "outputs": []
    },
    {
      "cell_type": "code",
      "source": [
        "# 첫번째 텍스트 담기\n",
        "text = df[\"document\"][0]\n",
        "text"
      ],
      "metadata": {
        "colab": {
          "base_uri": "https://localhost:8080/",
          "height": 35
        },
        "id": "FgGLCmgIo63W",
        "outputId": "86421285-7da3-40f1-b169-5eb89f03d274"
      },
      "execution_count": null,
      "outputs": [
        {
          "output_type": "execute_result",
          "data": {
            "text/plain": [
              "'아 더빙.. 진짜 짜증나네요 목소리'"
            ],
            "application/vnd.google.colaboratory.intrinsic+json": {
              "type": "string"
            }
          },
          "metadata": {},
          "execution_count": 49
        }
      ]
    },
    {
      "cell_type": "code",
      "source": [
        "result = kiwi.analyze(text)\n",
        "result"
      ],
      "metadata": {
        "colab": {
          "base_uri": "https://localhost:8080/"
        },
        "id": "LLygO5z2pELI",
        "outputId": "2052975b-ae53-4396-89fd-7e9056cd5cc1"
      },
      "execution_count": null,
      "outputs": [
        {
          "output_type": "execute_result",
          "data": {
            "text/plain": [
              "[([Token(form='아', tag='IC', start=0, len=1),\n",
              "   Token(form='더빙', tag='NNG', start=2, len=2),\n",
              "   Token(form='..', tag='SF', start=4, len=2),\n",
              "   Token(form='진짜', tag='MAG', start=7, len=2),\n",
              "   Token(form='짜증', tag='NNG', start=10, len=2),\n",
              "   Token(form='나', tag='VV', start=12, len=1),\n",
              "   Token(form='네요', tag='EF', start=13, len=2),\n",
              "   Token(form='목소리', tag='NNG', start=16, len=3)],\n",
              "  -70.44538879394531)]"
            ]
          },
          "metadata": {},
          "execution_count": 50
        }
      ]
    },
    {
      "cell_type": "code",
      "source": [
        "# 품사정보를 잘 가져와야함\n",
        "result[0][0]"
      ],
      "metadata": {
        "colab": {
          "base_uri": "https://localhost:8080/"
        },
        "id": "JN7ApyZspKJ2",
        "outputId": "a6405752-0374-4a27-8e3a-32bc65ee93dd"
      },
      "execution_count": null,
      "outputs": [
        {
          "output_type": "execute_result",
          "data": {
            "text/plain": [
              "[Token(form='아', tag='IC', start=0, len=1),\n",
              " Token(form='더빙', tag='NNG', start=2, len=2),\n",
              " Token(form='..', tag='SF', start=4, len=2),\n",
              " Token(form='진짜', tag='MAG', start=7, len=2),\n",
              " Token(form='짜증', tag='NNG', start=10, len=2),\n",
              " Token(form='나', tag='VV', start=12, len=1),\n",
              " Token(form='네요', tag='EF', start=13, len=2),\n",
              " Token(form='목소리', tag='NNG', start=16, len=3)]"
            ]
          },
          "metadata": {},
          "execution_count": 51
        }
      ]
    },
    {
      "cell_type": "code",
      "source": [
        "lst = df[\"document\"][:2].tolist()\n",
        "lst"
      ],
      "metadata": {
        "colab": {
          "base_uri": "https://localhost:8080/"
        },
        "id": "sW9E8244p2zK",
        "outputId": "ce6884a3-9ee5-47ab-9ec0-e176cd30d606"
      },
      "execution_count": null,
      "outputs": [
        {
          "output_type": "execute_result",
          "data": {
            "text/plain": [
              "['아 더빙.. 진짜 짜증나네요 목소리', '흠...포스터보고 초딩영화줄....오버연기조차 가볍지 않구나']"
            ]
          },
          "metadata": {},
          "execution_count": 52
        }
      ]
    },
    {
      "cell_type": "code",
      "source": [
        "result = kiwi.analyze(lst) # 리스트를 넣으면 제너레이터 객체로 반환되어서 for문을 통해 꺼낼수있다.\n",
        "result"
      ],
      "metadata": {
        "colab": {
          "base_uri": "https://localhost:8080/"
        },
        "id": "0VTOXo2Op_dA",
        "outputId": "f8b08139-0c39-4ece-fc11-ff502fe55b14"
      },
      "execution_count": null,
      "outputs": [
        {
          "output_type": "execute_result",
          "data": {
            "text/plain": [
              "<kiwipiepy._ResIter at 0x7f9dd8411f10>"
            ]
          },
          "metadata": {},
          "execution_count": 53
        }
      ]
    },
    {
      "cell_type": "code",
      "source": [
        "for tokens in result:\n",
        "    print(tokens[0][0])"
      ],
      "metadata": {
        "colab": {
          "base_uri": "https://localhost:8080/"
        },
        "id": "3bZSApAjqKRl",
        "outputId": "47b7538e-ade7-46e1-e3fa-2446b25ad9ab"
      },
      "execution_count": null,
      "outputs": [
        {
          "output_type": "stream",
          "name": "stdout",
          "text": [
            "[Token(form='아', tag='IC', start=0, len=1), Token(form='더빙', tag='NNG', start=2, len=2), Token(form='..', tag='SF', start=4, len=2), Token(form='진짜', tag='MAG', start=7, len=2), Token(form='짜증', tag='NNG', start=10, len=2), Token(form='나', tag='VV', start=12, len=1), Token(form='네요', tag='EF', start=13, len=2), Token(form='목소리', tag='NNG', start=16, len=3)]\n",
            "[Token(form='흠', tag='IC', start=0, len=1), Token(form='...', tag='SF', start=1, len=3), Token(form='포스터', tag='NNG', start=4, len=3), Token(form='보', tag='VV', start=7, len=1), Token(form='고', tag='EC', start=8, len=1), Token(form='초딩', tag='NNP', start=10, len=2), Token(form='영화', tag='NNG', start=12, len=2), Token(form='줄', tag='NNG', start=14, len=1), Token(form='....', tag='SF', start=15, len=4), Token(form='오버', tag='NNG', start=19, len=2), Token(form='연기', tag='NNG', start=21, len=2), Token(form='조차', tag='JX', start=23, len=2), Token(form='가볍', tag='VA-I', start=26, len=2), Token(form='지', tag='EC', start=28, len=1), Token(form='않', tag='VX', start=30, len=1), Token(form='구나', tag='EC', start=31, len=2)]\n"
          ]
        }
      ]
    },
    {
      "cell_type": "code",
      "source": [
        "# 명사,동사,형용사만 꺼내보자(전처리)\n",
        "lst = df[\"document\"].tolist()\n",
        "gen = kiwi.analyze(lst)\n",
        "train = [] # 토큰화된것을 담을 리스트\n",
        "\n",
        "for tokens in tqdm(gen,total=len(lst)): # 데이터가 너무 많아 오래걸리므로 tqdm처리, 제너레이터는 길이를 알수 없으므로 퍼센트 표시불가, 그래서 total옵션으로 리스트의 길이를 준다.\n",
        "    token = [token.form for token in tokens[0][0] if token.tag[0] in \"NVJ\"] # 명사,동사,형용사 tag에 해당된 토큰의 form만 골라줌\n",
        "    train.append(token)"
      ],
      "metadata": {
        "colab": {
          "base_uri": "https://localhost:8080/",
          "height": 49,
          "referenced_widgets": [
            "ecdc10d3407e4c2fbc3aa5e7bea9fa2a",
            "9c0f1808fc814bd8aad2d101a5fca0a8",
            "d22f9ad22e754151bd5ff436ce94f321",
            "dfe8d1ab46d5494bac608db448bd818d",
            "4f17c9fab8be443cbc90801fc2d3f853",
            "7c02c8f7de35469084a247847e75c5fd",
            "969124ea10df482fbe7647d4f4664ba7",
            "899ce91b85eb4eff9803aab660c6097e",
            "99bcb271e52b4483860838a8e5631a06",
            "0994db6797aa49d593269733a5f40457",
            "c5e2d92596dc4d52acb3387ffe4efcb1"
          ]
        },
        "id": "FS4pbIExqUr7",
        "outputId": "989bc6bc-bdba-43b0-83e6-fee03ee66662"
      },
      "execution_count": null,
      "outputs": [
        {
          "output_type": "display_data",
          "data": {
            "text/plain": [
              "  0%|          | 0/149995 [00:00<?, ?it/s]"
            ],
            "application/vnd.jupyter.widget-view+json": {
              "version_major": 2,
              "version_minor": 0,
              "model_id": "ecdc10d3407e4c2fbc3aa5e7bea9fa2a"
            }
          },
          "metadata": {}
        }
      ]
    },
    {
      "cell_type": "markdown",
      "source": [
        "- 어휘집만들기"
      ],
      "metadata": {
        "id": "KpLEFleQuM5d"
      }
    },
    {
      "cell_type": "code",
      "source": [
        "vocab = build_vocab_from_iterator(train,specials=[\"<pad>\",\"<unk>\"])\n",
        "vocab.set_default_index(vocab[\"<unk>\"]) # 사전에 없는 문자가 오면 1로 바꾸겠다"
      ],
      "metadata": {
        "id": "0fLARBozt_Gf"
      },
      "execution_count": null,
      "outputs": []
    },
    {
      "cell_type": "code",
      "source": [
        "len(vocab)"
      ],
      "metadata": {
        "colab": {
          "base_uri": "https://localhost:8080/"
        },
        "id": "DlNHxNRqt_EO",
        "outputId": "fe486be1-6966-41e6-dbce-6c6d2f4bdbdf"
      },
      "execution_count": null,
      "outputs": [
        {
          "output_type": "execute_result",
          "data": {
            "text/plain": [
              "42830"
            ]
          },
          "metadata": {},
          "execution_count": 57
        }
      ]
    },
    {
      "cell_type": "markdown",
      "source": [
        "- 정수 인코딩"
      ],
      "metadata": {
        "id": "NNIaAh27uret"
      }
    },
    {
      "cell_type": "code",
      "source": [
        "train = [vocab(text) for text in train]\n",
        "len(train)"
      ],
      "metadata": {
        "colab": {
          "base_uri": "https://localhost:8080/"
        },
        "id": "GNAuUp2h3S80",
        "outputId": "f4ddb254-3c0f-4ed4-a2f7-531fef9ade70"
      },
      "execution_count": null,
      "outputs": [
        {
          "output_type": "execute_result",
          "data": {
            "text/plain": [
              "149995"
            ]
          },
          "metadata": {},
          "execution_count": 58
        }
      ]
    },
    {
      "cell_type": "markdown",
      "source": [
        "- 전체길이 맞추기"
      ],
      "metadata": {
        "id": "48VPx6Te9iVa"
      }
    },
    {
      "cell_type": "code",
      "source": [
        "max_len = max( len(lst) for lst in train)\n",
        "max_len"
      ],
      "metadata": {
        "colab": {
          "base_uri": "https://localhost:8080/"
        },
        "id": "klNlfRsX9kKi",
        "outputId": "a8c4722b-5803-46a1-9449-322f8021c64b"
      },
      "execution_count": null,
      "outputs": [
        {
          "output_type": "execute_result",
          "data": {
            "text/plain": [
              "72"
            ]
          },
          "metadata": {},
          "execution_count": 59
        }
      ]
    },
    {
      "cell_type": "code",
      "source": [
        "train = [ lst + [0] * (max_len - len(lst)) if len(lst) < max_len else lst for lst in train]\n",
        "train = np.array(train)\n",
        "train.shape"
      ],
      "metadata": {
        "colab": {
          "base_uri": "https://localhost:8080/"
        },
        "id": "Phhhe1nR9tCB",
        "outputId": "43997e54-5d17-41db-e0d2-60be04ef7f9a"
      },
      "execution_count": null,
      "outputs": [
        {
          "output_type": "execute_result",
          "data": {
            "text/plain": [
              "(149995, 72)"
            ]
          },
          "metadata": {},
          "execution_count": 60
        }
      ]
    },
    {
      "cell_type": "code",
      "source": [
        "target = df[\"label\"].to_numpy().reshape(-1,1)\n",
        "target.shape"
      ],
      "metadata": {
        "colab": {
          "base_uri": "https://localhost:8080/"
        },
        "id": "5i54PtYO9y6J",
        "outputId": "9aff4860-366a-4204-b0ed-4a1c18b48fc9"
      },
      "execution_count": null,
      "outputs": [
        {
          "output_type": "execute_result",
          "data": {
            "text/plain": [
              "(149995, 1)"
            ]
          },
          "metadata": {},
          "execution_count": 61
        }
      ]
    },
    {
      "cell_type": "markdown",
      "source": [
        "# 데이터셋 만들기"
      ],
      "metadata": {
        "id": "1b6p1CPf97yx"
      }
    },
    {
      "cell_type": "code",
      "source": [
        "class Review_Ko_Dataset(torch.utils.data.Dataset):\n",
        "    def __init__(self,x,y=None):\n",
        "        self.x = x\n",
        "        self.y = y\n",
        "    def __len__(self):\n",
        "        return self.x.shape[0]\n",
        "    def __getitem__(self,idx):\n",
        "        item = {}\n",
        "        item[\"x\"] = torch.LongTensor(self.x[idx])\n",
        "        if self.y is not None:\n",
        "            item[\"y\"] = torch.Tensor(self.y[idx])\n",
        "        return item"
      ],
      "metadata": {
        "id": "HVl_lPdx97kC"
      },
      "execution_count": null,
      "outputs": []
    },
    {
      "cell_type": "code",
      "source": [
        "dt = Review_Ko_Dataset(train,target)\n",
        "dl = torch.utils.data.DataLoader(dt,batch_size=2,shuffle=False)\n",
        "batch = next(iter(dl))\n",
        "batch"
      ],
      "metadata": {
        "colab": {
          "base_uri": "https://localhost:8080/"
        },
        "id": "NWNrxiel97hq",
        "outputId": "e1631397-3a2d-4640-bc6e-e45260e782c9"
      },
      "execution_count": null,
      "outputs": [
        {
          "output_type": "execute_result",
          "data": {
            "text/plain": [
              "{'x': tensor([[ 346,  138,   12,  469,    0,    0,    0,    0,    0,    0,    0,    0,\n",
              "             0,    0,    0,    0,    0,    0,    0,    0,    0,    0,    0,    0,\n",
              "             0,    0,    0,    0,    0,    0,    0,    0,    0,    0,    0,    0,\n",
              "             0,    0,    0,    0,    0,    0,    0,    0,    0,    0,    0,    0,\n",
              "             0,    0,    0,    0,    0,    0,    0,    0,    0,    0,    0,    0,\n",
              "             0,    0,    0,    0,    0,    0,    0,    0,    0,    0,    0,    0],\n",
              "         [ 321,    4,  434,    3,   90, 1078,   34,  533,  478,   31,    0,    0,\n",
              "             0,    0,    0,    0,    0,    0,    0,    0,    0,    0,    0,    0,\n",
              "             0,    0,    0,    0,    0,    0,    0,    0,    0,    0,    0,    0,\n",
              "             0,    0,    0,    0,    0,    0,    0,    0,    0,    0,    0,    0,\n",
              "             0,    0,    0,    0,    0,    0,    0,    0,    0,    0,    0,    0,\n",
              "             0,    0,    0,    0,    0,    0,    0,    0,    0,    0,    0,    0]]),\n",
              " 'y': tensor([[0.],\n",
              "         [1.]])}"
            ]
          },
          "metadata": {},
          "execution_count": 64
        }
      ]
    },
    {
      "cell_type": "code",
      "source": [
        "emb_layer = torch.nn.Embedding(len(vocab),4)\n",
        "x = emb_layer(batch[\"x\"])\n",
        "x.shape"
      ],
      "metadata": {
        "colab": {
          "base_uri": "https://localhost:8080/"
        },
        "id": "xxGqSLwM97fX",
        "outputId": "ba7ff799-5ca1-4c0e-e51b-e60ea831e999"
      },
      "execution_count": null,
      "outputs": [
        {
          "output_type": "execute_result",
          "data": {
            "text/plain": [
              "torch.Size([2, 72, 4])"
            ]
          },
          "metadata": {},
          "execution_count": 65
        }
      ]
    },
    {
      "cell_type": "code",
      "source": [
        "class Conv1dModel(torch.nn.Module):\n",
        "    def __init__(self,vocab_size,embedding_dim): # 임베딩을 하기위한 vocab_size\n",
        "        super().__init__()\n",
        "        self.emb_layer = torch.nn.Embedding(vocab_size,embedding_dim)\n",
        "        self.seq = torch.nn.Sequential(\n",
        "            torch.nn.Conv1d(in_channels=embedding_dim,out_channels=embedding_dim*2,kernel_size=3), # 아웃풋 피쳐 2배\n",
        "            torch.nn.ReLU(),\n",
        "            torch.nn.MaxPool1d(2),\n",
        "            torch.nn.Conv1d(in_channels=embedding_dim*2,out_channels=embedding_dim*4,kernel_size=3), # 아웃풋 피쳐 2배를 줘서 입력을 똑같이 2배\n",
        "            torch.nn.ReLU(),\n",
        "            torch.nn.MaxPool1d(2),\n",
        "            torch.nn.AdaptiveAvgPool1d(1),\n",
        "            torch.nn.Flatten(), # 배치차원을 제외시켜 평평하게 만듬\n",
        "            torch.nn.Linear(embedding_dim*4,1) # 9번째 줄 아웃풋 4배 똑같이 하고, 1을 예측\n",
        "\n",
        "        )\n",
        "\n",
        "    def forward(self,x):\n",
        "        x = self.emb_layer(x)\n",
        "        x = x.permute(0,2,1)\n",
        "        return self.seq(x)"
      ],
      "metadata": {
        "id": "EVjMJQ7e97c8"
      },
      "execution_count": null,
      "outputs": []
    },
    {
      "cell_type": "code",
      "source": [
        "model = Conv1dModel(len(vocab),128)\n",
        "model(batch[\"x\"])"
      ],
      "metadata": {
        "colab": {
          "base_uri": "https://localhost:8080/"
        },
        "id": "XSdHcGpa97aZ",
        "outputId": "aac3b09f-07b0-418a-be2a-a5e799ed549a"
      },
      "execution_count": null,
      "outputs": [
        {
          "output_type": "execute_result",
          "data": {
            "text/plain": [
              "tensor([[-0.1847],\n",
              "        [-0.1722]], grad_fn=<AddmmBackward0>)"
            ]
          },
          "metadata": {},
          "execution_count": 67
        }
      ]
    },
    {
      "cell_type": "code",
      "source": [
        "def train_loop(dataloader,model,loss_fn,optimizer,device):\n",
        "    epoch_loss = 0 # 미니배치별에 대한 loss들의 평균\n",
        "    model.train()  # 학습모드\n",
        "    for batch in dataloader:\n",
        "        pred = model(batch[\"x\"].to(device))\n",
        "        #pred = pred.squeeze()\n",
        "        loss = loss_fn(pred,batch[\"y\"].to(device))\n",
        "\n",
        "        optimizer.zero_grad()\n",
        "        loss.backward() # 손실에 대한 반영\n",
        "        optimizer.step()\n",
        "\n",
        "        epoch_loss += loss.item()\n",
        "\n",
        "    epoch_loss /= len(dataloader)\n",
        "    \n",
        "    return epoch_loss"
      ],
      "metadata": {
        "id": "AIGDu_oB-82g"
      },
      "execution_count": null,
      "outputs": []
    },
    {
      "cell_type": "code",
      "source": [
        "@torch.no_grad()\n",
        "def test_loop(dataloader,model,loss_fn,device):\n",
        "    epoch_loss = 0  # 미니배치별에 대한 loss들의 평균\n",
        "    model.eval()    # 평가모드\n",
        "\n",
        "    pred_list = [] # 내보내야할 예측값\n",
        "    for batch in dataloader:\n",
        "        pred = model(batch[\"x\"].to(device))\n",
        "\n",
        "        # y값이 None일경우\n",
        "        if batch.get(\"y\") is not None:\n",
        "            loss = loss_fn(pred,batch[\"y\"].to(device))\n",
        "            epoch_loss += loss.item()\n",
        "\n",
        "        pred = pred.to(\"cpu\").numpy()\n",
        "        pred_list.append(pred)\n",
        "\n",
        "    epoch_loss /= len(dataloader)\n",
        "\n",
        "    pred = np.concatenate(pred_list)\n",
        "    return epoch_loss,pred"
      ],
      "metadata": {
        "id": "r_RA5R5I-80I"
      },
      "execution_count": null,
      "outputs": []
    },
    {
      "cell_type": "code",
      "source": [
        "n_splits = 5\n",
        "vocab_size = len(vocab)\n",
        "embedding_dim = 4\n",
        "batch_size = 128\n",
        "epochs = 100\n",
        "loss_fn = torch.nn.BCEWithLogitsLoss()"
      ],
      "metadata": {
        "id": "M7M2MJn5-8yY"
      },
      "execution_count": null,
      "outputs": []
    },
    {
      "cell_type": "code",
      "source": [
        "from sklearn.metrics import accuracy_score\n",
        "from sklearn.model_selection import KFold\n",
        "cv = KFold(n_splits=n_splits,shuffle=True, random_state=SEED)"
      ],
      "metadata": {
        "id": "GVpYXy0W-8vx"
      },
      "execution_count": null,
      "outputs": []
    },
    {
      "cell_type": "code",
      "source": [
        "is_holdout = False\n",
        "reset_seeds(SEED)\n",
        "best_score_list = []\n",
        "\n",
        "for i,(tri,vai) in enumerate(cv.split(train)):\n",
        "    model = Conv1dModel(vocab_size,embedding_dim).to(device)\n",
        "    optimizer = torch.optim.Adam(model.parameters())\n",
        "\n",
        "    # dataset\n",
        "    train_dt = Review_Ko_Dataset(train[tri],target[tri])\n",
        "    valid_dt = Review_Ko_Dataset(train[vai],target[vai])\n",
        "\n",
        "    # dataloader\n",
        "    train_dl = torch.utils.data.DataLoader(train_dt,batch_size=batch_size,shuffle=True)\n",
        "    valid_dl = torch.utils.data.DataLoader(valid_dt,batch_size=batch_size,shuffle=False)\n",
        "    \n",
        "    #mae는 낮을수록 좋으니 5번의 갱신끝에 변화가 없으면 종료하려는 구문\n",
        "    best_score = 0\n",
        "    patience = 0 \n",
        "    \n",
        "    for epoch in tqdm(range(epochs)):\n",
        "        train_loss = train_loop(train_dl, model, loss_fn, optimizer, device)\n",
        "        valid_loss,pred = test_loop(valid_dl,model,loss_fn,device)\n",
        "\n",
        "        pred =(pred > 0.5).astype(int)\n",
        "        score = accuracy_score(target[vai],pred)\n",
        "        #print(train_loss,valid_loss, accuracy_score(target[vai],pred))\n",
        "        patience += 1\n",
        "\n",
        "        if best_score < score:  # score가 더 작으면 patience 0으로 초기화\n",
        "            patience = 0\n",
        "            best_score = score  # 갱신\n",
        "            torch.save(model.state_dict(),f\"model_{i}.pth\")\n",
        "\n",
        "        if patience == 20:\n",
        "            break\n",
        "        print(train_loss,valid_loss, accuracy_score(target[vai],pred))\n",
        "    print(f\"Fold ({i}), BEST SCORE: {best_score}\")\n",
        "    best_score_list.append(best_score)\n",
        "    if is_holdout:\n",
        "        break"
      ],
      "metadata": {
        "colab": {
          "base_uri": "https://localhost:8080/",
          "height": 1000,
          "referenced_widgets": [
            "3c43d2c5d15e4fb4a40b1ab52da5d9fc",
            "085508fa173d427fb6aecb476be8b191",
            "2a06517c71eb4748a96004e1cb1361d2",
            "d86a45fa7d99493e9e03dd7f52be9e19",
            "59594ba6ede8496c86b9273f7c0d5e41",
            "2c4c918a71d64449b8c2e4eacf2eecfc",
            "d96583c4118844f0a0e55033d761c207",
            "d3ee0f5984ba4018b85d2fc3921b094f",
            "d74f01d39e614baaa15c7b998719cc1a",
            "0b997b492d894631b23f317fd4b7141d",
            "5d62e1fd65dd4f4b9e1b54fd449719d7",
            "0608c893805d45199972c7ece950d1de",
            "a7a32ddd26774353a394f6a5aca56d87",
            "a8516d8930784791b348712bb81f1d92",
            "28cc74b9e51a4133bfaa51b0e25f3d13",
            "815af8a3d97e49368270516f0eade010",
            "a57088bf51274ee9974c97d4e6fc6ab7",
            "4a8b67e39ea0425e8220269af7ad88e1",
            "b31c81a40ad64d13be02c5e1be137991",
            "1f6751bccbd740618ea2c2fcc746ae5c",
            "ceb6d75ce1994051a0981350da3ed8d1",
            "e584397578174dc8a2130c7f8a3021b3",
            "13d7ee9691e0423bac9e9aabda5c5c1e",
            "98fe71321c8f4746a499076c6b12617a",
            "82515224e22f45d5ba11fad074138e65",
            "e934ec3f857242da9e2827d62dc6c673",
            "82e292d259b840cbbdc521046d68d2fc",
            "f4938a80e3c54c9b9304f050efab2913",
            "af72c69bf70a4057a3ac553219444a5a",
            "943906c0e0734832b8ed4ce1feab8139",
            "a2c7e79e159d4bf8b7b6e7b2e7359fdc",
            "4eb5d25febbb44a5800814adeb632a7a",
            "8411f0a5799b4b549984f8bff606fbb4",
            "cb34854d86174e3da6f7a5c9b42f767f",
            "b85d8df580314db2865723414bbb818f",
            "a8c9a3bb9ba24562bf6250474e836009",
            "88ed203dbe2143439bba70395eff52a2",
            "58b156c97885414b954bbb5604cee198",
            "58deebd1c33d48a9b9fb4cdc02c3d75b",
            "b9396c3fda7e46cc901988293de09961",
            "570090d480174f7ba70c7517b434621f",
            "0fa5f6786d934269b1ef9a0d146599dd",
            "0a57c5fa04794fe3a099c09d4cc32ead",
            "3265b85c1f58406cb5ec1020b0427a9f",
            "bac5715a95af42f79226916b33a383f2",
            "723734e4b6ab420ebb017b250c625491",
            "fa51f4e6591546e6ac05fbbd7da914a3",
            "035f47faf9614cc7871697d7752c2231",
            "6d6d2d2bd5ae4c65aabe889b527c6fc1",
            "ea6b066db4b643239dc91ce86260d298",
            "1f085c1c5d8d4a31a62056889c659d01",
            "e55a6ce2b6794a5f96d31d632a3d4062",
            "814b318ef2cc47cf91881316f7e2b1ad",
            "b514172d8a914713ad830c548ff17389",
            "259f73df0c4e466e88e6dec7551e51ca"
          ]
        },
        "id": "uwOr6szP_BDp",
        "outputId": "09fcddbb-ac20-40fe-f277-5814e7e4f4de"
      },
      "execution_count": null,
      "outputs": [
        {
          "output_type": "display_data",
          "data": {
            "text/plain": [
              "  0%|          | 0/100 [00:00<?, ?it/s]"
            ],
            "application/vnd.jupyter.widget-view+json": {
              "version_major": 2,
              "version_minor": 0,
              "model_id": "3c43d2c5d15e4fb4a40b1ab52da5d9fc"
            }
          },
          "metadata": {}
        },
        {
          "output_type": "stream",
          "name": "stdout",
          "text": [
            "0.6780371372379473 0.6172362631939827 0.6193873129104304\n",
            "0.5621073918301922 0.5238059164361751 0.717490583019434\n",
            "0.4904487926695647 0.47997402003470885 0.7630254341811393\n",
            "0.45394437822070455 0.45906163682328893 0.7770925697523251\n",
            "0.4328412946099157 0.44689111062820924 0.7842261408713623\n",
            "0.4177582188010978 0.44194363355636596 0.7942598086602887\n",
            "0.40601406305202287 0.4338249649139161 0.7940264675489183\n",
            "0.3956882313116273 0.4307473952465869 0.7983266108870296\n",
            "0.3869853177622183 0.42631455304774835 0.7989599653321777\n",
            "0.37902009582468693 0.42428028856186156 0.8014600486682889\n",
            "0.3716321217734168 0.4238539944303797 0.8037267908930298\n",
            "0.3649591619271968 0.421005820467117 0.8040934697823261\n",
            "0.35876837595185235 0.423105207275837 0.8056601886729557\n",
            "0.35300857794564416 0.4219820354213106 0.8058601953398447\n",
            "0.34749510850924165 0.42290100379193085 0.8066602220074003\n",
            "0.34217210701787903 0.42402023102374786 0.8069268975632521\n",
            "0.3373270976994592 0.4260645957069194 0.8069935664522151\n",
            "0.3325664738951716 0.4267400098607895 0.8065935531184373\n",
            "0.3281423808065559 0.4280892559188478 0.8066935564518817\n",
            "0.3238833497550442 0.43072144015038266 0.8072269075635855\n",
            "0.3198332874569049 0.43506495737014933 0.8072602420080669\n",
            "0.31584002185604976 0.43639358205998197 0.8076602553418447\n",
            "0.31221927399002414 0.4423640756530965 0.8075935864528818\n",
            "0.3084579816282685 0.44382535618670443 0.8069935664522151\n",
            "0.3049141316811667 0.44626515241379433 0.8065268842294743\n",
            "0.30141611244759836 0.44933764408243465 0.8043601453381779\n",
            "0.2980338164579385 0.45769309826353766 0.8058935297843262\n",
            "0.2951709126581007 0.4557321693668974 0.8049268308943631\n",
            "0.2917750222977799 0.4644897017707216 0.8065268842294743\n",
            "0.2890290065106553 0.4623170548296989 0.8036267875595853\n",
            "0.2861945890605068 0.4703367261176414 0.8031601053368446\n",
            "0.28363258556834164 0.47649668201487116 0.8026934231141039\n",
            "0.2808663763884288 0.4779290492230273 0.8010600353345112\n",
            "0.278434363001191 0.48307056579184027 0.8012933764458815\n",
            "0.2761383354663849 0.48948081725455345 0.8023267442248075\n",
            "0.27384392739231905 0.4958093617190706 0.7959265308843628\n",
            "0.27159249660239293 0.499239467623386 0.8003266775559186\n",
            "0.2695487012931787 0.5034370157946931 0.8003266775559186\n",
            "0.2673203626008176 0.5132879571077672 0.7985266175539185\n",
            "0.2654827156745549 0.5171811945894931 0.8007266908896963\n",
            "0.2635558121510025 0.5268862287414835 0.800493349778326\n",
            "Fold (0), BEST SCORE: 0.8076602553418447\n"
          ]
        },
        {
          "output_type": "display_data",
          "data": {
            "text/plain": [
              "  0%|          | 0/100 [00:00<?, ?it/s]"
            ],
            "application/vnd.jupyter.widget-view+json": {
              "version_major": 2,
              "version_minor": 0,
              "model_id": "0608c893805d45199972c7ece950d1de"
            }
          },
          "metadata": {}
        },
        {
          "output_type": "stream",
          "name": "stdout",
          "text": [
            "0.660049145473346 0.600680237628044 0.6321877395913197\n",
            "0.548500633093594 0.5137154400348664 0.7401580052668423\n",
            "0.4793655665825679 0.4739080827286903 0.7675255841861396\n",
            "0.44773197644300805 0.45559592082145367 0.7748591619720657\n",
            "0.42817051378267407 0.4451003283896345 0.7880596019867329\n",
            "0.4133482776216861 0.4379218172519765 0.7931264375479182\n",
            "0.4011810219237037 0.43141189559977106 0.7954265142171406\n",
            "0.3907872643043746 0.4278154473355476 0.7965598853295109\n",
            "0.38180284198921627 0.4264170859722381 0.7981932731091036\n",
            "0.3739049346176292 0.4245172378864694 0.8004600153338445\n",
            "0.3667636267634343 0.42469187670565667 0.8020267342244741\n",
            "0.36004333523735566 0.4259329885878462 0.8038267942264742\n",
            "0.3538747223169565 0.4255271702370745 0.805193506450215\n",
            "0.3482207149140108 0.4268924722012053 0.8043268108936965\n",
            "0.3429870926209096 0.42801404329056436 0.8046601553385113\n",
            "0.33762353733340816 0.4303817705905184 0.8048934964498816\n",
            "0.33281032968241014 0.4323125127782213 0.8056268542284742\n",
            "0.3282302879035346 0.43373884165540655 0.8056601886729557\n",
            "0.32383129046733444 0.435380590088824 0.8065268842294743\n",
            "0.31946241437816925 0.43929190901999776 0.8064268808960299\n",
            "0.315484671942842 0.44134242826319753 0.8069268975632521\n",
            "0.31154585836220905 0.4446858673653704 0.8059601986732892\n",
            "0.30758069757459516 0.45133564637062396 0.8068602286742892\n",
            "0.304085833733397 0.4531250202909429 0.8041268042268076\n",
            "0.30062028227139637 0.45707339340067926 0.804160138671289\n",
            "0.2972981301166101 0.46626711754088707 0.8059935331177706\n",
            "0.2941375530001197 0.4654008167855283 0.8027600920030667\n",
            "0.2910551430860054 0.4703614746002441 0.8021934064468815\n",
            "0.28813714011391595 0.4762002532786511 0.8029267642254742\n",
            "0.28517283534190296 0.4813731945575552 0.8003266775559186\n",
            "0.2825095599203476 0.4850404717820756 0.8014933831127704\n",
            "0.27987558129372625 0.48718801533922235 0.800493349778326\n",
            "0.2773083330694038 0.49727265226080064 0.7988599619987333\n",
            "0.27498542139334464 0.49648707344176923 0.7989599653321777\n",
            "0.2728012821027465 0.5034905270059058 0.798426614220474\n",
            "0.27061685648109357 0.5099359048173783 0.799393313110437\n",
            "0.26849338518721716 0.5146002656601845 0.7965598853295109\n",
            "0.2663277574757269 0.5242439503365375 0.7967265575519183\n",
            "0.26453200219346007 0.52719290434046 0.7965265508850295\n",
            "0.26263387309017977 0.5365789615093394 0.796626554218474\n",
            "Fold (1), BEST SCORE: 0.8069268975632521\n"
          ]
        },
        {
          "output_type": "display_data",
          "data": {
            "text/plain": [
              "  0%|          | 0/100 [00:00<?, ?it/s]"
            ],
            "application/vnd.jupyter.widget-view+json": {
              "version_major": 2,
              "version_minor": 0,
              "model_id": "13d7ee9691e0423bac9e9aabda5c5c1e"
            }
          },
          "metadata": {}
        },
        {
          "output_type": "stream",
          "name": "stdout",
          "text": [
            "0.661931751824137 0.5853006399692373 0.6736224540818028\n",
            "0.5417602378358719 0.5111416163596701 0.736757891929731\n",
            "0.4839368215374855 0.47593557834625244 0.7614587152905097\n",
            "0.4523188286244488 0.45725276698457434 0.7739924664155472\n",
            "0.43267804498611484 0.44825059505219156 0.7755925197506583\n",
            "0.417983431964795 0.43812079810081644 0.7884262808760292\n",
            "0.40581917839009624 0.43311328177756453 0.7948264942164739\n",
            "0.39555429300265527 0.42868568123655115 0.7962265408846961\n",
            "0.3865673257820388 0.42501588806192925 0.8003600120004\n",
            "0.37828132676989284 0.4256739265107094 0.7979599319977333\n",
            "0.37102898437458315 0.42296440373075767 0.8001266708890297\n",
            "0.36422834904399765 0.42148403005397067 0.8063935464515484\n",
            "0.3578912793223792 0.4214153639813687 0.8053268442281409\n",
            "0.3519128775958822 0.4221713027421464 0.8067935597853262\n",
            "0.3463771615836666 0.4219732127925183 0.8083269442314743\n",
            "0.34136760299965774 0.4226800481689737 0.8104936831227708\n",
            "0.3361184143149522 0.4255133777222735 0.8100603353445115\n",
            "0.33151619881391525 0.4279161586406383 0.805193506450215\n",
            "0.32682423824186263 0.4292300345415765 0.8088936297876596\n",
            "0.32263194251734056 0.4285264976481174 0.8082602753425114\n",
            "0.31842444277902654 0.4333627312741381 0.8065268842294743\n",
            "0.31442153974890963 0.4363325145016325 0.81002700090003\n",
            "0.3108081396963042 0.43713611009273123 0.8065602186739558\n",
            "0.307035584121879 0.44053053957350713 0.8064602153405114\n",
            "0.3035365389799004 0.4419040894888817 0.8073935797859929\n",
            "0.3003170790194448 0.44845269537986593 0.808093603120104\n",
            "0.29697250107775874 0.45133148964415204 0.8063268775625854\n",
            "0.2937349665647885 0.45580209341455014 0.8048601620054002\n",
            "0.2906883470634662 0.45776897275701484 0.8056268542284742\n",
            "0.2878262355987197 0.4626347009805923 0.8058601953398447\n",
            "0.2849744717354205 0.46622307294226706 0.8038934631154372\n",
            "0.28244209473829535 0.4718330802435571 0.8035934531151039\n",
            "0.2800078938192904 0.4761437187803553 0.8037267908930298\n",
            "0.2773325176063631 0.48177471129184074 0.8046268208940298\n",
            "0.2751031324172071 0.4893077332922753 0.800493349778326\n",
            "Fold (2), BEST SCORE: 0.8104936831227708\n"
          ]
        },
        {
          "output_type": "display_data",
          "data": {
            "text/plain": [
              "  0%|          | 0/100 [00:00<?, ?it/s]"
            ],
            "application/vnd.jupyter.widget-view+json": {
              "version_major": 2,
              "version_minor": 0,
              "model_id": "cb34854d86174e3da6f7a5c9b42f767f"
            }
          },
          "metadata": {}
        },
        {
          "output_type": "stream",
          "name": "stdout",
          "text": [
            "0.6488065889268033 0.5783101860513078 0.6642221407380245\n",
            "0.5350972046730107 0.5051055118124536 0.7417913930464349\n",
            "0.4781858872439561 0.47265363335609434 0.7646254875162506\n",
            "0.449111562802085 0.45567990237093986 0.775225840861362\n",
            "0.42976275296099403 0.4441998650418951 0.782192739757992\n",
            "0.4153772175375587 0.43638069135077456 0.7900596686556218\n",
            "0.4038948536173367 0.4306230051720396 0.7923930797693256\n",
            "0.3940963412462267 0.42695927023887636 0.7942264742158072\n",
            "0.3853167567902537 0.42411020398139954 0.7972265742191407\n",
            "0.37795626667580373 0.42161510231647087 0.8005933531117704\n",
            "0.3706810374472187 0.42023119000678366 0.8007266908896963\n",
            "0.36402300155874506 0.41993753745200785 0.8033601120037335\n",
            "0.3578969061787703 0.4196213705742613 0.8056268542284742\n",
            "0.3519035647831746 0.41809393027995495 0.8037601253375113\n",
            "0.3464923242706734 0.41998208482214744 0.8075269175639188\n",
            "0.34132169744671026 0.42061116099357604 0.808093603120104\n",
            "0.3362057320694171 0.42180835744167894 0.8067935597853262\n",
            "0.331403623622999 0.42275368939054775 0.8069268975632521\n",
            "0.3267063105474911 0.42749194794512807 0.8086269542318077\n",
            "0.322404892571064 0.4261768160982335 0.8075935864528818\n",
            "0.3179681257271309 0.4292288644516722 0.8067602253408447\n",
            "0.31384844674484563 0.43354583598197777 0.8083269442314743\n",
            "0.3100131684656082 0.4357046677711162 0.8068935631187706\n",
            "0.30589111481330544 0.43981884603804733 0.8050268342278076\n",
            "0.3026407541020084 0.4430097157650806 0.8038267942264742\n",
            "0.2990429061911762 0.4481063672836791 0.8074935831194373\n",
            "0.2958099426491174 0.450878247555266 0.8061268708956966\n",
            "0.2925771959523148 0.45526461842212274 0.8075269175639188\n",
            "0.2894117893186459 0.4569965456394439 0.8048268275609187\n",
            "0.28645172175059697 0.46559501049366403 0.8036267875595853\n",
            "0.28367667206759645 0.46960588883846366 0.8018267275575852\n",
            "0.2808118832073232 0.47592200928546013 0.8003933464448815\n",
            "0.27831808641266975 0.47851147410717415 0.804293476449215\n",
            "0.27573588954360245 0.48280790143824637 0.8037934597819927\n",
            "0.27321442848901506 0.491606053773393 0.801326710890363\n",
            "0.27096914175921666 0.4931948276276284 0.8029934331144372\n",
            "0.26861292157155364 0.5023956629824131 0.8011600386679556\n",
            "0.2665872951465121 0.5050709303389205 0.800426680889363\n",
            "Fold (3), BEST SCORE: 0.8086269542318077\n"
          ]
        },
        {
          "output_type": "display_data",
          "data": {
            "text/plain": [
              "  0%|          | 0/100 [00:00<?, ?it/s]"
            ],
            "application/vnd.jupyter.widget-view+json": {
              "version_major": 2,
              "version_minor": 0,
              "model_id": "bac5715a95af42f79226916b33a383f2"
            }
          },
          "metadata": {}
        },
        {
          "output_type": "stream",
          "name": "stdout",
          "text": [
            "0.6645564055010709 0.5969024754585104 0.6411213707123571\n",
            "0.5412457661588055 0.5147640658185837 0.7258241941398047\n",
            "0.4818386092368982 0.47820434582994337 0.7590253008433614\n",
            "0.45197514932292865 0.4597596606041523 0.7703256775225841\n",
            "0.4330980322762593 0.44794109615873784 0.7786926230874363\n",
            "0.4192755908282327 0.43970600366592405 0.7870595686522884\n",
            "0.408269690584018 0.4342695733334156 0.7893263108770292\n",
            "0.3986984160599678 0.43011256912921336 0.7923597453248442\n",
            "0.39040914629059814 0.42690170775068564 0.7951931731057702\n",
            "0.38280866050453327 0.42533962029091854 0.7961932064402146\n",
            "0.37564500276722124 0.42287386592398296 0.7994266475549185\n",
            "0.3690914199042168 0.4252082812025192 0.796626554218474\n",
            "0.3628937246512248 0.42342258298650703 0.797593253108437\n",
            "0.35720981157092907 0.4242999093329653 0.8007600253341778\n",
            "0.3515597836517576 0.4231540653299778 0.8038601286709557\n",
            "0.3463592202837533 0.4222300151561169 0.805193506450215\n",
            "0.3414102145063598 0.42550272878180156 0.8053935131171039\n",
            "0.3365306067409546 0.42464670145765265 0.8069602320077336\n",
            "0.33170597142438646 0.43072840190948325 0.8039934664488816\n",
            "0.32730020247479236 0.42939846883428856 0.8063935464515484\n",
            "0.32298139277805904 0.43016965871161605 0.8053601786726224\n",
            "0.3187841310906512 0.4351798892021179 0.8059935331177706\n",
            "0.31469156836141654 0.4364797722786031 0.8054935164505483\n",
            "0.31081508085735315 0.4403214354464348 0.8057935264508816\n",
            "0.30709600048278696 0.44241206823511325 0.8048601620054002\n",
            "0.3034400779968386 0.4455855335326905 0.8035267842261409\n",
            "0.2999639299028972 0.45044244350271023 0.8045934864495483\n",
            "0.29655054041635254 0.45340886648665085 0.8019267308910297\n",
            "0.2933621672965062 0.45580215733102025 0.8039267975599187\n",
            "0.29022913577078757 0.45976105281647217 0.8032934431147705\n",
            "0.2872413821311902 0.46622145968548795 0.8031267708923631\n",
            "0.2844044376474454 0.4698028196679785 0.8018600620020667\n",
            "0.2813739111460348 0.4735590456648076 0.801393379779326\n",
            "0.2787011409047316 0.48090314522702643 0.799326644221474\n",
            "0.27612086758811843 0.4862005176696372 0.7996933231107703\n",
            "0.2735203676291112 0.48729863179490923 0.8009266975565852\n",
            "0.27102329561324007 0.4938232972266826 0.7989932997766592\n",
            "Fold (4), BEST SCORE: 0.8069602320077336\n"
          ]
        }
      ]
    },
    {
      "cell_type": "code",
      "source": [
        "np.mean(best_score_list)"
      ],
      "metadata": {
        "colab": {
          "base_uri": "https://localhost:8080/"
        },
        "id": "VNJ3u7x2_gaS",
        "outputId": "fcf9933f-1b6f-4712-a4c0-2365f40d6381"
      },
      "execution_count": null,
      "outputs": [
        {
          "output_type": "execute_result",
          "data": {
            "text/plain": [
              "0.8081336044534819"
            ]
          },
          "metadata": {},
          "execution_count": 74
        }
      ]
    }
  ]
}
