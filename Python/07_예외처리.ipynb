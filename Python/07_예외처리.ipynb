{
  "nbformat": 4,
  "nbformat_minor": 0,
  "metadata": {
    "colab": {
      "name": "07-예외처리.ipynb",
      "provenance": [],
      "collapsed_sections": [],
      "authorship_tag": "ABX9TyOy3KwEPZjdO2X+B/yHENgJ",
      "include_colab_link": true
    },
    "kernelspec": {
      "name": "python3",
      "display_name": "Python 3"
    },
    "language_info": {
      "name": "python"
    }
  },
  "cells": [
    {
      "cell_type": "markdown",
      "metadata": {
        "id": "view-in-github",
        "colab_type": "text"
      },
      "source": [
        "<a href=\"https://colab.research.google.com/github/Wooney98/playdata-python/blob/main/07_%EC%98%88%EC%99%B8%EC%B2%98%EB%A6%AC.ipynb\" target=\"_parent\"><img src=\"https://colab.research.google.com/assets/colab-badge.svg\" alt=\"Open In Colab\"/></a>"
      ]
    },
    {
      "cell_type": "markdown",
      "source": [
        "# 구문적 오류(Syntax Error)\n",
        "- 문법 오류에 의하여 기계어 변환 과정에서 발생하는 오류"
      ],
      "metadata": {
        "id": "0F3KgftrywVq"
      }
    },
    {
      "cell_type": "markdown",
      "source": [
        "```python\n",
        "def do_func:\n",
        "    print(i)\n",
        "\n",
        "File \"<ipython-input-1-5f02068c9a90>\", line 1\n",
        "    def do_func:\n",
        "               ^\n",
        "SyntaxError: invalid syntax\n",
        "```"
      ],
      "metadata": {
        "id": "LU-vFvl-zjNZ"
      }
    },
    {
      "cell_type": "markdown",
      "source": [
        "# 실행 오류(Runtime Error)\n",
        "- 프로그램 실행중 발생하여 비정상적으로 종료되는 오류"
      ],
      "metadata": {
        "id": "mpKNSg3RzHq4"
      }
    },
    {
      "cell_type": "code",
      "source": [
        "def do_func(text):\n",
        "    return int(text)\n",
        "\n",
        "text = \"3.0\"\n",
        "do_func(text)"
      ],
      "metadata": {
        "colab": {
          "base_uri": "https://localhost:8080/",
          "height": 322
        },
        "id": "IKbCvdIPzZ1F",
        "outputId": "66787186-b616-4ab6-e25b-eaaddb062400"
      },
      "execution_count": null,
      "outputs": [
        {
          "output_type": "error",
          "ename": "ValueError",
          "evalue": "ignored",
          "traceback": [
            "\u001b[0;31m---------------------------------------------------------------------------\u001b[0m",
            "\u001b[0;31mValueError\u001b[0m                                Traceback (most recent call last)",
            "\u001b[0;32m<ipython-input-4-f8cf8c3976a6>\u001b[0m in \u001b[0;36m<module>\u001b[0;34m()\u001b[0m\n\u001b[1;32m      3\u001b[0m \u001b[0;34m\u001b[0m\u001b[0m\n\u001b[1;32m      4\u001b[0m \u001b[0mtext\u001b[0m \u001b[0;34m=\u001b[0m \u001b[0;34m\"3.0\"\u001b[0m\u001b[0;34m\u001b[0m\u001b[0;34m\u001b[0m\u001b[0m\n\u001b[0;32m----> 5\u001b[0;31m \u001b[0mdo_func\u001b[0m\u001b[0;34m(\u001b[0m\u001b[0mtext\u001b[0m\u001b[0;34m)\u001b[0m\u001b[0;34m\u001b[0m\u001b[0;34m\u001b[0m\u001b[0m\n\u001b[0m",
            "\u001b[0;32m<ipython-input-4-f8cf8c3976a6>\u001b[0m in \u001b[0;36mdo_func\u001b[0;34m(text)\u001b[0m\n\u001b[1;32m      1\u001b[0m \u001b[0;32mdef\u001b[0m \u001b[0mdo_func\u001b[0m\u001b[0;34m(\u001b[0m\u001b[0mtext\u001b[0m\u001b[0;34m)\u001b[0m\u001b[0;34m:\u001b[0m\u001b[0;34m\u001b[0m\u001b[0;34m\u001b[0m\u001b[0m\n\u001b[0;32m----> 2\u001b[0;31m     \u001b[0;32mreturn\u001b[0m \u001b[0mint\u001b[0m\u001b[0;34m(\u001b[0m\u001b[0mtext\u001b[0m\u001b[0;34m)\u001b[0m\u001b[0;34m\u001b[0m\u001b[0;34m\u001b[0m\u001b[0m\n\u001b[0m\u001b[1;32m      3\u001b[0m \u001b[0;34m\u001b[0m\u001b[0m\n\u001b[1;32m      4\u001b[0m \u001b[0mtext\u001b[0m \u001b[0;34m=\u001b[0m \u001b[0;34m\"3.0\"\u001b[0m\u001b[0;34m\u001b[0m\u001b[0;34m\u001b[0m\u001b[0m\n\u001b[1;32m      5\u001b[0m \u001b[0mdo_func\u001b[0m\u001b[0;34m(\u001b[0m\u001b[0mtext\u001b[0m\u001b[0;34m)\u001b[0m\u001b[0;34m\u001b[0m\u001b[0;34m\u001b[0m\u001b[0m\n",
            "\u001b[0;31mValueError\u001b[0m: invalid literal for int() with base 10: '3.0'"
          ]
        }
      ]
    },
    {
      "cell_type": "markdown",
      "source": [
        "# 의미적 오류(Semantic Error)\n",
        "- 실행의 결과가 원하는 대로 나오지 않는 오류"
      ],
      "metadata": {
        "id": "Qrax0eBQ0AWZ"
      }
    },
    {
      "cell_type": "code",
      "source": [
        "a = (2)\n",
        "b = (2,)\n",
        "\n",
        "a == b"
      ],
      "metadata": {
        "colab": {
          "base_uri": "https://localhost:8080/"
        },
        "id": "HvxaJ5XGzaP9",
        "outputId": "bde31481-e66b-4d29-8dfc-67bc3fd018a2"
      },
      "execution_count": null,
      "outputs": [
        {
          "output_type": "execute_result",
          "data": {
            "text/plain": [
              "False"
            ]
          },
          "metadata": {},
          "execution_count": 6
        }
      ]
    },
    {
      "cell_type": "code",
      "source": [
        "def do_func(n1,n2):\n",
        "    return print(n1+n2) # print는 반환값이 없음. None 반환\n",
        "\n",
        "a = do_func(3,4)\n",
        "print(a)  # a = 7을 사용해야하는데 None을 사용하게됨"
      ],
      "metadata": {
        "colab": {
          "base_uri": "https://localhost:8080/"
        },
        "id": "vHdVcsH_0ViT",
        "outputId": "428844cb-0d6b-4d5c-e7fe-aefee347868a"
      },
      "execution_count": null,
      "outputs": [
        {
          "output_type": "stream",
          "name": "stdout",
          "text": [
            "7\n",
            "None\n"
          ]
        }
      ]
    },
    {
      "cell_type": "code",
      "source": [
        "print(6 * 0.1 == 0.6)\n",
        "print(6*0.1)"
      ],
      "metadata": {
        "colab": {
          "base_uri": "https://localhost:8080/"
        },
        "id": "Ri6I6T9E0uuJ",
        "outputId": "c4324ac1-d969-4136-a3d5-9b383c723751"
      },
      "execution_count": null,
      "outputs": [
        {
          "output_type": "stream",
          "name": "stdout",
          "text": [
            "False\n",
            "0.6000000000000001\n"
          ]
        }
      ]
    },
    {
      "cell_type": "markdown",
      "source": [
        "# 예외처리\n",
        "- 프로그램 개발하면서 예상치 못한 상황 발생시 처리\n",
        "- 입출력 오류와 같은 상황 발생시 프로그램 종료를 방지하기 위함\n",
        "- 개발자가 예외 발생 가능 부분을 어떻게 대응하라고 지정해 줄 수 있음\n",
        "\n",
        "```python\n",
        "try:\n",
        "    code context\n",
        "except:\n",
        "    code context\n",
        "```"
      ],
      "metadata": {
        "id": "1pcc0UBL1h_z"
      }
    },
    {
      "cell_type": "code",
      "source": [
        "n = 100\n",
        "for i in range(5):\n",
        "    try:\n",
        "        print(n/i)\n",
        "    except:\n",
        "        print(\"Error\")"
      ],
      "metadata": {
        "colab": {
          "base_uri": "https://localhost:8080/"
        },
        "id": "wRQhuksW1CYe",
        "outputId": "3872c09a-3207-49ae-f30c-67d9f1a8bdaa"
      },
      "execution_count": null,
      "outputs": [
        {
          "output_type": "stream",
          "name": "stdout",
          "text": [
            "Error\n",
            "100.0\n",
            "50.0\n",
            "33.333333333333336\n",
            "25.0\n"
          ]
        }
      ]
    },
    {
      "cell_type": "markdown",
      "source": [
        "- 에러를 지정해서 메시지를 볼수있음"
      ],
      "metadata": {
        "id": "vJuaiuhw29_U"
      }
    },
    {
      "cell_type": "code",
      "source": [
        "n = 100\n",
        "for i in range(5):\n",
        "    try:\n",
        "        print(n/i)\n",
        "    except ZeroDivisionError as e:\n",
        "        print(e) "
      ],
      "metadata": {
        "colab": {
          "base_uri": "https://localhost:8080/"
        },
        "id": "j-jO588j2vMQ",
        "outputId": "aec0dc5c-9c2d-4aea-957b-272930a1bb1e"
      },
      "execution_count": null,
      "outputs": [
        {
          "output_type": "stream",
          "name": "stdout",
          "text": [
            "division by zero\n",
            "100.0\n",
            "50.0\n",
            "33.333333333333336\n",
            "25.0\n"
          ]
        }
      ]
    },
    {
      "cell_type": "markdown",
      "source": [
        "- IndexError\n",
        "    - 리스트의 인덱스 범위를 넘어갈 때 발생"
      ],
      "metadata": {
        "id": "NeM36u-13byg"
      }
    },
    {
      "cell_type": "code",
      "source": [
        "a = [1,2,3]\n",
        "a[5]"
      ],
      "metadata": {
        "colab": {
          "base_uri": "https://localhost:8080/",
          "height": 183
        },
        "id": "tEo8Sb9L3PiS",
        "outputId": "a5ab6755-52ec-4587-c14d-8820a959cb6a"
      },
      "execution_count": null,
      "outputs": [
        {
          "output_type": "error",
          "ename": "IndexError",
          "evalue": "ignored",
          "traceback": [
            "\u001b[0;31m---------------------------------------------------------------------------\u001b[0m",
            "\u001b[0;31mIndexError\u001b[0m                                Traceback (most recent call last)",
            "\u001b[0;32m<ipython-input-15-4a30d506aea3>\u001b[0m in \u001b[0;36m<module>\u001b[0;34m()\u001b[0m\n\u001b[1;32m      1\u001b[0m \u001b[0ma\u001b[0m \u001b[0;34m=\u001b[0m \u001b[0;34m[\u001b[0m\u001b[0;36m1\u001b[0m\u001b[0;34m,\u001b[0m\u001b[0;36m2\u001b[0m\u001b[0;34m,\u001b[0m\u001b[0;36m3\u001b[0m\u001b[0;34m]\u001b[0m\u001b[0;34m\u001b[0m\u001b[0;34m\u001b[0m\u001b[0m\n\u001b[0;32m----> 2\u001b[0;31m \u001b[0ma\u001b[0m\u001b[0;34m[\u001b[0m\u001b[0;36m5\u001b[0m\u001b[0;34m]\u001b[0m\u001b[0;34m\u001b[0m\u001b[0;34m\u001b[0m\u001b[0m\n\u001b[0m",
            "\u001b[0;31mIndexError\u001b[0m: list index out of range"
          ]
        }
      ]
    },
    {
      "cell_type": "markdown",
      "source": [
        "- NameError\n",
        "    - 정의되지 않은 변수를 사용하려 할 때"
      ],
      "metadata": {
        "id": "lbwVQHYh3vH1"
      }
    },
    {
      "cell_type": "code",
      "source": [
        "e"
      ],
      "metadata": {
        "colab": {
          "base_uri": "https://localhost:8080/",
          "height": 166
        },
        "id": "rOohLNIz3nsc",
        "outputId": "0a01323a-fb18-487e-e6f0-35c30cf37703"
      },
      "execution_count": null,
      "outputs": [
        {
          "output_type": "error",
          "ename": "NameError",
          "evalue": "ignored",
          "traceback": [
            "\u001b[0;31m---------------------------------------------------------------------------\u001b[0m",
            "\u001b[0;31mNameError\u001b[0m                                 Traceback (most recent call last)",
            "\u001b[0;32m<ipython-input-16-094e3afb2fe8>\u001b[0m in \u001b[0;36m<module>\u001b[0;34m()\u001b[0m\n\u001b[0;32m----> 1\u001b[0;31m \u001b[0me\u001b[0m\u001b[0;34m\u001b[0m\u001b[0;34m\u001b[0m\u001b[0m\n\u001b[0m",
            "\u001b[0;31mNameError\u001b[0m: name 'e' is not defined"
          ]
        }
      ]
    },
    {
      "cell_type": "markdown",
      "source": [
        "- ValueError\n",
        "    - 변환할수 없는 자료형 변환을 시도할 때"
      ],
      "metadata": {
        "id": "taZS17I037zA"
      }
    },
    {
      "cell_type": "code",
      "source": [
        "a = \"파이썬\"\n",
        "int(a)"
      ],
      "metadata": {
        "colab": {
          "base_uri": "https://localhost:8080/",
          "height": 183
        },
        "id": "eOkn6wRB37PT",
        "outputId": "0d05d5b6-1d78-4ac9-9d68-244e3386aad7"
      },
      "execution_count": null,
      "outputs": [
        {
          "output_type": "error",
          "ename": "ValueError",
          "evalue": "ignored",
          "traceback": [
            "\u001b[0;31m---------------------------------------------------------------------------\u001b[0m",
            "\u001b[0;31mValueError\u001b[0m                                Traceback (most recent call last)",
            "\u001b[0;32m<ipython-input-17-ab181fd74035>\u001b[0m in \u001b[0;36m<module>\u001b[0;34m()\u001b[0m\n\u001b[1;32m      1\u001b[0m \u001b[0ma\u001b[0m \u001b[0;34m=\u001b[0m \u001b[0;34m\"파이썬\"\u001b[0m\u001b[0;34m\u001b[0m\u001b[0;34m\u001b[0m\u001b[0m\n\u001b[0;32m----> 2\u001b[0;31m \u001b[0mint\u001b[0m\u001b[0;34m(\u001b[0m\u001b[0ma\u001b[0m\u001b[0;34m)\u001b[0m\u001b[0;34m\u001b[0m\u001b[0;34m\u001b[0m\u001b[0m\n\u001b[0m",
            "\u001b[0;31mValueError\u001b[0m: invalid literal for int() with base 10: '파이썬'"
          ]
        }
      ]
    },
    {
      "cell_type": "markdown",
      "source": [
        "- TypeError\n",
        "    - 자료형이 맞지 않는 연산을 시도할 때\n",
        "    - 호출할 수 없는 객체를 함수처럼 호출할 때"
      ],
      "metadata": {
        "id": "aj0FFqSl4ip6"
      }
    },
    {
      "cell_type": "code",
      "source": [
        "a=3\n",
        "a()"
      ],
      "metadata": {
        "colab": {
          "base_uri": "https://localhost:8080/",
          "height": 183
        },
        "id": "sC4kbXe94MOn",
        "outputId": "26b74921-f787-44c8-ba47-90f7f7c7e7aa"
      },
      "execution_count": null,
      "outputs": [
        {
          "output_type": "error",
          "ename": "TypeError",
          "evalue": "ignored",
          "traceback": [
            "\u001b[0;31m---------------------------------------------------------------------------\u001b[0m",
            "\u001b[0;31mTypeError\u001b[0m                                 Traceback (most recent call last)",
            "\u001b[0;32m<ipython-input-18-7361111df84d>\u001b[0m in \u001b[0;36m<module>\u001b[0;34m()\u001b[0m\n\u001b[1;32m      1\u001b[0m \u001b[0ma\u001b[0m\u001b[0;34m=\u001b[0m\u001b[0;36m3\u001b[0m\u001b[0;34m\u001b[0m\u001b[0;34m\u001b[0m\u001b[0m\n\u001b[0;32m----> 2\u001b[0;31m \u001b[0ma\u001b[0m\u001b[0;34m(\u001b[0m\u001b[0;34m)\u001b[0m\u001b[0;34m\u001b[0m\u001b[0;34m\u001b[0m\u001b[0m\n\u001b[0m",
            "\u001b[0;31mTypeError\u001b[0m: 'int' object is not callable"
          ]
        }
      ]
    },
    {
      "cell_type": "markdown",
      "source": [
        "- FileNotFoundError\n",
        "    - 없는 파일을 읽으려할 때"
      ],
      "metadata": {
        "id": "OlKEYemO5Cvv"
      }
    },
    {
      "cell_type": "code",
      "source": [
        "open(\"txt\")"
      ],
      "metadata": {
        "colab": {
          "base_uri": "https://localhost:8080/",
          "height": 166
        },
        "id": "O80-jdpC41t6",
        "outputId": "2eaed0fb-2b39-4f20-d61f-e65f718adc49"
      },
      "execution_count": null,
      "outputs": [
        {
          "output_type": "error",
          "ename": "FileNotFoundError",
          "evalue": "ignored",
          "traceback": [
            "\u001b[0;31m---------------------------------------------------------------------------\u001b[0m",
            "\u001b[0;31mFileNotFoundError\u001b[0m                         Traceback (most recent call last)",
            "\u001b[0;32m<ipython-input-19-2d3a12650dbf>\u001b[0m in \u001b[0;36m<module>\u001b[0;34m()\u001b[0m\n\u001b[0;32m----> 1\u001b[0;31m \u001b[0mopen\u001b[0m\u001b[0;34m(\u001b[0m\u001b[0;34m\"txt\"\u001b[0m\u001b[0;34m)\u001b[0m\u001b[0;34m\u001b[0m\u001b[0;34m\u001b[0m\u001b[0m\n\u001b[0m",
            "\u001b[0;31mFileNotFoundError\u001b[0m: [Errno 2] No such file or directory: 'txt'"
          ]
        }
      ]
    },
    {
      "cell_type": "markdown",
      "source": [
        "- AttributeError\n",
        "    - 객체에 없는 속성을 사용하려 할 때"
      ],
      "metadata": {
        "id": "W4Rr0Pka5VWY"
      }
    },
    {
      "cell_type": "code",
      "source": [
        "class MyClass:\n",
        "    def do_func(self):\n",
        "        self.a = self.a + 2\n",
        "mc = MyClass()\n",
        "mc.do_func()"
      ],
      "metadata": {
        "colab": {
          "base_uri": "https://localhost:8080/",
          "height": 322
        },
        "id": "LxvgbD_b5T54",
        "outputId": "06644cf1-6dc1-488e-d9d9-5dcf873cb5cd"
      },
      "execution_count": null,
      "outputs": [
        {
          "output_type": "error",
          "ename": "AttributeError",
          "evalue": "ignored",
          "traceback": [
            "\u001b[0;31m---------------------------------------------------------------------------\u001b[0m",
            "\u001b[0;31mAttributeError\u001b[0m                            Traceback (most recent call last)",
            "\u001b[0;32m<ipython-input-20-bc354ea2e2ee>\u001b[0m in \u001b[0;36m<module>\u001b[0;34m()\u001b[0m\n\u001b[1;32m      3\u001b[0m         \u001b[0mself\u001b[0m\u001b[0;34m.\u001b[0m\u001b[0ma\u001b[0m \u001b[0;34m=\u001b[0m \u001b[0mself\u001b[0m\u001b[0;34m.\u001b[0m\u001b[0ma\u001b[0m \u001b[0;34m+\u001b[0m \u001b[0;36m2\u001b[0m\u001b[0;34m\u001b[0m\u001b[0;34m\u001b[0m\u001b[0m\n\u001b[1;32m      4\u001b[0m \u001b[0mmc\u001b[0m \u001b[0;34m=\u001b[0m \u001b[0mMyClass\u001b[0m\u001b[0;34m(\u001b[0m\u001b[0;34m)\u001b[0m\u001b[0;34m\u001b[0m\u001b[0;34m\u001b[0m\u001b[0m\n\u001b[0;32m----> 5\u001b[0;31m \u001b[0mmc\u001b[0m\u001b[0;34m.\u001b[0m\u001b[0mdo_func\u001b[0m\u001b[0;34m(\u001b[0m\u001b[0;34m)\u001b[0m\u001b[0;34m\u001b[0m\u001b[0;34m\u001b[0m\u001b[0m\n\u001b[0m",
            "\u001b[0;32m<ipython-input-20-bc354ea2e2ee>\u001b[0m in \u001b[0;36mdo_func\u001b[0;34m(self)\u001b[0m\n\u001b[1;32m      1\u001b[0m \u001b[0;32mclass\u001b[0m \u001b[0mMyClass\u001b[0m\u001b[0;34m:\u001b[0m\u001b[0;34m\u001b[0m\u001b[0;34m\u001b[0m\u001b[0m\n\u001b[1;32m      2\u001b[0m     \u001b[0;32mdef\u001b[0m \u001b[0mdo_func\u001b[0m\u001b[0;34m(\u001b[0m\u001b[0mself\u001b[0m\u001b[0;34m)\u001b[0m\u001b[0;34m:\u001b[0m\u001b[0;34m\u001b[0m\u001b[0;34m\u001b[0m\u001b[0m\n\u001b[0;32m----> 3\u001b[0;31m         \u001b[0mself\u001b[0m\u001b[0;34m.\u001b[0m\u001b[0ma\u001b[0m \u001b[0;34m=\u001b[0m \u001b[0mself\u001b[0m\u001b[0;34m.\u001b[0m\u001b[0ma\u001b[0m \u001b[0;34m+\u001b[0m \u001b[0;36m2\u001b[0m\u001b[0;34m\u001b[0m\u001b[0;34m\u001b[0m\u001b[0m\n\u001b[0m\u001b[1;32m      4\u001b[0m \u001b[0mmc\u001b[0m \u001b[0;34m=\u001b[0m \u001b[0mMyClass\u001b[0m\u001b[0;34m(\u001b[0m\u001b[0;34m)\u001b[0m\u001b[0;34m\u001b[0m\u001b[0;34m\u001b[0m\u001b[0m\n\u001b[1;32m      5\u001b[0m \u001b[0mmc\u001b[0m\u001b[0;34m.\u001b[0m\u001b[0mdo_func\u001b[0m\u001b[0;34m(\u001b[0m\u001b[0;34m)\u001b[0m\u001b[0;34m\u001b[0m\u001b[0;34m\u001b[0m\u001b[0m\n",
            "\u001b[0;31mAttributeError\u001b[0m: 'MyClass' object has no attribute 'a'"
          ]
        }
      ]
    },
    {
      "cell_type": "markdown",
      "source": [
        "```\n",
        "- 리스트 형태의 데이터가 있다.\n",
        "- 정수형으로 변환해서 새로운 리스트에 담자.\n",
        "- 정수형으로 변환이 안되는 예외 발생 시 \"정수형으로 변환되지 않습니다.\"\n",
        "라는 출력과 함계 실수로 변경해서 다시 정수형으로 변경하는 코드를 작성하시오\n",
        "```"
      ],
      "metadata": {
        "id": "p7-nozhP6A-g"
      }
    },
    {
      "cell_type": "code",
      "source": [
        "lst = [\"3\",\"5\",\"3.\",\"3.0\",\"10\"]\n",
        "num_lst = []\n",
        "\n",
        "for i in lst:\n",
        "    try:\n",
        "        num_lst.append(int(i))\n",
        "    except:\n",
        "        print(\"정수형으로 변환되지 않습니다\")\n",
        "        num_lst.append(int(float(i)))\n",
        "num_lst"
      ],
      "metadata": {
        "colab": {
          "base_uri": "https://localhost:8080/"
        },
        "id": "blK5MKJc5wjF",
        "outputId": "a116bf1d-8359-41c4-9892-a1f73393f8c5"
      },
      "execution_count": null,
      "outputs": [
        {
          "output_type": "stream",
          "name": "stdout",
          "text": [
            "정수형으로 변환되지 않습니다\n",
            "정수형으로 변환되지 않습니다\n"
          ]
        },
        {
          "output_type": "execute_result",
          "data": {
            "text/plain": [
              "[3, 5, 3, 3, 10]"
            ]
          },
          "metadata": {},
          "execution_count": 24
        }
      ]
    },
    {
      "cell_type": "markdown",
      "source": [
        "- 여러 개의 예외가 발생할 수 있거나 어떤 예외가 발생할지 알 수 없을 때\n",
        "    - Exception e"
      ],
      "metadata": {
        "id": "gqI9ECR3AFQ9"
      }
    },
    {
      "cell_type": "markdown",
      "source": [
        "- else 문\n",
        "    - 해당 예외가 발생하지 않을 경우에 수행할 코드"
      ],
      "metadata": {
        "id": "0Rppat40AoXO"
      }
    },
    {
      "cell_type": "code",
      "source": [
        "n = 100\n",
        "for i in range(10):\n",
        "    try:\n",
        "        result = n/i\n",
        "    except ZeroDivisionError as e:\n",
        "        print(e)\n",
        "    else:\n",
        "        result **= 2\n",
        "        print(result)"
      ],
      "metadata": {
        "colab": {
          "base_uri": "https://localhost:8080/"
        },
        "id": "l2MmWTm97LNX",
        "outputId": "314e02d4-72a5-434a-dac5-09119d9c0eca"
      },
      "execution_count": null,
      "outputs": [
        {
          "output_type": "stream",
          "name": "stdout",
          "text": [
            "division by zero\n",
            "10000.0\n",
            "2500.0\n",
            "1111.1111111111113\n",
            "625.0\n",
            "400.0\n",
            "277.7777777777778\n",
            "204.08163265306123\n",
            "156.25\n",
            "123.45679012345678\n"
          ]
        }
      ]
    },
    {
      "cell_type": "markdown",
      "source": [
        "- finally문\n",
        "    - 예외 발생여부와 상관없이 무조건 수행할 코드"
      ],
      "metadata": {
        "id": "wR8xzF94BjSG"
      }
    },
    {
      "cell_type": "code",
      "source": [
        "for n in range(3):\n",
        "    try:\n",
        "        result = 100/n\n",
        "    except ZeroDivisionError as e:\n",
        "        print(e)\n",
        "    else:\n",
        "        print(\"연산되었습니다.\")\n",
        "    finally:\n",
        "        print(\"처리완료\")"
      ],
      "metadata": {
        "colab": {
          "base_uri": "https://localhost:8080/"
        },
        "id": "yqsoTh3_BNIf",
        "outputId": "3398899d-4f6c-424c-8b0f-b5f6bb1c246c"
      },
      "execution_count": null,
      "outputs": [
        {
          "output_type": "stream",
          "name": "stdout",
          "text": [
            "division by zero\n",
            "처리완료\n",
            "연산되었습니다.\n",
            "처리완료\n",
            "연산되었습니다.\n",
            "처리완료\n"
          ]
        }
      ]
    },
    {
      "cell_type": "markdown",
      "source": [
        "- 정리\n",
        "```\n",
        "try:\n",
        "    예외 발생 가능성이 있는 실행코드\n",
        "except:\n",
        "    예외 발생시 실행 코드\n",
        "else:\n",
        "    예외 발생하지 않았을 경우 실행코드\n",
        "finally:\n",
        "    예외 발생 여부와 상관없이 항상 실행할 코드\n",
        "```"
      ],
      "metadata": {
        "id": "FZ1DbhMJCPp9"
      }
    },
    {
      "cell_type": "markdown",
      "source": [
        "```\n",
        "- 숫자형태의 문자열을 담은 리스트가 있다.\n",
        "- 정수형으로 변환해서 새로운 리스트에 담자,\n",
        "- 정수형으로 변환 시, 예외가 발생하지 않을 경우\n",
        "\"정상적으로 정수형으로 변경합니다.\" 출력\n",
        "- 예외 발생시 \"정수형으로 변환되지 않습니다. 실수형으로 변환후에 시도하겠습니다.\" 라는 출력과 함께 실수형으로 변경해서 다시 정수형으로 변경하는 코드를 작성\n",
        "- 예외 발생여부와 상관없이 \"정수형으로 변환 및 저장 완료\"를 출력\n",
        "```"
      ],
      "metadata": {
        "id": "lpJGJZEGCuO6"
      }
    },
    {
      "cell_type": "code",
      "source": [
        "lst = [\"3\",\"5\",\"3.\",\"3.0\",\"10\"]\n",
        "num_lst = []\n",
        "\n",
        "for i in lst:\n",
        "    try:\n",
        "        num_lst.append(int(i))\n",
        "    except:\n",
        "        print(\"정수형으로 변환되지 않습니다. 실수형으로 변환후에 시도하겠습니다.\")\n",
        "        num_lst.append(int(float(i)))\n",
        "    else:\n",
        "        print(\"정상적으로 정수형으로 변경합니다.\")\n",
        "    finally:\n",
        "        print(\"정수형으로 변환 및 저장 완료\")\n",
        "num_lst"
      ],
      "metadata": {
        "colab": {
          "base_uri": "https://localhost:8080/"
        },
        "id": "M_xn9hS4B-WB",
        "outputId": "f435fdf1-26fe-43a5-cac0-e180f17e5589"
      },
      "execution_count": null,
      "outputs": [
        {
          "output_type": "stream",
          "name": "stdout",
          "text": [
            "정상적으로 정수형으로 변경합니다.\n",
            "정수형으로 변환 및 저장 완료\n",
            "정상적으로 정수형으로 변경합니다.\n",
            "정수형으로 변환 및 저장 완료\n",
            "정수형으로 변환되지 않습니다. 실수형으로 변환후에 시도하겠습니다.\n",
            "정수형으로 변환 및 저장 완료\n",
            "정수형으로 변환되지 않습니다. 실수형으로 변환후에 시도하겠습니다.\n",
            "정수형으로 변환 및 저장 완료\n",
            "정상적으로 정수형으로 변경합니다.\n",
            "정수형으로 변환 및 저장 완료\n"
          ]
        },
        {
          "output_type": "execute_result",
          "data": {
            "text/plain": [
              "[3, 5, 3, 3, 10]"
            ]
          },
          "metadata": {},
          "execution_count": 28
        }
      ]
    },
    {
      "cell_type": "markdown",
      "source": [
        "- raise 문\n",
        "    - 필요할 때 에러를 발생 시키는 코드\n",
        "    - if 문과 함께 많이 사용됨\n",
        "    - 메시지를 넣을 수 있음"
      ],
      "metadata": {
        "id": "9N9_81d3FrOk"
      }
    },
    {
      "cell_type": "code",
      "source": [
        "num = 0\n",
        "if num == 0:\n",
        "    raise ValueError(\"0으로 나눌 수 없다.\")"
      ],
      "metadata": {
        "colab": {
          "base_uri": "https://localhost:8080/",
          "height": 201
        },
        "id": "-ONcFCi5DqdW",
        "outputId": "c7864286-b0b4-448d-e6ae-ed94265f9354"
      },
      "execution_count": null,
      "outputs": [
        {
          "output_type": "error",
          "ename": "ValueError",
          "evalue": "ignored",
          "traceback": [
            "\u001b[0;31m---------------------------------------------------------------------------\u001b[0m",
            "\u001b[0;31mValueError\u001b[0m                                Traceback (most recent call last)",
            "\u001b[0;32m<ipython-input-30-f12e70b4f794>\u001b[0m in \u001b[0;36m<module>\u001b[0;34m()\u001b[0m\n\u001b[1;32m      1\u001b[0m \u001b[0mnum\u001b[0m \u001b[0;34m=\u001b[0m \u001b[0;36m0\u001b[0m\u001b[0;34m\u001b[0m\u001b[0;34m\u001b[0m\u001b[0m\n\u001b[1;32m      2\u001b[0m \u001b[0;32mif\u001b[0m \u001b[0mnum\u001b[0m \u001b[0;34m==\u001b[0m \u001b[0;36m0\u001b[0m\u001b[0;34m:\u001b[0m\u001b[0;34m\u001b[0m\u001b[0;34m\u001b[0m\u001b[0m\n\u001b[0;32m----> 3\u001b[0;31m     \u001b[0;32mraise\u001b[0m \u001b[0mValueError\u001b[0m\u001b[0;34m(\u001b[0m\u001b[0;34m\"0으로 나눌 수 없다.\"\u001b[0m\u001b[0;34m)\u001b[0m\u001b[0;34m\u001b[0m\u001b[0;34m\u001b[0m\u001b[0m\n\u001b[0m",
            "\u001b[0;31mValueError\u001b[0m: 0으로 나눌 수 없다."
          ]
        }
      ]
    },
    {
      "cell_type": "markdown",
      "source": [
        "```\n",
        "두개의 정수를 인수로 받아 나누는 함수를 작성\n",
        "두번째 인수가 1보다 작을 때 ValueError 발생시키고\n",
        "\"1이상의 정수만 입력하세요.\" 출력\n",
        "```"
      ],
      "metadata": {
        "id": "sOT-5zgRGb9U"
      }
    },
    {
      "cell_type": "code",
      "source": [
        "class Div: \n",
        "    def cal(a,b):\n",
        "        if b < 1:\n",
        "            raise ValueError(\"1이상의 정수만 입력하세요.\")\n",
        "        \n",
        "        result = a/b\n",
        "\n",
        "        return result\n",
        "\n",
        "a = Div\n",
        "a.cal(6,0)"
      ],
      "metadata": {
        "colab": {
          "base_uri": "https://localhost:8080/",
          "height": 322
        },
        "id": "OBinzgmmGDry",
        "outputId": "700a2826-6dcf-43b2-eff4-d836adbb631d"
      },
      "execution_count": null,
      "outputs": [
        {
          "output_type": "error",
          "ename": "ValueError",
          "evalue": "ignored",
          "traceback": [
            "\u001b[0;31m---------------------------------------------------------------------------\u001b[0m",
            "\u001b[0;31mValueError\u001b[0m                                Traceback (most recent call last)",
            "\u001b[0;32m<ipython-input-36-bfb8cb97af4a>\u001b[0m in \u001b[0;36m<module>\u001b[0;34m()\u001b[0m\n\u001b[1;32m     11\u001b[0m \u001b[0;34m\u001b[0m\u001b[0m\n\u001b[1;32m     12\u001b[0m \u001b[0ma\u001b[0m \u001b[0;34m=\u001b[0m \u001b[0mDiv\u001b[0m\u001b[0;34m\u001b[0m\u001b[0;34m\u001b[0m\u001b[0m\n\u001b[0;32m---> 13\u001b[0;31m \u001b[0ma\u001b[0m\u001b[0;34m.\u001b[0m\u001b[0mcal\u001b[0m\u001b[0;34m(\u001b[0m\u001b[0;36m6\u001b[0m\u001b[0;34m,\u001b[0m\u001b[0;36m0\u001b[0m\u001b[0;34m)\u001b[0m\u001b[0;34m\u001b[0m\u001b[0;34m\u001b[0m\u001b[0m\n\u001b[0m",
            "\u001b[0;32m<ipython-input-36-bfb8cb97af4a>\u001b[0m in \u001b[0;36mcal\u001b[0;34m(a, b)\u001b[0m\n\u001b[1;32m      2\u001b[0m     \u001b[0;32mdef\u001b[0m \u001b[0mcal\u001b[0m\u001b[0;34m(\u001b[0m\u001b[0ma\u001b[0m\u001b[0;34m,\u001b[0m\u001b[0mb\u001b[0m\u001b[0;34m)\u001b[0m\u001b[0;34m:\u001b[0m\u001b[0;34m\u001b[0m\u001b[0;34m\u001b[0m\u001b[0m\n\u001b[1;32m      3\u001b[0m         \u001b[0;32mif\u001b[0m \u001b[0mb\u001b[0m \u001b[0;34m<\u001b[0m \u001b[0;36m1\u001b[0m\u001b[0;34m:\u001b[0m\u001b[0;34m\u001b[0m\u001b[0;34m\u001b[0m\u001b[0m\n\u001b[0;32m----> 4\u001b[0;31m             \u001b[0;32mraise\u001b[0m \u001b[0mValueError\u001b[0m\u001b[0;34m(\u001b[0m\u001b[0;34m\"1이상의 정수만 입력하세요.\"\u001b[0m\u001b[0;34m)\u001b[0m\u001b[0;34m\u001b[0m\u001b[0;34m\u001b[0m\u001b[0m\n\u001b[0m\u001b[1;32m      5\u001b[0m \u001b[0;34m\u001b[0m\u001b[0m\n\u001b[1;32m      6\u001b[0m         \u001b[0mresult\u001b[0m \u001b[0;34m=\u001b[0m \u001b[0ma\u001b[0m\u001b[0;34m/\u001b[0m\u001b[0mb\u001b[0m\u001b[0;34m\u001b[0m\u001b[0;34m\u001b[0m\u001b[0m\n",
            "\u001b[0;31mValueError\u001b[0m: 1이상의 정수만 입력하세요."
          ]
        }
      ]
    },
    {
      "cell_type": "markdown",
      "source": [
        "- assert 문\n",
        "    - 조건이 거짓일 경우 오류를 발생시킴"
      ],
      "metadata": {
        "id": "tlHHQrHDIjCY"
      }
    },
    {
      "cell_type": "code",
      "source": [
        "def div(n1,n2):\n",
        "    assert n2 > 0, \"1이상의 정수만 입력하세요\"\n",
        "    return n1/n2\n",
        "div(1,-1)"
      ],
      "metadata": {
        "colab": {
          "base_uri": "https://localhost:8080/",
          "height": 305
        },
        "id": "E6ALED_6Ho-w",
        "outputId": "8eb038ba-3907-41a5-857a-cb30e062a4ce"
      },
      "execution_count": null,
      "outputs": [
        {
          "output_type": "error",
          "ename": "AssertionError",
          "evalue": "ignored",
          "traceback": [
            "\u001b[0;31m---------------------------------------------------------------------------\u001b[0m",
            "\u001b[0;31mAssertionError\u001b[0m                            Traceback (most recent call last)",
            "\u001b[0;32m<ipython-input-37-266fa08c2bf1>\u001b[0m in \u001b[0;36m<module>\u001b[0;34m()\u001b[0m\n\u001b[1;32m      2\u001b[0m     \u001b[0;32massert\u001b[0m \u001b[0mn2\u001b[0m \u001b[0;34m>\u001b[0m \u001b[0;36m0\u001b[0m\u001b[0;34m,\u001b[0m \u001b[0;34m\"1이상의 정수만 입력하세요\"\u001b[0m\u001b[0;34m\u001b[0m\u001b[0;34m\u001b[0m\u001b[0m\n\u001b[1;32m      3\u001b[0m     \u001b[0;32mreturn\u001b[0m \u001b[0mn1\u001b[0m\u001b[0;34m/\u001b[0m\u001b[0mn2\u001b[0m\u001b[0;34m\u001b[0m\u001b[0;34m\u001b[0m\u001b[0m\n\u001b[0;32m----> 4\u001b[0;31m \u001b[0mdiv\u001b[0m\u001b[0;34m(\u001b[0m\u001b[0;36m1\u001b[0m\u001b[0;34m,\u001b[0m\u001b[0;34m-\u001b[0m\u001b[0;36m1\u001b[0m\u001b[0;34m)\u001b[0m\u001b[0;34m\u001b[0m\u001b[0;34m\u001b[0m\u001b[0m\n\u001b[0m",
            "\u001b[0;32m<ipython-input-37-266fa08c2bf1>\u001b[0m in \u001b[0;36mdiv\u001b[0;34m(n1, n2)\u001b[0m\n\u001b[1;32m      1\u001b[0m \u001b[0;32mdef\u001b[0m \u001b[0mdiv\u001b[0m\u001b[0;34m(\u001b[0m\u001b[0mn1\u001b[0m\u001b[0;34m,\u001b[0m\u001b[0mn2\u001b[0m\u001b[0;34m)\u001b[0m\u001b[0;34m:\u001b[0m\u001b[0;34m\u001b[0m\u001b[0;34m\u001b[0m\u001b[0m\n\u001b[0;32m----> 2\u001b[0;31m     \u001b[0;32massert\u001b[0m \u001b[0mn2\u001b[0m \u001b[0;34m>\u001b[0m \u001b[0;36m0\u001b[0m\u001b[0;34m,\u001b[0m \u001b[0;34m\"1이상의 정수만 입력하세요\"\u001b[0m\u001b[0;34m\u001b[0m\u001b[0;34m\u001b[0m\u001b[0m\n\u001b[0m\u001b[1;32m      3\u001b[0m     \u001b[0;32mreturn\u001b[0m \u001b[0mn1\u001b[0m\u001b[0;34m/\u001b[0m\u001b[0mn2\u001b[0m\u001b[0;34m\u001b[0m\u001b[0;34m\u001b[0m\u001b[0m\n\u001b[1;32m      4\u001b[0m \u001b[0mdiv\u001b[0m\u001b[0;34m(\u001b[0m\u001b[0;36m1\u001b[0m\u001b[0;34m,\u001b[0m\u001b[0;34m-\u001b[0m\u001b[0;36m1\u001b[0m\u001b[0;34m)\u001b[0m\u001b[0;34m\u001b[0m\u001b[0;34m\u001b[0m\u001b[0m\n",
            "\u001b[0;31mAssertionError\u001b[0m: 1이상의 정수만 입력하세요"
          ]
        }
      ]
    }
  ]
}
