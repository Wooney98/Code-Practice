{
  "nbformat": 4,
  "nbformat_minor": 0,
  "metadata": {
    "colab": {
      "provenance": [],
      "collapsed_sections": [],
      "authorship_tag": "ABX9TyN2YFi2z0VcUSR3BRv4nVFW",
      "include_colab_link": true
    },
    "kernelspec": {
      "name": "python3",
      "display_name": "Python 3"
    },
    "language_info": {
      "name": "python"
    }
  },
  "cells": [
    {
      "cell_type": "markdown",
      "metadata": {
        "id": "view-in-github",
        "colab_type": "text"
      },
      "source": [
        "<a href=\"https://colab.research.google.com/github/Wooney98/Code-Practice/blob/main/09_%EC%A0%9C%EB%84%88%EB%A0%88%EC%9D%B4%ED%84%B0.ipynb\" target=\"_parent\"><img src=\"https://colab.research.google.com/assets/colab-badge.svg\" alt=\"Open In Colab\"/></a>"
      ]
    },
    {
      "cell_type": "markdown",
      "source": [
        "# iterable & iterator\n",
        "- `iterable` 객체 : 반복 가능한 객체(list, dictionary, set, tuple, str, range...)\n",
        "- `iterator` 객체 : 값을 차례대로 꺼낼 수 있는 객체\n",
        "    - 다 꺼낼때 데이터를 메모리에 생성해주는 방식\n",
        "    - 꺼내고 나서 사라진다.\n"
      ],
      "metadata": {
        "id": "oYJZNmaj72fo"
      }
    },
    {
      "cell_type": "markdown",
      "source": [
        "- iter 함수\n",
        "    - iterable 한 객체를 iterator한 객체로 변환"
      ],
      "metadata": {
        "id": "8286FZ8W9Gh2"
      }
    },
    {
      "cell_type": "code",
      "source": [
        "lst = [1,2,3]\n",
        "iterator = iter(lst)\n",
        "type(iterator)"
      ],
      "metadata": {
        "colab": {
          "base_uri": "https://localhost:8080/"
        },
        "id": "BwsRody19En6",
        "outputId": "63c5bae5-a0af-401e-f2a5-755737a19f44"
      },
      "execution_count": null,
      "outputs": [
        {
          "output_type": "execute_result",
          "data": {
            "text/plain": [
              "list_iterator"
            ]
          },
          "metadata": {},
          "execution_count": 1
        }
      ]
    },
    {
      "cell_type": "markdown",
      "source": [
        "- for 문은 iterable, iterator 객체를 모두 반복해준다."
      ],
      "metadata": {
        "id": "-GAL9Mxp9Sfy"
      }
    },
    {
      "cell_type": "code",
      "source": [
        "for i in lst:\n",
        "    print(i)"
      ],
      "metadata": {
        "colab": {
          "base_uri": "https://localhost:8080/"
        },
        "id": "McmAoIhh9EfG",
        "outputId": "8c5a708c-c8db-45fd-be3c-e496d034ae42"
      },
      "execution_count": null,
      "outputs": [
        {
          "output_type": "stream",
          "name": "stdout",
          "text": [
            "1\n",
            "2\n",
            "3\n"
          ]
        }
      ]
    },
    {
      "cell_type": "code",
      "source": [
        "for i in iterator:\n",
        "    print(i)"
      ],
      "metadata": {
        "id": "1-rlZ3rB9EXL"
      },
      "execution_count": null,
      "outputs": []
    },
    {
      "cell_type": "markdown",
      "source": [
        "- next 함수\n",
        "    - iterator 객체를 순서대로 하나씩 거내주는 함수"
      ],
      "metadata": {
        "id": "NcTdUqOd9v8J"
      }
    },
    {
      "cell_type": "code",
      "source": [
        "lst = [1,2,3]\n",
        "iterator = iter(lst)\n",
        "\n",
        "print(next(iterator))\n",
        "print(next(iterator))\n",
        "print(next(iterator))\n",
        "#print(next(iterator)) # 더이상 꺼낼수 없어서 에러 발생"
      ],
      "metadata": {
        "colab": {
          "base_uri": "https://localhost:8080/"
        },
        "id": "WoR0IynQ9iHn",
        "outputId": "3fb2f5b2-0dc5-4fd5-eca9-e0d30902fcb4"
      },
      "execution_count": null,
      "outputs": [
        {
          "output_type": "stream",
          "name": "stdout",
          "text": [
            "1\n",
            "2\n",
            "3\n"
          ]
        }
      ]
    },
    {
      "cell_type": "code",
      "source": [
        "iterator = zip([1,2,3],[4,5,6])\n",
        "print(next(iterator))\n",
        "print(next(iterator))\n",
        "print(next(iterator))\n",
        "#print(next(iterator)) # 에러발생"
      ],
      "metadata": {
        "colab": {
          "base_uri": "https://localhost:8080/"
        },
        "id": "KDIAQkHY93Em",
        "outputId": "63fb25cf-3cca-4295-a7b0-2a70714057e7"
      },
      "execution_count": null,
      "outputs": [
        {
          "output_type": "stream",
          "name": "stdout",
          "text": [
            "(1, 4)\n",
            "(2, 5)\n",
            "(3, 6)\n"
          ]
        }
      ]
    },
    {
      "cell_type": "code",
      "source": [
        "iterator = enumerate([1,2,3])\n",
        "print(next(iterator))\n",
        "print(next(iterator))\n",
        "print(next(iterator))\n",
        "#print(next(iterator)) # 에러발생"
      ],
      "metadata": {
        "colab": {
          "base_uri": "https://localhost:8080/"
        },
        "id": "Mbt6ypSp93CB",
        "outputId": "b2fa40e1-78a0-4518-89ad-68b5900c1286"
      },
      "execution_count": null,
      "outputs": [
        {
          "output_type": "stream",
          "name": "stdout",
          "text": [
            "(0, 1)\n",
            "(1, 2)\n",
            "(2, 3)\n"
          ]
        }
      ]
    },
    {
      "cell_type": "code",
      "source": [
        "iterator = zip([1,2,3],[4,5,6])"
      ],
      "metadata": {
        "id": "Byi-RpJ792_1"
      },
      "execution_count": null,
      "outputs": []
    },
    {
      "cell_type": "code",
      "source": [
        "for n1,n2 in iterator:\n",
        "    print(n1,n2)      # 2번 실행하면 아무것도 출력안함"
      ],
      "metadata": {
        "colab": {
          "base_uri": "https://localhost:8080/"
        },
        "id": "pbVMmdE5929O",
        "outputId": "b64dcf94-6934-412f-c0dd-d92d0f2dae6c"
      },
      "execution_count": null,
      "outputs": [
        {
          "output_type": "stream",
          "name": "stdout",
          "text": [
            "1 4\n",
            "2 5\n",
            "3 6\n"
          ]
        }
      ]
    },
    {
      "cell_type": "markdown",
      "source": [
        "# Generator란\n",
        "- iterator를 생성해주는 표현식\n",
        "- iterator와 같은 동작을 하는 객체"
      ],
      "metadata": {
        "id": "-O_-HZuw_7ay"
      }
    },
    {
      "cell_type": "markdown",
      "source": [
        "- 소괄호를 이용한 제너레이터 객체 만들기"
      ],
      "metadata": {
        "id": "S8ZO2rYcAf-J"
      }
    },
    {
      "cell_type": "code",
      "source": [
        "gen = (x for x in range(3))\n",
        "type(gen)"
      ],
      "metadata": {
        "colab": {
          "base_uri": "https://localhost:8080/"
        },
        "id": "V3smsCt0925y",
        "outputId": "fbb13d67-0e5b-4470-fc96-d564b5bd1a1c"
      },
      "execution_count": null,
      "outputs": [
        {
          "output_type": "execute_result",
          "data": {
            "text/plain": [
              "generator"
            ]
          },
          "metadata": {},
          "execution_count": 20
        }
      ]
    },
    {
      "cell_type": "code",
      "source": [
        "print(next(gen))\n",
        "print(next(gen))\n",
        "print(next(gen))\n",
        "#print(next(gen)) # 에러발생"
      ],
      "metadata": {
        "colab": {
          "base_uri": "https://localhost:8080/"
        },
        "id": "mQVbODwuA3_0",
        "outputId": "0b6347ba-e155-4c6a-843c-08996f3c5eed"
      },
      "execution_count": null,
      "outputs": [
        {
          "output_type": "stream",
          "name": "stdout",
          "text": [
            "0\n",
            "1\n",
            "2\n"
          ]
        }
      ]
    },
    {
      "cell_type": "code",
      "source": [
        "map_obj = map(lambda x: x, range(3)) # (x for x in range(3))\n",
        "print(next(map_obj))\n",
        "print(next(map_obj))\n",
        "print(next(map_obj))\n",
        "#print(next(map_obj)) # 에러발생"
      ],
      "metadata": {
        "colab": {
          "base_uri": "https://localhost:8080/"
        },
        "id": "DOfdx8_vA8c0",
        "outputId": "903fb9d4-ed41-45a3-8319-ba3bcbc46251"
      },
      "execution_count": null,
      "outputs": [
        {
          "output_type": "stream",
          "name": "stdout",
          "text": [
            "0\n",
            "1\n",
            "2\n"
          ]
        }
      ]
    },
    {
      "cell_type": "markdown",
      "source": [
        "- 메모리 사이즈 비교"
      ],
      "metadata": {
        "id": "Mwvql7NpBmrh"
      }
    },
    {
      "cell_type": "code",
      "source": [
        "import sys\n",
        "\n",
        "gen = (x for x in range(1000000))\n",
        "lst = list(range(1000000))\n",
        "\n",
        "sys.getsizeof(gen), sys.getsizeof(lst)"
      ],
      "metadata": {
        "colab": {
          "base_uri": "https://localhost:8080/"
        },
        "id": "hiwI5eNdBeui",
        "outputId": "b057ca50-4b3f-4b9d-c5dc-c41642ea040a"
      },
      "execution_count": null,
      "outputs": [
        {
          "output_type": "execute_result",
          "data": {
            "text/plain": [
              "(128, 9000120)"
            ]
          },
          "metadata": {},
          "execution_count": 26
        }
      ]
    },
    {
      "cell_type": "code",
      "source": [
        "%%timeit\n",
        "lst = list(range(1000000))\n",
        "tmp = []\n",
        "for data in lst:\n",
        "    tmp.append(data)"
      ],
      "metadata": {
        "colab": {
          "base_uri": "https://localhost:8080/"
        },
        "id": "fhV2QIYWCHy9",
        "outputId": "52dec993-eb07-412b-f14d-7aaf61997b29"
      },
      "execution_count": null,
      "outputs": [
        {
          "output_type": "stream",
          "name": "stdout",
          "text": [
            "10 loops, best of 5: 121 ms per loop\n"
          ]
        }
      ]
    },
    {
      "cell_type": "code",
      "source": [
        "%%timeit\n",
        "gen = (x for x in range(1000000))\n",
        "tmp = []\n",
        "for data in gen:\n",
        "    tmp.append(data)"
      ],
      "metadata": {
        "colab": {
          "base_uri": "https://localhost:8080/"
        },
        "id": "a-igMdthCplK",
        "outputId": "78dacffe-6e50-4d85-fbf5-f3a4ecdc57f3"
      },
      "execution_count": null,
      "outputs": [
        {
          "output_type": "stream",
          "name": "stdout",
          "text": [
            "10 loops, best of 5: 150 ms per loop\n"
          ]
        }
      ]
    },
    {
      "cell_type": "markdown",
      "source": [
        "```\n",
        "소괄호를 이용해서 0~300 까지의 숫자들 중 3의 배수만 꺼내는 제너레이터 객체 생성하시오.\n",
        "```"
      ],
      "metadata": {
        "id": "WW3Q7HQyDKd8"
      }
    },
    {
      "cell_type": "code",
      "source": [
        "gen = (x for x in range(3,301,3))\n",
        "for data in gen:\n",
        "    if data >10:\n",
        "        break\n",
        "    print(data)"
      ],
      "metadata": {
        "colab": {
          "base_uri": "https://localhost:8080/"
        },
        "id": "IrVgNi5JFFJl",
        "outputId": "ce001841-2b92-453d-f673-11a00447eb48"
      },
      "execution_count": null,
      "outputs": [
        {
          "output_type": "stream",
          "name": "stdout",
          "text": [
            "3\n",
            "6\n",
            "9\n"
          ]
        }
      ]
    },
    {
      "cell_type": "code",
      "source": [
        "lst = [20,40,60,80,34,90,10]\n",
        "gen = (x**0.5 for x in lst)\n",
        "for i in gen:\n",
        "    print(i)"
      ],
      "metadata": {
        "colab": {
          "base_uri": "https://localhost:8080/"
        },
        "id": "YTpEB-r4EBWO",
        "outputId": "4c3eb328-6f8e-4b27-ae33-8e36f9c5dbd0"
      },
      "execution_count": null,
      "outputs": [
        {
          "output_type": "stream",
          "name": "stdout",
          "text": [
            "4.47213595499958\n",
            "6.324555320336759\n",
            "7.745966692414834\n",
            "8.94427190999916\n",
            "5.830951894845301\n",
            "9.486832980505138\n",
            "3.1622776601683795\n"
          ]
        }
      ]
    },
    {
      "cell_type": "markdown",
      "source": [
        "## 함수를 이용한 제너레이터 객체 만들기\n",
        "- `yield` 문"
      ],
      "metadata": {
        "id": "XRERcMoR28d3"
      }
    },
    {
      "cell_type": "code",
      "source": [
        "def gen_func():\n",
        "    yield 1\n",
        "    yield 2\n",
        "    yield 3"
      ],
      "metadata": {
        "id": "jlMw9WkJ3BI6"
      },
      "execution_count": null,
      "outputs": []
    },
    {
      "cell_type": "code",
      "source": [
        "gen = gen_func()\n",
        "type(gen)"
      ],
      "metadata": {
        "colab": {
          "base_uri": "https://localhost:8080/"
        },
        "id": "T8GSdEEY3GdK",
        "outputId": "82ac4127-0a46-4f86-cf06-dc9d1ae2a8c5"
      },
      "execution_count": null,
      "outputs": [
        {
          "output_type": "execute_result",
          "data": {
            "text/plain": [
              "generator"
            ]
          },
          "metadata": {},
          "execution_count": 2
        }
      ]
    },
    {
      "cell_type": "code",
      "source": [
        "print(next(gen))\n",
        "print(next(gen))\n",
        "print(next(gen))"
      ],
      "metadata": {
        "colab": {
          "base_uri": "https://localhost:8080/"
        },
        "id": "v0-jona03Jkq",
        "outputId": "7ddf9000-5e2b-4486-8d3b-31ce6deaa8de"
      },
      "execution_count": null,
      "outputs": [
        {
          "output_type": "stream",
          "name": "stdout",
          "text": [
            "1\n",
            "2\n",
            "3\n"
          ]
        }
      ]
    },
    {
      "cell_type": "code",
      "source": [
        "def gen_func(num):\n",
        "    for i in range(num):\n",
        "        yield i"
      ],
      "metadata": {
        "id": "qkBnA9o2FUY_"
      },
      "execution_count": null,
      "outputs": []
    },
    {
      "cell_type": "code",
      "source": [
        "gen = gen_func(5)\n",
        "type(gen)"
      ],
      "metadata": {
        "colab": {
          "base_uri": "https://localhost:8080/"
        },
        "id": "jYiHjNy3KP3X",
        "outputId": "c4c1e12c-723b-4847-80c4-aff122f66a64"
      },
      "execution_count": null,
      "outputs": [
        {
          "output_type": "execute_result",
          "data": {
            "text/plain": [
              "generator"
            ]
          },
          "metadata": {},
          "execution_count": 43
        }
      ]
    },
    {
      "cell_type": "code",
      "source": [
        "for n in gen:\n",
        "    print(n)"
      ],
      "metadata": {
        "colab": {
          "base_uri": "https://localhost:8080/"
        },
        "id": "OHblZLwWKSgh",
        "outputId": "f3d6ebf9-df3a-401e-dfd9-3337d17acfb8"
      },
      "execution_count": null,
      "outputs": [
        {
          "output_type": "stream",
          "name": "stdout",
          "text": [
            "0\n",
            "1\n",
            "2\n",
            "3\n",
            "4\n"
          ]
        }
      ]
    },
    {
      "cell_type": "markdown",
      "source": [
        "```\n",
        "리스트를 입력 받아 None 값을 제외하고 꺼내주는 제너레이터를 생성하시오\n",
        "yield 문을 이용해서 함수로 만드세요.\n",
        "\n",
        "ex)\n",
        "lst = [\"사과\",\"딸기\",None,\"참외\",None,\"수박\"]\n",
        "\n",
        "gen = gen_list(lst)\n",
        "for s in gen:\n",
        "    print(s)\n",
        "\n",
        "Output:\n",
        "사과\n",
        "딸기\n",
        "참외\n",
        "수박\n",
        "```"
      ],
      "metadata": {
        "id": "SaW94GKcKuoH"
      }
    },
    {
      "cell_type": "code",
      "source": [
        "def gen_func(x):\n",
        "    for i in x:\n",
        "        if i != None:\n",
        "            yield i\n",
        "\n",
        "lst = [\"사과\",\"딸기\",None,\"참외\",None,\"수박\"]\n",
        "\n",
        "gen = gen_func(lst)\n",
        "for s in gen:\n",
        "    print(s)"
      ],
      "metadata": {
        "colab": {
          "base_uri": "https://localhost:8080/"
        },
        "id": "srFsYCbXKUdd",
        "outputId": "2d47d6c4-7412-4bb3-a33f-02f6ab11bd54"
      },
      "execution_count": null,
      "outputs": [
        {
          "output_type": "stream",
          "name": "stdout",
          "text": [
            "사과\n",
            "딸기\n",
            "참외\n",
            "수박\n"
          ]
        }
      ]
    },
    {
      "cell_type": "markdown",
      "source": [
        "```\n",
        "enumerate 함수 구현해보기\n",
        "yield 문을 이용하여 gen_enumerate 이름의 함수로 enumerate 함수를 구현해보자.\n",
        "enumerate 함수가 없다는 가정하에 만들어보자.\n",
        "ex)\n",
        "def gen_enumerate(param):\n",
        "    pass\n",
        "lst = [50,70,80]\n",
        "for i,item in gen_enumerate(lst):\n",
        "    print(i,item)\n",
        "Output:\n",
        "0 50\n",
        "1 70\n",
        "2 80\n",
        "```"
      ],
      "metadata": {
        "id": "xOqyuGOiQHyO"
      }
    },
    {
      "cell_type": "code",
      "source": [
        "def gen_enumerate(lst):\n",
        "    for x,y in zip(range(len(lst)),lst):\n",
        "        yield x,y\n",
        "\n",
        "lst = [50,70,80]\n",
        "for i,item in gen_enumerate(lst):\n",
        "    print(i,item)"
      ],
      "metadata": {
        "colab": {
          "base_uri": "https://localhost:8080/"
        },
        "id": "2bKIMyguQoYz",
        "outputId": "3291403a-2b02-47f8-cf0a-fe985b2b6be7"
      },
      "execution_count": null,
      "outputs": [
        {
          "output_type": "stream",
          "name": "stdout",
          "text": [
            "0 50\n",
            "1 70\n",
            "2 80\n"
          ]
        }
      ]
    },
    {
      "cell_type": "markdown",
      "source": [
        "```\n",
        "zip 함수 구현해보기\n",
        "yield 문을 이용하여 gen_zip 이름의 함수로 zip 함수를 구현해보자.\n",
        "2개 이상의 리스트가 인수로 들어 온다고 가정하자.\n",
        "인수로 들어오는 리스트의 길이는 편의상 같은 길이가 들어온다고 가정하자.\n",
        "zip 함수가 없다는 가정하에 만들어보자.\n",
        "ex)\n",
        "def gen_zip(*args):\n",
        "    pass\n",
        "list1 = [50,70,80]\n",
        "list2 = [105,320,380]\n",
        "for item1,item2 in gen_zip(list1,list2):\n",
        "    print(item1,item2)\n",
        "Output:\n",
        "50 105\n",
        "70 320\n",
        "80 380\n",
        "```"
      ],
      "metadata": {
        "id": "6NeSlimAWo3Y"
      }
    },
    {
      "cell_type": "code",
      "source": [
        "list1 = [50,70,80]\n",
        "list2 = [105,320,380]\n",
        "\n",
        "def gen_zip(*args):\n",
        "    \n",
        "    for i in range(len(args[0])):\n",
        "        yield [lst[i] for lst in args]\n",
        "\n",
        "\n",
        "for item1,item2 in gen_zip(list1,list2):\n",
        "    print(item1,item2)"
      ],
      "metadata": {
        "colab": {
          "base_uri": "https://localhost:8080/"
        },
        "id": "zx687Fm0Wq-X",
        "outputId": "d30ad029-1529-439a-8f11-2c2ece7b1fd8"
      },
      "execution_count": null,
      "outputs": [
        {
          "output_type": "stream",
          "name": "stdout",
          "text": [
            "50 105\n",
            "70 320\n",
            "80 380\n"
          ]
        }
      ]
    },
    {
      "cell_type": "markdown",
      "source": [
        "- yield from 이용하여 제너레이터 만들기"
      ],
      "metadata": {
        "id": "BTGks1XteaFp"
      }
    },
    {
      "cell_type": "code",
      "source": [
        "def gen_func(num):\n",
        "    yield from range(num)\n",
        "\n",
        "gen = gen_func(5)\n",
        "\n",
        "for n in gen:\n",
        "    print(n)"
      ],
      "metadata": {
        "colab": {
          "base_uri": "https://localhost:8080/"
        },
        "id": "lzvCCQv5YWHO",
        "outputId": "196b4ce4-7f6d-4bcc-f28a-2f74ca002ff9"
      },
      "execution_count": null,
      "outputs": [
        {
          "output_type": "stream",
          "name": "stdout",
          "text": [
            "0\n",
            "1\n",
            "2\n",
            "3\n",
            "4\n"
          ]
        }
      ]
    },
    {
      "cell_type": "code",
      "source": [
        "def gen_func(num):\n",
        "    tmp = []\n",
        "    for i in lst:\n",
        "        tmp.append(i**2)\n",
        "    yield from tmp\n",
        "\n",
        "lst = list(range(10))\n",
        "gen = gen_func(lst)\n",
        "\n",
        "for n in gen:\n",
        "    print(n)                                                  "
      ],
      "metadata": {
        "colab": {
          "base_uri": "https://localhost:8080/"
        },
        "id": "fsz5Hr0deuIc",
        "outputId": "85f01703-d445-4920-949b-bf39bab22258"
      },
      "execution_count": null,
      "outputs": [
        {
          "output_type": "stream",
          "name": "stdout",
          "text": [
            "0\n",
            "1\n",
            "4\n",
            "9\n",
            "16\n",
            "25\n",
            "36\n",
            "49\n",
            "64\n",
            "81\n"
          ]
        }
      ]
    }
  ]
}
