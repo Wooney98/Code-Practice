{
  "nbformat": 4,
  "nbformat_minor": 0,
  "metadata": {
    "colab": {
      "provenance": [],
      "collapsed_sections": [],
      "include_colab_link": true
    },
    "kernelspec": {
      "name": "python3",
      "display_name": "Python 3"
    },
    "language_info": {
      "name": "python"
    }
  },
  "cells": [
    {
      "cell_type": "markdown",
      "metadata": {
        "id": "view-in-github",
        "colab_type": "text"
      },
      "source": [
        "<a href=\"https://colab.research.google.com/github/Wooney98/Code-Practice/blob/main/_Reward_.ipynb\" target=\"_parent\"><img src=\"https://colab.research.google.com/assets/colab-badge.svg\" alt=\"Open In Colab\"/></a>"
      ]
    },
    {
      "cell_type": "markdown",
      "source": [
        "1. 다음의 실행 결과에 대한 출력값을 적으시오.\n",
        "```python\n",
        "x = 1234\n",
        "y = 1234\n",
        "x is y\n",
        "```\n",
        "- 출력값: False"
      ],
      "metadata": {
        "id": "u1lgnghJN5DW"
      }
    },
    {
      "cell_type": "code",
      "source": [
        "x = 1234\n",
        "y = 1234\n",
        "x is y"
      ],
      "metadata": {
        "colab": {
          "base_uri": "https://localhost:8080/"
        },
        "id": "AXgmgXu4Xt5O",
        "outputId": "1aa9862f-189a-40c8-900c-9fd805eabce0"
      },
      "execution_count": null,
      "outputs": [
        {
          "output_type": "execute_result",
          "data": {
            "text/plain": [
              "False"
            ]
          },
          "metadata": {},
          "execution_count": 4
        }
      ]
    },
    {
      "cell_type": "markdown",
      "source": [
        "2. 다음의 실행 결과에 대한 출력값을 적으시오.\n",
        "```python\n",
        "x = 1234\n",
        "y = 1234\n",
        "x == y\n",
        "```\n",
        "- 출력값: True"
      ],
      "metadata": {
        "id": "PLCXFTH_OPAe"
      }
    },
    {
      "cell_type": "markdown",
      "source": [
        "3. 다음의 실행 결과에 대한 출력값을 적으시오.\n",
        "```python\n",
        "x = 1234\n",
        "y = x\n",
        "id(y) == id(x)\n",
        "```\n",
        "- 출력값:True"
      ],
      "metadata": {
        "id": "9CbZ1jf_PYIU"
      }
    },
    {
      "cell_type": "code",
      "source": [
        "x = 1234\n",
        "y = x\n",
        "id(y) == id(x)"
      ],
      "metadata": {
        "colab": {
          "base_uri": "https://localhost:8080/"
        },
        "id": "WEp6GY7ZWyZy",
        "outputId": "308277d5-8e00-4ee8-deff-eae1a3a84cea"
      },
      "execution_count": null,
      "outputs": [
        {
          "output_type": "execute_result",
          "data": {
            "text/plain": [
              "True"
            ]
          },
          "metadata": {},
          "execution_count": 3
        }
      ]
    },
    {
      "cell_type": "markdown",
      "source": [
        "4. 1번, 2번, 3번 문제의 출력값이 나오는 이유를 간단히 설명하시오.\n",
        "- 설명: \n",
        "- 1번 : x와y의 주소값이 서로 다름\n",
        "- 2번 : `==`비교연산자로 값이 같다.\n",
        "- 3번 : x와 y의 주소값은 같다."
      ],
      "metadata": {
        "id": "kwX9UoonOSRV"
      }
    },
    {
      "cell_type": "markdown",
      "source": [
        "5. 다음의 문장을 출력하시오.\n",
        "```\n",
        "관수가 말했다. \"점심 맛있게 드세요\".\n",
        "```"
      ],
      "metadata": {
        "id": "3tw0-V9VP0ce"
      }
    },
    {
      "cell_type": "code",
      "source": [
        "print('관수가 말했다. \"점심 맛있게 드세요\".')"
      ],
      "metadata": {
        "id": "-VknqsCq75Vh",
        "colab": {
          "base_uri": "https://localhost:8080/"
        },
        "outputId": "67c4a545-219b-4bbf-abee-c9c354efae69"
      },
      "execution_count": null,
      "outputs": [
        {
          "output_type": "stream",
          "name": "stdout",
          "text": [
            "관수가 말했다. \"점심 맛있게 드세요\".\n"
          ]
        }
      ]
    },
    {
      "cell_type": "markdown",
      "source": [
        "6. 다음의 코드에서 \\n 과 \\t 에 대한 설명을 작성하시오.\n",
        "```python\n",
        "print(\"안녕하세요.\\n만나서\\t반갑습니다.\")\n",
        "```\n",
        "- `\\n` 의미: 한줄 띄움 (Enter)\n",
        "- `\\t` 의미: 들여쓰기 (Tab)"
      ],
      "metadata": {
        "id": "IX8BGh8GU6DP"
      }
    },
    {
      "cell_type": "markdown",
      "source": [
        "7. print() 함수 파라미터를 이용해 다음을 출력해보세요.\n",
        "```\n",
        "링딩동링딩동/링디기딩디기딩딩딩/링딩동링딩동\n",
        "```"
      ],
      "metadata": {
        "id": "vLOB7qjaVFDg"
      }
    },
    {
      "cell_type": "code",
      "source": [
        "print(\"링딩동링딩동/링디기딩디기딩딩딩/링딩동링딩동\")"
      ],
      "metadata": {
        "id": "gmSwSIuN78WY",
        "colab": {
          "base_uri": "https://localhost:8080/"
        },
        "outputId": "273d51ba-000b-4110-a22c-27f5622fbe79"
      },
      "execution_count": null,
      "outputs": [
        {
          "output_type": "stream",
          "name": "stdout",
          "text": [
            "링딩동링딩동/링디기딩디기딩딩딩/링딩동링딩동\n"
          ]
        }
      ]
    },
    {
      "cell_type": "code",
      "source": [
        "print(\"링딩동링딩동\",\"링딩동링딩동\",sep=\"/\")"
      ],
      "metadata": {
        "colab": {
          "base_uri": "https://localhost:8080/"
        },
        "id": "_5vo0aqJT0-W",
        "outputId": "fc471572-b03a-4f8b-ccf1-9c27e3023432"
      },
      "execution_count": null,
      "outputs": [
        {
          "output_type": "stream",
          "name": "stdout",
          "text": [
            "링딩동링딩동/링딩동링딩동\n"
          ]
        }
      ]
    },
    {
      "cell_type": "markdown",
      "source": [
        "8. 다음의 변수들를 이용해서 예시와 같은 출력을 하시오\n",
        "```\n",
        "name = \"이관수\"\n",
        "age = 42\n",
        "```\n",
        "- 출력 예시: \n",
        "나의 이름은 이관수 입니다. 나이는 42살 이에요"
      ],
      "metadata": {
        "id": "SuO2eFqSVRvH"
      }
    },
    {
      "cell_type": "code",
      "source": [
        "name = \"이관수\"\n",
        "age = 42\n",
        "print(f\"나의 이름은 {name} 입니다. 나이는 {age}살 이에요\")"
      ],
      "metadata": {
        "id": "0OV971dc794w",
        "colab": {
          "base_uri": "https://localhost:8080/"
        },
        "outputId": "8dc2adb5-6eab-4839-ecf6-a11b092be01f"
      },
      "execution_count": null,
      "outputs": [
        {
          "output_type": "stream",
          "name": "stdout",
          "text": [
            "나의 이름은 이관수 입니다. 나이는 42살 이에요\n"
          ]
        }
      ]
    },
    {
      "cell_type": "markdown",
      "source": [
        "9. 위에서 만든 변수 name, age 의 타입을 확인하는 함수를 이용하여 각각의 타입을 확인해주세요."
      ],
      "metadata": {
        "id": "s9EAkbFrVyJg"
      }
    },
    {
      "cell_type": "code",
      "source": [
        "print(type(name))\n",
        "print(type(age))"
      ],
      "metadata": {
        "id": "k1ubbFqE7-rI",
        "colab": {
          "base_uri": "https://localhost:8080/"
        },
        "outputId": "73b89c07-2f11-41dd-839b-a9358f7e46ee"
      },
      "execution_count": null,
      "outputs": [
        {
          "output_type": "stream",
          "name": "stdout",
          "text": [
            "<class 'str'>\n",
            "<class 'int'>\n"
          ]
        }
      ]
    },
    {
      "cell_type": "markdown",
      "source": [
        "10. 변수 age를 문자열 자료형 으로 변경해서 age 변수에 다시 담으세요."
      ],
      "metadata": {
        "id": "xPPKBCrBV41e"
      }
    },
    {
      "cell_type": "code",
      "source": [
        "age = str(age)\n",
        "type(age)"
      ],
      "metadata": {
        "id": "0MQb_Ae28AH2",
        "colab": {
          "base_uri": "https://localhost:8080/"
        },
        "outputId": "e196e38e-582d-491c-af9b-e9e4023b53f3"
      },
      "execution_count": null,
      "outputs": [
        {
          "output_type": "execute_result",
          "data": {
            "text/plain": [
              "str"
            ]
          },
          "metadata": {},
          "execution_count": 13
        }
      ]
    },
    {
      "cell_type": "markdown",
      "source": [
        "11. 다음 변수에서 H, p, mas, ! 를 각각 출력해보세요.\n",
        "```python\n",
        "word = 'Happy Christmas!'\n",
        "```"
      ],
      "metadata": {
        "id": "9sqfa2VIWDmW"
      }
    },
    {
      "cell_type": "code",
      "source": [
        "word = 'Happy Christmas!'\n",
        "print(word[:1])  \n",
        "print(word[2:3])  \n",
        "print(word[-4:-1])  \n",
        "print(word[-1:])"
      ],
      "metadata": {
        "id": "jWINqHBW8Cve",
        "colab": {
          "base_uri": "https://localhost:8080/"
        },
        "outputId": "08de17aa-f1f7-4d67-c560-c7895724800b"
      },
      "execution_count": null,
      "outputs": [
        {
          "output_type": "stream",
          "name": "stdout",
          "text": [
            "H\n",
            "p\n",
            "mas\n",
            "!\n"
          ]
        }
      ]
    },
    {
      "cell_type": "markdown",
      "source": [
        "12. word 변수에서 메소드를 사용하여 Christmas!만 출력하세요."
      ],
      "metadata": {
        "id": "4Q02xTA7WRtm"
      }
    },
    {
      "cell_type": "code",
      "source": [
        "tmp=word.split()\n",
        "tmp[1]"
      ],
      "metadata": {
        "id": "Ma_oiL1Q8DU8",
        "colab": {
          "base_uri": "https://localhost:8080/",
          "height": 35
        },
        "outputId": "457bf8da-af7f-4e27-e5ec-1a289ed72054"
      },
      "execution_count": null,
      "outputs": [
        {
          "output_type": "execute_result",
          "data": {
            "text/plain": [
              "'Christmas!'"
            ],
            "application/vnd.google.colaboratory.intrinsic+json": {
              "type": "string"
            }
          },
          "metadata": {},
          "execution_count": 19
        }
      ]
    },
    {
      "cell_type": "markdown",
      "source": [
        "13. word 변수에 담긴 문자열을 슬라이싱을 이용하여 거꾸로 뒤집은 순서로 출력하세요."
      ],
      "metadata": {
        "id": "YDSxUxrmWYBu"
      }
    },
    {
      "cell_type": "code",
      "source": [
        "word[::-1]"
      ],
      "metadata": {
        "id": "wG673CRF8Dt1",
        "colab": {
          "base_uri": "https://localhost:8080/",
          "height": 35
        },
        "outputId": "55c8f1bd-b363-4ed9-c21f-66fb20f79e11"
      },
      "execution_count": null,
      "outputs": [
        {
          "output_type": "execute_result",
          "data": {
            "text/plain": [
              "'!samtsirhC yppaH'"
            ],
            "application/vnd.google.colaboratory.intrinsic+json": {
              "type": "string"
            }
          },
          "metadata": {},
          "execution_count": 17
        }
      ]
    },
    {
      "cell_type": "markdown",
      "source": [
        "14. word 변수의 공백 부분을 `-` 로 치환해 출력해주세요."
      ],
      "metadata": {
        "id": "M12yZnpyWhVG"
      }
    },
    {
      "cell_type": "code",
      "source": [
        "word.replace(' ','-')"
      ],
      "metadata": {
        "id": "KDKCBhN08EL1",
        "colab": {
          "base_uri": "https://localhost:8080/",
          "height": 35
        },
        "outputId": "bd5bf4c4-8f0e-44cc-c4a0-608acabe99f9"
      },
      "execution_count": null,
      "outputs": [
        {
          "output_type": "execute_result",
          "data": {
            "text/plain": [
              "'Happy-Christmas!'"
            ],
            "application/vnd.google.colaboratory.intrinsic+json": {
              "type": "string"
            }
          },
          "metadata": {},
          "execution_count": 16
        }
      ]
    },
    {
      "cell_type": "markdown",
      "source": [
        "15. 아래의 코드 실행결과의 출력값을 적으시오.\n",
        "\n",
        "```python\n",
        "a = \"15\"\n",
        "b = \"20\"\n",
        "print(a + b)\n",
        "```\n",
        "- 출력값 : \"1520\""
      ],
      "metadata": {
        "id": "vIDQgm-XWutv"
      }
    },
    {
      "cell_type": "markdown",
      "source": [
        "16. 아래의 코드 실행결과의 출력값을 적으시오.\n",
        "\n",
        "```python\n",
        " print(\"Hello\" * 3)\n",
        "```\n",
        "- 출력값 : Hello Hello Hello "
      ],
      "metadata": {
        "id": "kwDkXiDUXBaP"
      }
    },
    {
      "cell_type": "markdown",
      "source": [
        "17. 다음의 변수의 문자열을 모두 대문자로 출력하고 , 그다음에 모두 소문자로 출력하시오.\n",
        "```\n",
        "answer = 'Life is 42'\n",
        "```"
      ],
      "metadata": {
        "id": "-GDSu7TDXJ6m"
      }
    },
    {
      "cell_type": "code",
      "source": [
        "answer = 'Life is 42'\n",
        "print(answer.upper())\n",
        "print(answer.lower())"
      ],
      "metadata": {
        "id": "cAmJF0L98Ie5",
        "colab": {
          "base_uri": "https://localhost:8080/"
        },
        "outputId": "45072f16-8ed6-4f72-976b-6d449df07a59"
      },
      "execution_count": null,
      "outputs": [
        {
          "output_type": "stream",
          "name": "stdout",
          "text": [
            "LIFE IS 42\n",
            "life is 42\n"
          ]
        }
      ]
    },
    {
      "cell_type": "markdown",
      "source": [
        "18. answer 변수의 `42`라는 문자열로 시작하는지 여부와 끝나는지 여부를 확인해주세요."
      ],
      "metadata": {
        "id": "Mh4U0EL5XiiX"
      }
    },
    {
      "cell_type": "code",
      "source": [
        "print(answer.startswith('42'))\n",
        "print(answer.endswith('42'))"
      ],
      "metadata": {
        "id": "mezVh2oF8KfF",
        "colab": {
          "base_uri": "https://localhost:8080/"
        },
        "outputId": "d6d88a51-53ac-42dd-8e76-deb19d3b14fa"
      },
      "execution_count": null,
      "outputs": [
        {
          "output_type": "stream",
          "name": "stdout",
          "text": [
            "False\n",
            "True\n"
          ]
        }
      ]
    },
    {
      "cell_type": "markdown",
      "source": [
        "19. date 변수를 연도, 월, 일로 구분해 dates라는 리스트에 저장해주세요.\n",
        "```\n",
        "date = \"2000-12-21\"\n",
        "```"
      ],
      "metadata": {
        "id": "jUC8-CrzXtiV"
      }
    },
    {
      "cell_type": "code",
      "source": [
        "date = \"2000-12-21\"\n",
        "tmp = date.split(\"-\")\n",
        "list(tmp)"
      ],
      "metadata": {
        "id": "kTHcTwtq8LeH",
        "colab": {
          "base_uri": "https://localhost:8080/"
        },
        "outputId": "7de9b779-30ef-4e67-acc4-56e95a0c7002"
      },
      "execution_count": null,
      "outputs": [
        {
          "output_type": "execute_result",
          "data": {
            "text/plain": [
              "['2000', '12', '21']"
            ]
          },
          "metadata": {},
          "execution_count": 27
        }
      ]
    },
    {
      "cell_type": "markdown",
      "source": [
        "20. date 변수의 좌우 공백을 제거해주세요.\n",
        "```\n",
        "date = \"      2000-12-21     \"\n",
        "```"
      ],
      "metadata": {
        "id": "K7cyn2tzX1ql"
      }
    },
    {
      "cell_type": "code",
      "source": [
        "date = \"      2000-12-21     \"\n",
        "print(date.rstrip())  \n",
        "print(date.lstrip())"
      ],
      "metadata": {
        "id": "tk61vQv98Mx5",
        "colab": {
          "base_uri": "https://localhost:8080/"
        },
        "outputId": "e92cf3bf-71d2-40e1-b8c6-c7d25aef4d4a"
      },
      "execution_count": null,
      "outputs": [
        {
          "output_type": "stream",
          "name": "stdout",
          "text": [
            "      2000-12-21\n",
            "2000-12-21     \n"
          ]
        }
      ]
    },
    {
      "cell_type": "markdown",
      "source": [
        "21. 다음의 리스트에서 '블랙핑크'를 추가해주세요\n",
        "```\n",
        "my_play_list = ['나플라', '이센스', '제이콜', '나스', '찬스더래퍼' ]\n",
        "```"
      ],
      "metadata": {
        "id": "kjyzVdXoYZYw"
      }
    },
    {
      "cell_type": "code",
      "source": [
        "my_play_list = ['나플라', '이센스', '제이콜', '나스', '찬스더래퍼' ]\n",
        "my_play_list.append('블랙핑크')\n",
        "my_play_list"
      ],
      "metadata": {
        "id": "oEtPPMvG8OfM",
        "colab": {
          "base_uri": "https://localhost:8080/"
        },
        "outputId": "10ca166d-4ea1-442b-e83e-afd3eee37579"
      },
      "execution_count": null,
      "outputs": [
        {
          "output_type": "execute_result",
          "data": {
            "text/plain": [
              "['나플라', '이센스', '제이콜', '나스', '찬스더래퍼', '블랙핑크']"
            ]
          },
          "metadata": {},
          "execution_count": 42
        }
      ]
    },
    {
      "cell_type": "markdown",
      "source": [
        "22. my_play_list에 '이센스'와 '제이콜' 사이에 '더콰이엇'을 추가해주세요"
      ],
      "metadata": {
        "id": "OIbS7luDYq08"
      }
    },
    {
      "cell_type": "code",
      "source": [
        "my_play_list.insert(2,'더콰이엇')\n",
        "my_play_list"
      ],
      "metadata": {
        "id": "hLKHa8YD8RRZ",
        "colab": {
          "base_uri": "https://localhost:8080/"
        },
        "outputId": "1cc67ee6-5c96-40dd-a880-81cf8a8e6d75"
      },
      "execution_count": null,
      "outputs": [
        {
          "output_type": "execute_result",
          "data": {
            "text/plain": [
              "['나플라', '이센스', '더콰이엇', '제이콜', '나스', '찬스더래퍼', '블랙핑크']"
            ]
          },
          "metadata": {},
          "execution_count": 43
        }
      ]
    },
    {
      "cell_type": "markdown",
      "source": [
        "23. my_play_list에서 '찬스더래퍼' 값을 삭제해주세요"
      ],
      "metadata": {
        "id": "kGf8McK2Y4Ac"
      }
    },
    {
      "cell_type": "code",
      "source": [
        "my_play_list.remove('찬스더래퍼')\n",
        "my_play_list"
      ],
      "metadata": {
        "id": "PbUzxKj98ShY",
        "colab": {
          "base_uri": "https://localhost:8080/"
        },
        "outputId": "9c3e600c-063a-4c25-d5e1-04352346b8a0"
      },
      "execution_count": null,
      "outputs": [
        {
          "output_type": "execute_result",
          "data": {
            "text/plain": [
              "['나플라', '이센스', '더콰이엇', '제이콜', '나스', '블랙핑크']"
            ]
          },
          "metadata": {},
          "execution_count": 44
        }
      ]
    },
    {
      "cell_type": "markdown",
      "source": [
        "24. 아래의 numbers 리스트에서 최소값과 최대값을 찾아 출력해주세요.\n",
        "```\n",
        "numbers = [13, 12, 23, 54, 115, 56, 17]\n",
        "```"
      ],
      "metadata": {
        "id": "28a1JnZ9ZO6U"
      }
    },
    {
      "cell_type": "code",
      "source": [
        "numbers = [13, 12, 23, 54, 115, 56, 17]\n",
        "print(max(numbers))\n",
        "print(min(numbers))"
      ],
      "metadata": {
        "id": "TuhrVFZF8TeE",
        "colab": {
          "base_uri": "https://localhost:8080/"
        },
        "outputId": "272012b3-1ae2-461f-e46c-12dd0c02aba1"
      },
      "execution_count": null,
      "outputs": [
        {
          "output_type": "stream",
          "name": "stdout",
          "text": [
            "115\n",
            "12\n"
          ]
        }
      ]
    },
    {
      "cell_type": "markdown",
      "source": [
        "25. numbers 리스트를 오름차순으로 정렬한 새 리스트를 만들어 num_ascending 라는 변수명으로 저장해주세요."
      ],
      "metadata": {
        "id": "vg99mlS_Zb9U"
      }
    },
    {
      "cell_type": "code",
      "source": [
        "num_ascending = sorted(numbers)\n",
        "num_ascending"
      ],
      "metadata": {
        "id": "eEFwGOk98UmT",
        "colab": {
          "base_uri": "https://localhost:8080/"
        },
        "outputId": "1b5c487e-63eb-4dca-ef55-ff42b3becc25"
      },
      "execution_count": null,
      "outputs": [
        {
          "output_type": "execute_result",
          "data": {
            "text/plain": [
              "[12, 13, 17, 23, 54, 56, 115]"
            ]
          },
          "metadata": {},
          "execution_count": 46
        }
      ]
    },
    {
      "cell_type": "markdown",
      "source": [
        "26. numbers 의 요소들에 대한 평균값을 구하세요."
      ],
      "metadata": {
        "id": "FN--3RNBZpUF"
      }
    },
    {
      "cell_type": "code",
      "source": [
        "avg = sum(numbers)/len(numbers)\n",
        "avg"
      ],
      "metadata": {
        "id": "2t_bs8FL8VsY",
        "colab": {
          "base_uri": "https://localhost:8080/"
        },
        "outputId": "e3d57e05-0010-4e74-87e0-f21951c29c80"
      },
      "execution_count": null,
      "outputs": [
        {
          "output_type": "execute_result",
          "data": {
            "text/plain": [
              "41.42857142857143"
            ]
          },
          "metadata": {},
          "execution_count": 47
        }
      ]
    },
    {
      "cell_type": "markdown",
      "source": [
        "27. 아래의 리스트 a에서 리스트 슬라이싱을 활용하여 짝수만 출력해보세요. \n",
        "```\n",
        "a = [1, 2, 3, 4, 5, 6, 7, 8, 9, 10]\n",
        "```"
      ],
      "metadata": {
        "id": "Yv_qFnR8Z4ok"
      }
    },
    {
      "cell_type": "code",
      "source": [
        "a = [1, 2, 3, 4, 5, 6, 7, 8, 9, 10]\n",
        "a[1::2]"
      ],
      "metadata": {
        "id": "aTQTTzN78WpH",
        "colab": {
          "base_uri": "https://localhost:8080/"
        },
        "outputId": "5cdf1e0c-1132-4390-b072-c10830e5977d"
      },
      "execution_count": null,
      "outputs": [
        {
          "output_type": "execute_result",
          "data": {
            "text/plain": [
              "[2, 4, 6, 8, 10]"
            ]
          },
          "metadata": {},
          "execution_count": 49
        }
      ]
    },
    {
      "cell_type": "markdown",
      "source": [
        "28. 리스트 a에서 리스트 슬라이싱을 활용하여 홀수만 출력해보세요"
      ],
      "metadata": {
        "id": "4mQbaEvlaCUk"
      }
    },
    {
      "cell_type": "code",
      "source": [
        "a[::2]"
      ],
      "metadata": {
        "id": "sk4ZWBnS8YH7",
        "colab": {
          "base_uri": "https://localhost:8080/"
        },
        "outputId": "899109b3-44f4-423e-b391-289ce070cd33"
      },
      "execution_count": null,
      "outputs": [
        {
          "output_type": "execute_result",
          "data": {
            "text/plain": [
              "[1, 3, 5, 7, 9]"
            ]
          },
          "metadata": {},
          "execution_count": 50
        }
      ]
    },
    {
      "cell_type": "markdown",
      "source": [
        "29. 다음의 리스트를 이용하여 출력결과와 같은 문자열로 출력하시오.\n",
        "```\n",
        "str_list = ['We', 'are', 'learning', 'python']\n",
        "```\n",
        "- 출력결과: We are learning python"
      ],
      "metadata": {
        "id": "QiA_GrvHaO7e"
      }
    },
    {
      "cell_type": "code",
      "source": [
        "str_list = ['We', 'are', 'learning', 'python']\n",
        "print(*str_list)"
      ],
      "metadata": {
        "id": "j2MwZNIS8ZrU",
        "colab": {
          "base_uri": "https://localhost:8080/"
        },
        "outputId": "6827ca54-e85f-499b-f428-b6283774c5dd"
      },
      "execution_count": null,
      "outputs": [
        {
          "output_type": "stream",
          "name": "stdout",
          "text": [
            "We are learning python\n"
          ]
        }
      ]
    },
    {
      "cell_type": "markdown",
      "source": [
        "30. 1004 값이 하나만 있는 튜플을 만드세요."
      ],
      "metadata": {
        "id": "ga9YuSwxa6YD"
      }
    },
    {
      "cell_type": "code",
      "source": [
        "tuple1 = (1004,)\n",
        "tuple1"
      ],
      "metadata": {
        "id": "B2Z1c77f8cG2",
        "colab": {
          "base_uri": "https://localhost:8080/"
        },
        "outputId": "943df332-c47d-464f-ab03-235a14d1346f"
      },
      "execution_count": null,
      "outputs": [
        {
          "output_type": "execute_result",
          "data": {
            "text/plain": [
              "(1004,)"
            ]
          },
          "metadata": {},
          "execution_count": 7
        }
      ]
    },
    {
      "cell_type": "markdown",
      "source": [
        "31. 다음의 튜플을 타입변환(tuple->list->tuple) 이용해서 2값과 3값사이에 100을 넣으시오\n",
        "```\n",
        "tup = 1,2,3,4,5\n",
        "```"
      ],
      "metadata": {
        "id": "9qqWfixQbVP7"
      }
    },
    {
      "cell_type": "code",
      "source": [
        "tup = 1,2,3,4,5\n",
        "a = list(tup)\n",
        "a.insert(2,100)\n",
        "a"
      ],
      "metadata": {
        "id": "QOho8ar58dU5",
        "colab": {
          "base_uri": "https://localhost:8080/"
        },
        "outputId": "9a9f2af5-ba5a-48f7-fabf-3d8685f96a6c"
      },
      "execution_count": null,
      "outputs": [
        {
          "output_type": "execute_result",
          "data": {
            "text/plain": [
              "[1, 2, 100, 3, 4, 5]"
            ]
          },
          "metadata": {},
          "execution_count": 57
        }
      ]
    },
    {
      "cell_type": "code",
      "source": [
        "tmp = tuple(a)\n",
        "tmp"
      ],
      "metadata": {
        "colab": {
          "base_uri": "https://localhost:8080/"
        },
        "id": "y-jSeLdQfRUn",
        "outputId": "0556785c-0461-49bb-da65-4a5d16eca110"
      },
      "execution_count": null,
      "outputs": [
        {
          "output_type": "execute_result",
          "data": {
            "text/plain": [
              "(1, 2, 100, 3, 4, 5)"
            ]
          },
          "metadata": {},
          "execution_count": 58
        }
      ]
    },
    {
      "cell_type": "markdown",
      "source": [
        "32. 다음의 목록에서 과목명을 key 로 하고 점수를 value 로 하는 딕셔너리를 만드시오.\n",
        "``` \n",
        "영어 | 95\n",
        "수학 | 100\n",
        "국어 | 90\n",
        "과학 | 97\n",
        "사회 | 99\n",
        "```   "
      ],
      "metadata": {
        "id": "AVQzM_ZucZti"
      }
    },
    {
      "cell_type": "code",
      "source": [
        "scores = {\"영어\":95,\n",
        "         \"수학\":100,\n",
        "         \"국어\":90,\n",
        "         \"과학\":97,\n",
        "         \"사회\":99\n",
        "         }\n",
        "scores"
      ],
      "metadata": {
        "id": "fDLdotdk8ebt",
        "colab": {
          "base_uri": "https://localhost:8080/"
        },
        "outputId": "aa0ba620-19f0-4331-d0ce-720163a76b18"
      },
      "execution_count": null,
      "outputs": [
        {
          "output_type": "execute_result",
          "data": {
            "text/plain": [
              "{'과학': 97, '국어': 90, '사회': 99, '수학': 100, '영어': 95}"
            ]
          },
          "metadata": {},
          "execution_count": 65
        }
      ]
    },
    {
      "cell_type": "markdown",
      "source": [
        "33. scores 변수에서 존재하지않는 key 인 \"한국사\" 의 점수를 확인하려 할때 에러가 발생하지 않게 하시오."
      ],
      "metadata": {
        "id": "DEYqXxnuc0UL"
      }
    },
    {
      "cell_type": "code",
      "source": [
        "scores.get(\"한국사\")\n",
        "scores.get(\"한국사\", \"없음\")"
      ],
      "metadata": {
        "id": "OPeX9GLr8fbt",
        "colab": {
          "base_uri": "https://localhost:8080/",
          "height": 35
        },
        "outputId": "055d378d-28b2-4edd-b559-066dff7b8394"
      },
      "execution_count": null,
      "outputs": [
        {
          "output_type": "execute_result",
          "data": {
            "text/plain": [
              "'없음'"
            ],
            "application/vnd.google.colaboratory.intrinsic+json": {
              "type": "string"
            }
          },
          "metadata": {},
          "execution_count": 62
        }
      ]
    },
    {
      "cell_type": "markdown",
      "source": [
        "34. scores 변수에서 사회 과목은 97점으로 변경하시오."
      ],
      "metadata": {
        "id": "bJsEhv3AdTTz"
      }
    },
    {
      "cell_type": "code",
      "source": [
        "scores[\"사회\"] = 97\n",
        "scores"
      ],
      "metadata": {
        "id": "mmrbnUqQ8gR0",
        "colab": {
          "base_uri": "https://localhost:8080/"
        },
        "outputId": "c445a738-2e1e-4fff-d08e-211fd37921b6"
      },
      "execution_count": null,
      "outputs": [
        {
          "output_type": "execute_result",
          "data": {
            "text/plain": [
              "{'과학': 97, '국어': 90, '사회': 97, '수학': 100, '영어': 95}"
            ]
          },
          "metadata": {},
          "execution_count": 66
        }
      ]
    },
    {
      "cell_type": "markdown",
      "source": [
        "35. scores 의 변수의 전체 key를 출력하시오"
      ],
      "metadata": {
        "id": "8JWKiXHqdhm6"
      }
    },
    {
      "cell_type": "code",
      "source": [
        "scores.keys()"
      ],
      "metadata": {
        "id": "JVVmwpAm8hJ_",
        "colab": {
          "base_uri": "https://localhost:8080/"
        },
        "outputId": "02aeaf0e-e4ec-4a5a-c440-ec82f018ddaa"
      },
      "execution_count": null,
      "outputs": [
        {
          "output_type": "execute_result",
          "data": {
            "text/plain": [
              "dict_keys(['영어', '수학', '국어', '과학', '사회'])"
            ]
          },
          "metadata": {},
          "execution_count": 68
        }
      ]
    },
    {
      "cell_type": "markdown",
      "source": [
        "36. scores 의 변수의 전체 value 를 출력하시오"
      ],
      "metadata": {
        "id": "pZTBYZozdkzS"
      }
    },
    {
      "cell_type": "code",
      "source": [
        "scores.values()"
      ],
      "metadata": {
        "id": "x4u3aNAU8i2W",
        "colab": {
          "base_uri": "https://localhost:8080/"
        },
        "outputId": "6072c73f-6c87-4529-d5e5-14e108ebf800"
      },
      "execution_count": null,
      "outputs": [
        {
          "output_type": "execute_result",
          "data": {
            "text/plain": [
              "dict_values([95, 100, 90, 97, 97])"
            ]
          },
          "metadata": {},
          "execution_count": 69
        }
      ]
    },
    {
      "cell_type": "markdown",
      "source": [
        "37. scores 의 변수의 전체 key, value 를 출력하시오"
      ],
      "metadata": {
        "id": "kIVIwAdmduQ6"
      }
    },
    {
      "cell_type": "code",
      "source": [
        "scores.items()"
      ],
      "metadata": {
        "id": "BISkRJmX8kIg",
        "colab": {
          "base_uri": "https://localhost:8080/"
        },
        "outputId": "f711d8e3-b32d-41cf-9355-a2146c8b936b"
      },
      "execution_count": null,
      "outputs": [
        {
          "output_type": "execute_result",
          "data": {
            "text/plain": [
              "dict_items([('영어', 95), ('수학', 100), ('국어', 90), ('과학', 97), ('사회', 97)])"
            ]
          },
          "metadata": {},
          "execution_count": 70
        }
      ]
    },
    {
      "cell_type": "markdown",
      "source": [
        "38. 다음의 리스트에서 인덱스 번호와 요소값을 for 문을 이용해서 출력하시오.\n",
        "```\n",
        "lst = ['사과', '바나나', '딸기']\n",
        "```"
      ],
      "metadata": {
        "id": "m58MQN37eEiZ"
      }
    },
    {
      "cell_type": "code",
      "source": [
        "lst = ['사과', '바나나', '딸기']\n",
        "for i in enumerate(lst):\n",
        "    print(i)"
      ],
      "metadata": {
        "id": "rNuxFgJL8lcK",
        "colab": {
          "base_uri": "https://localhost:8080/"
        },
        "outputId": "31709943-77b4-470d-cf4b-054820d0d97e"
      },
      "execution_count": null,
      "outputs": [
        {
          "output_type": "stream",
          "name": "stdout",
          "text": [
            "(0, '사과')\n",
            "(1, '바나나')\n",
            "(2, '딸기')\n"
          ]
        }
      ]
    },
    {
      "cell_type": "markdown",
      "source": [
        "39. 다음의 리스트들을 for 문을 이용해서 동일한 인덱스의 값들이 동시에 출력되게 하시오.\n",
        "```\n",
        "list1 = ['사과', '바나나', '딸기']\n",
        "list2 = ['Apple', 'Banana', 'Strawberry']\n",
        "```"
      ],
      "metadata": {
        "id": "RnGevN2GePUa"
      }
    },
    {
      "cell_type": "code",
      "source": [
        "list1 = ['사과', '바나나', '딸기']\n",
        "list2 = ['Apple', 'Banana', 'Strawberry']\n",
        "\n",
        "for i,j in zip(list1,list2):\n",
        "    print(i,j)"
      ],
      "metadata": {
        "id": "8RtyQMlR8mTE",
        "colab": {
          "base_uri": "https://localhost:8080/"
        },
        "outputId": "5179e53b-a4f9-464e-e883-ca83f54ff60f"
      },
      "execution_count": null,
      "outputs": [
        {
          "output_type": "stream",
          "name": "stdout",
          "text": [
            "사과 Apple\n",
            "바나나 Banana\n",
            "딸기 Strawberry\n"
          ]
        }
      ]
    },
    {
      "cell_type": "markdown",
      "source": [
        "40. list1 의 값들을 key 로 하고 list2 의 값들을 value 로 하는 딕셔너리를 만드시오."
      ],
      "metadata": {
        "id": "zxUVSCntesDp"
      }
    },
    {
      "cell_type": "code",
      "source": [
        "dic = { key : value for key, value in zip(list1,list2)}\n",
        "dic"
      ],
      "metadata": {
        "id": "YrzW4tQb8noA",
        "colab": {
          "base_uri": "https://localhost:8080/"
        },
        "outputId": "bd1c0437-4bdb-480f-ec15-e939a9476d78"
      },
      "execution_count": null,
      "outputs": [
        {
          "output_type": "execute_result",
          "data": {
            "text/plain": [
              "{'딸기': 'Strawberry', '바나나': 'Banana', '사과': 'Apple'}"
            ]
          },
          "metadata": {},
          "execution_count": 78
        }
      ]
    },
    {
      "cell_type": "markdown",
      "source": [
        "41. 다음 코드를 for문으로 작성해주세요.\n",
        "```\n",
        "print('1번 끝')\n",
        "print(\"-------\")\n",
        "print('2번 끝')\n",
        "print(\"-------\")\n",
        "print('3번 끝')\n",
        "print(\"-------\")\n",
        "```"
      ],
      "metadata": {
        "id": "_m4EWNBgfgUJ"
      }
    },
    {
      "cell_type": "code",
      "source": [
        "for i in range(1,4):\n",
        "    print(f\"{i}번 끝\")\n",
        "    print(\"-------\")"
      ],
      "metadata": {
        "id": "5ZilXoie8oc4",
        "colab": {
          "base_uri": "https://localhost:8080/"
        },
        "outputId": "60a4a18b-9205-4810-b70e-334811787753"
      },
      "execution_count": null,
      "outputs": [
        {
          "output_type": "stream",
          "name": "stdout",
          "text": [
            "1번 끝\n",
            "-------\n",
            "2번 끝\n",
            "-------\n",
            "3번 끝\n",
            "-------\n"
          ]
        }
      ]
    },
    {
      "cell_type": "markdown",
      "source": [
        "42. 다음의 리스트를 컴프리헨션을 이용하여 음수들만 새로운 리스트에 담으세요.\n",
        "```\n",
        "lst = [-2, 1, 4, -88, 12, -12]\n",
        "```"
      ],
      "metadata": {
        "id": "qg5QcsG_f9vA"
      }
    },
    {
      "cell_type": "code",
      "source": [
        "lst = [-2, 1, 4, -88, 12, -12]\n",
        "res = [x for x in lst if x < 0]\n",
        "res"
      ],
      "metadata": {
        "id": "zjUd0yfB8pnI",
        "colab": {
          "base_uri": "https://localhost:8080/"
        },
        "outputId": "a879aa1b-9ac7-46b5-f0e7-8698482f54ec"
      },
      "execution_count": null,
      "outputs": [
        {
          "output_type": "execute_result",
          "data": {
            "text/plain": [
              "[-2, -88, -12]"
            ]
          },
          "metadata": {},
          "execution_count": 82
        }
      ]
    },
    {
      "cell_type": "markdown",
      "source": [
        "43. 다음의 리스트를 중첩 for문과 슬라이싱을 이용하여 출력결과와 같은 출력을 해보세요.\n",
        "\n",
        "```\n",
        "lst = [\"abcd\",\"1234\",\"5678\"]\n",
        "\n",
        "출력결과:\n",
        "8\n",
        "7\n",
        "6\n",
        "5\n",
        "4\n",
        "3\n",
        "2\n",
        "1\n",
        "d\n",
        "c\n",
        "b\n",
        "a\n",
        "```\n",
        "\n",
        "\n"
      ],
      "metadata": {
        "id": "aSNAVih9g43H"
      }
    },
    {
      "cell_type": "code",
      "source": [
        "lst = [\"abcd\",\"1234\",\"5678\"]\n",
        "tmp = ('').join(lst)\n",
        "for i in tmp[::-1]:\n",
        "    print(i)"
      ],
      "metadata": {
        "id": "YoAX09SB8qrj",
        "colab": {
          "base_uri": "https://localhost:8080/"
        },
        "outputId": "73db5e4b-287e-4839-cce8-75fe13e6da50"
      },
      "execution_count": null,
      "outputs": [
        {
          "output_type": "stream",
          "name": "stdout",
          "text": [
            "8\n",
            "7\n",
            "6\n",
            "5\n",
            "4\n",
            "3\n",
            "2\n",
            "1\n",
            "d\n",
            "c\n",
            "b\n",
            "a\n"
          ]
        }
      ]
    },
    {
      "cell_type": "markdown",
      "source": [
        "44. 다음의 리스트에 모든 값들을 중첩 for문을 이용하여 출력하세요.\n",
        "```\n",
        "lst = [\n",
        "    [ 2000,  550,  2550],\n",
        "    [ 3400,  850,  4250],\n",
        "    [54000, 15000, 69000]\n",
        "]\n",
        "```\n",
        "\n"
      ],
      "metadata": {
        "id": "QnJkSjBoilVe"
      }
    },
    {
      "cell_type": "markdown",
      "source": [
        "- 출력결과 예시:\n",
        "```\n",
        "2000\n",
        "550\n",
        "2550\n",
        "3400\n",
        "850\n",
        "4250\n",
        "54000\n",
        "15000\n",
        "69000\n",
        "```"
      ],
      "metadata": {
        "id": "jG1r4dbfjZxQ"
      }
    },
    {
      "cell_type": "code",
      "source": [
        "lst = [\n",
        "[ 2000,  550,  2550],\n",
        "[ 3400,  850,  4250],\n",
        "[54000, 15000, 69000]\n",
        "]\n",
        "\n",
        "# lst2 = sum(lst,[])\n",
        "\n",
        "for items in lst:\n",
        "    for i in items:\n",
        "        print(i)"
      ],
      "metadata": {
        "id": "6oZc9bV58r1L",
        "colab": {
          "base_uri": "https://localhost:8080/"
        },
        "outputId": "bbfa8c1b-68d1-4de4-bbb3-50dd0549260a"
      },
      "execution_count": null,
      "outputs": [
        {
          "output_type": "stream",
          "name": "stdout",
          "text": [
            "2000\n",
            "550\n",
            "2550\n",
            "3400\n",
            "850\n",
            "4250\n",
            "54000\n",
            "15000\n",
            "69000\n"
          ]
        }
      ]
    },
    {
      "cell_type": "markdown",
      "source": [
        "45. 실수형태의 문자열을 입력 받아 정수로 변환후 반환 함수를 작성해보세요.\n",
        "\n",
        "```\n",
        "s = \"3.14\"\n",
        "str2int(s)\n",
        "\n",
        "Output:\n",
        "3\n",
        "```"
      ],
      "metadata": {
        "id": "CiD6UmZPjrBt"
      }
    },
    {
      "cell_type": "code",
      "source": [
        "def str2int(s):\n",
        "    return int(float(s))\n",
        "\n",
        "s = \"3.14\"\n",
        "str2int(s)"
      ],
      "metadata": {
        "id": "wHurcS3E8s8R",
        "colab": {
          "base_uri": "https://localhost:8080/"
        },
        "outputId": "bc0c74c1-5dc0-46d5-8a6e-156986d4e92e"
      },
      "execution_count": null,
      "outputs": [
        {
          "output_type": "execute_result",
          "data": {
            "text/plain": [
              "3"
            ]
          },
          "metadata": {},
          "execution_count": 10
        }
      ]
    },
    {
      "cell_type": "markdown",
      "source": [
        "46. 45번문제에 정의한 함수를 람다 함수로 변경해보세요."
      ],
      "metadata": {
        "id": "51Q9cxR5lPqk"
      }
    },
    {
      "cell_type": "code",
      "source": [
        "str2int = lambda s: float(s) if type(s) == str else s\n",
        "s = \"3.14\"\n",
        "\n",
        "int(str2int(s))"
      ],
      "metadata": {
        "id": "RpvJrV7Z8t1G",
        "colab": {
          "base_uri": "https://localhost:8080/"
        },
        "outputId": "ca280cd9-6e3c-4289-ba06-18c5c8485969"
      },
      "execution_count": null,
      "outputs": [
        {
          "output_type": "execute_result",
          "data": {
            "text/plain": [
              "3"
            ]
          },
          "metadata": {},
          "execution_count": 116
        }
      ]
    },
    {
      "cell_type": "markdown",
      "source": [
        "47. n개이상(0개포함)의 아규먼트를 받는 함수를 정의해서 받은 아규먼트를 리스트로 반환하는 함수를 작성하세요."
      ],
      "metadata": {
        "id": "CMAMxd2ymVKU"
      }
    },
    {
      "cell_type": "code",
      "source": [
        "def Func(a,b,c):\n",
        "    tmp = (a,b,c)\n",
        "    return list(tmp)\n",
        "\n",
        "Func(1,2,3)"
      ],
      "metadata": {
        "id": "51CpEewl8vup",
        "colab": {
          "base_uri": "https://localhost:8080/"
        },
        "outputId": "c141c9b2-da48-41a5-8d72-d1a9c6b00dc0"
      },
      "execution_count": null,
      "outputs": [
        {
          "output_type": "execute_result",
          "data": {
            "text/plain": [
              "[1, 2, 3]"
            ]
          },
          "metadata": {},
          "execution_count": 128
        }
      ]
    },
    {
      "cell_type": "markdown",
      "source": [
        "48. 47번문제에 정의한 함수를 람다 함수로 변경해보세요."
      ],
      "metadata": {
        "id": "Ytb5zmRkmw8V"
      }
    },
    {
      "cell_type": "code",
      "source": [
        "Func = lambda a,b,c : [a,b,c]\n",
        "Func(1,2,3)"
      ],
      "metadata": {
        "id": "2Woo-wAf8w-6",
        "colab": {
          "base_uri": "https://localhost:8080/"
        },
        "outputId": "2d9bcbb8-841a-463c-dfc5-6f6e998e2d95"
      },
      "execution_count": null,
      "outputs": [
        {
          "output_type": "execute_result",
          "data": {
            "text/plain": [
              "[1, 2, 3]"
            ]
          },
          "metadata": {},
          "execution_count": 147
        }
      ]
    },
    {
      "cell_type": "markdown",
      "source": [
        "49. 정수값 하나를 인자로 받아 짝수일경우 True, 홀수일경우 False 를 반환하는 함수를 작성하세요."
      ],
      "metadata": {
        "id": "e9tzFLRcpLfz"
      }
    },
    {
      "cell_type": "code",
      "source": [
        "def check(n):\n",
        "    if n % 2 == 0:\n",
        "        return True\n",
        "    else:\n",
        "        return False\n",
        "n=4\n",
        "check(n)"
      ],
      "metadata": {
        "id": "YgJnfxv78yKn",
        "colab": {
          "base_uri": "https://localhost:8080/"
        },
        "outputId": "57436ac4-f537-4c76-838a-04ae093d39b4"
      },
      "execution_count": null,
      "outputs": [
        {
          "output_type": "execute_result",
          "data": {
            "text/plain": [
              "True"
            ]
          },
          "metadata": {},
          "execution_count": 120
        }
      ]
    },
    {
      "cell_type": "markdown",
      "source": [
        "50. 49번문제에 정의한 함수를 람다 함수로 변경해보세요."
      ],
      "metadata": {
        "id": "H3D816XYpdF4"
      }
    },
    {
      "cell_type": "code",
      "source": [
        "check = lambda n: True if n%2 ==0 else False\n",
        "n = 5\n",
        "check(n)"
      ],
      "metadata": {
        "id": "zV77MbHg8zBr",
        "colab": {
          "base_uri": "https://localhost:8080/"
        },
        "outputId": "1b567139-1c1e-4190-f606-619f9652ca7c"
      },
      "execution_count": null,
      "outputs": [
        {
          "output_type": "execute_result",
          "data": {
            "text/plain": [
              "False"
            ]
          },
          "metadata": {},
          "execution_count": 122
        }
      ]
    },
    {
      "cell_type": "markdown",
      "source": [
        "51. 점수 하나를 인자로 받아 90점대는 \"A\", 80점대는 \"B\", 70점대는 \"C\", 70점 미만은 \"F\" 를 반환하는 함수를 만드시오. "
      ],
      "metadata": {
        "id": "1azkSEThqoHB"
      }
    },
    {
      "cell_type": "code",
      "source": [
        "def grade(score):\n",
        "    if score >= 90:\n",
        "        return print('A')\n",
        "    elif score >=80:\n",
        "        return print('B')\n",
        "    elif score >=70:\n",
        "        return print('C')\n",
        "    else:\n",
        "        return print('F')"
      ],
      "metadata": {
        "id": "FmiTFT3B8z2G"
      },
      "execution_count": null,
      "outputs": []
    },
    {
      "cell_type": "code",
      "source": [
        "n = 88\n",
        "grade(n)"
      ],
      "metadata": {
        "colab": {
          "base_uri": "https://localhost:8080/"
        },
        "id": "vjHSBQwmw9fO",
        "outputId": "5f563fda-e040-4d4a-b93b-58b3dee3c45c"
      },
      "execution_count": null,
      "outputs": [
        {
          "output_type": "stream",
          "name": "stdout",
          "text": [
            "B\n"
          ]
        }
      ]
    },
    {
      "cell_type": "markdown",
      "source": [
        "52. 다음의 리스트를 인자로 받아 None 값의 총 개수를 반환하는 함수를 작성하시오.\n",
        "```\n",
        "lst = [\n",
        "    [10,None,20,21,None],\n",
        "    [None,1,20,21,None],\n",
        "    [10,30,20,21,50],\n",
        "    [100,21,91,None]\n",
        "]\n",
        "```"
      ],
      "metadata": {
        "id": "3LP95Q1jrDvB"
      }
    },
    {
      "cell_type": "code",
      "source": [
        "def do_func(lst):\n",
        "    res = sum(lst,[])\n",
        "    return res.count(None)\n",
        "\n",
        "lst = [\n",
        "    [10,None,20,21,None],\n",
        "    [None,1,20,21,None],\n",
        "    [10,30,20,21,50],\n",
        "    [100,21,91,None]\n",
        "]\n",
        "\n",
        "do_func(lst)"
      ],
      "metadata": {
        "id": "DDVHFDJM800U",
        "colab": {
          "base_uri": "https://localhost:8080/"
        },
        "outputId": "faeda5d3-2278-40f0-b14e-2a04a96b7277"
      },
      "execution_count": null,
      "outputs": [
        {
          "output_type": "execute_result",
          "data": {
            "text/plain": [
              "5"
            ]
          },
          "metadata": {},
          "execution_count": 13
        }
      ]
    },
    {
      "cell_type": "markdown",
      "source": [
        "53. 학생 클래스를 구현하시오\n",
        "```\n",
        "생성자에 학번, 학생이름, 나이, 학과를 인자로 받아 인스턴스 변수를 초기화한다.\n",
        "학점을 추가로 받을수 있는 인스턴스 변수를 리스트 자료형으로 생성한다. \n",
        "학점 리스트에 학점을 추가할수 있는 메소드를 구현한다.\n",
        "학점 리스트에서 평점평균을 반환하는 메소드를 구현한다.\n",
        "info 메소드를 구현하여 학번, 이름, 나이, 학과, 평점평균을 출력하는 메소드를 구현한다. \n",
        "```"
      ],
      "metadata": {
        "id": "RoVZwrPM3Rb6"
      }
    },
    {
      "cell_type": "code",
      "source": [
        "class Student:\n",
        "    def __init__(self, id, name, age, major, data):\n",
        "        self.id = id\n",
        "        self.name = name\n",
        "        self.age = age\n",
        "        self.major = major\n",
        "        self.data = data\n",
        "\n",
        "    def score(self,x):\n",
        "        self.data.append(x)\n",
        "    \n",
        "    def avgGrade(self):\n",
        "        self.avg = sum(self.data) / len(self.data)\n",
        "        return self.avg\n",
        "\n",
        "    def info(self):\n",
        "        print(\"학번 : %s\" %self.id)\n",
        "        print(\"이름 : %s\" %self.name)\n",
        "        print(\"나이 : %s\" %self.age)\n",
        "        print(\"전공 : %s\" %self.major)\n",
        "        print(\"학점 평균 : %s\" %self.avgGrade())\n",
        "\n",
        "score = [100,42,55,78,99]\n",
        "stu2 = Student(20170002, \"은길홍\", 21, \"Computer\",score)\n",
        "stu2.info()\n"
      ],
      "metadata": {
        "id": "N5wwVKwREW4k",
        "colab": {
          "base_uri": "https://localhost:8080/"
        },
        "outputId": "e001fe14-8e99-49bd-f069-34ecb825ce8f"
      },
      "execution_count": null,
      "outputs": [
        {
          "output_type": "stream",
          "name": "stdout",
          "text": [
            "학번 : 20170002\n",
            "이름 : 은길홍\n",
            "나이 : 21\n",
            "전공 : Computer\n",
            "학점 평균 : 74.8\n"
          ]
        }
      ]
    },
    {
      "cell_type": "markdown",
      "source": [
        "54. 다음의 함수에서 `a` , `b` , `c` 변수들이 어떤 변수인지 적으시오.(ex. 파라미터,지역변수,전역변수)\n",
        "\n",
        "```python\n",
        "a = 0\n",
        "def do_func(b):\n",
        "    c = 0\n",
        "```\n",
        "\n",
        "- `a` : 전역변수\n",
        "- `b` : 파라미터\n",
        "- `c` : 지역변수"
      ],
      "metadata": {
        "id": "82j-dNjmDVNe"
      }
    },
    {
      "cell_type": "markdown",
      "source": [
        "55. 다음의 클래스에 `self` , `a` , `self.a` , `b` , `s`  어떤 변수인지 적으시오.(ex. 파라미터,지역변수,전역변수,인스턴스변수,클래스변수)\n",
        "\n",
        "```python\n",
        "class MyClass:\n",
        "    s = \"My Class\"\n",
        "    def do_method(self,a):\n",
        "        self.a = a\n",
        "        b = 10\n",
        "```\n",
        "\n",
        "- `self` : 파라미터 \n",
        "- `a` : 파라미터\n",
        "- `self.a` : 인스턴스 변수\n",
        "- `b` : 지역변수\n",
        "- `s` : 클래스 변수"
      ],
      "metadata": {
        "id": "fVH3U8p2EU6M"
      }
    }
  ]
}
