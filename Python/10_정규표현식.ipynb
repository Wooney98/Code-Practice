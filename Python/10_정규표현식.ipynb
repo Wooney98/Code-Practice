{
  "nbformat": 4,
  "nbformat_minor": 0,
  "metadata": {
    "colab": {
      "name": "10-정규표현식.ipynb",
      "provenance": [],
      "toc_visible": true,
      "collapsed_sections": [],
      "authorship_tag": "ABX9TyOePD82te8NqWvCSd8GHhxG",
      "include_colab_link": true
    },
    "kernelspec": {
      "name": "python3",
      "display_name": "Python 3"
    },
    "language_info": {
      "name": "python"
    }
  },
  "cells": [
    {
      "cell_type": "markdown",
      "metadata": {
        "id": "view-in-github",
        "colab_type": "text"
      },
      "source": [
        "<a href=\"https://colab.research.google.com/github/Wooney98/playdata-python/blob/main/10_%EC%A0%95%EA%B7%9C%ED%91%9C%ED%98%84%EC%8B%9D.ipynb\" target=\"_parent\"><img src=\"https://colab.research.google.com/assets/colab-badge.svg\" alt=\"Open In Colab\"/></a>"
      ]
    },
    {
      "cell_type": "markdown",
      "source": [
        "# 정규식\n",
        "- 복잡한 문자열을 처리할 때 사용하는 기법\n",
        "- 문자열을 처리하는 모든 언어에서 사용하는 기법\n"
      ],
      "metadata": {
        "id": "Y9HheFJGAr6H"
      }
    },
    {
      "cell_type": "code",
      "execution_count": null,
      "metadata": {
        "id": "N4gfvIp9AZzg"
      },
      "outputs": [],
      "source": [
        "data = \"나의 전화번호는 010-0000-0000 이다. 너의 전화번호는 010-1111-1111 이다.\""
      ]
    },
    {
      "cell_type": "markdown",
      "source": [
        "- 전화번호 추출을 위한 규칙 찾기\n",
        "    - 띄어쓰기 기준으로 나누자\n",
        "    - 하이픈이 사이에 2개가 있다.\n",
        "    - 숫자 형식이 처음 3자리, 두번째 4자리, 세번째 4자리 형식"
      ],
      "metadata": {
        "id": "dNF8A01yBdjO"
      }
    },
    {
      "cell_type": "code",
      "source": [
        "phone_lst = []\n",
        "for item in data.split():\n",
        "    item = item.split(\"-\")\n",
        "\n",
        "    cond_lst = []\n",
        "    if len(item) == 3:\n",
        "        cond = item[0].isdigit() and len(item[0]) == 3\n",
        "        cond_lst.append(cond)\n",
        "        cond = item[1].isdigit() and len(item[1]) == 4\n",
        "        cond_lst.append(cond)\n",
        "        cond = item[2].isdigit() and len(item[2]) == 4\n",
        "        cond_lst.append(cond)\n",
        "\n",
        "    if sum(cond_lst) == 3:\n",
        "        phone_lst.append(\"-\".join(item))\n",
        "phone_lst"
      ],
      "metadata": {
        "colab": {
          "base_uri": "https://localhost:8080/"
        },
        "id": "3cGYVQBaBQyB",
        "outputId": "1a0c9f39-1632-4352-c4a0-8e4368adc3d5"
      },
      "execution_count": null,
      "outputs": [
        {
          "output_type": "execute_result",
          "data": {
            "text/plain": [
              "['010-0000-0000', '010-1111-1111']"
            ]
          },
          "metadata": {},
          "execution_count": 6
        }
      ]
    },
    {
      "cell_type": "code",
      "source": [
        "import re"
      ],
      "metadata": {
        "id": "vfPDVb-mXC9c"
      },
      "execution_count": null,
      "outputs": []
    },
    {
      "cell_type": "code",
      "source": [
        "data = \"나의 전화번호는 010-0000-0000 이다. 너의 전화번호는 010-1111-1111 이다.\"\n",
        "pat = \"\\d{3}-\\d{4}-\\d{4}\"\n",
        "phone_lst = re.findall(pat,data)\n",
        "phone_lst"
      ],
      "metadata": {
        "colab": {
          "base_uri": "https://localhost:8080/"
        },
        "id": "lKB8txbnBt4H",
        "outputId": "c88db704-e3e7-41d1-c575-f43084f1dd0a"
      },
      "execution_count": null,
      "outputs": [
        {
          "output_type": "execute_result",
          "data": {
            "text/plain": [
              "['010-0000-0000', '010-1111-1111']"
            ]
          },
          "metadata": {},
          "execution_count": 87
        }
      ]
    },
    {
      "cell_type": "markdown",
      "source": [
        "## re(regular expression) 모듈\n",
        "- 정규표현식을 지원하기 위한 모듈\n"
      ],
      "metadata": {
        "id": "9c-DUrFHDoLq"
      }
    },
    {
      "cell_type": "markdown",
      "source": [
        "- match 함수\n",
        "    - 문자열로 시작하는지 검사하고  정규식과 매치되면 객체를 반환, 그렇지 않으면 None 반환"
      ],
      "metadata": {
        "id": "iQW-8HsMDxl8"
      }
    },
    {
      "cell_type": "code",
      "source": [
        "import re\n",
        "\n",
        "data = \"나의 전화번호는 010-0000-0000 이다. 너의 전화번호는 010-1111-1111 이다.\"\n",
        "print(re.match(\"나의\",data))\n",
        "print(re.match(\"전화\",data))"
      ],
      "metadata": {
        "colab": {
          "base_uri": "https://localhost:8080/"
        },
        "id": "I0XXpKQCC3bf",
        "outputId": "3b4b1eb7-1a12-4438-c81c-ce3ba41a9118"
      },
      "execution_count": null,
      "outputs": [
        {
          "output_type": "stream",
          "name": "stdout",
          "text": [
            "<re.Match object; span=(0, 2), match='나의'>\n",
            "None\n"
          ]
        }
      ]
    },
    {
      "cell_type": "code",
      "source": [
        "match = re.match(\"나의\",data)\n",
        "match.group()"
      ],
      "metadata": {
        "colab": {
          "base_uri": "https://localhost:8080/",
          "height": 35
        },
        "id": "X9uVp45JEcPa",
        "outputId": "f9ad989f-233c-4b50-8f9a-d6ac9c1a0ea3"
      },
      "execution_count": null,
      "outputs": [
        {
          "output_type": "execute_result",
          "data": {
            "text/plain": [
              "'나의'"
            ],
            "application/vnd.google.colaboratory.intrinsic+json": {
              "type": "string"
            }
          },
          "metadata": {},
          "execution_count": 12
        }
      ]
    },
    {
      "cell_type": "markdown",
      "source": [
        "- search 함수\n",
        "    - 문자열이 맞는지 검사하다가 매칭되면 바로 반환하고, 그렇지 않으면 None 반환"
      ],
      "metadata": {
        "id": "N2T2LwadE3bh"
      }
    },
    {
      "cell_type": "code",
      "source": [
        "data = \"나의 전화번호는 010-0000-0000 이다. 너의 전화번호는 010-1111-1111 이다.\"\n",
        "re.search(\"전화\",data)"
      ],
      "metadata": {
        "colab": {
          "base_uri": "https://localhost:8080/"
        },
        "id": "j8hEfkJZE2qc",
        "outputId": "cb2bab5c-5a3b-4387-c989-23fc776e67c6"
      },
      "execution_count": null,
      "outputs": [
        {
          "output_type": "execute_result",
          "data": {
            "text/plain": [
              "<re.Match object; span=(3, 5), match='전화'>"
            ]
          },
          "metadata": {},
          "execution_count": 13
        }
      ]
    },
    {
      "cell_type": "markdown",
      "source": [
        "- findall 함수\n",
        "    - 정규식과 매칭되는 모든 문자열을 리스트로 반환한다."
      ],
      "metadata": {
        "id": "ke5lCeSKFX3G"
      }
    },
    {
      "cell_type": "code",
      "source": [
        "re.findall(\"번호\",data)"
      ],
      "metadata": {
        "colab": {
          "base_uri": "https://localhost:8080/"
        },
        "id": "7zYIghU0FLpI",
        "outputId": "123d8335-a1c1-4779-8ea8-cf875d94992c"
      },
      "execution_count": null,
      "outputs": [
        {
          "output_type": "execute_result",
          "data": {
            "text/plain": [
              "['번호', '번호']"
            ]
          },
          "metadata": {},
          "execution_count": 17
        }
      ]
    },
    {
      "cell_type": "markdown",
      "source": [
        "- sub 함수\n",
        "    - 정규식과 매칭되는 부분을 치환해준다."
      ],
      "metadata": {
        "id": "w8hHTqwxFiYG"
      }
    },
    {
      "cell_type": "code",
      "source": [
        "re.sub(\"전화번호\",\"핸드폰번호\",data)"
      ],
      "metadata": {
        "colab": {
          "base_uri": "https://localhost:8080/",
          "height": 35
        },
        "id": "_ud3OVacFg2X",
        "outputId": "f2da75d5-739d-4f7c-b4ad-9099ce2fa0bc"
      },
      "execution_count": null,
      "outputs": [
        {
          "output_type": "execute_result",
          "data": {
            "text/plain": [
              "'나의 핸드폰번호는 010-0000-0000 이다. 너의 핸드폰번호는 010-1111-1111 이다.'"
            ],
            "application/vnd.google.colaboratory.intrinsic+json": {
              "type": "string"
            }
          },
          "metadata": {},
          "execution_count": 18
        }
      ]
    },
    {
      "cell_type": "markdown",
      "source": [
        "## 메타 문자\n",
        "-메타문자란 원래 그 문자가 가진 뜻이 아닌 특별한 용도로 사용하는 문자\n",
        "- `\\ ^ $ . [ ] { } ( ) * + ?`\n"
      ],
      "metadata": {
        "id": "_rtQtbY8GHq8"
      }
    },
    {
      "cell_type": "markdown",
      "source": [
        "- `.` : 줄바꿈 문자(`\\n`)를 제외한 모든 문자와 매치"
      ],
      "metadata": {
        "id": "NQ7dv2TpGpas"
      }
    },
    {
      "cell_type": "code",
      "source": [
        " data = \"abc a\\nc a c\"\n",
        " re.findall(\"a.c\",data)"
      ],
      "metadata": {
        "colab": {
          "base_uri": "https://localhost:8080/"
        },
        "id": "T8IXVyqBF2ON",
        "outputId": "319bcb25-4d20-4b22-cafa-b05e97f2e507"
      },
      "execution_count": null,
      "outputs": [
        {
          "output_type": "execute_result",
          "data": {
            "text/plain": [
              "['abc', 'a c']"
            ]
          },
          "metadata": {},
          "execution_count": 19
        }
      ]
    },
    {
      "cell_type": "markdown",
      "source": [
        "- `*` : 바로 앞에 문자가 0번 이상 반복할 경우 매치"
      ],
      "metadata": {
        "id": "O2Ux8yKZHMhJ"
      }
    },
    {
      "cell_type": "code",
      "source": [
        "data = \"abc ac abbc a c\"\n",
        "re.findall(\"ab*c\",data)  #a와 c사이에 b라는 문자가 0번이상 반복인지 찾아보자"
      ],
      "metadata": {
        "colab": {
          "base_uri": "https://localhost:8080/"
        },
        "id": "sy1rT0xRHD99",
        "outputId": "2a5d8b1c-cfad-4fa6-fbcf-8a4f92bdaf1d"
      },
      "execution_count": null,
      "outputs": [
        {
          "output_type": "execute_result",
          "data": {
            "text/plain": [
              "['abc', 'ac', 'abbc']"
            ]
          },
          "metadata": {},
          "execution_count": 20
        }
      ]
    },
    {
      "cell_type": "markdown",
      "source": [
        "- `+` : 앞에 문자가 1번이상 반복할 경우 매치"
      ],
      "metadata": {
        "id": "GXG66W6qHy_a"
      }
    },
    {
      "cell_type": "code",
      "source": [
        "data = \"abc ac abbbc\"\n",
        "re.findall(\"ab+c\",data)"
      ],
      "metadata": {
        "colab": {
          "base_uri": "https://localhost:8080/"
        },
        "id": "sjQJnhnHHm5Q",
        "outputId": "0a95d112-f123-48e7-d072-ea3685a10e97"
      },
      "execution_count": null,
      "outputs": [
        {
          "output_type": "execute_result",
          "data": {
            "text/plain": [
              "['abc', 'abbbc']"
            ]
          },
          "metadata": {},
          "execution_count": 21
        }
      ]
    },
    {
      "cell_type": "code",
      "source": [
        " data = \"나는 말했다 '오늘 행복하다' 라고 ...\"\n",
        " re.findall(\"'.+'\",data)"
      ],
      "metadata": {
        "colab": {
          "base_uri": "https://localhost:8080/"
        },
        "id": "Ua4gEnZMIBlf",
        "outputId": "6dbcac23-df3a-450d-b264-bc5cef71c6a1"
      },
      "execution_count": null,
      "outputs": [
        {
          "output_type": "execute_result",
          "data": {
            "text/plain": [
              "[\"'오늘 행복하다'\"]"
            ]
          },
          "metadata": {},
          "execution_count": 22
        }
      ]
    },
    {
      "cell_type": "code",
      "source": [
        "re.findall(\"'(.+)'\",data)"
      ],
      "metadata": {
        "colab": {
          "base_uri": "https://localhost:8080/"
        },
        "id": "svkEO26ZIt-S",
        "outputId": "23be1907-2545-4c67-c87f-eecfbe0ec2e2"
      },
      "execution_count": null,
      "outputs": [
        {
          "output_type": "execute_result",
          "data": {
            "text/plain": [
              "['오늘 행복하다']"
            ]
          },
          "metadata": {},
          "execution_count": 23
        }
      ]
    },
    {
      "cell_type": "markdown",
      "source": [
        "- 반복 횟수를 제한하고 싶다면?\n",
        "    - `{m,n}` : 바로 앞에 문자의 반복횟수가 m번에서 n번 사이\n",
        "    - `{m}` : 바로 앞에 문자의 반복횟수가 m번\n",
        "    - `{m,}` : 바로 앞에 문자의 반복횟수가 m번 이상\n",
        "    - `{,n}` : 바로 앞에 문자의 반복횟수가 n번 이하"
      ],
      "metadata": {
        "id": "nyz3XHh2JWoR"
      }
    },
    {
      "cell_type": "code",
      "source": [
        "data = \"abc ac abbbc abbbbc\"\n",
        "re.findall(\"ab{1,3}c\",data)"
      ],
      "metadata": {
        "colab": {
          "base_uri": "https://localhost:8080/"
        },
        "id": "Hnma0X40JM7T",
        "outputId": "74e7059e-7510-4fd3-9e9d-265704b4ed0e"
      },
      "execution_count": null,
      "outputs": [
        {
          "output_type": "execute_result",
          "data": {
            "text/plain": [
              "['abc', 'abbbc']"
            ]
          },
          "metadata": {},
          "execution_count": 24
        }
      ]
    },
    {
      "cell_type": "code",
      "source": [
        "data = \"abc ac abbbc abbbbc\"\n",
        "re.findall(\"ab{4}c\",data)"
      ],
      "metadata": {
        "colab": {
          "base_uri": "https://localhost:8080/"
        },
        "id": "uWWhJwOcN5In",
        "outputId": "6c0505d0-1aba-4d5c-83d6-8df04dfd3928"
      },
      "execution_count": null,
      "outputs": [
        {
          "output_type": "execute_result",
          "data": {
            "text/plain": [
              "['abbbbc']"
            ]
          },
          "metadata": {},
          "execution_count": 25
        }
      ]
    },
    {
      "cell_type": "code",
      "source": [
        "data = \"abc ac abbbc abbbbc\"\n",
        "re.findall(\"ab{1,}c\",data)"
      ],
      "metadata": {
        "colab": {
          "base_uri": "https://localhost:8080/"
        },
        "id": "ATtgYU1ZOfaI",
        "outputId": "f285338a-6263-460b-cbbc-4d76ec6f0df8"
      },
      "execution_count": null,
      "outputs": [
        {
          "output_type": "execute_result",
          "data": {
            "text/plain": [
              "['abc', 'abbbc', 'abbbbc']"
            ]
          },
          "metadata": {},
          "execution_count": 26
        }
      ]
    },
    {
      "cell_type": "code",
      "source": [
        "data = \"abc ac abbbc abbbbc\"\n",
        "re.findall(\"ab{,3}c\",data)"
      ],
      "metadata": {
        "colab": {
          "base_uri": "https://localhost:8080/"
        },
        "id": "piwkhtQZOpaN",
        "outputId": "6bc8e70e-e096-43b6-d893-2b14eaebb55c"
      },
      "execution_count": null,
      "outputs": [
        {
          "output_type": "execute_result",
          "data": {
            "text/plain": [
              "['abc', 'ac', 'abbbc']"
            ]
          },
          "metadata": {},
          "execution_count": 27
        }
      ]
    },
    {
      "cell_type": "markdown",
      "source": [
        "- `?` : 반복X, 앞에 문자가 있거나 없거나를 의미"
      ],
      "metadata": {
        "id": "fq_AYqyeQc3A"
      }
    },
    {
      "cell_type": "code",
      "source": [
        "data = \"abc ac abbbc abbbbc\"\n",
        "re.findall(\"ab?c\",data) # ab{0,1}c"
      ],
      "metadata": {
        "colab": {
          "base_uri": "https://localhost:8080/"
        },
        "id": "MX0RiSaGO-Xb",
        "outputId": "43dcf809-f14a-4e25-c153-40ece8e4da23"
      },
      "execution_count": null,
      "outputs": [
        {
          "output_type": "execute_result",
          "data": {
            "text/plain": [
              "['abc', 'ac']"
            ]
          },
          "metadata": {},
          "execution_count": 28
        }
      ]
    },
    {
      "cell_type": "markdown",
      "source": [
        "- `[ ]` : [ ] 사이의 문자들과 매칭이라는 의미"
      ],
      "metadata": {
        "id": "SwElY71eQy7y"
      }
    },
    {
      "cell_type": "code",
      "source": [
        "data = \"abc ac acc acb\"\n",
        "re.findall(\"a[bc]c\",data)"
      ],
      "metadata": {
        "colab": {
          "base_uri": "https://localhost:8080/"
        },
        "id": "Ev7VSmc9QkUl",
        "outputId": "feb52364-444d-4970-e233-b4f3f11ef01c"
      },
      "execution_count": null,
      "outputs": [
        {
          "output_type": "execute_result",
          "data": {
            "text/plain": [
              "['abc', 'acc']"
            ]
          },
          "metadata": {},
          "execution_count": 31
        }
      ]
    },
    {
      "cell_type": "markdown",
      "source": [
        "- `[ ]` 안에서는 메타문자 역할을 하지 않는다."
      ],
      "metadata": {
        "id": "f8LVY9rFRXpC"
      }
    },
    {
      "cell_type": "code",
      "source": [
        "data = \"abc a+c a.c a?c\"\n",
        "re.findall(\"a[+.?]c\",data)"
      ],
      "metadata": {
        "colab": {
          "base_uri": "https://localhost:8080/"
        },
        "id": "1Qn_5_6HRK8c",
        "outputId": "3acac108-e1af-45a7-d2de-f9dfa6d9fc3f"
      },
      "execution_count": null,
      "outputs": [
        {
          "output_type": "execute_result",
          "data": {
            "text/plain": [
              "['a+c', 'a.c', 'a?c']"
            ]
          },
          "metadata": {},
          "execution_count": 32
        }
      ]
    },
    {
      "cell_type": "code",
      "source": [
        "data = \"abc a[c a]c\"\n",
        "re.findall(\"a[\\[\\]]c\",data)"
      ],
      "metadata": {
        "colab": {
          "base_uri": "https://localhost:8080/"
        },
        "id": "qRceay5VRuLM",
        "outputId": "aaac73f2-3953-4bd5-b985-a412a8ec575f"
      },
      "execution_count": null,
      "outputs": [
        {
          "output_type": "execute_result",
          "data": {
            "text/plain": [
              "['a[c', 'a]c']"
            ]
          },
          "metadata": {},
          "execution_count": 33
        }
      ]
    },
    {
      "cell_type": "markdown",
      "source": [
        "- 하이픈(`-`) 사용하기\n",
        "    - `[a-zA-Z]` : 모든 알파뱃과 매치\n",
        "    - `[0-9]` : 모든 숫자와 매치"
      ],
      "metadata": {
        "id": "-Ki2CI4YUhJ-"
      }
    },
    {
      "cell_type": "code",
      "source": [
        "data = \"Python 3.10.5\"\n",
        "re.findall(\"[0-9a-zA-Z]\",data) "
      ],
      "metadata": {
        "colab": {
          "base_uri": "https://localhost:8080/"
        },
        "id": "fxWrwIXxSHwM",
        "outputId": "126a9856-4d37-446d-cb74-1777adb8a2e6"
      },
      "execution_count": null,
      "outputs": [
        {
          "output_type": "execute_result",
          "data": {
            "text/plain": [
              "['P', 'y', 't', 'h', 'o', 'n', '3', '1', '0', '5']"
            ]
          },
          "metadata": {},
          "execution_count": 35
        }
      ]
    },
    {
      "cell_type": "code",
      "source": [
        "data = \"Python 3.10.5\"\n",
        "re.findall(\"[0-9a-zA-Z.]+\",data) "
      ],
      "metadata": {
        "colab": {
          "base_uri": "https://localhost:8080/"
        },
        "id": "5GJAaUkPVK14",
        "outputId": "2bab2faa-cbec-43f8-cc1e-c3a4819854f3"
      },
      "execution_count": null,
      "outputs": [
        {
          "output_type": "execute_result",
          "data": {
            "text/plain": [
              "['Python', '3.10.5']"
            ]
          },
          "metadata": {},
          "execution_count": 39
        }
      ]
    },
    {
      "cell_type": "code",
      "source": [
        "data = \"파이썬 버전은 3.10.5\"\n",
        "re.findall(\"[가-힣0-9]+\",data)"
      ],
      "metadata": {
        "colab": {
          "base_uri": "https://localhost:8080/"
        },
        "id": "Q7yKCWTlVlJ1",
        "outputId": "8829045d-5ebf-4cd0-db08-41faf85855fa"
      },
      "execution_count": null,
      "outputs": [
        {
          "output_type": "execute_result",
          "data": {
            "text/plain": [
              "['파이썬', '버전은', '3', '10', '5']"
            ]
          },
          "metadata": {},
          "execution_count": 40
        }
      ]
    },
    {
      "cell_type": "code",
      "source": [
        "data = \"파이썬 버전은 3.10.5 ㅋㅋㅋ ㅜㅜㅜ\"\n",
        "re.findall(\"[ㅏ-ㅣ가-힣ㄱ-ㅎ0-9.]+\",data)"
      ],
      "metadata": {
        "colab": {
          "base_uri": "https://localhost:8080/"
        },
        "id": "GsIVyN9tWDOn",
        "outputId": "39f73005-dbd9-45f0-eed7-c4d4fa3d8da1"
      },
      "execution_count": null,
      "outputs": [
        {
          "output_type": "execute_result",
          "data": {
            "text/plain": [
              "['파이썬', '버전은', '3.10.5', 'ㅋㅋㅋ', 'ㅜㅜㅜ']"
            ]
          },
          "metadata": {},
          "execution_count": 45
        }
      ]
    },
    {
      "cell_type": "markdown",
      "source": [
        "- `\\d` : `[0-9]` 동일\n",
        "- `\\w` : `[a-zA-Z0-9_]` 동일\n"
      ],
      "metadata": {
        "id": "M_438HtKWffB"
      }
    },
    {
      "cell_type": "code",
      "source": [
        "data = \"python 3_10_5\"\n",
        "re.findall(\"\\w+\",data)"
      ],
      "metadata": {
        "colab": {
          "base_uri": "https://localhost:8080/"
        },
        "id": "1wtZYBOLWSDN",
        "outputId": "3558f015-c20f-46a4-c0f5-a4cba0f42360"
      },
      "execution_count": null,
      "outputs": [
        {
          "output_type": "execute_result",
          "data": {
            "text/plain": [
              "['python', '3_10_5']"
            ]
          },
          "metadata": {},
          "execution_count": 50
        }
      ]
    },
    {
      "cell_type": "code",
      "source": [
        "re.findall(\"\\d+\",data)"
      ],
      "metadata": {
        "colab": {
          "base_uri": "https://localhost:8080/"
        },
        "id": "Zxds8CwaW8Do",
        "outputId": "ebcc6a7d-40c7-451c-a82a-899abaa33c79"
      },
      "execution_count": null,
      "outputs": [
        {
          "output_type": "execute_result",
          "data": {
            "text/plain": [
              "['3', '10', '5']"
            ]
          },
          "metadata": {},
          "execution_count": 51
        }
      ]
    },
    {
      "cell_type": "markdown",
      "source": [
        "- `[ ^ ]` : not을 의미"
      ],
      "metadata": {
        "id": "DUdfkQjbXO6e"
      }
    },
    {
      "cell_type": "code",
      "source": [
        "data = \"Python 3.10.5\"\n",
        "re.findall(\"[^\\d. ]+\",data)"
      ],
      "metadata": {
        "colab": {
          "base_uri": "https://localhost:8080/"
        },
        "id": "AIGQEOvQXK6_",
        "outputId": "a410281b-4ef4-4711-d891-c5dd5107d5ee"
      },
      "execution_count": null,
      "outputs": [
        {
          "output_type": "execute_result",
          "data": {
            "text/plain": [
              "['Python']"
            ]
          },
          "metadata": {},
          "execution_count": 52
        }
      ]
    },
    {
      "cell_type": "markdown",
      "source": [
        "- `^` : 검사하고자하는 문자열이 정규식에 맞는 문자로 시작하는지를 검사 \n",
        "- `$` : 검사하고자하는 문자열이 정규식에 맞는 문자로 끝나는지를 검사"
      ],
      "metadata": {
        "id": "Ix_s6ByabrPg"
      }
    },
    {
      "cell_type": "code",
      "source": [
        "phone = \"010-0000-0000\"\n",
        "match = re.search(\"^\\d{3}-\\d{4}-\\d{4}$\",phone)\n",
        "match"
      ],
      "metadata": {
        "colab": {
          "base_uri": "https://localhost:8080/"
        },
        "id": "Bsvb-iwQXh1N",
        "outputId": "0c214788-d80e-4d54-94b3-1293d7175d3e"
      },
      "execution_count": null,
      "outputs": [
        {
          "output_type": "execute_result",
          "data": {
            "text/plain": [
              "<re.Match object; span=(0, 13), match='010-0000-0000'>"
            ]
          },
          "metadata": {},
          "execution_count": 53
        }
      ]
    },
    {
      "cell_type": "markdown",
      "source": [
        "```\n",
        "data = \"\"\"\n",
        "연월일 형식에 문자열을 추출해 보시오.\n",
        "다음은 2002-06-09 형식의 날짜이다.\n",
        "이것도 2002/10/19 형식의 날짜이다.\n",
        "출력 예시처럼 담아주세요.\n",
        "\"\"\"\n",
        "Output:\n",
        "['2002-06-09', '2002/10/19']\n",
        "```"
      ],
      "metadata": {
        "id": "629MpB8jdL-w"
      }
    },
    {
      "cell_type": "code",
      "source": [
        "data = \"'2002-06-09','2002/10/19'\"\n",
        "re.findall(\"[\\d-].+\",data)"
      ],
      "metadata": {
        "colab": {
          "base_uri": "https://localhost:8080/"
        },
        "id": "4AlmCG1fcgy7",
        "outputId": "b4537fd4-e45a-4a65-90f1-ee01a23dec9f"
      },
      "execution_count": null,
      "outputs": [
        {
          "output_type": "execute_result",
          "data": {
            "text/plain": [
              "[\"2002-06-09','2002/10/19'\"]"
            ]
          },
          "metadata": {},
          "execution_count": 71
        }
      ]
    },
    {
      "cell_type": "code",
      "source": [
        "# 이게 더 깔끔 & 날짜 형식만을 추출\n",
        "pat = \"\\d{4}[-/]\\d{2}[-/]\\d{2}\"\n",
        "re.findall(pat,data)"
      ],
      "metadata": {
        "colab": {
          "base_uri": "https://localhost:8080/"
        },
        "id": "QTiOhlC2dhkn",
        "outputId": "9ee03a75-cd05-4215-9bc2-b665f267e276"
      },
      "execution_count": null,
      "outputs": [
        {
          "output_type": "execute_result",
          "data": {
            "text/plain": [
              "['2002-06-09', '2002/10/19']"
            ]
          },
          "metadata": {},
          "execution_count": 72
        }
      ]
    },
    {
      "cell_type": "markdown",
      "source": [
        "```\n",
        "data = \"\"\"\n",
        "다음의 html 에서 태그를 제거해서 출력 예시와 같은 문자열을 만들어주세요.\n",
        "<div>\n",
        "    <a href=\"https://www.naver.com\">클릭시 href 속성 값의 링크로 이동하는 태그</a>\n",
        "    <img src=\"image.jpg\">src 속성에 이미지를 브라우저에 나타내주는 태그</img>\n",
        "    <ul>\n",
        "        <li>ul 태그와 함께 목록을 생성해주는 태그</li>\n",
        "        <li>ul 태그와 함께 목록을 생성해주는 태그</li>\n",
        "    </ul>\n",
        "    <p>문단을 의미하는 태그</p>\n",
        "    <br memo=\"줄바꿈을 해주는 태그\">\n",
        "</div>\n",
        "\"\"\"\n",
        "Output:\n",
        "\n",
        "다음의 html 에서 태그를 제거해서 출력 예시와 같은 문자열을 만들어주세요.\n",
        "\n",
        "    클릭시 href 속성 값의 링크로 이동하는 태그\n",
        "    src 속성에 이미지를 브라우저에 나타내주는 태그\n",
        "\n",
        "        ul 태그와 함께 목록을 생성해주는 태그\n",
        "        ul 태그와 함께 목록을 생성해주는 태그\n",
        "\n",
        "    문단을 의미하는 태그\n",
        "```"
      ],
      "metadata": {
        "id": "vfilQZ9ogPaO"
      }
    },
    {
      "cell_type": "code",
      "source": [
        "data = \"\"\"\n",
        "다음의 html 에서 태그를 제거해서 출력 예시와 같은 문자열을 만들어주세요.\n",
        "<div>\n",
        "    <a href=\"https://www.naver.com\">클릭시 href 속성 값의 링크로 이동하는 태그</a>\n",
        "    <img src=\"image.jpg\">src 속성에 이미지를 브라우저에 나타내주는 태그</img>\n",
        "    <ul>\n",
        "        <li>ul 태그와 함께 목록을 생성해주는 태그</li>\n",
        "        <li>ul 태그와 함께 목록을 생성해주는 태그</li>\n",
        "    </ul>\n",
        "    <p>문단을 의미하는 태그</p>\n",
        "    <br memo=\"줄바꿈을 해주는 태그\">\n",
        "</div>\n",
        "\"\"\"\n",
        "at = \"<[^>]+>\"\n",
        "print(re.sub(pat,\"\",data))"
      ],
      "metadata": {
        "colab": {
          "base_uri": "https://localhost:8080/"
        },
        "id": "p2xOzhQgf4tf",
        "outputId": "d6a65075-9ceb-4e45-d3cf-e51300120b9e"
      },
      "execution_count": null,
      "outputs": [
        {
          "output_type": "stream",
          "name": "stdout",
          "text": [
            "\n",
            "다음의 html 에서 태그를 제거해서 출력 예시와 같은 문자열을 만들어주세요.\n",
            "<div>\n",
            "    <a href=\"https://www.naver.com\">클릭시 href 속성 값의 링크로 이동하는 태그</a>\n",
            "    <img src=\"image.jpg\">src 속성에 이미지를 브라우저에 나타내주는 태그</img>\n",
            "    <ul>\n",
            "        <li>ul 태그와 함께 목록을 생성해주는 태그</li>\n",
            "        <li>ul 태그와 함께 목록을 생성해주는 태그</li>\n",
            "    </ul>\n",
            "    <p>문단을 의미하는 태그</p>\n",
            "    <br memo=\"줄바꿈을 해주는 태그\">\n",
            "</div>\n",
            "\n"
          ]
        }
      ]
    },
    {
      "cell_type": "markdown",
      "source": [
        "- 프로그램 내에서 자주 사용하는 정규식 패턴인 경우 `re.compile` 함수를 이용하여 패턴객체를 생성해서 찾자"
      ],
      "metadata": {
        "id": "PyOLgBrwj3Py"
      }
    },
    {
      "cell_type": "code",
      "source": [
        "pat_obj = re.compile(\"\\d{3}-\\d{4}-\\d{4}\")\n",
        "type(pat_obj)"
      ],
      "metadata": {
        "colab": {
          "base_uri": "https://localhost:8080/"
        },
        "id": "x4Z_7kp2g-z-",
        "outputId": "ec219f87-c852-42db-e61f-d12922248d1b"
      },
      "execution_count": null,
      "outputs": [
        {
          "output_type": "execute_result",
          "data": {
            "text/plain": [
              "re.Pattern"
            ]
          },
          "metadata": {},
          "execution_count": 88
        }
      ]
    },
    {
      "cell_type": "code",
      "source": [
        "pat_obj.findall(data)"
      ],
      "metadata": {
        "colab": {
          "base_uri": "https://localhost:8080/"
        },
        "id": "Z9hIod_KjoJb",
        "outputId": "b8912f9e-f731-4824-bd96-01e912408020"
      },
      "execution_count": null,
      "outputs": [
        {
          "output_type": "execute_result",
          "data": {
            "text/plain": [
              "['010-0000-0000', '010-1111-1111']"
            ]
          },
          "metadata": {},
          "execution_count": 89
        }
      ]
    },
    {
      "cell_type": "markdown",
      "source": [
        "- 정규식 연습 사이트\n",
        "    - https://regex101.com/"
      ],
      "metadata": {
        "id": "c7KrCfkX2gE-"
      }
    }
  ]
}
