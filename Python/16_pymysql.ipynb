{
  "nbformat": 4,
  "nbformat_minor": 0,
  "metadata": {
    "colab": {
      "name": "16-pymysql.ipynb",
      "provenance": [],
      "collapsed_sections": [],
      "include_colab_link": true
    },
    "kernelspec": {
      "name": "python3",
      "display_name": "Python 3"
    },
    "language_info": {
      "name": "python"
    }
  },
  "cells": [
    {
      "cell_type": "markdown",
      "metadata": {
        "id": "view-in-github",
        "colab_type": "text"
      },
      "source": [
        "<a href=\"https://colab.research.google.com/github/Wooney98/playdata-python/blob/main/16_pymysql.ipynb\" target=\"_parent\"><img src=\"https://colab.research.google.com/assets/colab-badge.svg\" alt=\"Open In Colab\"/></a>"
      ]
    },
    {
      "cell_type": "code",
      "execution_count": null,
      "metadata": {
        "colab": {
          "base_uri": "https://localhost:8080/"
        },
        "id": "VTuDMTG-Hl-u",
        "outputId": "ababa2be-050a-459a-cf3d-2b50b36a83be"
      },
      "outputs": [
        {
          "output_type": "stream",
          "name": "stdout",
          "text": [
            "Looking in indexes: https://pypi.org/simple, https://us-python.pkg.dev/colab-wheels/public/simple/\n",
            "Collecting pymysql\n",
            "  Downloading PyMySQL-1.0.2-py3-none-any.whl (43 kB)\n",
            "\u001b[K     |████████████████████████████████| 43 kB 1.6 MB/s \n",
            "\u001b[?25hInstalling collected packages: pymysql\n",
            "Successfully installed pymysql-1.0.2\n"
          ]
        }
      ],
      "source": [
        "!pip install pymysql"
      ]
    },
    {
      "cell_type": "markdown",
      "source": [
        "- 구글 드라이브 연결"
      ],
      "metadata": {
        "id": "usuOjgBSIAYX"
      }
    },
    {
      "cell_type": "code",
      "source": [
        "from google.colab import drive\n",
        "drive.mount('/content/drive')"
      ],
      "metadata": {
        "colab": {
          "base_uri": "https://localhost:8080/"
        },
        "id": "snHcAZxoH2th",
        "outputId": "39bd3a07-ef84-4014-9132-434bf9805f24"
      },
      "execution_count": null,
      "outputs": [
        {
          "output_type": "stream",
          "name": "stdout",
          "text": [
            "Mounted at /content/drive\n"
          ]
        }
      ]
    },
    {
      "cell_type": "code",
      "source": [
        "import yaml\n",
        "DB_INFO = \"/content/drive/MyDrive/03-data-processing/data/db.yaml\"\n",
        "with open(DB_INFO,\"r\") as f:\n",
        "    db_info = yaml.load(f, Loader=yaml.Loader)"
      ],
      "metadata": {
        "id": "bDDwssblH2rF"
      },
      "execution_count": null,
      "outputs": []
    },
    {
      "cell_type": "markdown",
      "source": [
        "- DB 접속 정보"
      ],
      "metadata": {
        "id": "dTXpDikeJYG5"
      }
    },
    {
      "cell_type": "code",
      "source": [
        "HOST = db_info[\"HOST\"]\n",
        "USER = db_info[\"USER\"]\n",
        "PASSWD = db_info[\"PASSWD\"]\n",
        "PORT = 3306"
      ],
      "metadata": {
        "id": "Ws2Km4VaJZqd"
      },
      "execution_count": null,
      "outputs": []
    },
    {
      "cell_type": "markdown",
      "source": [
        "- connect 함수를 이용하여 연결객체 받아오기"
      ],
      "metadata": {
        "id": "5lk1ovOgKVdD"
      }
    },
    {
      "cell_type": "code",
      "source": [
        "import pymysql\n",
        "\n",
        "conn = pymysql.connect(\n",
        "    user = USER,\n",
        "    passwd = PASSWD,\n",
        "    host = HOST,\n",
        "    port = PORT,\n",
        "    db = 'playdata'\n",
        ")\n",
        "conn"
      ],
      "metadata": {
        "colab": {
          "base_uri": "https://localhost:8080/"
        },
        "id": "tjyxSbpzH2lO",
        "outputId": "da2c5b5c-47ae-41fc-eeb3-ac9a4a345c4b"
      },
      "execution_count": null,
      "outputs": [
        {
          "output_type": "execute_result",
          "data": {
            "text/plain": [
              "<pymysql.connections.Connection at 0x7f1bb7c78d10>"
            ]
          },
          "metadata": {},
          "execution_count": 12
        }
      ]
    },
    {
      "cell_type": "markdown",
      "source": [
        "- Cursor 객체\n",
        "    - sql 구문을 실행하기 위한 객체"
      ],
      "metadata": {
        "id": "PgtCy13ELag1"
      }
    },
    {
      "cell_type": "code",
      "source": [
        "cursor = conn.cursor()\n",
        "cursor"
      ],
      "metadata": {
        "colab": {
          "base_uri": "https://localhost:8080/"
        },
        "id": "JP5GTV5PH2jM",
        "outputId": "9bc14cce-2d75-426b-c3b4-c01c56328f32"
      },
      "execution_count": null,
      "outputs": [
        {
          "output_type": "execute_result",
          "data": {
            "text/plain": [
              "<pymysql.cursors.Cursor at 0x7f1bb7cb4a10>"
            ]
          },
          "metadata": {},
          "execution_count": 13
        }
      ]
    },
    {
      "cell_type": "markdown",
      "source": [
        "- execute 메소드를 이용하여 서버에 sql 전송하기"
      ],
      "metadata": {
        "id": "Uv6CJJ78POiH"
      }
    },
    {
      "cell_type": "code",
      "source": [
        "sql = \"select * from titanic_raw;\"\n",
        "cursor.execute(sql)"
      ],
      "metadata": {
        "colab": {
          "base_uri": "https://localhost:8080/"
        },
        "id": "dXJIj_trH2gZ",
        "outputId": "ed66d403-9727-4531-f8f3-f4bda1e0eb91"
      },
      "execution_count": null,
      "outputs": [
        {
          "output_type": "execute_result",
          "data": {
            "text/plain": [
              "1309"
            ]
          },
          "metadata": {},
          "execution_count": 14
        }
      ]
    },
    {
      "cell_type": "code",
      "source": [
        "result = cursor.fetchall() # 쿼리에 실행결과를 다 가져오는 메소드\n",
        "result[:2]"
      ],
      "metadata": {
        "colab": {
          "base_uri": "https://localhost:8080/"
        },
        "id": "-YS9r5jgH2eA",
        "outputId": "581b0e6c-3f9c-482c-e3ae-985f3489c7ed"
      },
      "execution_count": null,
      "outputs": [
        {
          "output_type": "execute_result",
          "data": {
            "text/plain": [
              "((1,\n",
              "  0,\n",
              "  3,\n",
              "  'Braund, Mr. Owen Harris',\n",
              "  'male',\n",
              "  22.0,\n",
              "  1,\n",
              "  0,\n",
              "  'A/5 21171',\n",
              "  7.25,\n",
              "  None,\n",
              "  'S'),\n",
              " (2,\n",
              "  1,\n",
              "  1,\n",
              "  'Cumings, Mrs. John Bradley (Florence Briggs Thayer)',\n",
              "  'female',\n",
              "  38.0,\n",
              "  1,\n",
              "  0,\n",
              "  'PC 17599',\n",
              "  71.2833,\n",
              "  'C85',\n",
              "  'C'))"
            ]
          },
          "metadata": {},
          "execution_count": 15
        }
      ]
    },
    {
      "cell_type": "code",
      "source": [
        "cursor.fetchall()"
      ],
      "metadata": {
        "colab": {
          "base_uri": "https://localhost:8080/"
        },
        "id": "LagP0bXjH2bU",
        "outputId": "2dc21f0d-5c95-40de-b873-ea346ef8fd53"
      },
      "execution_count": null,
      "outputs": [
        {
          "output_type": "execute_result",
          "data": {
            "text/plain": [
              "()"
            ]
          },
          "metadata": {},
          "execution_count": 16
        }
      ]
    },
    {
      "cell_type": "markdown",
      "source": [
        "- dict 형식으로 쿼리 실행결과 받아오기"
      ],
      "metadata": {
        "id": "GZ49rjKAQOpx"
      }
    },
    {
      "cell_type": "code",
      "source": [
        "cursor = conn.cursor(pymysql.cursors.DictCursor)\n",
        "cursor"
      ],
      "metadata": {
        "colab": {
          "base_uri": "https://localhost:8080/"
        },
        "id": "3GupkiqSH2Yy",
        "outputId": "8cbd09b7-43bb-43e0-ca43-2c97ee1ac5ca"
      },
      "execution_count": null,
      "outputs": [
        {
          "output_type": "execute_result",
          "data": {
            "text/plain": [
              "<pymysql.cursors.DictCursor at 0x7f1bb7711b10>"
            ]
          },
          "metadata": {},
          "execution_count": 18
        }
      ]
    },
    {
      "cell_type": "code",
      "source": [
        "sql = \"select * from titanic_raw;\"\n",
        "cursor.execute(sql)"
      ],
      "metadata": {
        "colab": {
          "base_uri": "https://localhost:8080/"
        },
        "id": "oUbBQePnH2Ti",
        "outputId": "dfc7c167-f7fe-4063-a13e-bc0d20632ec5"
      },
      "execution_count": null,
      "outputs": [
        {
          "output_type": "execute_result",
          "data": {
            "text/plain": [
              "1309"
            ]
          },
          "metadata": {},
          "execution_count": 19
        }
      ]
    },
    {
      "cell_type": "code",
      "source": [
        "result = cursor.fetchall()"
      ],
      "metadata": {
        "id": "jv5DtsVNQ29X"
      },
      "execution_count": null,
      "outputs": []
    },
    {
      "cell_type": "code",
      "source": [
        "result[:2]"
      ],
      "metadata": {
        "colab": {
          "base_uri": "https://localhost:8080/"
        },
        "id": "fgxNON0VQ26u",
        "outputId": "9ea54342-e340-4119-84f1-72845063a5bc"
      },
      "execution_count": null,
      "outputs": [
        {
          "output_type": "execute_result",
          "data": {
            "text/plain": [
              "[{'passengerid': 1,\n",
              "  'survived': 0,\n",
              "  'pclass': 3,\n",
              "  'name': 'Braund, Mr. Owen Harris',\n",
              "  'gender': 'male',\n",
              "  'age': 22.0,\n",
              "  'sibsp': 1,\n",
              "  'parch': 0,\n",
              "  'ticket': 'A/5 21171',\n",
              "  'fare': 7.25,\n",
              "  'cabin': None,\n",
              "  'embarked': 'S'},\n",
              " {'passengerid': 2,\n",
              "  'survived': 1,\n",
              "  'pclass': 1,\n",
              "  'name': 'Cumings, Mrs. John Bradley (Florence Briggs Thayer)',\n",
              "  'gender': 'female',\n",
              "  'age': 38.0,\n",
              "  'sibsp': 1,\n",
              "  'parch': 0,\n",
              "  'ticket': 'PC 17599',\n",
              "  'fare': 71.2833,\n",
              "  'cabin': 'C85',\n",
              "  'embarked': 'C'}]"
            ]
          },
          "metadata": {},
          "execution_count": 21
        }
      ]
    },
    {
      "cell_type": "code",
      "source": [
        "cursor.execute(sql)\n",
        "for row in cursor.fetchall():\n",
        "    print(row)\n",
        "\n",
        "# Output \n",
        "# {'passengerid': 1, 'survived': 0, 'pclass': 3, 'name': 'Braund, Mr. Owen Harris', 'gender': 'male', 'age': 22.0, 'sibsp': 1, 'parch': 0, 'ticket': 'A/5 21171', 'fare': 7.25, 'cabin': None, 'embarked': 'S'}\n",
        "# {'passengerid': 2, 'survived': 1, 'pclass': 1, 'name': 'Cumings, Mrs. John Bradley (Florence Briggs Thayer)', 'gender': 'female', 'age': 38.0, 'sibsp': 1, 'parch': 0, 'ticket': 'PC 17599', 'fare': 71.2833, 'cabin': 'C85', 'embarked': 'C'}\n",
        "# {'passengerid': 3, 'survived': 1, 'pclass': 3, 'name': 'Heikkinen, Miss. Laina', 'gender': 'female', 'age': 26.0, 'sibsp': 0, 'parch': 0, 'ticket': 'STON/O2. 3101282', 'fare': 7.925, 'cabin': None, 'embarked': 'S'}\n",
        "# {'passengerid': 4, 'survived': 1, 'pclass': 1, 'name': 'Futrelle, Mrs. Jacques Heath (Lily May Peel)', 'gender': 'female', 'age': 35.0, 'sibsp': 1, 'parch': 0, 'ticket': '113803', 'fare': 53.1, 'cabin': 'C123', 'embarked': 'S'}\n",
        "# {'passengerid': 5, 'survived': 0, 'pclass': 3, 'name': 'Allen, Mr. William Henry', 'gender': 'male', 'age': 35.0, 'sibsp': 0, 'parch': 0, 'ticket': '373450', 'fare': 8.05, 'cabin': None, 'embarked': 'S'}\n",
        "# ...\n",
        "# {'passengerid': 1306, 'survived': 1, 'pclass': 1, 'name': 'Oliva y Ocana, Dona. Fermina', 'gender': 'female', 'age': 39.0, 'sibsp': 0, 'parch': 0, 'ticket': 'PC 17758', 'fare': 108.9, 'cabin': 'C105', 'embarked': 'C'}\n",
        "# {'passengerid': 1307, 'survived': 0, 'pclass': 3, 'name': 'Saether, Mr. Simon Sivertsen', 'gender': 'male', 'age': 38.5, 'sibsp': 0, 'parch': 0, 'ticket': 'SOTON/O.Q. 3101262', 'fare': 7.25, 'cabin': None, 'embarked': 'S'}\n",
        "# {'passengerid': 1308, 'survived': 0, 'pclass': 3, 'name': 'Ware, Mr. Frederick', 'gender': 'male', 'age': None, 'sibsp': 0, 'parch': 0, 'ticket': '359309', 'fare': 8.05, 'cabin': None, 'embarked': 'S'}\n",
        "# {'passengerid': 1309, 'survived': 0, 'pclass': 3, 'name': 'Peter, Master. Michael J', 'gender': 'male', 'age': None, 'sibsp': 1, 'parch': 1, 'ticket': '2668', 'fare': 22.3583, 'cabin': None, 'embarked': 'C'}"
      ],
      "metadata": {
        "id": "rNNCLT8QQ23t"
      },
      "execution_count": null,
      "outputs": []
    },
    {
      "cell_type": "markdown",
      "source": [
        "- 한행씩 가져오기"
      ],
      "metadata": {
        "id": "Ss9cKJzzTTWI"
      }
    },
    {
      "cell_type": "code",
      "source": [
        "sql = \"select * from titanic_raw;\"\n",
        "cursor.execute(sql)"
      ],
      "metadata": {
        "colab": {
          "base_uri": "https://localhost:8080/"
        },
        "id": "PQhyRoy7Q21S",
        "outputId": "3f84a703-1ec7-4671-f676-2b31b16e41b3"
      },
      "execution_count": null,
      "outputs": [
        {
          "output_type": "execute_result",
          "data": {
            "text/plain": [
              "1309"
            ]
          },
          "metadata": {},
          "execution_count": 23
        }
      ]
    },
    {
      "cell_type": "code",
      "source": [
        "cursor.fetchone()"
      ],
      "metadata": {
        "colab": {
          "base_uri": "https://localhost:8080/"
        },
        "id": "lKWLOxoqQ2yq",
        "outputId": "391e0b70-e5af-4983-8c6a-d2743f1323d0"
      },
      "execution_count": null,
      "outputs": [
        {
          "output_type": "execute_result",
          "data": {
            "text/plain": [
              "{'passengerid': 10,\n",
              " 'survived': 1,\n",
              " 'pclass': 2,\n",
              " 'name': 'Nasser, Mrs. Nicholas (Adele Achem)',\n",
              " 'gender': 'female',\n",
              " 'age': 14.0,\n",
              " 'sibsp': 1,\n",
              " 'parch': 0,\n",
              " 'ticket': '237736',\n",
              " 'fare': 30.0708,\n",
              " 'cabin': None,\n",
              " 'embarked': 'C'}"
            ]
          },
          "metadata": {},
          "execution_count": 33
        }
      ]
    },
    {
      "cell_type": "markdown",
      "source": [
        "- 커서 닫아주기"
      ],
      "metadata": {
        "id": "1cUAy4fUUBCK"
      }
    },
    {
      "cell_type": "code",
      "source": [
        "cursor.close()\n",
        "sql = \"select * from titanic_raw;\"\n",
        "cursor.execute(sql) # 커서가 닫혀있기 때문에 에러발생"
      ],
      "metadata": {
        "colab": {
          "base_uri": "https://localhost:8080/",
          "height": 355
        },
        "id": "nmnW-qcqQ2wR",
        "outputId": "b272f97d-5deb-4478-f8d8-b7c3e503908c"
      },
      "execution_count": null,
      "outputs": [
        {
          "output_type": "error",
          "ename": "ProgrammingError",
          "evalue": "ignored",
          "traceback": [
            "\u001b[0;31m---------------------------------------------------------------------------\u001b[0m",
            "\u001b[0;31mProgrammingError\u001b[0m                          Traceback (most recent call last)",
            "\u001b[0;32m<ipython-input-34-41fd8f1ab6c3>\u001b[0m in \u001b[0;36m<module>\u001b[0;34m\u001b[0m\n\u001b[1;32m      1\u001b[0m \u001b[0mcursor\u001b[0m\u001b[0;34m.\u001b[0m\u001b[0mclose\u001b[0m\u001b[0;34m(\u001b[0m\u001b[0;34m)\u001b[0m\u001b[0;34m\u001b[0m\u001b[0;34m\u001b[0m\u001b[0m\n\u001b[1;32m      2\u001b[0m \u001b[0msql\u001b[0m \u001b[0;34m=\u001b[0m \u001b[0;34m\"select * from titanic_raw;\"\u001b[0m\u001b[0;34m\u001b[0m\u001b[0;34m\u001b[0m\u001b[0m\n\u001b[0;32m----> 3\u001b[0;31m \u001b[0mcursor\u001b[0m\u001b[0;34m.\u001b[0m\u001b[0mexecute\u001b[0m\u001b[0;34m(\u001b[0m\u001b[0msql\u001b[0m\u001b[0;34m)\u001b[0m\u001b[0;34m\u001b[0m\u001b[0;34m\u001b[0m\u001b[0m\n\u001b[0m",
            "\u001b[0;32m/usr/local/lib/python3.7/dist-packages/pymysql/cursors.py\u001b[0m in \u001b[0;36mexecute\u001b[0;34m(self, query, args)\u001b[0m\n\u001b[1;32m    141\u001b[0m         \u001b[0mIf\u001b[0m \u001b[0margs\u001b[0m \u001b[0;32mis\u001b[0m \u001b[0ma\u001b[0m \u001b[0mdict\u001b[0m\u001b[0;34m,\u001b[0m \u001b[0;34m%\u001b[0m\u001b[0;34m(\u001b[0m\u001b[0mname\u001b[0m\u001b[0;34m)\u001b[0m\u001b[0ms\u001b[0m \u001b[0mcan\u001b[0m \u001b[0mbe\u001b[0m \u001b[0mused\u001b[0m \u001b[0;32mas\u001b[0m \u001b[0ma\u001b[0m \u001b[0mplaceholder\u001b[0m \u001b[0;32min\u001b[0m \u001b[0mthe\u001b[0m \u001b[0mquery\u001b[0m\u001b[0;34m.\u001b[0m\u001b[0;34m\u001b[0m\u001b[0;34m\u001b[0m\u001b[0m\n\u001b[1;32m    142\u001b[0m         \"\"\"\n\u001b[0;32m--> 143\u001b[0;31m         \u001b[0;32mwhile\u001b[0m \u001b[0mself\u001b[0m\u001b[0;34m.\u001b[0m\u001b[0mnextset\u001b[0m\u001b[0;34m(\u001b[0m\u001b[0;34m)\u001b[0m\u001b[0;34m:\u001b[0m\u001b[0;34m\u001b[0m\u001b[0;34m\u001b[0m\u001b[0m\n\u001b[0m\u001b[1;32m    144\u001b[0m             \u001b[0;32mpass\u001b[0m\u001b[0;34m\u001b[0m\u001b[0;34m\u001b[0m\u001b[0m\n\u001b[1;32m    145\u001b[0m \u001b[0;34m\u001b[0m\u001b[0m\n",
            "\u001b[0;32m/usr/local/lib/python3.7/dist-packages/pymysql/cursors.py\u001b[0m in \u001b[0;36mnextset\u001b[0;34m(self)\u001b[0m\n\u001b[1;32m     94\u001b[0m \u001b[0;34m\u001b[0m\u001b[0m\n\u001b[1;32m     95\u001b[0m     \u001b[0;32mdef\u001b[0m \u001b[0mnextset\u001b[0m\u001b[0;34m(\u001b[0m\u001b[0mself\u001b[0m\u001b[0;34m)\u001b[0m\u001b[0;34m:\u001b[0m\u001b[0;34m\u001b[0m\u001b[0;34m\u001b[0m\u001b[0m\n\u001b[0;32m---> 96\u001b[0;31m         \u001b[0;32mreturn\u001b[0m \u001b[0mself\u001b[0m\u001b[0;34m.\u001b[0m\u001b[0m_nextset\u001b[0m\u001b[0;34m(\u001b[0m\u001b[0;32mFalse\u001b[0m\u001b[0;34m)\u001b[0m\u001b[0;34m\u001b[0m\u001b[0;34m\u001b[0m\u001b[0m\n\u001b[0m\u001b[1;32m     97\u001b[0m \u001b[0;34m\u001b[0m\u001b[0m\n\u001b[1;32m     98\u001b[0m     \u001b[0;32mdef\u001b[0m \u001b[0m_ensure_bytes\u001b[0m\u001b[0;34m(\u001b[0m\u001b[0mself\u001b[0m\u001b[0;34m,\u001b[0m \u001b[0mx\u001b[0m\u001b[0;34m,\u001b[0m \u001b[0mencoding\u001b[0m\u001b[0;34m=\u001b[0m\u001b[0;32mNone\u001b[0m\u001b[0;34m)\u001b[0m\u001b[0;34m:\u001b[0m\u001b[0;34m\u001b[0m\u001b[0;34m\u001b[0m\u001b[0m\n",
            "\u001b[0;32m/usr/local/lib/python3.7/dist-packages/pymysql/cursors.py\u001b[0m in \u001b[0;36m_nextset\u001b[0;34m(self, unbuffered)\u001b[0m\n\u001b[1;32m     81\u001b[0m     \u001b[0;32mdef\u001b[0m \u001b[0m_nextset\u001b[0m\u001b[0;34m(\u001b[0m\u001b[0mself\u001b[0m\u001b[0;34m,\u001b[0m \u001b[0munbuffered\u001b[0m\u001b[0;34m=\u001b[0m\u001b[0;32mFalse\u001b[0m\u001b[0;34m)\u001b[0m\u001b[0;34m:\u001b[0m\u001b[0;34m\u001b[0m\u001b[0;34m\u001b[0m\u001b[0m\n\u001b[1;32m     82\u001b[0m         \u001b[0;34m\"\"\"Get the next query set\"\"\"\u001b[0m\u001b[0;34m\u001b[0m\u001b[0;34m\u001b[0m\u001b[0m\n\u001b[0;32m---> 83\u001b[0;31m         \u001b[0mconn\u001b[0m \u001b[0;34m=\u001b[0m \u001b[0mself\u001b[0m\u001b[0;34m.\u001b[0m\u001b[0m_get_db\u001b[0m\u001b[0;34m(\u001b[0m\u001b[0;34m)\u001b[0m\u001b[0;34m\u001b[0m\u001b[0;34m\u001b[0m\u001b[0m\n\u001b[0m\u001b[1;32m     84\u001b[0m         \u001b[0mcurrent_result\u001b[0m \u001b[0;34m=\u001b[0m \u001b[0mself\u001b[0m\u001b[0;34m.\u001b[0m\u001b[0m_result\u001b[0m\u001b[0;34m\u001b[0m\u001b[0;34m\u001b[0m\u001b[0m\n\u001b[1;32m     85\u001b[0m         \u001b[0;32mif\u001b[0m \u001b[0mcurrent_result\u001b[0m \u001b[0;32mis\u001b[0m \u001b[0;32mNone\u001b[0m \u001b[0;32mor\u001b[0m \u001b[0mcurrent_result\u001b[0m \u001b[0;32mis\u001b[0m \u001b[0;32mnot\u001b[0m \u001b[0mconn\u001b[0m\u001b[0;34m.\u001b[0m\u001b[0m_result\u001b[0m\u001b[0;34m:\u001b[0m\u001b[0;34m\u001b[0m\u001b[0;34m\u001b[0m\u001b[0m\n",
            "\u001b[0;32m/usr/local/lib/python3.7/dist-packages/pymysql/cursors.py\u001b[0m in \u001b[0;36m_get_db\u001b[0;34m(self)\u001b[0m\n\u001b[1;32m     63\u001b[0m     \u001b[0;32mdef\u001b[0m \u001b[0m_get_db\u001b[0m\u001b[0;34m(\u001b[0m\u001b[0mself\u001b[0m\u001b[0;34m)\u001b[0m\u001b[0;34m:\u001b[0m\u001b[0;34m\u001b[0m\u001b[0;34m\u001b[0m\u001b[0m\n\u001b[1;32m     64\u001b[0m         \u001b[0;32mif\u001b[0m \u001b[0;32mnot\u001b[0m \u001b[0mself\u001b[0m\u001b[0;34m.\u001b[0m\u001b[0mconnection\u001b[0m\u001b[0;34m:\u001b[0m\u001b[0;34m\u001b[0m\u001b[0;34m\u001b[0m\u001b[0m\n\u001b[0;32m---> 65\u001b[0;31m             \u001b[0;32mraise\u001b[0m \u001b[0merr\u001b[0m\u001b[0;34m.\u001b[0m\u001b[0mProgrammingError\u001b[0m\u001b[0;34m(\u001b[0m\u001b[0;34m\"Cursor closed\"\u001b[0m\u001b[0;34m)\u001b[0m\u001b[0;34m\u001b[0m\u001b[0;34m\u001b[0m\u001b[0m\n\u001b[0m\u001b[1;32m     66\u001b[0m         \u001b[0;32mreturn\u001b[0m \u001b[0mself\u001b[0m\u001b[0;34m.\u001b[0m\u001b[0mconnection\u001b[0m\u001b[0;34m\u001b[0m\u001b[0;34m\u001b[0m\u001b[0m\n\u001b[1;32m     67\u001b[0m \u001b[0;34m\u001b[0m\u001b[0m\n",
            "\u001b[0;31mProgrammingError\u001b[0m: Cursor closed"
          ]
        }
      ]
    },
    {
      "cell_type": "markdown",
      "source": [
        "- with 문과 함께 사용하기\n",
        "    - 자동으로 close 해준다."
      ],
      "metadata": {
        "id": "N9-FhIupUkxb"
      }
    },
    {
      "cell_type": "code",
      "source": [
        "with conn.cursor() as cursor: # cursor = conn.cursor()\n",
        "    sql = \"select * from titanic_raw;\"\n",
        "    cursor.execute(sql)"
      ],
      "metadata": {
        "id": "0EpDUEiUQ2tU"
      },
      "execution_count": null,
      "outputs": []
    },
    {
      "cell_type": "markdown",
      "source": [
        "- 커서가 닫혀있기 때문에 에러발생"
      ],
      "metadata": {
        "id": "f-f6MwysUsjJ"
      }
    },
    {
      "cell_type": "code",
      "source": [
        "cursor.execute(sql)"
      ],
      "metadata": {
        "colab": {
          "base_uri": "https://localhost:8080/",
          "height": 320
        },
        "id": "JaSA6AMzQ2q9",
        "outputId": "225e7c3f-a294-47bb-d0bc-06c845b113e3"
      },
      "execution_count": null,
      "outputs": [
        {
          "output_type": "error",
          "ename": "ProgrammingError",
          "evalue": "ignored",
          "traceback": [
            "\u001b[0;31m---------------------------------------------------------------------------\u001b[0m",
            "\u001b[0;31mProgrammingError\u001b[0m                          Traceback (most recent call last)",
            "\u001b[0;32m<ipython-input-36-c09949f62056>\u001b[0m in \u001b[0;36m<module>\u001b[0;34m\u001b[0m\n\u001b[0;32m----> 1\u001b[0;31m \u001b[0mcursor\u001b[0m\u001b[0;34m.\u001b[0m\u001b[0mexecute\u001b[0m\u001b[0;34m(\u001b[0m\u001b[0msql\u001b[0m\u001b[0;34m)\u001b[0m\u001b[0;34m\u001b[0m\u001b[0;34m\u001b[0m\u001b[0m\n\u001b[0m",
            "\u001b[0;32m/usr/local/lib/python3.7/dist-packages/pymysql/cursors.py\u001b[0m in \u001b[0;36mexecute\u001b[0;34m(self, query, args)\u001b[0m\n\u001b[1;32m    141\u001b[0m         \u001b[0mIf\u001b[0m \u001b[0margs\u001b[0m \u001b[0;32mis\u001b[0m \u001b[0ma\u001b[0m \u001b[0mdict\u001b[0m\u001b[0;34m,\u001b[0m \u001b[0;34m%\u001b[0m\u001b[0;34m(\u001b[0m\u001b[0mname\u001b[0m\u001b[0;34m)\u001b[0m\u001b[0ms\u001b[0m \u001b[0mcan\u001b[0m \u001b[0mbe\u001b[0m \u001b[0mused\u001b[0m \u001b[0;32mas\u001b[0m \u001b[0ma\u001b[0m \u001b[0mplaceholder\u001b[0m \u001b[0;32min\u001b[0m \u001b[0mthe\u001b[0m \u001b[0mquery\u001b[0m\u001b[0;34m.\u001b[0m\u001b[0;34m\u001b[0m\u001b[0;34m\u001b[0m\u001b[0m\n\u001b[1;32m    142\u001b[0m         \"\"\"\n\u001b[0;32m--> 143\u001b[0;31m         \u001b[0;32mwhile\u001b[0m \u001b[0mself\u001b[0m\u001b[0;34m.\u001b[0m\u001b[0mnextset\u001b[0m\u001b[0;34m(\u001b[0m\u001b[0;34m)\u001b[0m\u001b[0;34m:\u001b[0m\u001b[0;34m\u001b[0m\u001b[0;34m\u001b[0m\u001b[0m\n\u001b[0m\u001b[1;32m    144\u001b[0m             \u001b[0;32mpass\u001b[0m\u001b[0;34m\u001b[0m\u001b[0;34m\u001b[0m\u001b[0m\n\u001b[1;32m    145\u001b[0m \u001b[0;34m\u001b[0m\u001b[0m\n",
            "\u001b[0;32m/usr/local/lib/python3.7/dist-packages/pymysql/cursors.py\u001b[0m in \u001b[0;36mnextset\u001b[0;34m(self)\u001b[0m\n\u001b[1;32m     94\u001b[0m \u001b[0;34m\u001b[0m\u001b[0m\n\u001b[1;32m     95\u001b[0m     \u001b[0;32mdef\u001b[0m \u001b[0mnextset\u001b[0m\u001b[0;34m(\u001b[0m\u001b[0mself\u001b[0m\u001b[0;34m)\u001b[0m\u001b[0;34m:\u001b[0m\u001b[0;34m\u001b[0m\u001b[0;34m\u001b[0m\u001b[0m\n\u001b[0;32m---> 96\u001b[0;31m         \u001b[0;32mreturn\u001b[0m \u001b[0mself\u001b[0m\u001b[0;34m.\u001b[0m\u001b[0m_nextset\u001b[0m\u001b[0;34m(\u001b[0m\u001b[0;32mFalse\u001b[0m\u001b[0;34m)\u001b[0m\u001b[0;34m\u001b[0m\u001b[0;34m\u001b[0m\u001b[0m\n\u001b[0m\u001b[1;32m     97\u001b[0m \u001b[0;34m\u001b[0m\u001b[0m\n\u001b[1;32m     98\u001b[0m     \u001b[0;32mdef\u001b[0m \u001b[0m_ensure_bytes\u001b[0m\u001b[0;34m(\u001b[0m\u001b[0mself\u001b[0m\u001b[0;34m,\u001b[0m \u001b[0mx\u001b[0m\u001b[0;34m,\u001b[0m \u001b[0mencoding\u001b[0m\u001b[0;34m=\u001b[0m\u001b[0;32mNone\u001b[0m\u001b[0;34m)\u001b[0m\u001b[0;34m:\u001b[0m\u001b[0;34m\u001b[0m\u001b[0;34m\u001b[0m\u001b[0m\n",
            "\u001b[0;32m/usr/local/lib/python3.7/dist-packages/pymysql/cursors.py\u001b[0m in \u001b[0;36m_nextset\u001b[0;34m(self, unbuffered)\u001b[0m\n\u001b[1;32m     81\u001b[0m     \u001b[0;32mdef\u001b[0m \u001b[0m_nextset\u001b[0m\u001b[0;34m(\u001b[0m\u001b[0mself\u001b[0m\u001b[0;34m,\u001b[0m \u001b[0munbuffered\u001b[0m\u001b[0;34m=\u001b[0m\u001b[0;32mFalse\u001b[0m\u001b[0;34m)\u001b[0m\u001b[0;34m:\u001b[0m\u001b[0;34m\u001b[0m\u001b[0;34m\u001b[0m\u001b[0m\n\u001b[1;32m     82\u001b[0m         \u001b[0;34m\"\"\"Get the next query set\"\"\"\u001b[0m\u001b[0;34m\u001b[0m\u001b[0;34m\u001b[0m\u001b[0m\n\u001b[0;32m---> 83\u001b[0;31m         \u001b[0mconn\u001b[0m \u001b[0;34m=\u001b[0m \u001b[0mself\u001b[0m\u001b[0;34m.\u001b[0m\u001b[0m_get_db\u001b[0m\u001b[0;34m(\u001b[0m\u001b[0;34m)\u001b[0m\u001b[0;34m\u001b[0m\u001b[0;34m\u001b[0m\u001b[0m\n\u001b[0m\u001b[1;32m     84\u001b[0m         \u001b[0mcurrent_result\u001b[0m \u001b[0;34m=\u001b[0m \u001b[0mself\u001b[0m\u001b[0;34m.\u001b[0m\u001b[0m_result\u001b[0m\u001b[0;34m\u001b[0m\u001b[0;34m\u001b[0m\u001b[0m\n\u001b[1;32m     85\u001b[0m         \u001b[0;32mif\u001b[0m \u001b[0mcurrent_result\u001b[0m \u001b[0;32mis\u001b[0m \u001b[0;32mNone\u001b[0m \u001b[0;32mor\u001b[0m \u001b[0mcurrent_result\u001b[0m \u001b[0;32mis\u001b[0m \u001b[0;32mnot\u001b[0m \u001b[0mconn\u001b[0m\u001b[0;34m.\u001b[0m\u001b[0m_result\u001b[0m\u001b[0;34m:\u001b[0m\u001b[0;34m\u001b[0m\u001b[0;34m\u001b[0m\u001b[0m\n",
            "\u001b[0;32m/usr/local/lib/python3.7/dist-packages/pymysql/cursors.py\u001b[0m in \u001b[0;36m_get_db\u001b[0;34m(self)\u001b[0m\n\u001b[1;32m     63\u001b[0m     \u001b[0;32mdef\u001b[0m \u001b[0m_get_db\u001b[0m\u001b[0;34m(\u001b[0m\u001b[0mself\u001b[0m\u001b[0;34m)\u001b[0m\u001b[0;34m:\u001b[0m\u001b[0;34m\u001b[0m\u001b[0;34m\u001b[0m\u001b[0m\n\u001b[1;32m     64\u001b[0m         \u001b[0;32mif\u001b[0m \u001b[0;32mnot\u001b[0m \u001b[0mself\u001b[0m\u001b[0;34m.\u001b[0m\u001b[0mconnection\u001b[0m\u001b[0;34m:\u001b[0m\u001b[0;34m\u001b[0m\u001b[0;34m\u001b[0m\u001b[0m\n\u001b[0;32m---> 65\u001b[0;31m             \u001b[0;32mraise\u001b[0m \u001b[0merr\u001b[0m\u001b[0;34m.\u001b[0m\u001b[0mProgrammingError\u001b[0m\u001b[0;34m(\u001b[0m\u001b[0;34m\"Cursor closed\"\u001b[0m\u001b[0;34m)\u001b[0m\u001b[0;34m\u001b[0m\u001b[0;34m\u001b[0m\u001b[0m\n\u001b[0m\u001b[1;32m     66\u001b[0m         \u001b[0;32mreturn\u001b[0m \u001b[0mself\u001b[0m\u001b[0;34m.\u001b[0m\u001b[0mconnection\u001b[0m\u001b[0;34m\u001b[0m\u001b[0;34m\u001b[0m\u001b[0m\n\u001b[1;32m     67\u001b[0m \u001b[0;34m\u001b[0m\u001b[0m\n",
            "\u001b[0;31mProgrammingError\u001b[0m: Cursor closed"
          ]
        }
      ]
    },
    {
      "cell_type": "markdown",
      "source": [
        "- 연결 닫아주기"
      ],
      "metadata": {
        "id": "4mlr1eCNU5Bm"
      }
    },
    {
      "cell_type": "markdown",
      "source": [
        "- DB 선택 없이 접속"
      ],
      "metadata": {
        "id": "w36kTqxOVT34"
      }
    },
    {
      "cell_type": "code",
      "source": [
        "conn = pymysql.connect(\n",
        "    user = USER,\n",
        "    passwd = PASSWD,\n",
        "    host = HOST,\n",
        "    port = PORT,\n",
        "    # autocommit = True # default : False\n",
        ")\n",
        "conn"
      ],
      "metadata": {
        "colab": {
          "base_uri": "https://localhost:8080/"
        },
        "id": "AaqKvu9tVTvb",
        "outputId": "40853cdc-33b4-4fe8-8a1b-0e641a0c1ee0"
      },
      "execution_count": null,
      "outputs": [
        {
          "output_type": "execute_result",
          "data": {
            "text/plain": [
              "<pymysql.connections.Connection at 0x7f1bb5cea0d0>"
            ]
          },
          "metadata": {},
          "execution_count": 44
        }
      ]
    },
    {
      "cell_type": "markdown",
      "source": [
        "- DB 선택하기"
      ],
      "metadata": {
        "id": "-9o5_5G2WoWz"
      }
    },
    {
      "cell_type": "code",
      "source": [
        "#conn객체의 select\n",
        "conn.select_db(\"user10\") # use DB명;"
      ],
      "metadata": {
        "id": "63tfSUd1WOs7"
      },
      "execution_count": null,
      "outputs": []
    },
    {
      "cell_type": "code",
      "source": [
        "cursor = conn.cursor(pymysql.cursors.DictCursor)\n",
        "cursor"
      ],
      "metadata": {
        "colab": {
          "base_uri": "https://localhost:8080/"
        },
        "id": "v_j8VYLPVTqT",
        "outputId": "dca36c9a-ae65-4c82-dba2-0bf51b98432c"
      },
      "execution_count": null,
      "outputs": [
        {
          "output_type": "execute_result",
          "data": {
            "text/plain": [
              "<pymysql.cursors.DictCursor at 0x7f1bb5d26e90>"
            ]
          },
          "metadata": {},
          "execution_count": 47
        }
      ]
    },
    {
      "cell_type": "code",
      "source": [
        "!pip install git+https://github.com/kmu-agent/api_project.git"
      ],
      "metadata": {
        "colab": {
          "base_uri": "https://localhost:8080/"
        },
        "id": "8dd5oVaHVTnp",
        "outputId": "b663a582-a59c-444e-f21a-137fe1cc5834"
      },
      "execution_count": null,
      "outputs": [
        {
          "output_type": "stream",
          "name": "stdout",
          "text": [
            "Looking in indexes: https://pypi.org/simple, https://us-python.pkg.dev/colab-wheels/public/simple/\n",
            "Collecting git+https://github.com/kmu-agent/api_project.git\n",
            "  Cloning https://github.com/kmu-agent/api_project.git to /tmp/pip-req-build-3d36f1iw\n",
            "  Running command git clone -q https://github.com/kmu-agent/api_project.git /tmp/pip-req-build-3d36f1iw\n",
            "Requirement already satisfied: requests in /usr/local/lib/python3.7/dist-packages (from myapi==0.0.1) (2.23.0)\n",
            "Requirement already satisfied: chardet<4,>=3.0.2 in /usr/local/lib/python3.7/dist-packages (from requests->myapi==0.0.1) (3.0.4)\n",
            "Requirement already satisfied: idna<3,>=2.5 in /usr/local/lib/python3.7/dist-packages (from requests->myapi==0.0.1) (2.10)\n",
            "Requirement already satisfied: certifi>=2017.4.17 in /usr/local/lib/python3.7/dist-packages (from requests->myapi==0.0.1) (2022.6.15)\n",
            "Requirement already satisfied: urllib3!=1.25.0,!=1.25.1,<1.26,>=1.21.1 in /usr/local/lib/python3.7/dist-packages (from requests->myapi==0.0.1) (1.24.3)\n",
            "Building wheels for collected packages: myapi\n",
            "  Building wheel for myapi (setup.py) ... \u001b[?25l\u001b[?25hdone\n",
            "  Created wheel for myapi: filename=myapi-0.0.1-py3-none-any.whl size=1755 sha256=c1672e02df20d55938b58751338f31305581a3ebad843bcb9953b8078be6ed65\n",
            "  Stored in directory: /tmp/pip-ephem-wheel-cache-2_m0ynmv/wheels/31/51/b7/cc95a06356dbc825713521cea5044b80fcc2ce882f287a116b\n",
            "Successfully built myapi\n",
            "Installing collected packages: myapi\n",
            "Successfully installed myapi-0.0.1\n"
          ]
        }
      ]
    },
    {
      "cell_type": "code",
      "source": [
        "KEY_FILE = \"/content/drive/MyDrive/03-data-processing/data/local.yml\"\n",
        "with open(KEY_FILE,'r') as f:\n",
        "    naver_keys = yaml.load(f,Loader=yaml.Loader)"
      ],
      "metadata": {
        "id": "B4QZ2JlgVTic"
      },
      "execution_count": null,
      "outputs": []
    },
    {
      "cell_type": "code",
      "source": [
        "naver_keys"
      ],
      "metadata": {
        "id": "LIekQVl5c-45"
      },
      "execution_count": null,
      "outputs": []
    },
    {
      "cell_type": "code",
      "source": [
        "from my_api import naver_api\n",
        "\n",
        "url = \"https://openapi.naver.com/v1/search/movie.json\" # 네이버 영화 데이터 url\n",
        "# 요청변수 선언\n",
        "params = {\n",
        "    \"query\" : \"부산행\",\n",
        "}\n",
        "result = naver_api.search_api(url,naver_keys[\"CLIENT_ID\"],naver_keys[\"CLIENT_SECRET\"],params)\n",
        "result"
      ],
      "metadata": {
        "colab": {
          "base_uri": "https://localhost:8080/"
        },
        "id": "HG1wpcuOVTdH",
        "outputId": "dc63ef20-b9d1-4878-c4fa-289f9badb76e"
      },
      "execution_count": null,
      "outputs": [
        {
          "output_type": "execute_result",
          "data": {
            "text/plain": [
              "{'lastBuildDate': 'Tue, 23 Aug 2022 11:10:20 +0900',\n",
              " 'total': 3,\n",
              " 'start': 1,\n",
              " 'display': 3,\n",
              " 'items': [{'title': '반도',\n",
              "   'link': 'https://movie.naver.com/movie/bi/mi/basic.nhn?code=185917',\n",
              "   'image': 'https://ssl.pstatic.net/imgmovie/mdi/mit110/1859/185917_P28_182718.jpg',\n",
              "   'subtitle': 'Peninsula',\n",
              "   'pubDate': '2020',\n",
              "   'director': '연상호|',\n",
              "   'actor': '강동원|이정현|',\n",
              "   'userRating': '5.63'},\n",
              "  {'title': '<b>부산행</b>',\n",
              "   'link': 'https://movie.naver.com/movie/bi/mi/basic.nhn?code=130966',\n",
              "   'image': 'https://ssl.pstatic.net/imgmovie/mdi/mit110/1309/130966_P141_135403.jpg',\n",
              "   'subtitle': 'TRAIN TO BUSAN',\n",
              "   'pubDate': '2016',\n",
              "   'director': '연상호|',\n",
              "   'actor': '공유|정유미|마동석|김수안|김의성|최우식|안소희|',\n",
              "   'userRating': '8.00'},\n",
              "  {'title': '서울역',\n",
              "   'link': 'https://movie.naver.com/movie/bi/mi/basic.nhn?code=122195',\n",
              "   'image': 'https://ssl.pstatic.net/imgmovie/mdi/mit110/1221/122195_P29_113151.jpg',\n",
              "   'subtitle': 'Seoul Station',\n",
              "   'pubDate': '2016',\n",
              "   'director': '연상호|',\n",
              "   'actor': '류승룡|심은경|이준|',\n",
              "   'userRating': '3.64'}]}"
            ]
          },
          "metadata": {},
          "execution_count": 54
        }
      ]
    },
    {
      "cell_type": "markdown",
      "source": [
        "- 테이블 만들기"
      ],
      "metadata": {
        "id": "clGwsDFGgaUI"
      }
    },
    {
      "cell_type": "code",
      "source": [
        "sql = \"\"\"\n",
        "    create table if not exists tb_movie_info(\n",
        "        id int unsigned not null auto_increment,\n",
        "        actor varchar(255),\n",
        "        director varchar(100),\n",
        "        pubDate int,\n",
        "        subtitle varchar(100),\n",
        "        title varchar(100) not null,\n",
        "        userRating float,\n",
        "        primary key(id)\n",
        "    );\n",
        "\"\"\"\n",
        "cursor.execute(sql) "
      ],
      "metadata": {
        "colab": {
          "base_uri": "https://localhost:8080/"
        },
        "id": "MCOTB0qDgaOQ",
        "outputId": "c35e3b3a-862f-4fd2-8fcf-8a426b5ebbd0"
      },
      "execution_count": null,
      "outputs": [
        {
          "output_type": "execute_result",
          "data": {
            "text/plain": [
              "0"
            ]
          },
          "metadata": {},
          "execution_count": 56
        }
      ]
    },
    {
      "cell_type": "code",
      "source": [
        "movie_list = [\n",
        "( \"명량\", 2014),\n",
        "( \"인터스텔라\", 2014),\n",
        "( \"해적: 바다로 간 산적\",  2014),\n",
        "( \"수상한 그녀\",2014),\n",
        "( \"국제시장\",2014),\n",
        "( \"트랜스포머: 사라진 시대\",2014),\n",
        "( \"군도: 민란의 시대\",2014),\n",
        "( \"엣지 오브 투모로우\",2014),\n",
        "( \"엑스맨: 데이즈 오브 퓨처 패스트\",2014),\n",
        "( \"어메이징 스파이더맨 2\",2014),\n",
        "( \"타짜-신의 손\",2014),\n",
        "( \"혹성탈출: 반격의 서막\",2014),\n",
        "( \"캡틴 아메리카: 윈터 솔져\",2014),\n",
        "( \"역린\",2014),\n",
        "( \"신의 한 수\",2014),\n",
        "]"
      ],
      "metadata": {
        "id": "0Et87ZFhgaLt"
      },
      "execution_count": null,
      "outputs": []
    },
    {
      "cell_type": "code",
      "source": [
        "for title,year in movie_list:\n",
        "    params = {\"query\" : title , \"display\" : 1, \n",
        "              \"yearfrom\" : year , \"yearto\" : year}\n",
        "    result = naver_api.search_api(\n",
        "                                    url,\n",
        "                                    naver_keys[\"CLIENT_ID\"],\n",
        "                                    naver_keys[\"CLIENT_SECRET\"],\n",
        "                                    params\n",
        "                                  )\n",
        "    sql = f'''\n",
        "        insert into tb_movie_info(actor,director,pubDate,subtitle,title,userRating)\n",
        "        values(\n",
        "            '{result[\"items\"][0][\"actor\"]}',\n",
        "            '{result[\"items\"][0][\"director\"]}',\n",
        "            {result[\"items\"][0][\"pubDate\"]},\n",
        "            '{result[\"items\"][0][\"subtitle\"]}',\n",
        "            '{result[\"items\"][0][\"title\"]}',\n",
        "            {result[\"items\"][0][\"userRating\"]}\n",
        "        );\n",
        "    '''\n",
        "    cursor.execute(sql)"
      ],
      "metadata": {
        "id": "5Dk1Nax_gaJb"
      },
      "execution_count": null,
      "outputs": []
    },
    {
      "cell_type": "code",
      "source": [
        "conn.commit()"
      ],
      "metadata": {
        "id": "Q0kpl-wullfD"
      },
      "execution_count": null,
      "outputs": []
    },
    {
      "cell_type": "markdown",
      "source": [
        "- 잘 저장 됐는지 확인해보자"
      ],
      "metadata": {
        "id": "qq2GMj-imZb8"
      }
    },
    {
      "cell_type": "code",
      "source": [
        "sql = \"select * from tb_movie_info;\"\n",
        "cursor.execute(sql)\n",
        "cursor.fetchall()"
      ],
      "metadata": {
        "colab": {
          "base_uri": "https://localhost:8080/"
        },
        "id": "vmQ0DF_HgaGt",
        "outputId": "c0c1b773-2c12-45ee-e339-0adbb4096a42"
      },
      "execution_count": null,
      "outputs": [
        {
          "output_type": "execute_result",
          "data": {
            "text/plain": [
              "[{'id': 1,\n",
              "  'actor': '최민식|류승룡|조진웅|',\n",
              "  'director': '김한민|',\n",
              "  'pubDate': 2014,\n",
              "  'subtitle': 'ROARING CURRENTS',\n",
              "  'title': '<b>명량</b>',\n",
              "  'userRating': 8.44},\n",
              " {'id': 2,\n",
              "  'actor': '매튜 맥커너히|앤 해서웨이|마이클 케인|제시카 차스테인|',\n",
              "  'director': '크리스토퍼 놀란|',\n",
              "  'pubDate': 2014,\n",
              "  'subtitle': 'Interstellar',\n",
              "  'title': '<b>인터스텔라</b>',\n",
              "  'userRating': 9.11},\n",
              " {'id': 3,\n",
              "  'actor': '김남길|손예진|',\n",
              "  'director': '이석훈|',\n",
              "  'pubDate': 2014,\n",
              "  'subtitle': 'The Pirates',\n",
              "  'title': '<b>해적: 바다로 간 산적</b>',\n",
              "  'userRating': 8.28},\n",
              " {'id': 4,\n",
              "  'actor': '심은경|나문희|박인환|성동일|이진욱|',\n",
              "  'director': '황동혁|',\n",
              "  'pubDate': 2014,\n",
              "  'subtitle': 'Miss Granny',\n",
              "  'title': '<b>수상한 그녀</b>',\n",
              "  'userRating': 9.01},\n",
              " {'id': 5,\n",
              "  'actor': '황정민|김윤진|오달수|정진영|',\n",
              "  'director': '윤제균|',\n",
              "  'pubDate': 2014,\n",
              "  'subtitle': 'Ode to My Father',\n",
              "  'title': '<b>국제시장</b>',\n",
              "  'userRating': 9.02},\n",
              " {'id': 6,\n",
              "  'actor': '마크 월버그|니콜라 펠츠|잭 레이너|스탠리 투치|리빙빙|',\n",
              "  'director': '마이클 베이|',\n",
              "  'pubDate': 2014,\n",
              "  'subtitle': 'Transformers: Age of Extinction',\n",
              "  'title': '<b>트랜스포머: 사라진 시대</b>',\n",
              "  'userRating': 6.58},\n",
              " {'id': 7,\n",
              "  'actor': '하정우|강동원|',\n",
              "  'director': '윤종빈|',\n",
              "  'pubDate': 2014,\n",
              "  'subtitle': 'KUNDO : Age of the Rampant',\n",
              "  'title': '<b>군도:민란의 시대</b>',\n",
              "  'userRating': 6.94},\n",
              " {'id': 8,\n",
              "  'actor': '톰 크루즈|에밀리 블런트|빌 팩스톤|',\n",
              "  'director': '더그 라이만|',\n",
              "  'pubDate': 2014,\n",
              "  'subtitle': 'Edge of Tomorrow',\n",
              "  'title': '<b>엣지 오브 투모로우</b>',\n",
              "  'userRating': 8.96},\n",
              " {'id': 9,\n",
              "  'actor': '제니퍼 로렌스|휴 잭맨|제임스 맥어보이|마이클 패스벤더|',\n",
              "  'director': '브라이언 싱어|',\n",
              "  'pubDate': 2014,\n",
              "  'subtitle': 'X-Men: Days of Future Past',\n",
              "  'title': '<b>엑스맨: 데이즈 오브 퓨처 패스트</b>',\n",
              "  'userRating': 8.89},\n",
              " {'id': 10,\n",
              "  'actor': '엠마 스톤|앤드류 가필드|',\n",
              "  'director': '마크 웹|',\n",
              "  'pubDate': 2014,\n",
              "  'subtitle': 'The Amazing Spider-Man <b>2</b>',\n",
              "  'title': '<b>어메이징 스파이더맨 2</b>',\n",
              "  'userRating': 7.77},\n",
              " {'id': 11,\n",
              "  'actor': 'T.O.P|신세경|곽도원|이하늬|',\n",
              "  'director': '강형철|',\n",
              "  'pubDate': 2014,\n",
              "  'subtitle': 'Tazza-The Hidden Card',\n",
              "  'title': '<b>타짜-신의 손</b>',\n",
              "  'userRating': 7.25},\n",
              " {'id': 12,\n",
              "  'actor': '앤디 서키스|게리 올드만|제이슨 클락|주디 그리어|케리 러셀|',\n",
              "  'director': '맷 리브스|',\n",
              "  'pubDate': 2014,\n",
              "  'subtitle': 'Dawn of the Planet of the Apes',\n",
              "  'title': '<b>혹성탈출: 반격의 서막</b>',\n",
              "  'userRating': 8.54},\n",
              " {'id': 13,\n",
              "  'actor': '스칼릿 조핸슨|크리스 에반스|사무엘 L. 잭슨|',\n",
              "  'director': '조 루소|앤서니 루소|',\n",
              "  'pubDate': 2014,\n",
              "  'subtitle': 'Captain America: The Winter Soldier',\n",
              "  'title': '<b>캡틴 아메리카: 윈터 솔져</b>',\n",
              "  'userRating': 8.93},\n",
              " {'id': 14,\n",
              "  'actor': '현빈|정재영|조정석|조재현|한지민|',\n",
              "  'director': '이재규|',\n",
              "  'pubDate': 2014,\n",
              "  'subtitle': 'The Fatal Encounter',\n",
              "  'title': '<b>역린</b>',\n",
              "  'userRating': 7.09},\n",
              " {'id': 15,\n",
              "  'actor': '정우성|이범수|안성기|김인권|이시영|',\n",
              "  'director': '조범구|',\n",
              "  'pubDate': 2014,\n",
              "  'subtitle': 'The Divine Move',\n",
              "  'title': '<b>신의 한 수</b>',\n",
              "  'userRating': 8.02},\n",
              " {'id': 16,\n",
              "  'actor': '정우성|이범수|안성기|김인권|이시영|',\n",
              "  'director': '조범구|',\n",
              "  'pubDate': 2014,\n",
              "  'subtitle': 'The Divine Move',\n",
              "  'title': '<b>신의 한 수</b>',\n",
              "  'userRating': 8.02}]"
            ]
          },
          "metadata": {},
          "execution_count": 64
        }
      ]
    },
    {
      "cell_type": "markdown",
      "source": [
        "- insert 한번에 실행해서 속도 개선"
      ],
      "metadata": {
        "id": "7_10IwxTr_Gg"
      }
    },
    {
      "cell_type": "code",
      "source": [
        "values_list = []\n",
        "for title,year in movie_list:\n",
        "    params = {\"query\" : title , \"display\" : 1, \n",
        "              \"yearfrom\" : year , \"yearto\" : year}\n",
        "    result = naver_api.search_api(\n",
        "                                    url,\n",
        "                                    naver_keys[\"CLIENT_ID\"],\n",
        "                                    naver_keys[\"CLIENT_SECRET\"],\n",
        "                                    params\n",
        "                                  )\n",
        "    \n",
        "    # 튜플로 담아 values_list에 append하기\n",
        "    values = (\n",
        "    result[\"items\"][0][\"actor\"],\n",
        "    result[\"items\"][0][\"director\"],\n",
        "    result[\"items\"][0][\"pubDate\"],\n",
        "    result[\"items\"][0][\"subtitle\"],\n",
        "    result[\"items\"][0][\"title\"],\n",
        "    result[\"items\"][0][\"userRating\"]\n",
        "    )\n",
        "    values_list.append(values)"
      ],
      "metadata": {
        "id": "Bt_Ane-isOid"
      },
      "execution_count": null,
      "outputs": []
    },
    {
      "cell_type": "code",
      "source": [
        "values_list[0]"
      ],
      "metadata": {
        "colab": {
          "base_uri": "https://localhost:8080/"
        },
        "id": "3sSqQbi6sOgB",
        "outputId": "440efaa3-b333-413a-c4b6-a50226122acc"
      },
      "execution_count": null,
      "outputs": [
        {
          "output_type": "execute_result",
          "data": {
            "text/plain": [
              "('최민식|류승룡|조진웅|', '김한민|', '2014', 'ROARING CURRENTS', '<b>명량</b>', '8.44')"
            ]
          },
          "metadata": {},
          "execution_count": 67
        }
      ]
    },
    {
      "cell_type": "code",
      "source": [
        "sql = '''\n",
        "    insert into tb_movie_info(actor,director,pubDate,subtitle,title,userRating)\n",
        "    values(%s,%s,%s,%s,%s,%s);\n",
        "'''\n",
        "cursor.executemany(sql,values_list)"
      ],
      "metadata": {
        "colab": {
          "base_uri": "https://localhost:8080/"
        },
        "id": "vG4iGBYFsOdn",
        "outputId": "37e6b76e-b804-4421-a45d-9ef4f7c36309"
      },
      "execution_count": null,
      "outputs": [
        {
          "output_type": "execute_result",
          "data": {
            "text/plain": [
              "15"
            ]
          },
          "metadata": {},
          "execution_count": 68
        }
      ]
    },
    {
      "cell_type": "code",
      "source": [
        "conn.rollback()"
      ],
      "metadata": {
        "id": "1pushlqesOa1"
      },
      "execution_count": null,
      "outputs": []
    },
    {
      "cell_type": "code",
      "source": [
        "sql = \"select * from tb_movie_info;\"\n",
        "cursor.execute(sql)\n",
        "cursor.fetchall()"
      ],
      "metadata": {
        "colab": {
          "base_uri": "https://localhost:8080/"
        },
        "id": "LG3mhrPJQ2lw",
        "outputId": "e007916f-0472-47f7-a933-4113ea2ff941"
      },
      "execution_count": null,
      "outputs": [
        {
          "output_type": "execute_result",
          "data": {
            "text/plain": [
              "[{'id': 1,\n",
              "  'actor': '최민식|류승룡|조진웅|',\n",
              "  'director': '김한민|',\n",
              "  'pubDate': 2014,\n",
              "  'subtitle': 'ROARING CURRENTS',\n",
              "  'title': '<b>명량</b>',\n",
              "  'userRating': 8.44},\n",
              " {'id': 2,\n",
              "  'actor': '매튜 맥커너히|앤 해서웨이|마이클 케인|제시카 차스테인|',\n",
              "  'director': '크리스토퍼 놀란|',\n",
              "  'pubDate': 2014,\n",
              "  'subtitle': 'Interstellar',\n",
              "  'title': '<b>인터스텔라</b>',\n",
              "  'userRating': 9.11},\n",
              " {'id': 3,\n",
              "  'actor': '김남길|손예진|',\n",
              "  'director': '이석훈|',\n",
              "  'pubDate': 2014,\n",
              "  'subtitle': 'The Pirates',\n",
              "  'title': '<b>해적: 바다로 간 산적</b>',\n",
              "  'userRating': 8.28},\n",
              " {'id': 4,\n",
              "  'actor': '심은경|나문희|박인환|성동일|이진욱|',\n",
              "  'director': '황동혁|',\n",
              "  'pubDate': 2014,\n",
              "  'subtitle': 'Miss Granny',\n",
              "  'title': '<b>수상한 그녀</b>',\n",
              "  'userRating': 9.01},\n",
              " {'id': 5,\n",
              "  'actor': '황정민|김윤진|오달수|정진영|',\n",
              "  'director': '윤제균|',\n",
              "  'pubDate': 2014,\n",
              "  'subtitle': 'Ode to My Father',\n",
              "  'title': '<b>국제시장</b>',\n",
              "  'userRating': 9.02},\n",
              " {'id': 6,\n",
              "  'actor': '마크 월버그|니콜라 펠츠|잭 레이너|스탠리 투치|리빙빙|',\n",
              "  'director': '마이클 베이|',\n",
              "  'pubDate': 2014,\n",
              "  'subtitle': 'Transformers: Age of Extinction',\n",
              "  'title': '<b>트랜스포머: 사라진 시대</b>',\n",
              "  'userRating': 6.58},\n",
              " {'id': 7,\n",
              "  'actor': '하정우|강동원|',\n",
              "  'director': '윤종빈|',\n",
              "  'pubDate': 2014,\n",
              "  'subtitle': 'KUNDO : Age of the Rampant',\n",
              "  'title': '<b>군도:민란의 시대</b>',\n",
              "  'userRating': 6.94},\n",
              " {'id': 8,\n",
              "  'actor': '톰 크루즈|에밀리 블런트|빌 팩스톤|',\n",
              "  'director': '더그 라이만|',\n",
              "  'pubDate': 2014,\n",
              "  'subtitle': 'Edge of Tomorrow',\n",
              "  'title': '<b>엣지 오브 투모로우</b>',\n",
              "  'userRating': 8.96},\n",
              " {'id': 9,\n",
              "  'actor': '제니퍼 로렌스|휴 잭맨|제임스 맥어보이|마이클 패스벤더|',\n",
              "  'director': '브라이언 싱어|',\n",
              "  'pubDate': 2014,\n",
              "  'subtitle': 'X-Men: Days of Future Past',\n",
              "  'title': '<b>엑스맨: 데이즈 오브 퓨처 패스트</b>',\n",
              "  'userRating': 8.89},\n",
              " {'id': 10,\n",
              "  'actor': '엠마 스톤|앤드류 가필드|',\n",
              "  'director': '마크 웹|',\n",
              "  'pubDate': 2014,\n",
              "  'subtitle': 'The Amazing Spider-Man <b>2</b>',\n",
              "  'title': '<b>어메이징 스파이더맨 2</b>',\n",
              "  'userRating': 7.77},\n",
              " {'id': 11,\n",
              "  'actor': 'T.O.P|신세경|곽도원|이하늬|',\n",
              "  'director': '강형철|',\n",
              "  'pubDate': 2014,\n",
              "  'subtitle': 'Tazza-The Hidden Card',\n",
              "  'title': '<b>타짜-신의 손</b>',\n",
              "  'userRating': 7.25},\n",
              " {'id': 12,\n",
              "  'actor': '앤디 서키스|게리 올드만|제이슨 클락|주디 그리어|케리 러셀|',\n",
              "  'director': '맷 리브스|',\n",
              "  'pubDate': 2014,\n",
              "  'subtitle': 'Dawn of the Planet of the Apes',\n",
              "  'title': '<b>혹성탈출: 반격의 서막</b>',\n",
              "  'userRating': 8.54},\n",
              " {'id': 13,\n",
              "  'actor': '스칼릿 조핸슨|크리스 에반스|사무엘 L. 잭슨|',\n",
              "  'director': '조 루소|앤서니 루소|',\n",
              "  'pubDate': 2014,\n",
              "  'subtitle': 'Captain America: The Winter Soldier',\n",
              "  'title': '<b>캡틴 아메리카: 윈터 솔져</b>',\n",
              "  'userRating': 8.93},\n",
              " {'id': 14,\n",
              "  'actor': '현빈|정재영|조정석|조재현|한지민|',\n",
              "  'director': '이재규|',\n",
              "  'pubDate': 2014,\n",
              "  'subtitle': 'The Fatal Encounter',\n",
              "  'title': '<b>역린</b>',\n",
              "  'userRating': 7.09},\n",
              " {'id': 15,\n",
              "  'actor': '정우성|이범수|안성기|김인권|이시영|',\n",
              "  'director': '조범구|',\n",
              "  'pubDate': 2014,\n",
              "  'subtitle': 'The Divine Move',\n",
              "  'title': '<b>신의 한 수</b>',\n",
              "  'userRating': 8.02}]"
            ]
          },
          "metadata": {},
          "execution_count": 70
        }
      ]
    },
    {
      "cell_type": "code",
      "source": [
        "conn.close()"
      ],
      "metadata": {
        "id": "zcjidMWHv7wM"
      },
      "execution_count": null,
      "outputs": []
    },
    {
      "cell_type": "code",
      "source": [
        "conn = pymysql.connect(\n",
        "    user = USER,\n",
        "    passwd = PASSWD,\n",
        "    host = HOST,\n",
        "    port = PORT,\n",
        "    db = \"playdata\"\n",
        ")\n",
        "conn"
      ],
      "metadata": {
        "colab": {
          "base_uri": "https://localhost:8080/"
        },
        "id": "-3N99HAtv7tj",
        "outputId": "687b86af-9e23-4523-b8b4-3cc78d43ca39"
      },
      "execution_count": null,
      "outputs": [
        {
          "output_type": "execute_result",
          "data": {
            "text/plain": [
              "<pymysql.connections.Connection at 0x7f1bb7d48d10>"
            ]
          },
          "metadata": {},
          "execution_count": 72
        }
      ]
    },
    {
      "cell_type": "markdown",
      "source": [
        "- pymysql의 연결 객체를 이용하여 pandas의 자료형인 데이터프레임 객체 생성하기"
      ],
      "metadata": {
        "id": "9zhLWRGGwWIJ"
      }
    },
    {
      "cell_type": "code",
      "source": [
        "import pandas as pd\n",
        "df = pd.read_sql(\"select * from titanic_raw\",conn)"
      ],
      "metadata": {
        "id": "HJz0DXzbv7qp"
      },
      "execution_count": null,
      "outputs": []
    },
    {
      "cell_type": "code",
      "source": [
        "df"
      ],
      "metadata": {
        "colab": {
          "base_uri": "https://localhost:8080/",
          "height": 922
        },
        "id": "Uz5ZG9SIv7nz",
        "outputId": "bf3f431a-3cb9-42dd-c6f4-1fffbb20d15d"
      },
      "execution_count": null,
      "outputs": [
        {
          "output_type": "execute_result",
          "data": {
            "text/plain": [
              "      passengerid  survived  pclass  \\\n",
              "0               1         0       3   \n",
              "1               2         1       1   \n",
              "2               3         1       3   \n",
              "3               4         1       1   \n",
              "4               5         0       3   \n",
              "...           ...       ...     ...   \n",
              "1304         1305         0       3   \n",
              "1305         1306         1       1   \n",
              "1306         1307         0       3   \n",
              "1307         1308         0       3   \n",
              "1308         1309         0       3   \n",
              "\n",
              "                                                   name  gender   age  sibsp  \\\n",
              "0                               Braund, Mr. Owen Harris    male  22.0      1   \n",
              "1     Cumings, Mrs. John Bradley (Florence Briggs Th...  female  38.0      1   \n",
              "2                                Heikkinen, Miss. Laina  female  26.0      0   \n",
              "3          Futrelle, Mrs. Jacques Heath (Lily May Peel)  female  35.0      1   \n",
              "4                              Allen, Mr. William Henry    male  35.0      0   \n",
              "...                                                 ...     ...   ...    ...   \n",
              "1304                                 Spector, Mr. Woolf    male   NaN      0   \n",
              "1305                       Oliva y Ocana, Dona. Fermina  female  39.0      0   \n",
              "1306                       Saether, Mr. Simon Sivertsen    male  38.5      0   \n",
              "1307                                Ware, Mr. Frederick    male   NaN      0   \n",
              "1308                           Peter, Master. Michael J    male   NaN      1   \n",
              "\n",
              "      parch              ticket      fare cabin embarked  \n",
              "0         0           A/5 21171    7.2500  None        S  \n",
              "1         0            PC 17599   71.2833   C85        C  \n",
              "2         0    STON/O2. 3101282    7.9250  None        S  \n",
              "3         0              113803   53.1000  C123        S  \n",
              "4         0              373450    8.0500  None        S  \n",
              "...     ...                 ...       ...   ...      ...  \n",
              "1304      0           A.5. 3236    8.0500  None        S  \n",
              "1305      0            PC 17758  108.9000  C105        C  \n",
              "1306      0  SOTON/O.Q. 3101262    7.2500  None        S  \n",
              "1307      0              359309    8.0500  None        S  \n",
              "1308      1                2668   22.3583  None        C  \n",
              "\n",
              "[1309 rows x 12 columns]"
            ],
            "text/html": [
              "\n",
              "  <div id=\"df-ae90b570-b4c2-4062-9b6e-a6918f40a077\">\n",
              "    <div class=\"colab-df-container\">\n",
              "      <div>\n",
              "<style scoped>\n",
              "    .dataframe tbody tr th:only-of-type {\n",
              "        vertical-align: middle;\n",
              "    }\n",
              "\n",
              "    .dataframe tbody tr th {\n",
              "        vertical-align: top;\n",
              "    }\n",
              "\n",
              "    .dataframe thead th {\n",
              "        text-align: right;\n",
              "    }\n",
              "</style>\n",
              "<table border=\"1\" class=\"dataframe\">\n",
              "  <thead>\n",
              "    <tr style=\"text-align: right;\">\n",
              "      <th></th>\n",
              "      <th>passengerid</th>\n",
              "      <th>survived</th>\n",
              "      <th>pclass</th>\n",
              "      <th>name</th>\n",
              "      <th>gender</th>\n",
              "      <th>age</th>\n",
              "      <th>sibsp</th>\n",
              "      <th>parch</th>\n",
              "      <th>ticket</th>\n",
              "      <th>fare</th>\n",
              "      <th>cabin</th>\n",
              "      <th>embarked</th>\n",
              "    </tr>\n",
              "  </thead>\n",
              "  <tbody>\n",
              "    <tr>\n",
              "      <th>0</th>\n",
              "      <td>1</td>\n",
              "      <td>0</td>\n",
              "      <td>3</td>\n",
              "      <td>Braund, Mr. Owen Harris</td>\n",
              "      <td>male</td>\n",
              "      <td>22.0</td>\n",
              "      <td>1</td>\n",
              "      <td>0</td>\n",
              "      <td>A/5 21171</td>\n",
              "      <td>7.2500</td>\n",
              "      <td>None</td>\n",
              "      <td>S</td>\n",
              "    </tr>\n",
              "    <tr>\n",
              "      <th>1</th>\n",
              "      <td>2</td>\n",
              "      <td>1</td>\n",
              "      <td>1</td>\n",
              "      <td>Cumings, Mrs. John Bradley (Florence Briggs Th...</td>\n",
              "      <td>female</td>\n",
              "      <td>38.0</td>\n",
              "      <td>1</td>\n",
              "      <td>0</td>\n",
              "      <td>PC 17599</td>\n",
              "      <td>71.2833</td>\n",
              "      <td>C85</td>\n",
              "      <td>C</td>\n",
              "    </tr>\n",
              "    <tr>\n",
              "      <th>2</th>\n",
              "      <td>3</td>\n",
              "      <td>1</td>\n",
              "      <td>3</td>\n",
              "      <td>Heikkinen, Miss. Laina</td>\n",
              "      <td>female</td>\n",
              "      <td>26.0</td>\n",
              "      <td>0</td>\n",
              "      <td>0</td>\n",
              "      <td>STON/O2. 3101282</td>\n",
              "      <td>7.9250</td>\n",
              "      <td>None</td>\n",
              "      <td>S</td>\n",
              "    </tr>\n",
              "    <tr>\n",
              "      <th>3</th>\n",
              "      <td>4</td>\n",
              "      <td>1</td>\n",
              "      <td>1</td>\n",
              "      <td>Futrelle, Mrs. Jacques Heath (Lily May Peel)</td>\n",
              "      <td>female</td>\n",
              "      <td>35.0</td>\n",
              "      <td>1</td>\n",
              "      <td>0</td>\n",
              "      <td>113803</td>\n",
              "      <td>53.1000</td>\n",
              "      <td>C123</td>\n",
              "      <td>S</td>\n",
              "    </tr>\n",
              "    <tr>\n",
              "      <th>4</th>\n",
              "      <td>5</td>\n",
              "      <td>0</td>\n",
              "      <td>3</td>\n",
              "      <td>Allen, Mr. William Henry</td>\n",
              "      <td>male</td>\n",
              "      <td>35.0</td>\n",
              "      <td>0</td>\n",
              "      <td>0</td>\n",
              "      <td>373450</td>\n",
              "      <td>8.0500</td>\n",
              "      <td>None</td>\n",
              "      <td>S</td>\n",
              "    </tr>\n",
              "    <tr>\n",
              "      <th>...</th>\n",
              "      <td>...</td>\n",
              "      <td>...</td>\n",
              "      <td>...</td>\n",
              "      <td>...</td>\n",
              "      <td>...</td>\n",
              "      <td>...</td>\n",
              "      <td>...</td>\n",
              "      <td>...</td>\n",
              "      <td>...</td>\n",
              "      <td>...</td>\n",
              "      <td>...</td>\n",
              "      <td>...</td>\n",
              "    </tr>\n",
              "    <tr>\n",
              "      <th>1304</th>\n",
              "      <td>1305</td>\n",
              "      <td>0</td>\n",
              "      <td>3</td>\n",
              "      <td>Spector, Mr. Woolf</td>\n",
              "      <td>male</td>\n",
              "      <td>NaN</td>\n",
              "      <td>0</td>\n",
              "      <td>0</td>\n",
              "      <td>A.5. 3236</td>\n",
              "      <td>8.0500</td>\n",
              "      <td>None</td>\n",
              "      <td>S</td>\n",
              "    </tr>\n",
              "    <tr>\n",
              "      <th>1305</th>\n",
              "      <td>1306</td>\n",
              "      <td>1</td>\n",
              "      <td>1</td>\n",
              "      <td>Oliva y Ocana, Dona. Fermina</td>\n",
              "      <td>female</td>\n",
              "      <td>39.0</td>\n",
              "      <td>0</td>\n",
              "      <td>0</td>\n",
              "      <td>PC 17758</td>\n",
              "      <td>108.9000</td>\n",
              "      <td>C105</td>\n",
              "      <td>C</td>\n",
              "    </tr>\n",
              "    <tr>\n",
              "      <th>1306</th>\n",
              "      <td>1307</td>\n",
              "      <td>0</td>\n",
              "      <td>3</td>\n",
              "      <td>Saether, Mr. Simon Sivertsen</td>\n",
              "      <td>male</td>\n",
              "      <td>38.5</td>\n",
              "      <td>0</td>\n",
              "      <td>0</td>\n",
              "      <td>SOTON/O.Q. 3101262</td>\n",
              "      <td>7.2500</td>\n",
              "      <td>None</td>\n",
              "      <td>S</td>\n",
              "    </tr>\n",
              "    <tr>\n",
              "      <th>1307</th>\n",
              "      <td>1308</td>\n",
              "      <td>0</td>\n",
              "      <td>3</td>\n",
              "      <td>Ware, Mr. Frederick</td>\n",
              "      <td>male</td>\n",
              "      <td>NaN</td>\n",
              "      <td>0</td>\n",
              "      <td>0</td>\n",
              "      <td>359309</td>\n",
              "      <td>8.0500</td>\n",
              "      <td>None</td>\n",
              "      <td>S</td>\n",
              "    </tr>\n",
              "    <tr>\n",
              "      <th>1308</th>\n",
              "      <td>1309</td>\n",
              "      <td>0</td>\n",
              "      <td>3</td>\n",
              "      <td>Peter, Master. Michael J</td>\n",
              "      <td>male</td>\n",
              "      <td>NaN</td>\n",
              "      <td>1</td>\n",
              "      <td>1</td>\n",
              "      <td>2668</td>\n",
              "      <td>22.3583</td>\n",
              "      <td>None</td>\n",
              "      <td>C</td>\n",
              "    </tr>\n",
              "  </tbody>\n",
              "</table>\n",
              "<p>1309 rows × 12 columns</p>\n",
              "</div>\n",
              "      <button class=\"colab-df-convert\" onclick=\"convertToInteractive('df-ae90b570-b4c2-4062-9b6e-a6918f40a077')\"\n",
              "              title=\"Convert this dataframe to an interactive table.\"\n",
              "              style=\"display:none;\">\n",
              "        \n",
              "  <svg xmlns=\"http://www.w3.org/2000/svg\" height=\"24px\"viewBox=\"0 0 24 24\"\n",
              "       width=\"24px\">\n",
              "    <path d=\"M0 0h24v24H0V0z\" fill=\"none\"/>\n",
              "    <path d=\"M18.56 5.44l.94 2.06.94-2.06 2.06-.94-2.06-.94-.94-2.06-.94 2.06-2.06.94zm-11 1L8.5 8.5l.94-2.06 2.06-.94-2.06-.94L8.5 2.5l-.94 2.06-2.06.94zm10 10l.94 2.06.94-2.06 2.06-.94-2.06-.94-.94-2.06-.94 2.06-2.06.94z\"/><path d=\"M17.41 7.96l-1.37-1.37c-.4-.4-.92-.59-1.43-.59-.52 0-1.04.2-1.43.59L10.3 9.45l-7.72 7.72c-.78.78-.78 2.05 0 2.83L4 21.41c.39.39.9.59 1.41.59.51 0 1.02-.2 1.41-.59l7.78-7.78 2.81-2.81c.8-.78.8-2.07 0-2.86zM5.41 20L4 18.59l7.72-7.72 1.47 1.35L5.41 20z\"/>\n",
              "  </svg>\n",
              "      </button>\n",
              "      \n",
              "  <style>\n",
              "    .colab-df-container {\n",
              "      display:flex;\n",
              "      flex-wrap:wrap;\n",
              "      gap: 12px;\n",
              "    }\n",
              "\n",
              "    .colab-df-convert {\n",
              "      background-color: #E8F0FE;\n",
              "      border: none;\n",
              "      border-radius: 50%;\n",
              "      cursor: pointer;\n",
              "      display: none;\n",
              "      fill: #1967D2;\n",
              "      height: 32px;\n",
              "      padding: 0 0 0 0;\n",
              "      width: 32px;\n",
              "    }\n",
              "\n",
              "    .colab-df-convert:hover {\n",
              "      background-color: #E2EBFA;\n",
              "      box-shadow: 0px 1px 2px rgba(60, 64, 67, 0.3), 0px 1px 3px 1px rgba(60, 64, 67, 0.15);\n",
              "      fill: #174EA6;\n",
              "    }\n",
              "\n",
              "    [theme=dark] .colab-df-convert {\n",
              "      background-color: #3B4455;\n",
              "      fill: #D2E3FC;\n",
              "    }\n",
              "\n",
              "    [theme=dark] .colab-df-convert:hover {\n",
              "      background-color: #434B5C;\n",
              "      box-shadow: 0px 1px 3px 1px rgba(0, 0, 0, 0.15);\n",
              "      filter: drop-shadow(0px 1px 2px rgba(0, 0, 0, 0.3));\n",
              "      fill: #FFFFFF;\n",
              "    }\n",
              "  </style>\n",
              "\n",
              "      <script>\n",
              "        const buttonEl =\n",
              "          document.querySelector('#df-ae90b570-b4c2-4062-9b6e-a6918f40a077 button.colab-df-convert');\n",
              "        buttonEl.style.display =\n",
              "          google.colab.kernel.accessAllowed ? 'block' : 'none';\n",
              "\n",
              "        async function convertToInteractive(key) {\n",
              "          const element = document.querySelector('#df-ae90b570-b4c2-4062-9b6e-a6918f40a077');\n",
              "          const dataTable =\n",
              "            await google.colab.kernel.invokeFunction('convertToInteractive',\n",
              "                                                     [key], {});\n",
              "          if (!dataTable) return;\n",
              "\n",
              "          const docLinkHtml = 'Like what you see? Visit the ' +\n",
              "            '<a target=\"_blank\" href=https://colab.research.google.com/notebooks/data_table.ipynb>data table notebook</a>'\n",
              "            + ' to learn more about interactive tables.';\n",
              "          element.innerHTML = '';\n",
              "          dataTable['output_type'] = 'display_data';\n",
              "          await google.colab.output.renderOutput(dataTable, element);\n",
              "          const docLink = document.createElement('div');\n",
              "          docLink.innerHTML = docLinkHtml;\n",
              "          element.appendChild(docLink);\n",
              "        }\n",
              "      </script>\n",
              "    </div>\n",
              "  </div>\n",
              "  "
            ]
          },
          "metadata": {},
          "execution_count": 74
        }
      ]
    },
    {
      "cell_type": "code",
      "source": [
        "pd.read_sql(\"show tables\",conn)"
      ],
      "metadata": {
        "colab": {
          "base_uri": "https://localhost:8080/",
          "height": 175
        },
        "id": "6PW5q5jMv7ln",
        "outputId": "1e4b88e0-22ee-4f78-b1ef-9bca246315c6"
      },
      "execution_count": null,
      "outputs": [
        {
          "output_type": "execute_result",
          "data": {
            "text/plain": [
              "  Tables_in_playdata\n",
              "0               dept\n",
              "1                emp\n",
              "2      tb_movie_info\n",
              "3        titanic_raw"
            ],
            "text/html": [
              "\n",
              "  <div id=\"df-dde10b2e-5765-479e-b30e-4efe1ad03395\">\n",
              "    <div class=\"colab-df-container\">\n",
              "      <div>\n",
              "<style scoped>\n",
              "    .dataframe tbody tr th:only-of-type {\n",
              "        vertical-align: middle;\n",
              "    }\n",
              "\n",
              "    .dataframe tbody tr th {\n",
              "        vertical-align: top;\n",
              "    }\n",
              "\n",
              "    .dataframe thead th {\n",
              "        text-align: right;\n",
              "    }\n",
              "</style>\n",
              "<table border=\"1\" class=\"dataframe\">\n",
              "  <thead>\n",
              "    <tr style=\"text-align: right;\">\n",
              "      <th></th>\n",
              "      <th>Tables_in_playdata</th>\n",
              "    </tr>\n",
              "  </thead>\n",
              "  <tbody>\n",
              "    <tr>\n",
              "      <th>0</th>\n",
              "      <td>dept</td>\n",
              "    </tr>\n",
              "    <tr>\n",
              "      <th>1</th>\n",
              "      <td>emp</td>\n",
              "    </tr>\n",
              "    <tr>\n",
              "      <th>2</th>\n",
              "      <td>tb_movie_info</td>\n",
              "    </tr>\n",
              "    <tr>\n",
              "      <th>3</th>\n",
              "      <td>titanic_raw</td>\n",
              "    </tr>\n",
              "  </tbody>\n",
              "</table>\n",
              "</div>\n",
              "      <button class=\"colab-df-convert\" onclick=\"convertToInteractive('df-dde10b2e-5765-479e-b30e-4efe1ad03395')\"\n",
              "              title=\"Convert this dataframe to an interactive table.\"\n",
              "              style=\"display:none;\">\n",
              "        \n",
              "  <svg xmlns=\"http://www.w3.org/2000/svg\" height=\"24px\"viewBox=\"0 0 24 24\"\n",
              "       width=\"24px\">\n",
              "    <path d=\"M0 0h24v24H0V0z\" fill=\"none\"/>\n",
              "    <path d=\"M18.56 5.44l.94 2.06.94-2.06 2.06-.94-2.06-.94-.94-2.06-.94 2.06-2.06.94zm-11 1L8.5 8.5l.94-2.06 2.06-.94-2.06-.94L8.5 2.5l-.94 2.06-2.06.94zm10 10l.94 2.06.94-2.06 2.06-.94-2.06-.94-.94-2.06-.94 2.06-2.06.94z\"/><path d=\"M17.41 7.96l-1.37-1.37c-.4-.4-.92-.59-1.43-.59-.52 0-1.04.2-1.43.59L10.3 9.45l-7.72 7.72c-.78.78-.78 2.05 0 2.83L4 21.41c.39.39.9.59 1.41.59.51 0 1.02-.2 1.41-.59l7.78-7.78 2.81-2.81c.8-.78.8-2.07 0-2.86zM5.41 20L4 18.59l7.72-7.72 1.47 1.35L5.41 20z\"/>\n",
              "  </svg>\n",
              "      </button>\n",
              "      \n",
              "  <style>\n",
              "    .colab-df-container {\n",
              "      display:flex;\n",
              "      flex-wrap:wrap;\n",
              "      gap: 12px;\n",
              "    }\n",
              "\n",
              "    .colab-df-convert {\n",
              "      background-color: #E8F0FE;\n",
              "      border: none;\n",
              "      border-radius: 50%;\n",
              "      cursor: pointer;\n",
              "      display: none;\n",
              "      fill: #1967D2;\n",
              "      height: 32px;\n",
              "      padding: 0 0 0 0;\n",
              "      width: 32px;\n",
              "    }\n",
              "\n",
              "    .colab-df-convert:hover {\n",
              "      background-color: #E2EBFA;\n",
              "      box-shadow: 0px 1px 2px rgba(60, 64, 67, 0.3), 0px 1px 3px 1px rgba(60, 64, 67, 0.15);\n",
              "      fill: #174EA6;\n",
              "    }\n",
              "\n",
              "    [theme=dark] .colab-df-convert {\n",
              "      background-color: #3B4455;\n",
              "      fill: #D2E3FC;\n",
              "    }\n",
              "\n",
              "    [theme=dark] .colab-df-convert:hover {\n",
              "      background-color: #434B5C;\n",
              "      box-shadow: 0px 1px 3px 1px rgba(0, 0, 0, 0.15);\n",
              "      filter: drop-shadow(0px 1px 2px rgba(0, 0, 0, 0.3));\n",
              "      fill: #FFFFFF;\n",
              "    }\n",
              "  </style>\n",
              "\n",
              "      <script>\n",
              "        const buttonEl =\n",
              "          document.querySelector('#df-dde10b2e-5765-479e-b30e-4efe1ad03395 button.colab-df-convert');\n",
              "        buttonEl.style.display =\n",
              "          google.colab.kernel.accessAllowed ? 'block' : 'none';\n",
              "\n",
              "        async function convertToInteractive(key) {\n",
              "          const element = document.querySelector('#df-dde10b2e-5765-479e-b30e-4efe1ad03395');\n",
              "          const dataTable =\n",
              "            await google.colab.kernel.invokeFunction('convertToInteractive',\n",
              "                                                     [key], {});\n",
              "          if (!dataTable) return;\n",
              "\n",
              "          const docLinkHtml = 'Like what you see? Visit the ' +\n",
              "            '<a target=\"_blank\" href=https://colab.research.google.com/notebooks/data_table.ipynb>data table notebook</a>'\n",
              "            + ' to learn more about interactive tables.';\n",
              "          element.innerHTML = '';\n",
              "          dataTable['output_type'] = 'display_data';\n",
              "          await google.colab.output.renderOutput(dataTable, element);\n",
              "          const docLink = document.createElement('div');\n",
              "          docLink.innerHTML = docLinkHtml;\n",
              "          element.appendChild(docLink);\n",
              "        }\n",
              "      </script>\n",
              "    </div>\n",
              "  </div>\n",
              "  "
            ]
          },
          "metadata": {},
          "execution_count": 75
        }
      ]
    },
    {
      "cell_type": "code",
      "source": [
        "pd.read_sql(\"desc titanic_raw\",conn)"
      ],
      "metadata": {
        "colab": {
          "base_uri": "https://localhost:8080/",
          "height": 426
        },
        "id": "_S4MeXlgv7iw",
        "outputId": "0f0d1546-50ae-4bfa-b36f-169ddf76e827"
      },
      "execution_count": null,
      "outputs": [
        {
          "output_type": "execute_result",
          "data": {
            "text/plain": [
              "          Field          Type Null  Key Default Extra\n",
              "0   passengerid           int   NO  PRI    None      \n",
              "1      survived           int  YES         None      \n",
              "2        pclass           int  YES         None      \n",
              "3          name  varchar(100)  YES         None      \n",
              "4        gender   varchar(50)  YES         None      \n",
              "5           age        double  YES         None      \n",
              "6         sibsp           int  YES         None      \n",
              "7         parch           int  YES         None      \n",
              "8        ticket   varchar(80)  YES         None      \n",
              "9          fare        double  YES         None      \n",
              "10        cabin   varchar(50)  YES         None      \n",
              "11     embarked   varchar(20)  YES         None      "
            ],
            "text/html": [
              "\n",
              "  <div id=\"df-07ce4f39-392e-4e3f-9c05-88caca2b029b\">\n",
              "    <div class=\"colab-df-container\">\n",
              "      <div>\n",
              "<style scoped>\n",
              "    .dataframe tbody tr th:only-of-type {\n",
              "        vertical-align: middle;\n",
              "    }\n",
              "\n",
              "    .dataframe tbody tr th {\n",
              "        vertical-align: top;\n",
              "    }\n",
              "\n",
              "    .dataframe thead th {\n",
              "        text-align: right;\n",
              "    }\n",
              "</style>\n",
              "<table border=\"1\" class=\"dataframe\">\n",
              "  <thead>\n",
              "    <tr style=\"text-align: right;\">\n",
              "      <th></th>\n",
              "      <th>Field</th>\n",
              "      <th>Type</th>\n",
              "      <th>Null</th>\n",
              "      <th>Key</th>\n",
              "      <th>Default</th>\n",
              "      <th>Extra</th>\n",
              "    </tr>\n",
              "  </thead>\n",
              "  <tbody>\n",
              "    <tr>\n",
              "      <th>0</th>\n",
              "      <td>passengerid</td>\n",
              "      <td>int</td>\n",
              "      <td>NO</td>\n",
              "      <td>PRI</td>\n",
              "      <td>None</td>\n",
              "      <td></td>\n",
              "    </tr>\n",
              "    <tr>\n",
              "      <th>1</th>\n",
              "      <td>survived</td>\n",
              "      <td>int</td>\n",
              "      <td>YES</td>\n",
              "      <td></td>\n",
              "      <td>None</td>\n",
              "      <td></td>\n",
              "    </tr>\n",
              "    <tr>\n",
              "      <th>2</th>\n",
              "      <td>pclass</td>\n",
              "      <td>int</td>\n",
              "      <td>YES</td>\n",
              "      <td></td>\n",
              "      <td>None</td>\n",
              "      <td></td>\n",
              "    </tr>\n",
              "    <tr>\n",
              "      <th>3</th>\n",
              "      <td>name</td>\n",
              "      <td>varchar(100)</td>\n",
              "      <td>YES</td>\n",
              "      <td></td>\n",
              "      <td>None</td>\n",
              "      <td></td>\n",
              "    </tr>\n",
              "    <tr>\n",
              "      <th>4</th>\n",
              "      <td>gender</td>\n",
              "      <td>varchar(50)</td>\n",
              "      <td>YES</td>\n",
              "      <td></td>\n",
              "      <td>None</td>\n",
              "      <td></td>\n",
              "    </tr>\n",
              "    <tr>\n",
              "      <th>5</th>\n",
              "      <td>age</td>\n",
              "      <td>double</td>\n",
              "      <td>YES</td>\n",
              "      <td></td>\n",
              "      <td>None</td>\n",
              "      <td></td>\n",
              "    </tr>\n",
              "    <tr>\n",
              "      <th>6</th>\n",
              "      <td>sibsp</td>\n",
              "      <td>int</td>\n",
              "      <td>YES</td>\n",
              "      <td></td>\n",
              "      <td>None</td>\n",
              "      <td></td>\n",
              "    </tr>\n",
              "    <tr>\n",
              "      <th>7</th>\n",
              "      <td>parch</td>\n",
              "      <td>int</td>\n",
              "      <td>YES</td>\n",
              "      <td></td>\n",
              "      <td>None</td>\n",
              "      <td></td>\n",
              "    </tr>\n",
              "    <tr>\n",
              "      <th>8</th>\n",
              "      <td>ticket</td>\n",
              "      <td>varchar(80)</td>\n",
              "      <td>YES</td>\n",
              "      <td></td>\n",
              "      <td>None</td>\n",
              "      <td></td>\n",
              "    </tr>\n",
              "    <tr>\n",
              "      <th>9</th>\n",
              "      <td>fare</td>\n",
              "      <td>double</td>\n",
              "      <td>YES</td>\n",
              "      <td></td>\n",
              "      <td>None</td>\n",
              "      <td></td>\n",
              "    </tr>\n",
              "    <tr>\n",
              "      <th>10</th>\n",
              "      <td>cabin</td>\n",
              "      <td>varchar(50)</td>\n",
              "      <td>YES</td>\n",
              "      <td></td>\n",
              "      <td>None</td>\n",
              "      <td></td>\n",
              "    </tr>\n",
              "    <tr>\n",
              "      <th>11</th>\n",
              "      <td>embarked</td>\n",
              "      <td>varchar(20)</td>\n",
              "      <td>YES</td>\n",
              "      <td></td>\n",
              "      <td>None</td>\n",
              "      <td></td>\n",
              "    </tr>\n",
              "  </tbody>\n",
              "</table>\n",
              "</div>\n",
              "      <button class=\"colab-df-convert\" onclick=\"convertToInteractive('df-07ce4f39-392e-4e3f-9c05-88caca2b029b')\"\n",
              "              title=\"Convert this dataframe to an interactive table.\"\n",
              "              style=\"display:none;\">\n",
              "        \n",
              "  <svg xmlns=\"http://www.w3.org/2000/svg\" height=\"24px\"viewBox=\"0 0 24 24\"\n",
              "       width=\"24px\">\n",
              "    <path d=\"M0 0h24v24H0V0z\" fill=\"none\"/>\n",
              "    <path d=\"M18.56 5.44l.94 2.06.94-2.06 2.06-.94-2.06-.94-.94-2.06-.94 2.06-2.06.94zm-11 1L8.5 8.5l.94-2.06 2.06-.94-2.06-.94L8.5 2.5l-.94 2.06-2.06.94zm10 10l.94 2.06.94-2.06 2.06-.94-2.06-.94-.94-2.06-.94 2.06-2.06.94z\"/><path d=\"M17.41 7.96l-1.37-1.37c-.4-.4-.92-.59-1.43-.59-.52 0-1.04.2-1.43.59L10.3 9.45l-7.72 7.72c-.78.78-.78 2.05 0 2.83L4 21.41c.39.39.9.59 1.41.59.51 0 1.02-.2 1.41-.59l7.78-7.78 2.81-2.81c.8-.78.8-2.07 0-2.86zM5.41 20L4 18.59l7.72-7.72 1.47 1.35L5.41 20z\"/>\n",
              "  </svg>\n",
              "      </button>\n",
              "      \n",
              "  <style>\n",
              "    .colab-df-container {\n",
              "      display:flex;\n",
              "      flex-wrap:wrap;\n",
              "      gap: 12px;\n",
              "    }\n",
              "\n",
              "    .colab-df-convert {\n",
              "      background-color: #E8F0FE;\n",
              "      border: none;\n",
              "      border-radius: 50%;\n",
              "      cursor: pointer;\n",
              "      display: none;\n",
              "      fill: #1967D2;\n",
              "      height: 32px;\n",
              "      padding: 0 0 0 0;\n",
              "      width: 32px;\n",
              "    }\n",
              "\n",
              "    .colab-df-convert:hover {\n",
              "      background-color: #E2EBFA;\n",
              "      box-shadow: 0px 1px 2px rgba(60, 64, 67, 0.3), 0px 1px 3px 1px rgba(60, 64, 67, 0.15);\n",
              "      fill: #174EA6;\n",
              "    }\n",
              "\n",
              "    [theme=dark] .colab-df-convert {\n",
              "      background-color: #3B4455;\n",
              "      fill: #D2E3FC;\n",
              "    }\n",
              "\n",
              "    [theme=dark] .colab-df-convert:hover {\n",
              "      background-color: #434B5C;\n",
              "      box-shadow: 0px 1px 3px 1px rgba(0, 0, 0, 0.15);\n",
              "      filter: drop-shadow(0px 1px 2px rgba(0, 0, 0, 0.3));\n",
              "      fill: #FFFFFF;\n",
              "    }\n",
              "  </style>\n",
              "\n",
              "      <script>\n",
              "        const buttonEl =\n",
              "          document.querySelector('#df-07ce4f39-392e-4e3f-9c05-88caca2b029b button.colab-df-convert');\n",
              "        buttonEl.style.display =\n",
              "          google.colab.kernel.accessAllowed ? 'block' : 'none';\n",
              "\n",
              "        async function convertToInteractive(key) {\n",
              "          const element = document.querySelector('#df-07ce4f39-392e-4e3f-9c05-88caca2b029b');\n",
              "          const dataTable =\n",
              "            await google.colab.kernel.invokeFunction('convertToInteractive',\n",
              "                                                     [key], {});\n",
              "          if (!dataTable) return;\n",
              "\n",
              "          const docLinkHtml = 'Like what you see? Visit the ' +\n",
              "            '<a target=\"_blank\" href=https://colab.research.google.com/notebooks/data_table.ipynb>data table notebook</a>'\n",
              "            + ' to learn more about interactive tables.';\n",
              "          element.innerHTML = '';\n",
              "          dataTable['output_type'] = 'display_data';\n",
              "          await google.colab.output.renderOutput(dataTable, element);\n",
              "          const docLink = document.createElement('div');\n",
              "          docLink.innerHTML = docLinkHtml;\n",
              "          element.appendChild(docLink);\n",
              "        }\n",
              "      </script>\n",
              "    </div>\n",
              "  </div>\n",
              "  "
            ]
          },
          "metadata": {},
          "execution_count": 76
        }
      ]
    }
  ]
}
