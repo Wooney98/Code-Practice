{
  "nbformat": 4,
  "nbformat_minor": 0,
  "metadata": {
    "colab": {
      "name": "11-파일입출력.ipynb",
      "provenance": [],
      "collapsed_sections": [],
      "mount_file_id": "1ZYC96XbM36f1RDfILLv4ncFbdRQgilDl",
      "authorship_tag": "ABX9TyNt+v4T679WRrgc+Rel4In/",
      "include_colab_link": true
    },
    "kernelspec": {
      "name": "python3",
      "display_name": "Python 3"
    },
    "language_info": {
      "name": "python"
    }
  },
  "cells": [
    {
      "cell_type": "markdown",
      "metadata": {
        "id": "view-in-github",
        "colab_type": "text"
      },
      "source": [
        "<a href=\"https://colab.research.google.com/github/Wooney98/playdata-python/blob/main/11_%ED%8C%8C%EC%9D%BC%EC%9E%85%EC%B6%9C%EB%A0%A5.ipynb\" target=\"_parent\"><img src=\"https://colab.research.google.com/assets/colab-badge.svg\" alt=\"Open In Colab\"/></a>"
      ]
    },
    {
      "cell_type": "markdown",
      "source": [
        "# 파일 입출력\n",
        "- open 함수\n",
        "    - 파일을 열수 있는 함수\n",
        "    - 파일 객체를 반환\n",
        "    - `w` : 쓰기모드\n",
        "    - `a` : 추가모드\n",
        "    - `r` : 읽기모드"
      ],
      "metadata": {
        "id": "6viaFIGrF3Qn"
      }
    },
    {
      "cell_type": "markdown",
      "source": [
        "- 쓰기모드"
      ],
      "metadata": {
        "id": "1Ez-1OTKGiwI"
      }
    },
    {
      "cell_type": "code",
      "execution_count": null,
      "metadata": {
        "colab": {
          "base_uri": "https://localhost:8080/"
        },
        "id": "vs9YB6a1FosJ",
        "outputId": "1c38ad8c-ccbf-421f-efe8-aca8b80d631a"
      },
      "outputs": [
        {
          "output_type": "stream",
          "name": "stdout",
          "text": [
            "<_io.TextIOWrapper name='memo.txt' mode='w' encoding='UTF-8'>\n"
          ]
        }
      ],
      "source": [
        "f = open(\"memo.txt\",\"w\") # 해당 파일이 없을 경우, 새로 생성\n",
        "print(f)\n",
        "f.close() "
      ]
    },
    {
      "cell_type": "markdown",
      "source": [
        "- 쓰기모드로 열면 안에 파일 내용은 사라진다."
      ],
      "metadata": {
        "id": "Cejmar1sIZyq"
      }
    },
    {
      "cell_type": "code",
      "source": [
        "f = open(\"memo.txt\", \"w\")\n",
        "for i in range(1,11):\n",
        "    data = f\"{i}번째 줄\\n\"\n",
        "    f.write(data)\n",
        "f.close() "
      ],
      "metadata": {
        "id": "oRuF9Jk8GyPE"
      },
      "execution_count": null,
      "outputs": []
    },
    {
      "cell_type": "markdown",
      "source": [
        "- 추가모드"
      ],
      "metadata": {
        "id": "N6nUbTT6IGTW"
      }
    },
    {
      "cell_type": "code",
      "source": [
        "f = open(\"memo.txt\", \"a\")\n",
        "data = \"11번째 줄\\n\"\n",
        "f.write(data)\n",
        "f.close()"
      ],
      "metadata": {
        "id": "M7nl4TQBHeC_"
      },
      "execution_count": null,
      "outputs": []
    },
    {
      "cell_type": "markdown",
      "source": [
        "- 읽기모드"
      ],
      "metadata": {
        "id": "TjbV18yfIuNV"
      }
    },
    {
      "cell_type": "code",
      "source": [
        "f = open(\"memo.txt\", \"r\")\n",
        "data = f.read() # 파일 전체의 내용을 읽어 반환한다.\n",
        "f.close()\n",
        "print(data)"
      ],
      "metadata": {
        "colab": {
          "base_uri": "https://localhost:8080/"
        },
        "id": "XfxfmvZ4ISzk",
        "outputId": "f3cfaeab-dc9b-4dd1-c661-3262c2891402"
      },
      "execution_count": null,
      "outputs": [
        {
          "output_type": "stream",
          "name": "stdout",
          "text": [
            "1번째 줄\n",
            "2번째 줄\n",
            "3번째 줄\n",
            "4번째 줄\n",
            "5번째 줄\n",
            "6번째 줄\n",
            "7번째 줄\n",
            "8번째 줄\n",
            "9번째 줄\n",
            "10번째 줄\n",
            "11번째 줄\n",
            "\n"
          ]
        }
      ]
    },
    {
      "cell_type": "code",
      "source": [
        "f = open(\"memo.txt\", \"r\")\n",
        "while True:\n",
        "    data = f.readline() # 한줄씩 읽음, 줄바꿈 문자도 포함된다.\n",
        "    if not data:\n",
        "        break\n",
        "    print(data,end=\"\")\n",
        "f.close()"
      ],
      "metadata": {
        "colab": {
          "base_uri": "https://localhost:8080/"
        },
        "id": "32Y4AjLwJC0K",
        "outputId": "d4713225-14a3-414b-a643-f111ff1afe1c"
      },
      "execution_count": null,
      "outputs": [
        {
          "output_type": "stream",
          "name": "stdout",
          "text": [
            "1번째 줄\n",
            "2번째 줄\n",
            "3번째 줄\n",
            "4번째 줄\n",
            "5번째 줄\n",
            "6번째 줄\n",
            "7번째 줄\n",
            "8번째 줄\n",
            "9번째 줄\n",
            "10번째 줄\n",
            "11번째 줄\n"
          ]
        }
      ]
    },
    {
      "cell_type": "code",
      "source": [
        "f = open(\"memo.txt\", \"r\")\n",
        "data = f.readlines()\n",
        "f.close()\n",
        "print(data)"
      ],
      "metadata": {
        "colab": {
          "base_uri": "https://localhost:8080/"
        },
        "id": "j7fZSQQ_KWMq",
        "outputId": "fdb3f608-767d-4215-91fb-5af0194bfdaa"
      },
      "execution_count": null,
      "outputs": [
        {
          "output_type": "stream",
          "name": "stdout",
          "text": [
            "['1번째 줄\\n', '2번째 줄\\n', '3번째 줄\\n', '4번째 줄\\n', '5번째 줄\\n', '6번째 줄\\n', '7번째 줄\\n', '8번째 줄\\n', '9번째 줄\\n', '10번째 줄\\n', '11번째 줄\\n']\n"
          ]
        }
      ]
    },
    {
      "cell_type": "markdown",
      "source": [
        "- `with` 문\n",
        "    - 자동으로 파일을 닫아준다."
      ],
      "metadata": {
        "id": "fPugxemcLGnd"
      }
    },
    {
      "cell_type": "code",
      "source": [
        "with open(\"memo.txt\",\"r\") as f: # open 함수로 인해 반환된 파일 객체를 f 변수가 받아준다.\n",
        "    data = f.read()\n",
        "    print(data)"
      ],
      "metadata": {
        "colab": {
          "base_uri": "https://localhost:8080/"
        },
        "id": "y-TVspD7K6F7",
        "outputId": "16447c5d-8d5b-4fd1-9084-3bac6e05fe6c"
      },
      "execution_count": null,
      "outputs": [
        {
          "output_type": "stream",
          "name": "stdout",
          "text": [
            "1번째 줄\n",
            "2번째 줄\n",
            "3번째 줄\n",
            "4번째 줄\n",
            "5번째 줄\n",
            "6번째 줄\n",
            "7번째 줄\n",
            "8번째 줄\n",
            "9번째 줄\n",
            "10번째 줄\n",
            "11번째 줄\n",
            "\n"
          ]
        }
      ]
    },
    {
      "cell_type": "code",
      "source": [
        "with open(\"memo.txt\",\"r\") as f:\n",
        "    while True:\n",
        "        data = f.readline()\n",
        "        if not data: break\n",
        "        print(data, end=\"\")"
      ],
      "metadata": {
        "colab": {
          "base_uri": "https://localhost:8080/"
        },
        "id": "04P4KWEvLgbm",
        "outputId": "ae422a4a-c9c0-46de-9040-1073698ed7f3"
      },
      "execution_count": null,
      "outputs": [
        {
          "output_type": "stream",
          "name": "stdout",
          "text": [
            "1번째 줄\n",
            "2번째 줄\n",
            "3번째 줄\n",
            "4번째 줄\n",
            "5번째 줄\n",
            "6번째 줄\n",
            "7번째 줄\n",
            "8번째 줄\n",
            "9번째 줄\n",
            "10번째 줄\n",
            "11번째 줄\n"
          ]
        }
      ]
    },
    {
      "cell_type": "markdown",
      "source": [
        "- for문을 이용한 방법"
      ],
      "metadata": {
        "id": "H5MFdm_xM6Qq"
      }
    },
    {
      "cell_type": "code",
      "source": [
        "with open(\"memo.txt\",\"r\") as f:\n",
        "    for line in f:\n",
        "        line = line.strip()  # end=\"\"\n",
        "        print(line)"
      ],
      "metadata": {
        "colab": {
          "base_uri": "https://localhost:8080/"
        },
        "id": "TTRBElxPMVEY",
        "outputId": "80a5b888-2fa9-44d2-a62e-661e0dd03412"
      },
      "execution_count": null,
      "outputs": [
        {
          "output_type": "stream",
          "name": "stdout",
          "text": [
            "1번째 줄\n",
            "2번째 줄\n",
            "3번째 줄\n",
            "4번째 줄\n",
            "5번째 줄\n",
            "6번째 줄\n",
            "7번째 줄\n",
            "8번째 줄\n",
            "9번째 줄\n",
            "10번째 줄\n",
            "11번째 줄\n"
          ]
        }
      ]
    },
    {
      "cell_type": "code",
      "source": [
        "with open(\"memo.txt\",\"r\") as f:\n",
        "    for i,line in enumerate(f,1):\n",
        "        print(f\"No.{i} {line}\",end=\"\")"
      ],
      "metadata": {
        "colab": {
          "base_uri": "https://localhost:8080/"
        },
        "id": "EKQ5GqeyNDs-",
        "outputId": "86b997b7-2330-4245-8eb4-fde88a4a1151"
      },
      "execution_count": null,
      "outputs": [
        {
          "output_type": "stream",
          "name": "stdout",
          "text": [
            "No.1 1번째 줄\n",
            "No.2 2번째 줄\n",
            "No.3 3번째 줄\n",
            "No.4 4번째 줄\n",
            "No.5 5번째 줄\n",
            "No.6 6번째 줄\n",
            "No.7 7번째 줄\n",
            "No.8 8번째 줄\n",
            "No.9 9번째 줄\n",
            "No.10 10번째 줄\n",
            "No.11 11번째 줄\n"
          ]
        }
      ]
    },
    {
      "cell_type": "code",
      "source": [
        "with open(\"test.txt\",\"w\") as f:\n",
        "    for i in range(2,10):\n",
        "        for j in range(1,10):\n",
        "            f.write(str(i)+'X'+str(j)+'='+str(i*j)+'\\n')\n",
        "            # print(i, 'X', j, '=', i*j)"
      ],
      "metadata": {
        "id": "iqPJl5qbOjpr"
      },
      "execution_count": null,
      "outputs": []
    },
    {
      "cell_type": "markdown",
      "source": [
        "- 마운트(mount)란?\n",
        "    - 리눅스 환경에서 하드디스크나 usb 메모리 같은 물리적인 장치를 사용하기 위해 리눅스 환경에서 지정한 디렉토리에 연결해주는 과정을 말함"
      ],
      "metadata": {
        "id": "bhlxu4wfa4js"
      }
    },
    {
      "cell_type": "markdown",
      "source": [
        "# 구글 드라이브 연결해서 파일 가져오기"
      ],
      "metadata": {
        "id": "0PbWYR_KbpqV"
      }
    },
    {
      "cell_type": "code",
      "source": [
        "from google.colab import drive\n",
        "drive.mount(\"/content/drive\")"
      ],
      "metadata": {
        "colab": {
          "base_uri": "https://localhost:8080/"
        },
        "id": "zT8-iKTBXV6r",
        "outputId": "3f663800-b279-4f9f-8839-b84c1c159b30"
      },
      "execution_count": null,
      "outputs": [
        {
          "output_type": "stream",
          "name": "stdout",
          "text": [
            "Mounted at /content/drive\n"
          ]
        }
      ]
    },
    {
      "cell_type": "code",
      "source": [
        "DATA_PATH=\"/content/drive/MyDrive/Classroom/\""
      ],
      "metadata": {
        "id": "GlfA8vHvhJar"
      },
      "execution_count": null,
      "outputs": []
    },
    {
      "cell_type": "code",
      "source": [
        "with open(f\"{DATA_PATH}memo.txt\",\"r\") as f:\n",
        "    data = f.readlines()\n",
        "    print(data)"
      ],
      "metadata": {
        "colab": {
          "base_uri": "https://localhost:8080/"
        },
        "id": "wo5D2PkJj_CM",
        "outputId": "3557f5be-11ef-4746-ec16-2a58d5805bd6"
      },
      "execution_count": null,
      "outputs": [
        {
          "output_type": "stream",
          "name": "stdout",
          "text": [
            "['1번째 줄\\n', '2번째 줄\\n', '3번째 줄\\n', '4번째 줄\\n', '5번째 줄\\n', '6번째 줄\\n', '7번째 줄\\n', '8번째 줄\\n', '9번째 줄\\n', '10번째 줄\\n', '11번째 줄\\n']\n"
          ]
        }
      ]
    },
    {
      "cell_type": "markdown",
      "source": [
        "# JSON 파일 입출력\n",
        "- 자바스크립트에서 사용되는 객체 표현식\n",
        "- 데이터를 저장,전송 시 사용\n",
        "- 서버와 클라이언트간의 데이터 전송과정에서 많이 사용"
      ],
      "metadata": {
        "id": "bdPHfidilVj6"
      }
    },
    {
      "cell_type": "code",
      "source": [
        "import json"
      ],
      "metadata": {
        "id": "e2CmnzFrkOit"
      },
      "execution_count": null,
      "outputs": []
    },
    {
      "cell_type": "code",
      "source": [
        "DATA_PATH=\"/content/drive/MyDrive/Classroom/\""
      ],
      "metadata": {
        "id": "ibhtt-gemC9A"
      },
      "execution_count": null,
      "outputs": []
    },
    {
      "cell_type": "code",
      "source": [
        "with open(f\"{DATA_PATH}info.json\",\"r\") as f:\n",
        "    data = json.load(f) # json 파일을 딕셔너리 형태로 변환해서 반환\n",
        "type(data)"
      ],
      "metadata": {
        "colab": {
          "base_uri": "https://localhost:8080/"
        },
        "id": "QnarDQVDmJB9",
        "outputId": "7df91e11-59d9-4a6c-c8fe-e22c5c247193"
      },
      "execution_count": null,
      "outputs": [
        {
          "output_type": "execute_result",
          "data": {
            "text/plain": [
              "dict"
            ]
          },
          "metadata": {},
          "execution_count": 59
        }
      ]
    },
    {
      "cell_type": "code",
      "source": [
        "data"
      ],
      "metadata": {
        "colab": {
          "base_uri": "https://localhost:8080/"
        },
        "id": "NNiIdhGSmk54",
        "outputId": "985423fc-5ae2-48e3-bf8c-d08262eea2d1"
      },
      "execution_count": null,
      "outputs": [
        {
          "output_type": "execute_result",
          "data": {
            "text/plain": [
              "{'Daniel': {'age': 20, 'height': 170},\n",
              " 'John': {'age': 20, 'height': 175, 'weight': 80}}"
            ]
          },
          "metadata": {},
          "execution_count": 60
        }
      ]
    },
    {
      "cell_type": "code",
      "source": [
        "data[\"Son\"]={\"age\":25}\n",
        "data"
      ],
      "metadata": {
        "colab": {
          "base_uri": "https://localhost:8080/"
        },
        "id": "0bfjcq6Pm0xE",
        "outputId": "6ef3b5b9-e3ff-4c61-e901-f5b0ac1bc69d"
      },
      "execution_count": null,
      "outputs": [
        {
          "output_type": "execute_result",
          "data": {
            "text/plain": [
              "{'Daniel': {'age': 20, 'height': 170},\n",
              " 'John': {'age': 20, 'height': 175, 'weight': 80},\n",
              " 'Son': {'age': 25}}"
            ]
          },
          "metadata": {},
          "execution_count": 61
        }
      ]
    },
    {
      "cell_type": "code",
      "source": [
        "with open(\"info.json\",\"w\") as f:\n",
        "    # 한글포함 시: ensure_ascii=False\n",
        "    # 들여쓰기 : indent = 4 or 2\n",
        "    json.dump(data,f,ensure_ascii=False,indent=4)"
      ],
      "metadata": {
        "id": "HNkas3Hsm8eS"
      },
      "execution_count": null,
      "outputs": []
    },
    {
      "cell_type": "markdown",
      "source": [
        "# YAML(Yet Another Markup Language)\n",
        "- 사람이 쉽게 읽을 수 있는 데이터 직렬화 양식\n",
        "- 데이터를 저장하거나 전송할 때 사용"
      ],
      "metadata": {
        "id": "L0Au_sjbpGUL"
      }
    },
    {
      "cell_type": "code",
      "source": [
        "import yaml"
      ],
      "metadata": {
        "id": "WFbsfx4ooIJP"
      },
      "execution_count": null,
      "outputs": []
    },
    {
      "cell_type": "code",
      "source": [
        "data"
      ],
      "metadata": {
        "colab": {
          "base_uri": "https://localhost:8080/"
        },
        "id": "tWEHruDGpmZZ",
        "outputId": "0eb6f689-3edb-48bb-8624-17218aad670b"
      },
      "execution_count": null,
      "outputs": [
        {
          "output_type": "execute_result",
          "data": {
            "text/plain": [
              "{'Daniel': {'age': 20, 'height': 170},\n",
              " 'John': {'age': 20, 'height': 175, 'weight': 80},\n",
              " 'Son': {'age': 25}}"
            ]
          },
          "metadata": {},
          "execution_count": 68
        }
      ]
    },
    {
      "cell_type": "code",
      "source": [
        "with open(\"data.yml\",\"w\") as f:\n",
        "    yaml.dump(data,f,default_flow_style=False,indent=4,allow_unicode=True)"
      ],
      "metadata": {
        "id": "KgT-DG8IpnBB"
      },
      "execution_count": null,
      "outputs": []
    },
    {
      "cell_type": "code",
      "source": [
        "with open(\"data.yml\",\"r\") as f:\n",
        "    data1 = yaml.load(f)\n",
        "type(data1)"
      ],
      "metadata": {
        "colab": {
          "base_uri": "https://localhost:8080/"
        },
        "id": "NGZn6K6Sp3xk",
        "outputId": "61a05820-8ef3-48ce-b81a-f9ce2c7586be"
      },
      "execution_count": null,
      "outputs": [
        {
          "output_type": "execute_result",
          "data": {
            "text/plain": [
              "dict"
            ]
          },
          "metadata": {},
          "execution_count": 73
        }
      ]
    },
    {
      "cell_type": "code",
      "source": [
        "data1[\"리스트\"] = [True,False,\"문자열\",3.14]"
      ],
      "metadata": {
        "id": "fhSGy8XKuHzJ"
      },
      "execution_count": null,
      "outputs": []
    },
    {
      "cell_type": "code",
      "source": [
        "with open(\"data1.yml\",\"w\") as f:\n",
        "    yaml.dump(data1,f,default_flow_style=False,indent=4,allow_unicode=True)"
      ],
      "metadata": {
        "id": "LMKmkEsBukJ3"
      },
      "execution_count": null,
      "outputs": []
    },
    {
      "cell_type": "code",
      "source": [
        "with open(\"data1.yml\",\"r\") as f:\n",
        "    data1 = yaml.load(f)\n",
        "data1"
      ],
      "metadata": {
        "colab": {
          "base_uri": "https://localhost:8080/"
        },
        "id": "uYR9z5H5uu0g",
        "outputId": "6d16591c-107d-42a7-9752-895e5411dbb6"
      },
      "execution_count": null,
      "outputs": [
        {
          "output_type": "execute_result",
          "data": {
            "text/plain": [
              "{'Daniel': {'age': 20, 'height': 170},\n",
              " 'John': {'age': 20, 'height': 175, 'weight': 80},\n",
              " 'Son': {'age': 25},\n",
              " '리스트': [True, False, '문자열', 3.14]}"
            ]
          },
          "metadata": {},
          "execution_count": 77
        }
      ]
    },
    {
      "cell_type": "markdown",
      "source": [
        "# pickle 모듈\n",
        "- 우리가 사용하는 다양한 객체들을 파일로 저장하고 싶다면?\n",
        "- 객체의 구조를 직렬화해서 파일로 저장한다."
      ],
      "metadata": {
        "id": "sQ_Fe760vjA7"
      }
    },
    {
      "cell_type": "code",
      "source": [
        "import pickle"
      ],
      "metadata": {
        "id": "mjnx_Ng9vekE"
      },
      "execution_count": null,
      "outputs": []
    },
    {
      "cell_type": "code",
      "source": [
        "data = [1,2,3,4,[10,20],\"hi\"]"
      ],
      "metadata": {
        "id": "1siZ_s0JwMZT"
      },
      "execution_count": null,
      "outputs": []
    },
    {
      "cell_type": "code",
      "source": [
        "with open(\"data.pkl\",\"wb\") as f:\n",
        "    pickle.dump(data,f)"
      ],
      "metadata": {
        "id": "tGel-xF3wO1F"
      },
      "execution_count": null,
      "outputs": []
    },
    {
      "cell_type": "code",
      "source": [
        "with open(\"data.pkl\",\"rb\") as f:\n",
        "    rdata = pickle.load(f)\n",
        "rdata"
      ],
      "metadata": {
        "colab": {
          "base_uri": "https://localhost:8080/"
        },
        "id": "u_biJ8R5wloh",
        "outputId": "26b9eb04-c470-40a6-b626-9abd7aa25a0e"
      },
      "execution_count": null,
      "outputs": [
        {
          "output_type": "execute_result",
          "data": {
            "text/plain": [
              "[1, 2, 3, 4, [10, 20], 'hi']"
            ]
          },
          "metadata": {},
          "execution_count": 82
        }
      ]
    },
    {
      "cell_type": "markdown",
      "source": [
        "- 클래스와 인스턴스도 저장되는지 확인"
      ],
      "metadata": {
        "id": "9vZ487cQynpW"
      }
    },
    {
      "cell_type": "code",
      "source": [
        "class MyClass:\n",
        "    def __init__(self):\n",
        "        self.my_name=\"My Class\"\n",
        "\n",
        "with open(\"myclass.pkl\",\"wb\") as f:\n",
        "    pickle.dump(MyClass,f)\n",
        "\n",
        "with open(\"myclass.pkl\",\"rb\") as f:\n",
        "    class_ = pickle.load(f)\n",
        "class_"
      ],
      "metadata": {
        "colab": {
          "base_uri": "https://localhost:8080/"
        },
        "id": "xI5W77XWxEYZ",
        "outputId": "9c29c05c-6578-4d37-dab2-b79e1700c5f6"
      },
      "execution_count": null,
      "outputs": [
        {
          "output_type": "execute_result",
          "data": {
            "text/plain": [
              "__main__.MyClass"
            ]
          },
          "metadata": {},
          "execution_count": 84
        }
      ]
    },
    {
      "cell_type": "code",
      "source": [
        ""
      ],
      "metadata": {
        "id": "5eRc9-9GzCpD"
      },
      "execution_count": null,
      "outputs": []
    }
  ]
}
