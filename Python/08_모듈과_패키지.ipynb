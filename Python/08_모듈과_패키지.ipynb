{
  "nbformat": 4,
  "nbformat_minor": 0,
  "metadata": {
    "colab": {
      "name": "08-모듈과 패키지.ipynb",
      "provenance": [],
      "collapsed_sections": [],
      "authorship_tag": "ABX9TyODcCEN9ws4TwHhqWHHrE0Y",
      "include_colab_link": true
    },
    "kernelspec": {
      "name": "python3",
      "display_name": "Python 3"
    },
    "language_info": {
      "name": "python"
    }
  },
  "cells": [
    {
      "cell_type": "markdown",
      "metadata": {
        "id": "view-in-github",
        "colab_type": "text"
      },
      "source": [
        "<a href=\"https://colab.research.google.com/github/Wooney98/playdata-python/blob/main/08_%EB%AA%A8%EB%93%88%EA%B3%BC_%ED%8C%A8%ED%82%A4%EC%A7%80.ipynb\" target=\"_parent\"><img src=\"https://colab.research.google.com/assets/colab-badge.svg\" alt=\"Open In Colab\"/></a>"
      ]
    },
    {
      "cell_type": "markdown",
      "source": [
        "# 모듈(Module), 패키지(Package)\n",
        "- 모듈: 변수, 함수, 클래스를 모아놓은 `.py`확장자 파일\n",
        "    - `.py`: 마크다운이나 셀같은 정보는 없고 순수한 파이썬 코드만 존재\n",
        "    - `.ipynb`: 데이터분석가들이 파이썬 언어와 데이터로 작업하고 실험할수 있는 interactive한 개발환경 파일\n",
        "- 패키지: 모듈의 기능을 폴더별로 정리한 개념\n",
        "    - 패키지 생성: 기능별로 폴더를 정리하는것\n"
      ],
      "metadata": {
        "id": "f5THA8r_OWdy"
      }
    },
    {
      "cell_type": "markdown",
      "source": [
        "```python\n",
        "# 모듈 불러오기\n",
        "import <모듈명>\n",
        "\n",
        "# 패키지에서 모듈 불러오기\n",
        "from <패키지명> import <모듈명>\n",
        "\n",
        "# 모듈 안에 함수와 클래스 불러오기\n",
        "from <모듈명> import <함수 or 클래스>\n",
        "\n",
        "# 별칭 주기\n",
        "import <모듈명> as <별칭>\n",
        "```"
      ],
      "metadata": {
        "id": "o-PDs07rP8IN"
      }
    },
    {
      "cell_type": "markdown",
      "source": [
        "# sys, os 모듈 사용해보기"
      ],
      "metadata": {
        "id": "33LhHisZiDXl"
      }
    },
    {
      "cell_type": "code",
      "source": [
        "import sys,os\n",
        "sys.path"
      ],
      "metadata": {
        "colab": {
          "base_uri": "https://localhost:8080/"
        },
        "id": "5y4JPXuHiIFt",
        "outputId": "50d6b642-7a50-4d8b-da65-e2eafc569c8b"
      },
      "execution_count": null,
      "outputs": [
        {
          "output_type": "execute_result",
          "data": {
            "text/plain": [
              "['',\n",
              " '/content',\n",
              " '/env/python',\n",
              " '/usr/lib/python37.zip',\n",
              " '/usr/lib/python3.7',\n",
              " '/usr/lib/python3.7/lib-dynload',\n",
              " '/usr/local/lib/python3.7/dist-packages',\n",
              " '/usr/lib/python3/dist-packages',\n",
              " '/usr/local/lib/python3.7/dist-packages/IPython/extensions',\n",
              " '/root/.ipython']"
            ]
          },
          "metadata": {},
          "execution_count": 106
        }
      ]
    },
    {
      "cell_type": "code",
      "source": [
        "os.getcwd()"
      ],
      "metadata": {
        "colab": {
          "base_uri": "https://localhost:8080/",
          "height": 35
        },
        "id": "tYid0BXAiNHo",
        "outputId": "26e46bf0-8f46-4aaf-d574-cc8730d3a704"
      },
      "execution_count": null,
      "outputs": [
        {
          "output_type": "execute_result",
          "data": {
            "text/plain": [
              "'/content'"
            ],
            "application/vnd.google.colaboratory.intrinsic+json": {
              "type": "string"
            }
          },
          "metadata": {},
          "execution_count": 107
        }
      ]
    },
    {
      "cell_type": "code",
      "source": [
        "sys.version"
      ],
      "metadata": {
        "colab": {
          "base_uri": "https://localhost:8080/",
          "height": 35
        },
        "id": "jBJvUFwfiNCR",
        "outputId": "3dcf9903-2467-40de-a31f-af91b0f472f2"
      },
      "execution_count": null,
      "outputs": [
        {
          "output_type": "execute_result",
          "data": {
            "text/plain": [
              "'3.7.13 (default, Apr 24 2022, 01:04:09) \\n[GCC 7.5.0]'"
            ],
            "application/vnd.google.colaboratory.intrinsic+json": {
              "type": "string"
            }
          },
          "metadata": {},
          "execution_count": 108
        }
      ]
    },
    {
      "cell_type": "markdown",
      "source": [
        "- cpu 개수 확인하기"
      ],
      "metadata": {
        "id": "kDqM1akdiTJt"
      }
    },
    {
      "cell_type": "code",
      "source": [
        "os.cpu_count()"
      ],
      "metadata": {
        "colab": {
          "base_uri": "https://localhost:8080/"
        },
        "id": "JhKONYyaiM-h",
        "outputId": "93e940d8-37a3-451c-c7fb-f93a47aecd0c"
      },
      "execution_count": null,
      "outputs": [
        {
          "output_type": "execute_result",
          "data": {
            "text/plain": [
              "2"
            ]
          },
          "metadata": {},
          "execution_count": 109
        }
      ]
    },
    {
      "cell_type": "markdown",
      "source": [
        "- 폴더 만들기\n",
        "    - 폴더가 이미 있을 경우 에러가 발생"
      ],
      "metadata": {
        "id": "Sw_bl0TriX7r"
      }
    },
    {
      "cell_type": "code",
      "source": [
        "os.mkdir(\"data\")"
      ],
      "metadata": {
        "id": "j_fiZJrlib3G"
      },
      "execution_count": null,
      "outputs": []
    },
    {
      "cell_type": "code",
      "source": [
        "os.mkdir(\"/content/data/files\")"
      ],
      "metadata": {
        "id": "zHRa1MW8ib00"
      },
      "execution_count": null,
      "outputs": []
    },
    {
      "cell_type": "markdown",
      "source": [
        "- 폴더 또는 파일명 변경"
      ],
      "metadata": {
        "id": "dyFXp59siiSU"
      }
    },
    {
      "cell_type": "code",
      "source": [
        "os.rename(\"data\",\"data2\")"
      ],
      "metadata": {
        "id": "ubzFIibNibyY"
      },
      "execution_count": null,
      "outputs": []
    },
    {
      "cell_type": "markdown",
      "source": [
        "- 폴더 삭제하기"
      ],
      "metadata": {
        "id": "EdhGxULhirRU"
      }
    },
    {
      "cell_type": "code",
      "source": [
        "os.rmdir(\"data2/files\")"
      ],
      "metadata": {
        "id": "IJEbJnkJiM2F"
      },
      "execution_count": null,
      "outputs": []
    },
    {
      "cell_type": "markdown",
      "source": [
        "- 폴더 존재 여부 확인"
      ],
      "metadata": {
        "id": "wguZQzjMit8c"
      }
    },
    {
      "cell_type": "code",
      "source": [
        "os.path.isdir(\"data1\"), os.path.isdir(\"data2\")"
      ],
      "metadata": {
        "colab": {
          "base_uri": "https://localhost:8080/"
        },
        "id": "5263xQJNitIj",
        "outputId": "56e70ded-f557-47e8-cc09-885907cd253b"
      },
      "execution_count": null,
      "outputs": [
        {
          "output_type": "execute_result",
          "data": {
            "text/plain": [
              "(False, True)"
            ]
          },
          "metadata": {},
          "execution_count": 114
        }
      ]
    },
    {
      "cell_type": "markdown",
      "source": [
        "- 파일 존재 여부 확인"
      ],
      "metadata": {
        "id": "fSIqcWZoi0_r"
      }
    },
    {
      "cell_type": "code",
      "source": [
        "os.path.isfile(\"demo.py\")"
      ],
      "metadata": {
        "colab": {
          "base_uri": "https://localhost:8080/"
        },
        "id": "pJ9Xx_2aitGL",
        "outputId": "95e9b26d-91bf-4380-bd9a-f88556b1818a"
      },
      "execution_count": null,
      "outputs": [
        {
          "output_type": "execute_result",
          "data": {
            "text/plain": [
              "False"
            ]
          },
          "metadata": {},
          "execution_count": 115
        }
      ]
    },
    {
      "cell_type": "code",
      "source": [
        "os.path.exists(\"data2\"), os.path.exists(\"demo.py\")"
      ],
      "metadata": {
        "colab": {
          "base_uri": "https://localhost:8080/"
        },
        "id": "8hvB9Va5itDw",
        "outputId": "216df584-ed74-44e7-ef48-946b21384623"
      },
      "execution_count": null,
      "outputs": [
        {
          "output_type": "execute_result",
          "data": {
            "text/plain": [
              "(True, False)"
            ]
          },
          "metadata": {},
          "execution_count": 116
        }
      ]
    },
    {
      "cell_type": "markdown",
      "source": [
        "- 파일 삭제하기"
      ],
      "metadata": {
        "id": "-EpzQ16ojHh0"
      }
    },
    {
      "cell_type": "code",
      "source": [
        "os.remove(\"demo.py\")"
      ],
      "metadata": {
        "colab": {
          "base_uri": "https://localhost:8080/",
          "height": 166
        },
        "id": "fO9odBx0itBX",
        "outputId": "5fe1816c-726e-450e-a029-5b189d20c789"
      },
      "execution_count": null,
      "outputs": [
        {
          "output_type": "error",
          "ename": "FileNotFoundError",
          "evalue": "ignored",
          "traceback": [
            "\u001b[0;31m---------------------------------------------------------------------------\u001b[0m",
            "\u001b[0;31mFileNotFoundError\u001b[0m                         Traceback (most recent call last)",
            "\u001b[0;32m<ipython-input-117-f1f4929f2faf>\u001b[0m in \u001b[0;36m<module>\u001b[0;34m()\u001b[0m\n\u001b[0;32m----> 1\u001b[0;31m \u001b[0mos\u001b[0m\u001b[0;34m.\u001b[0m\u001b[0mremove\u001b[0m\u001b[0;34m(\u001b[0m\u001b[0;34m\"demo.py\"\u001b[0m\u001b[0;34m)\u001b[0m\u001b[0;34m\u001b[0m\u001b[0;34m\u001b[0m\u001b[0m\n\u001b[0m",
            "\u001b[0;31mFileNotFoundError\u001b[0m: [Errno 2] No such file or directory: 'demo.py'"
          ]
        }
      ]
    },
    {
      "cell_type": "markdown",
      "source": [
        "#random 모듈 사용해보기"
      ],
      "metadata": {
        "id": "Urnj_H1kHYOj"
      }
    },
    {
      "cell_type": "code",
      "execution_count": null,
      "metadata": {
        "id": "dw9SpTAbNf0G"
      },
      "outputs": [],
      "source": [
        "import random"
      ]
    },
    {
      "cell_type": "markdown",
      "source": [
        "- random 함수\n",
        "    - 0~1사이에 랜덤한 실수를 반환한다."
      ],
      "metadata": {
        "id": "5IgpRVzqHcAK"
      }
    },
    {
      "cell_type": "code",
      "source": [
        "random.random()"
      ],
      "metadata": {
        "colab": {
          "base_uri": "https://localhost:8080/"
        },
        "id": "Rrbmp9IXHbpM",
        "outputId": "731b7eb5-05e6-4b91-984f-db305c976f40"
      },
      "execution_count": null,
      "outputs": [
        {
          "output_type": "execute_result",
          "data": {
            "text/plain": [
              "0.7609635608176939"
            ]
          },
          "metadata": {},
          "execution_count": 2
        }
      ]
    },
    {
      "cell_type": "markdown",
      "source": [
        "- uniform 함수\n",
        "    - 두개의 숫자 사이의 랜덤한 실수를 반환한다."
      ],
      "metadata": {
        "id": "RqjqHBMUHmGT"
      }
    },
    {
      "cell_type": "code",
      "source": [
        "random.uniform(1,10)"
      ],
      "metadata": {
        "colab": {
          "base_uri": "https://localhost:8080/"
        },
        "id": "ou0tQvgJHiaK",
        "outputId": "95049e04-8300-4f52-d151-3a33a67b1996"
      },
      "execution_count": null,
      "outputs": [
        {
          "output_type": "execute_result",
          "data": {
            "text/plain": [
              "6.686556368074149"
            ]
          },
          "metadata": {},
          "execution_count": 3
        }
      ]
    },
    {
      "cell_type": "markdown",
      "source": [
        "- randint 함수\n",
        "    - 두개의 숫자 사이의 랜덤한 정수를 반환한다."
      ],
      "metadata": {
        "id": "DPpe1iJzH646"
      }
    },
    {
      "cell_type": "code",
      "source": [
        "random.randint(0,5)"
      ],
      "metadata": {
        "colab": {
          "base_uri": "https://localhost:8080/"
        },
        "id": "9cxdKVVTH0Km",
        "outputId": "55d22831-dc08-4e23-bb13-ee4111ad20c2"
      },
      "execution_count": null,
      "outputs": [
        {
          "output_type": "execute_result",
          "data": {
            "text/plain": [
              "5"
            ]
          },
          "metadata": {},
          "execution_count": 5
        }
      ]
    },
    {
      "cell_type": "markdown",
      "source": [
        "- randrange 함수\n",
        "    - start,stop,step 으로 만들어지는 정수중에 랜덤값을 반환한다.\n",
        "    - (start, stop-1,step)"
      ],
      "metadata": {
        "id": "K070fdKHIV9z"
      }
    },
    {
      "cell_type": "code",
      "source": [
        "random.randrange(1)"
      ],
      "metadata": {
        "colab": {
          "base_uri": "https://localhost:8080/"
        },
        "id": "JCs20Nj-II-m",
        "outputId": "30446a5b-4f6d-4a62-8a11-c5a30cbc43e2"
      },
      "execution_count": null,
      "outputs": [
        {
          "output_type": "execute_result",
          "data": {
            "text/plain": [
              "0"
            ]
          },
          "metadata": {},
          "execution_count": 27
        }
      ]
    },
    {
      "cell_type": "code",
      "source": [
        "random.randrange(0,10,2)"
      ],
      "metadata": {
        "colab": {
          "base_uri": "https://localhost:8080/"
        },
        "id": "tnFm7hKgItQi",
        "outputId": "5945ab69-3351-4867-e1d7-e0640de58923"
      },
      "execution_count": null,
      "outputs": [
        {
          "output_type": "execute_result",
          "data": {
            "text/plain": [
              "4"
            ]
          },
          "metadata": {},
          "execution_count": 43
        }
      ]
    },
    {
      "cell_type": "markdown",
      "source": [
        "- choice 함수\n",
        "    - 시퀀스 자료형에서 랜덤하게 하나의 요소를 선택해서 반환한다."
      ],
      "metadata": {
        "id": "DkV4_tcrJYGW"
      }
    },
    {
      "cell_type": "code",
      "source": [
        "lst = [1,2,3,4,5,6]\n",
        "random.choice(lst)"
      ],
      "metadata": {
        "colab": {
          "base_uri": "https://localhost:8080/"
        },
        "id": "xgeTjdGFJDOj",
        "outputId": "0968e060-002c-40e7-f7ae-80a04cfdf6bb"
      },
      "execution_count": null,
      "outputs": [
        {
          "output_type": "execute_result",
          "data": {
            "text/plain": [
              "6"
            ]
          },
          "metadata": {},
          "execution_count": 49
        }
      ]
    },
    {
      "cell_type": "markdown",
      "source": [
        "- sample 함수\n",
        "    - 시퀀스 자료형에서 랜덤하게 두번째 인수의 개수로 선택해서 반환"
      ],
      "metadata": {
        "id": "ks153lewJp0K"
      }
    },
    {
      "cell_type": "code",
      "source": [
        "random.sample(lst,2)"
      ],
      "metadata": {
        "colab": {
          "base_uri": "https://localhost:8080/"
        },
        "id": "K6d0Xu5cJhd2",
        "outputId": "0f0beb30-4e65-4caf-cea1-0e2632951d17"
      },
      "execution_count": null,
      "outputs": [
        {
          "output_type": "execute_result",
          "data": {
            "text/plain": [
              "[6, 3]"
            ]
          },
          "metadata": {},
          "execution_count": 50
        }
      ]
    },
    {
      "cell_type": "markdown",
      "source": [
        "- shuffle 함수\n",
        "    - 요소의 순서를 랜덤하게 변경한다."
      ],
      "metadata": {
        "id": "Yra3hbPMKDj9"
      }
    },
    {
      "cell_type": "code",
      "source": [
        "lst = [1,2,3,4,5,6,7]\n",
        "random.shuffle(lst)\n",
        "lst"
      ],
      "metadata": {
        "colab": {
          "base_uri": "https://localhost:8080/"
        },
        "id": "-oudazPaJ8L3",
        "outputId": "018af694-c1ce-4ec5-9359-09e0a83bb373"
      },
      "execution_count": null,
      "outputs": [
        {
          "output_type": "execute_result",
          "data": {
            "text/plain": [
              "[6, 3, 4, 7, 5, 1, 2]"
            ]
          },
          "metadata": {},
          "execution_count": 51
        }
      ]
    },
    {
      "cell_type": "code",
      "source": [
        "random.seed(42)\n",
        "lst = [1,2,3,4,5,6]\n",
        "random.shuffle(lst)\n",
        "lst"
      ],
      "metadata": {
        "colab": {
          "base_uri": "https://localhost:8080/"
        },
        "id": "F2bJSw4OKTvd",
        "outputId": "433c844a-baa0-4964-f49b-1dc1ef28e67e"
      },
      "execution_count": null,
      "outputs": [
        {
          "output_type": "execute_result",
          "data": {
            "text/plain": [
              "[4, 2, 3, 5, 1, 6]"
            ]
          },
          "metadata": {},
          "execution_count": 57
        }
      ]
    },
    {
      "cell_type": "markdown",
      "source": [
        "# collections 모듈\n",
        "- 파이썬의 내장 자료구조\n",
        "- 기존 자료구조를 확장하여 제작됨"
      ],
      "metadata": {
        "id": "LxXmVDlXLv5i"
      }
    },
    {
      "cell_type": "markdown",
      "source": [
        "## deque"
      ],
      "metadata": {
        "id": "QSzOt2M1L4zo"
      }
    },
    {
      "cell_type": "code",
      "source": [
        "from collections import deque"
      ],
      "metadata": {
        "id": "ZlkQmJhRLMdq"
      },
      "execution_count": null,
      "outputs": []
    },
    {
      "cell_type": "code",
      "source": [
        "dq = deque()\n",
        "dq"
      ],
      "metadata": {
        "colab": {
          "base_uri": "https://localhost:8080/"
        },
        "id": "7T4L-zE_L_ok",
        "outputId": "35e9fea1-2a49-446a-ced8-b506a1a30605"
      },
      "execution_count": null,
      "outputs": [
        {
          "output_type": "execute_result",
          "data": {
            "text/plain": [
              "deque([])"
            ]
          },
          "metadata": {},
          "execution_count": 64
        }
      ]
    },
    {
      "cell_type": "markdown",
      "source": [
        "- append"
      ],
      "metadata": {
        "id": "ypLUHngeMRS2"
      }
    },
    {
      "cell_type": "code",
      "source": [
        "dq.append(100)\n",
        "dq"
      ],
      "metadata": {
        "colab": {
          "base_uri": "https://localhost:8080/"
        },
        "id": "NjC4kDGCMP1x",
        "outputId": "506901c9-0f0d-4d6f-ac4d-1202fe20a523"
      },
      "execution_count": null,
      "outputs": [
        {
          "output_type": "execute_result",
          "data": {
            "text/plain": [
              "deque([100])"
            ]
          },
          "metadata": {},
          "execution_count": 65
        }
      ]
    },
    {
      "cell_type": "markdown",
      "source": [
        "- appendleft\n",
        "    - 인자로 넣은 값을 왼쪽으로 추가"
      ],
      "metadata": {
        "id": "Fr51sseoMsPP"
      }
    },
    {
      "cell_type": "code",
      "source": [
        "dq.appendleft(300)\n",
        "dq"
      ],
      "metadata": {
        "colab": {
          "base_uri": "https://localhost:8080/"
        },
        "id": "lBNS1CthMUAe",
        "outputId": "eaab3881-a342-4a40-91f7-9eaedeb96965"
      },
      "execution_count": null,
      "outputs": [
        {
          "output_type": "execute_result",
          "data": {
            "text/plain": [
              "deque([300, 100])"
            ]
          },
          "metadata": {},
          "execution_count": 66
        }
      ]
    },
    {
      "cell_type": "markdown",
      "source": [
        "- deque 객체 생성시 반복가능한 객체를 인자로 넣어도 된다."
      ],
      "metadata": {
        "id": "qXqiwMU5M6by"
      }
    },
    {
      "cell_type": "code",
      "source": [
        "dq = deque(range(10))\n",
        "dq"
      ],
      "metadata": {
        "colab": {
          "base_uri": "https://localhost:8080/"
        },
        "id": "C6GF9SlYMkHy",
        "outputId": "320c814a-0d12-459a-e1d1-2c14d8ec05b1"
      },
      "execution_count": null,
      "outputs": [
        {
          "output_type": "execute_result",
          "data": {
            "text/plain": [
              "deque([0, 1, 2, 3, 4, 5, 6, 7, 8, 9])"
            ]
          },
          "metadata": {},
          "execution_count": 74
        }
      ]
    },
    {
      "cell_type": "markdown",
      "source": [
        "- rotate\n",
        "    - dq 객체 안에 요소를 회전한다."
      ],
      "metadata": {
        "id": "96Oyc5ZtNJm6"
      }
    },
    {
      "cell_type": "code",
      "source": [
        "dq.rotate()\n",
        "dq"
      ],
      "metadata": {
        "colab": {
          "base_uri": "https://localhost:8080/"
        },
        "id": "nyBjXol9NDkf",
        "outputId": "49a701d3-cf24-4117-d32b-205914defa91"
      },
      "execution_count": null,
      "outputs": [
        {
          "output_type": "execute_result",
          "data": {
            "text/plain": [
              "deque([9, 0, 1, 2, 3, 4, 5, 6, 7, 8])"
            ]
          },
          "metadata": {},
          "execution_count": 70
        }
      ]
    },
    {
      "cell_type": "code",
      "source": [
        "dq.rotate(-1)\n",
        "dq"
      ],
      "metadata": {
        "colab": {
          "base_uri": "https://localhost:8080/"
        },
        "id": "DhcwdkouNS9n",
        "outputId": "1174c0cb-556c-48e5-e235-fc3d7d81d15a"
      },
      "execution_count": null,
      "outputs": [
        {
          "output_type": "execute_result",
          "data": {
            "text/plain": [
              "deque([1, 2, 3, 4, 5, 6, 7, 8, 9, 0])"
            ]
          },
          "metadata": {},
          "execution_count": 75
        }
      ]
    },
    {
      "cell_type": "code",
      "source": [
        "dq[0] # 인덱싱 지원, 슬라이싱 지원X"
      ],
      "metadata": {
        "colab": {
          "base_uri": "https://localhost:8080/"
        },
        "id": "AWo2W7kDNjOT",
        "outputId": "3faa5130-6921-45c4-9da1-145a5ce82fbd"
      },
      "execution_count": null,
      "outputs": [
        {
          "output_type": "execute_result",
          "data": {
            "text/plain": [
              "1"
            ]
          },
          "metadata": {},
          "execution_count": 78
        }
      ]
    },
    {
      "cell_type": "markdown",
      "source": [
        "- 속도 비교"
      ],
      "metadata": {
        "id": "3xbJgEF2Ry3I"
      }
    },
    {
      "cell_type": "code",
      "source": [
        "%%timeit\n",
        "dq = deque()\n",
        "for i in range(1000000):\n",
        "    dq.append(i)"
      ],
      "metadata": {
        "colab": {
          "base_uri": "https://localhost:8080/"
        },
        "id": "jJldRjCtNzF0",
        "outputId": "0e9da90f-0ed6-4a31-df86-f7b3149682d1"
      },
      "execution_count": null,
      "outputs": [
        {
          "output_type": "stream",
          "name": "stdout",
          "text": [
            "10 loops, best of 5: 105 ms per loop\n"
          ]
        }
      ]
    },
    {
      "cell_type": "code",
      "source": [
        "%%timeit\n",
        "lst=[]\n",
        "for i in range(1000000):\n",
        "    lst.append(i)"
      ],
      "metadata": {
        "colab": {
          "base_uri": "https://localhost:8080/"
        },
        "id": "SI45bViOR8Wi",
        "outputId": "482fe463-5959-43f3-962c-f3eb0512bbde"
      },
      "execution_count": null,
      "outputs": [
        {
          "output_type": "stream",
          "name": "stdout",
          "text": [
            "10 loops, best of 5: 110 ms per loop\n"
          ]
        }
      ]
    },
    {
      "cell_type": "code",
      "source": [
        "%%timeit\n",
        "lst = [i for i in range(1000000) ]"
      ],
      "metadata": {
        "colab": {
          "base_uri": "https://localhost:8080/"
        },
        "id": "NwCJaMlzSBxt",
        "outputId": "9fbb8a84-6337-4b44-dd17-d89cf546c9e0"
      },
      "execution_count": null,
      "outputs": [
        {
          "output_type": "stream",
          "name": "stdout",
          "text": [
            "10 loops, best of 5: 69.9 ms per loop\n"
          ]
        }
      ]
    },
    {
      "cell_type": "markdown",
      "source": [
        "## defaultdict\n",
        "- 딕셔너리의 단점으로 없는 key 접근시 에러가 발생하는 단점을 보완\n",
        "- 딕셔너리의 없는 key에 접근시 지정한 기본값을 이용하여 key,value 생성"
      ],
      "metadata": {
        "id": "cQX_FN1bSYtN"
      }
    },
    {
      "cell_type": "code",
      "source": [
        "from collections import defaultdict\n",
        "default_dict = defaultdict(lambda:0)\n",
        "default_dict[\"key1\"]"
      ],
      "metadata": {
        "colab": {
          "base_uri": "https://localhost:8080/"
        },
        "id": "5CI9tTAJSMmF",
        "outputId": "e161fc17-136b-4ab6-802a-0df364abc328"
      },
      "execution_count": null,
      "outputs": [
        {
          "output_type": "execute_result",
          "data": {
            "text/plain": [
              "0"
            ]
          },
          "metadata": {},
          "execution_count": 83
        }
      ]
    },
    {
      "cell_type": "code",
      "source": [
        "dict(default_dict)"
      ],
      "metadata": {
        "colab": {
          "base_uri": "https://localhost:8080/"
        },
        "id": "ZX2m6KhpTHeq",
        "outputId": "c728cb09-88cf-4496-f2c2-60b832ad422a"
      },
      "execution_count": null,
      "outputs": [
        {
          "output_type": "execute_result",
          "data": {
            "text/plain": [
              "{'key1': 0}"
            ]
          },
          "metadata": {},
          "execution_count": 84
        }
      ]
    },
    {
      "cell_type": "markdown",
      "source": [
        "### defaultdict 활용방법\n"
      ],
      "metadata": {
        "id": "04Lzv2ZfTsz8"
      }
    },
    {
      "cell_type": "markdown",
      "source": [
        "- 딕셔너리 예제"
      ],
      "metadata": {
        "id": "Wzlu9etLUPZV"
      }
    },
    {
      "cell_type": "code",
      "source": [
        "tup_list = [\n",
        "    (\"경제\",\"10시 경제기사\"),\n",
        "    (\"정치\",\"10시 정치기사\"),\n",
        "    (\"사회\",\"10시 사회기사\"),\n",
        "    (\"경제\",\"14시 경제기사\"),\n",
        "    (\"정치\",\"15시 정치기사\"),\n",
        "]\n",
        "news_dict = {}\n",
        "for k,v in tup_list:\n",
        "    if news_dict.get(k) is None:\n",
        "        news_dict[k] = []\n",
        "    news_dict[k].append(v)\n",
        "news_dict"
      ],
      "metadata": {
        "colab": {
          "base_uri": "https://localhost:8080/"
        },
        "id": "XQ3kootrTdrJ",
        "outputId": "3536df65-b7bf-4f09-9a8b-b1c1151fd1e2"
      },
      "execution_count": null,
      "outputs": [
        {
          "output_type": "execute_result",
          "data": {
            "text/plain": [
              "{'경제': ['10시 경제기사', '14시 경제기사'],\n",
              " '사회': ['10시 사회기사'],\n",
              " '정치': ['10시 정치기사', '15시 정치기사']}"
            ]
          },
          "metadata": {},
          "execution_count": 86
        }
      ]
    },
    {
      "cell_type": "code",
      "source": [
        "news_dict = defaultdict(list)\n",
        "for k,v in tup_list:\n",
        "    news_dict[k].append(v)\n",
        "news_dict"
      ],
      "metadata": {
        "colab": {
          "base_uri": "https://localhost:8080/"
        },
        "id": "tWu7QHUOUm6s",
        "outputId": "335ec1d0-25c3-4335-a770-fcf87d709e88"
      },
      "execution_count": null,
      "outputs": [
        {
          "output_type": "execute_result",
          "data": {
            "text/plain": [
              "defaultdict(list,\n",
              "            {'경제': ['10시 경제기사', '14시 경제기사'],\n",
              "             '사회': ['10시 사회기사'],\n",
              "             '정치': ['10시 정치기사', '15시 정치기사']})"
            ]
          },
          "metadata": {},
          "execution_count": 87
        }
      ]
    },
    {
      "cell_type": "markdown",
      "source": [
        "## OrderedDict\n",
        "- 순서를 가진 딕셔너리 객체\n",
        "- key,value 생성한 순서대로 저장\n"
      ],
      "metadata": {
        "id": "KT-zjIC_VFfj"
      }
    },
    {
      "cell_type": "code",
      "source": [
        "from collections import OrderedDict\n",
        "order_dict = OrderedDict()\n",
        "\n",
        "order_dict[\"apple\"] = 200\n",
        "order_dict[\"banana\"] = 100\n",
        "order_dict[\"kiwi\"] = 500\n",
        "\n",
        "for k,v in order_dict.items():\n",
        "    print(k,v)"
      ],
      "metadata": {
        "colab": {
          "base_uri": "https://localhost:8080/"
        },
        "id": "o_oXSB8RU9V-",
        "outputId": "804626da-7bf7-411c-cca0-04ec5b26c75c"
      },
      "execution_count": null,
      "outputs": [
        {
          "output_type": "stream",
          "name": "stdout",
          "text": [
            "apple 200\n",
            "banana 100\n",
            "kiwi 500\n"
          ]
        }
      ]
    },
    {
      "cell_type": "markdown",
      "source": [
        "## Counter\n",
        "- 시퀀스 자료형의 데이터의 값의 개수를 딕셔너리 형태로 반환"
      ],
      "metadata": {
        "id": "z-XFzXPAVyOY"
      }
    },
    {
      "cell_type": "code",
      "source": [
        "from collections import Counter\n",
        "Counter(\"aaabbcce\")"
      ],
      "metadata": {
        "colab": {
          "base_uri": "https://localhost:8080/"
        },
        "id": "17mfY6D_Vwzk",
        "outputId": "7e781153-b78a-4a1c-88c6-e6c367c4386d"
      },
      "execution_count": null,
      "outputs": [
        {
          "output_type": "execute_result",
          "data": {
            "text/plain": [
              "Counter({'a': 3, 'b': 2, 'c': 2, 'e': 1})"
            ]
          },
          "metadata": {},
          "execution_count": 90
        }
      ]
    },
    {
      "cell_type": "code",
      "source": [
        "cnt = Counter({\"사과\":3,\"딸기\":5,\"포도\":1,\"수박\":6})\n",
        "cnt"
      ],
      "metadata": {
        "colab": {
          "base_uri": "https://localhost:8080/"
        },
        "id": "3hT49JKTWJ3X",
        "outputId": "7bd2c660-73a7-4a83-ae20-77c6e9278b0b"
      },
      "execution_count": null,
      "outputs": [
        {
          "output_type": "execute_result",
          "data": {
            "text/plain": [
              "Counter({'딸기': 5, '사과': 3, '수박': 6, '포도': 1})"
            ]
          },
          "metadata": {},
          "execution_count": 91
        }
      ]
    },
    {
      "cell_type": "markdown",
      "source": [
        "- most_common\n",
        "    - value를 기준으로 내림차순 정렬하여 key, value를 튜플에 담고 리스트에 담아 반환"
      ],
      "metadata": {
        "id": "0GbtQmr5Wdlf"
      }
    },
    {
      "cell_type": "code",
      "source": [
        "cnt.most_common()"
      ],
      "metadata": {
        "colab": {
          "base_uri": "https://localhost:8080/"
        },
        "id": "lICax9ueWZ29",
        "outputId": "1f64c4ae-8165-4b9f-b1a9-a4c32d20ba89"
      },
      "execution_count": null,
      "outputs": [
        {
          "output_type": "execute_result",
          "data": {
            "text/plain": [
              "[('수박', 6), ('딸기', 5), ('사과', 3), ('포도', 1)]"
            ]
          },
          "metadata": {},
          "execution_count": 92
        }
      ]
    },
    {
      "cell_type": "markdown",
      "source": [
        "- elements\n",
        "    - value의 개수만큼 key를 반복할 수 있는 객체를 반환"
      ],
      "metadata": {
        "id": "fp7BdZKZW23m"
      }
    },
    {
      "cell_type": "code",
      "source": [
        "for i in cnt.elements():\n",
        "    print(i)"
      ],
      "metadata": {
        "colab": {
          "base_uri": "https://localhost:8080/"
        },
        "id": "b-qc2bueWs-R",
        "outputId": "2051fca7-a2ee-4632-d6b5-0645f11e8bb5"
      },
      "execution_count": null,
      "outputs": [
        {
          "output_type": "stream",
          "name": "stdout",
          "text": [
            "사과\n",
            "사과\n",
            "사과\n",
            "딸기\n",
            "딸기\n",
            "딸기\n",
            "딸기\n",
            "딸기\n",
            "포도\n",
            "수박\n",
            "수박\n",
            "수박\n",
            "수박\n",
            "수박\n",
            "수박\n"
          ]
        }
      ]
    },
    {
      "cell_type": "markdown",
      "source": [
        "# 파이썬 속도 향상을 위한 팁\n",
        "- 단순하게 반복해서 데이터를 담는 경우"
      ],
      "metadata": {
        "id": "Is3Qo3KkXXJS"
      }
    },
    {
      "cell_type": "code",
      "source": [
        "#Bad\n",
        "lst = []\n",
        "for i in range(1,1000):\n",
        "    if i%2 == 0:\n",
        "        lst.append(i)"
      ],
      "metadata": {
        "id": "dl5mLNfQW_-Z"
      },
      "execution_count": null,
      "outputs": []
    },
    {
      "cell_type": "code",
      "source": [
        "#Good\n",
        "lst = [i for i in range(1,1000) if i % 2 == 0]"
      ],
      "metadata": {
        "id": "UTA3kXvnXjJN"
      },
      "execution_count": null,
      "outputs": []
    },
    {
      "cell_type": "markdown",
      "source": [
        "- 여러개의 변수를 초기화 할때"
      ],
      "metadata": {
        "id": "LS6OkXM1XsLm"
      }
    },
    {
      "cell_type": "code",
      "source": [
        "#Bad\n",
        "a = None\n",
        "b = 0\n",
        "c = \"\""
      ],
      "metadata": {
        "id": "BJrSie8wXpKK"
      },
      "execution_count": null,
      "outputs": []
    },
    {
      "cell_type": "code",
      "source": [
        "#Good\n",
        "a,b,c = None,0,\"\""
      ],
      "metadata": {
        "id": "OCL_FcwbX3WA"
      },
      "execution_count": null,
      "outputs": []
    },
    {
      "cell_type": "markdown",
      "source": [
        "- 컬렉션에 있는 문자열을 연결할때"
      ],
      "metadata": {
        "id": "VJXB5xvnYLaT"
      }
    },
    {
      "cell_type": "code",
      "source": [
        "#Bad\n",
        "lst = [\n",
        "    (\"A반\",\"90점\"),\n",
        "    (\"B반\",\"88점\"),\n",
        "    (\"C반\",\"76점\")\n",
        "]\n",
        "for s1,s2 in lst:\n",
        "    print(f\"{s1} {s2}\")\n"
      ],
      "metadata": {
        "colab": {
          "base_uri": "https://localhost:8080/"
        },
        "id": "tlGfg9ljX6Sy",
        "outputId": "81682209-2e11-47b1-d1d5-eb47eb60f894"
      },
      "execution_count": null,
      "outputs": [
        {
          "output_type": "stream",
          "name": "stdout",
          "text": [
            "A반 90점\n",
            "B반 88점\n",
            "C반 76점\n"
          ]
        }
      ]
    },
    {
      "cell_type": "code",
      "source": [
        "#Good\n",
        "for s in lst:\n",
        "    print(\" \".join(s))"
      ],
      "metadata": {
        "colab": {
          "base_uri": "https://localhost:8080/"
        },
        "id": "-JRykWu5YdvG",
        "outputId": "15d8a466-87f8-4912-e97f-7235f44babe5"
      },
      "execution_count": null,
      "outputs": [
        {
          "output_type": "stream",
          "name": "stdout",
          "text": [
            "A반 90점\n",
            "B반 88점\n",
            "C반 76점\n"
          ]
        }
      ]
    },
    {
      "cell_type": "markdown",
      "source": [
        "- 함수 호출은 컴퓨팅 비용이 많이든다."
      ],
      "metadata": {
        "id": "DUTlq1dPYpiC"
      }
    },
    {
      "cell_type": "code",
      "source": [
        "#Bad\n",
        "%%timeit\n",
        "def square(n):\n",
        "    return n**2\n",
        "sq = []\n",
        "for i in range(1000000):\n",
        "    sq.append(square(i))"
      ],
      "metadata": {
        "colab": {
          "base_uri": "https://localhost:8080/"
        },
        "id": "ER35syknYl6s",
        "outputId": "eaf1c643-c7e3-4fd8-e086-53f864d57ded"
      },
      "execution_count": null,
      "outputs": [
        {
          "output_type": "stream",
          "name": "stdout",
          "text": [
            "1 loop, best of 5: 409 ms per loop\n"
          ]
        }
      ]
    },
    {
      "cell_type": "code",
      "source": [
        "#Good\n",
        "%%timeit\n",
        "def square():\n",
        "    sq = []\n",
        "    for i in range(1000000):\n",
        "        sq.append(i**2)\n",
        "    return sq\n",
        "square()"
      ],
      "metadata": {
        "colab": {
          "base_uri": "https://localhost:8080/"
        },
        "id": "RwKr-Ho7ZGFY",
        "outputId": "c856ded6-c1ca-4cc5-ef6b-5a9390db79aa"
      },
      "execution_count": null,
      "outputs": [
        {
          "output_type": "stream",
          "name": "stdout",
          "text": [
            "1 loop, best of 5: 355 ms per loop\n"
          ]
        }
      ]
    },
    {
      "cell_type": "markdown",
      "source": [
        "- 모듈을 불러올때"
      ],
      "metadata": {
        "id": "weOPVhAcZuOM"
      }
    },
    {
      "cell_type": "code",
      "source": [
        "#Bad\n",
        "import collections\n",
        "cnt = collections.Counter() # 참조연산이 컴퓨팅비용을 잡아먹음\n",
        "cnt"
      ],
      "metadata": {
        "colab": {
          "base_uri": "https://localhost:8080/"
        },
        "id": "3hj0xl6jZe_b",
        "outputId": "0289554e-6c99-469f-fd4e-199672c2be0f"
      },
      "execution_count": null,
      "outputs": [
        {
          "output_type": "execute_result",
          "data": {
            "text/plain": [
              "Counter()"
            ]
          },
          "metadata": {},
          "execution_count": 104
        }
      ]
    },
    {
      "cell_type": "code",
      "source": [
        "#Good\n",
        "from collections import Counter\n",
        "cnt = Counter()\n",
        "cnt"
      ],
      "metadata": {
        "colab": {
          "base_uri": "https://localhost:8080/"
        },
        "id": "CaZOt2jLZ20e",
        "outputId": "546b5b8c-c113-4160-8d3f-4725e1cb5aae"
      },
      "execution_count": null,
      "outputs": [
        {
          "output_type": "execute_result",
          "data": {
            "text/plain": [
              "Counter()"
            ]
          },
          "metadata": {},
          "execution_count": 105
        }
      ]
    },
    {
      "cell_type": "code",
      "source": [
        ""
      ],
      "metadata": {
        "id": "2U0ogA08aRk5"
      },
      "execution_count": null,
      "outputs": []
    }
  ]
}
