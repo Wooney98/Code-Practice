{
  "nbformat": 4,
  "nbformat_minor": 0,
  "metadata": {
    "colab": {
      "name": "06-클래스.ipynb",
      "provenance": [],
      "toc_visible": true,
      "authorship_tag": "ABX9TyMQQf85/Y38O/YWGuJ3cIPF",
      "include_colab_link": true
    },
    "kernelspec": {
      "name": "python3",
      "display_name": "Python 3"
    },
    "language_info": {
      "name": "python"
    }
  },
  "cells": [
    {
      "cell_type": "markdown",
      "metadata": {
        "id": "view-in-github",
        "colab_type": "text"
      },
      "source": [
        "<a href=\"https://colab.research.google.com/github/Wooney98/playdata-python/blob/main/06_%ED%81%B4%EB%9E%98%EC%8A%A4.ipynb\" target=\"_parent\"><img src=\"https://colab.research.google.com/assets/colab-badge.svg\" alt=\"Open In Colab\"/></a>"
      ]
    },
    {
      "cell_type": "markdown",
      "source": [
        "# 클래스(Class)\n",
        "- 변수와 함수를 묶어놓은 개념\n",
        "- 클래스는 `객체`를 만들기 위한 설계도\n",
        "- 클래스를 객체화하면 그걸 `인스턴스`(instance)라고한다."
      ],
      "metadata": {
        "id": "rRx9wV0yB-TB"
      }
    },
    {
      "cell_type": "markdown",
      "source": [
        "## 클래스의 구조\n",
        "- 변수: 인스턴스(객체화되면 사용되는) 변수, 클래스(클래스 정의시 사용되는) 변수가 있음\n",
        "- 함수: 메소드(객체의 소속된 함수)\n",
        "- `__init__` 메소드: 생성자\n",
        "    - 객체의 초기화를 담당, 객체의 변수의 값을 초기 설정\n",
        "    - 객체화가 되었을때 생성해야하거나 초기값을 설정해야하는 인스턴스 변수들이 있다면 `__init__`메소드 안에 선언하면 됨"
      ],
      "metadata": {
        "id": "SIYXolcoCoYh"
      }
    },
    {
      "cell_type": "markdown",
      "source": [
        "### 클래스 정의\n",
        "```python\n",
        "class<ClassName>:\n",
        "    def __init__(self):\n",
        "        code context\n",
        "        ...\n",
        "    def<method_name>(self):\n",
        "        code context\n",
        "        ...\n",
        "        \n",
        "```"
      ],
      "metadata": {
        "id": "bl3PTy_REVV3"
      }
    },
    {
      "cell_type": "code",
      "execution_count": null,
      "metadata": {
        "id": "ZPCnSsW8BvxS"
      },
      "outputs": [],
      "source": [
        "class PlayerCharacter:\n",
        "    def __init__(self,hp,exp): \n",
        "        # 참조연산자를 통해 인스턴스 변수를 정의\n",
        "        self.hp = hp\n",
        "        self.exp = exp "
      ]
    },
    {
      "cell_type": "code",
      "source": [
        "player1 = PlayerCharacter(100,0) # hp = 100, exp = 0\n",
        "player2 = PlayerCharacter(200,50)\n",
        "\n",
        "player1.hp, player1.exp, player2.hp, player2.exp"
      ],
      "metadata": {
        "colab": {
          "base_uri": "https://localhost:8080/"
        },
        "id": "QDUQcdEGGAWi",
        "outputId": "b212afdc-32ed-4afe-c88b-c5cd183ef894"
      },
      "execution_count": null,
      "outputs": [
        {
          "output_type": "execute_result",
          "data": {
            "text/plain": [
              "(100, 0, 200, 50)"
            ]
          },
          "metadata": {},
          "execution_count": 2
        }
      ]
    },
    {
      "cell_type": "markdown",
      "source": [
        "- `self`\n",
        "    - 클래스가 객체화 되었을때 자기 자신의 주소를 받는 파라미터\n",
        "    - 클래스 내에 정의된 self는 클래스 인스턴스임을 알 수 있다."
      ],
      "metadata": {
        "id": "4qRpdzYLH7gJ"
      }
    },
    {
      "cell_type": "code",
      "source": [
        "class MyClass:\n",
        "    def __init__(self):\n",
        "        print(id(self))"
      ],
      "metadata": {
        "id": "zmBTJZIKGcW5"
      },
      "execution_count": null,
      "outputs": []
    },
    {
      "cell_type": "code",
      "source": [
        "mc = MyClass() # 주소값"
      ],
      "metadata": {
        "colab": {
          "base_uri": "https://localhost:8080/"
        },
        "id": "_P5wqU-3JKWp",
        "outputId": "37f2523b-2a86-4a6e-8301-f343a08c5eea"
      },
      "execution_count": null,
      "outputs": [
        {
          "output_type": "stream",
          "name": "stdout",
          "text": [
            "140341607861968\n"
          ]
        }
      ]
    },
    {
      "cell_type": "code",
      "source": [
        "id(mc)"
      ],
      "metadata": {
        "colab": {
          "base_uri": "https://localhost:8080/"
        },
        "id": "iVIZ2nHOJLtO",
        "outputId": "65d66067-e419-4c93-f206-7b5579000e85"
      },
      "execution_count": null,
      "outputs": [
        {
          "output_type": "execute_result",
          "data": {
            "text/plain": [
              "140341607861968"
            ]
          },
          "metadata": {},
          "execution_count": 5
        }
      ]
    },
    {
      "cell_type": "markdown",
      "source": [
        "- `__init__` 메소드를 만들지 않았을 때"
      ],
      "metadata": {
        "id": "MN5tY2DoS6gO"
      }
    },
    {
      "cell_type": "code",
      "source": [
        "class PlayerCharacter:\n",
        "\n",
        "    def attack(self):\n",
        "        print('공격하기')\n",
        "        self.exp += 2\n",
        "\n",
        "    def set_up(self,exp):\n",
        "        self.exp = exp "
      ],
      "metadata": {
        "id": "hC6YfR7kJRYM"
      },
      "execution_count": null,
      "outputs": []
    },
    {
      "cell_type": "code",
      "source": [
        "player = PlayerCharacter()\n",
        "\n",
        "player.set_up(10)\n",
        "player.exp"
      ],
      "metadata": {
        "colab": {
          "base_uri": "https://localhost:8080/"
        },
        "id": "WpPkds_AKPd0",
        "outputId": "336a3dfc-361d-479b-c33c-0b654625f04f"
      },
      "execution_count": null,
      "outputs": [
        {
          "output_type": "execute_result",
          "data": {
            "text/plain": [
              "10"
            ]
          },
          "metadata": {},
          "execution_count": 7
        }
      ]
    },
    {
      "cell_type": "code",
      "source": [
        "player.attack()\n",
        "player.exp"
      ],
      "metadata": {
        "colab": {
          "base_uri": "https://localhost:8080/"
        },
        "id": "ydOyjQvBKg2Q",
        "outputId": "2703aa83-f08f-4926-9874-cb79e5e62d59"
      },
      "execution_count": null,
      "outputs": [
        {
          "output_type": "stream",
          "name": "stdout",
          "text": [
            "공격하기\n"
          ]
        },
        {
          "output_type": "execute_result",
          "data": {
            "text/plain": [
              "12"
            ]
          },
          "metadata": {},
          "execution_count": 8
        }
      ]
    },
    {
      "cell_type": "code",
      "source": [
        "class PlayerCharacter:\n",
        "    def __init__(self,hp,exp): \n",
        "        # 참조연산자를 통해 인스턴스 변수를 정의\n",
        "        self.hp = hp\n",
        "        self.exp = exp \n",
        "\n",
        "    def attack(self):\n",
        "        print(\"공격하기\")\n",
        "        self.exp += 2 # self를 참조하여 인스턴스 변수에 접근\n",
        "\n",
        "    def defend(self):\n",
        "        print(\"방어하기\")\n",
        "        self.exp += 1\n",
        "    \n",
        "    def attacked(self,attack_size):\n",
        "        print(\"공격받음\")\n",
        "        self.hp = self.hp - attack_size"
      ],
      "metadata": {
        "id": "0KSdNsT1Kupf"
      },
      "execution_count": null,
      "outputs": []
    },
    {
      "cell_type": "code",
      "source": [
        "player1 = PlayerCharacter(100,0)\n",
        "player2 = PlayerCharacter(120,10)"
      ],
      "metadata": {
        "id": "547IQynNUFW1"
      },
      "execution_count": null,
      "outputs": []
    },
    {
      "cell_type": "code",
      "source": [
        "player1.attack()\n",
        "player1.defend()\n",
        "player1.attacked(3)"
      ],
      "metadata": {
        "colab": {
          "base_uri": "https://localhost:8080/"
        },
        "id": "ETVZeRYpUaLL",
        "outputId": "d08a079c-0d15-46aa-dc72-21603ffaba88"
      },
      "execution_count": null,
      "outputs": [
        {
          "output_type": "stream",
          "name": "stdout",
          "text": [
            "공격하기\n",
            "방어하기\n",
            "공격받음\n"
          ]
        }
      ]
    },
    {
      "cell_type": "code",
      "source": [
        "print(player1.hp)\n",
        "print(player1.exp)"
      ],
      "metadata": {
        "colab": {
          "base_uri": "https://localhost:8080/"
        },
        "id": "FTv0X3LeU9_2",
        "outputId": "05e8f633-1888-4740-d24b-a974a644b350"
      },
      "execution_count": null,
      "outputs": [
        {
          "output_type": "stream",
          "name": "stdout",
          "text": [
            "97\n",
            "3\n"
          ]
        }
      ]
    },
    {
      "cell_type": "code",
      "source": [
        "player2.attack()\n",
        "player2.attack()\n",
        "player2.attack()\n",
        "player2.attacked(10)"
      ],
      "metadata": {
        "colab": {
          "base_uri": "https://localhost:8080/"
        },
        "id": "PRd1HIVvV0qq",
        "outputId": "12161fe3-3b09-4f0e-e6eb-07ab30c706d4"
      },
      "execution_count": null,
      "outputs": [
        {
          "output_type": "stream",
          "name": "stdout",
          "text": [
            "공격하기\n",
            "공격하기\n",
            "공격하기\n",
            "공격받음\n"
          ]
        }
      ]
    },
    {
      "cell_type": "code",
      "source": [
        "print(player2.hp)\n",
        "print(player2.exp)"
      ],
      "metadata": {
        "colab": {
          "base_uri": "https://localhost:8080/"
        },
        "id": "frU2srzaXKPD",
        "outputId": "788eb602-5a4a-46fc-a1d5-48ea9cfb418e"
      },
      "execution_count": null,
      "outputs": [
        {
          "output_type": "stream",
          "name": "stdout",
          "text": [
            "110\n",
            "16\n"
          ]
        }
      ]
    },
    {
      "cell_type": "markdown",
      "source": [
        "- 클래스 변수"
      ],
      "metadata": {
        "id": "kbCOvjJEWDbi"
      }
    },
    {
      "cell_type": "code",
      "source": [
        "class User:\n",
        "    user = \"Wizard\"\n",
        "    def __init__(self,hp=100,exp=0):\n",
        "        self.hp = hp\n",
        "        self.exp = exp"
      ],
      "metadata": {
        "id": "81nKkQPKVY6S"
      },
      "execution_count": null,
      "outputs": []
    },
    {
      "cell_type": "code",
      "source": [
        "User.hp # 객체화 되지 않았기 때문에 인스턴스 변수 hp 참조 불가"
      ],
      "metadata": {
        "colab": {
          "base_uri": "https://localhost:8080/",
          "height": 166
        },
        "id": "3KtwYhVsWOfK",
        "outputId": "b0641d54-f6bd-4d4b-983d-83586be2e7d6"
      },
      "execution_count": null,
      "outputs": [
        {
          "output_type": "error",
          "ename": "AttributeError",
          "evalue": "ignored",
          "traceback": [
            "\u001b[0;31m---------------------------------------------------------------------------\u001b[0m",
            "\u001b[0;31mAttributeError\u001b[0m                            Traceback (most recent call last)",
            "\u001b[0;32m<ipython-input-30-f187915d75e5>\u001b[0m in \u001b[0;36m<module>\u001b[0;34m()\u001b[0m\n\u001b[0;32m----> 1\u001b[0;31m \u001b[0mUser\u001b[0m\u001b[0;34m.\u001b[0m\u001b[0mhp\u001b[0m\u001b[0;34m\u001b[0m\u001b[0;34m\u001b[0m\u001b[0m\n\u001b[0m",
            "\u001b[0;31mAttributeError\u001b[0m: type object 'User' has no attribute 'hp'"
          ]
        }
      ]
    },
    {
      "cell_type": "code",
      "source": [
        "User.user"
      ],
      "metadata": {
        "colab": {
          "base_uri": "https://localhost:8080/",
          "height": 35
        },
        "id": "Ncs6okfMWmuC",
        "outputId": "fcb453ff-177f-42e9-f7b6-ccd34c18e4c4"
      },
      "execution_count": null,
      "outputs": [
        {
          "output_type": "execute_result",
          "data": {
            "text/plain": [
              "'Wizard'"
            ],
            "application/vnd.google.colaboratory.intrinsic+json": {
              "type": "string"
            }
          },
          "metadata": {},
          "execution_count": 31
        }
      ]
    },
    {
      "cell_type": "code",
      "source": [
        "player1 = User()\n",
        "player2 = User(200, 20)\n",
        "\n",
        "player1.user, player2.user"
      ],
      "metadata": {
        "colab": {
          "base_uri": "https://localhost:8080/"
        },
        "id": "wCWXUF96Woxz",
        "outputId": "a6813aa3-2220-4bbc-fa90-e2f8b814d273"
      },
      "execution_count": null,
      "outputs": [
        {
          "output_type": "execute_result",
          "data": {
            "text/plain": [
              "('Wizard', 'Wizard')"
            ]
          },
          "metadata": {},
          "execution_count": 35
        }
      ]
    },
    {
      "cell_type": "markdown",
      "source": [
        "- 클래스  메소드\n",
        "    - 객체화 하지 않아도 사용 가능한 메소드"
      ],
      "metadata": {
        "id": "uBKLdL-UXl-W"
      }
    },
    {
      "cell_type": "code",
      "source": [
        "class User:\n",
        "    user_type = \"Wizard\"\n",
        "\n",
        "    @classmethod\n",
        "    def print_user_type(cls): # 클래스의 주소를 받는 파라미터 cls\n",
        "        print(cls.user_type)\n",
        "User.print_user_type()"
      ],
      "metadata": {
        "colab": {
          "base_uri": "https://localhost:8080/"
        },
        "id": "0qj2qOyPXTcA",
        "outputId": "e089d722-226e-444f-e2df-bc15819b66fb"
      },
      "execution_count": null,
      "outputs": [
        {
          "output_type": "stream",
          "name": "stdout",
          "text": [
            "Wizard\n"
          ]
        }
      ]
    },
    {
      "cell_type": "code",
      "source": [
        "class CFG:\n",
        "    train_data_path = \"/data/train/\"\n",
        "    test_data_path = \"/data/test/\"\n",
        "    model_name = \"deep_model\""
      ],
      "metadata": {
        "id": "H33rdKCQY7NU"
      },
      "execution_count": null,
      "outputs": []
    },
    {
      "cell_type": "code",
      "source": [
        "CFG.model_name"
      ],
      "metadata": {
        "colab": {
          "base_uri": "https://localhost:8080/",
          "height": 35
        },
        "id": "BT96992OZmlk",
        "outputId": "807f9e93-8f9d-4c42-e755-074d81cba6df"
      },
      "execution_count": null,
      "outputs": [
        {
          "output_type": "execute_result",
          "data": {
            "text/plain": [
              "'deep_model'"
            ],
            "application/vnd.google.colaboratory.intrinsic+json": {
              "type": "string"
            }
          },
          "metadata": {},
          "execution_count": 38
        }
      ]
    },
    {
      "cell_type": "code",
      "source": [
        "def preprocess(cfg):\n",
        "    pass\n",
        "preprocess(CFG)"
      ],
      "metadata": {
        "id": "8CEVil9WZrLH"
      },
      "execution_count": null,
      "outputs": []
    },
    {
      "cell_type": "markdown",
      "source": [
        "```\n",
        "Wizard 클래스 만들기\n",
        "인스턴스 변수 : hp, exp, mp\n",
        "메소드:\n",
        "    attack:공격하기 출력 exp+5\n",
        "    defend:방어하기 출력 exp+1\n",
        "    attacked: attacked_size인자, 공격받음 출력 hp-attacked_size\n",
        "    magic_skill : mp-3\n",
        "```"
      ],
      "metadata": {
        "id": "yLHtk3i_egLi"
      }
    },
    {
      "cell_type": "code",
      "source": [
        "class Wizard:\n",
        "    def __init__(self,hp,exp,mp):\n",
        "        self.hp = hp\n",
        "        self.mp = mp\n",
        "        self.exp = exp\n",
        "    def attack(self):\n",
        "        print(\"공격하기\")\n",
        "        self.exp += 5\n",
        "    def defend(self):\n",
        "        print(\"방어하기\")\n",
        "        self.exp += 1\n",
        "    def attacked(self,attacked_size):\n",
        "        print(\"공격받음\")\n",
        "        self.hp = self.hp - attacked_size\n",
        "    def magic_skill(self):\n",
        "        self.mp -= 3"
      ],
      "metadata": {
        "id": "f13SfjNHaBov"
      },
      "execution_count": null,
      "outputs": []
    },
    {
      "cell_type": "code",
      "source": [
        "user1 = Wizard(200,50,100)\n",
        "user1.attack()\n",
        "user1.defend()\n",
        "user1.attacked(100)\n",
        "user1.magic_skill()"
      ],
      "metadata": {
        "colab": {
          "base_uri": "https://localhost:8080/"
        },
        "id": "lN-fdltkgAfD",
        "outputId": "d59e0292-7666-4f9e-c495-ec5174f63848"
      },
      "execution_count": null,
      "outputs": [
        {
          "output_type": "stream",
          "name": "stdout",
          "text": [
            "공격하기\n",
            "방어하기\n",
            "공격받음\n"
          ]
        }
      ]
    },
    {
      "cell_type": "code",
      "source": [
        "class Car:\n",
        "    def __init__(self,name,color,num):\n",
        "        self.name = name\n",
        "        self.color = color\n",
        "        self.num = num\n",
        "    \n",
        "    def set_info(self,name,color,num):\n",
        "        self.name = name\n",
        "        self.color = color\n",
        "        self.num = num\n",
        "\n",
        "    def info(self):\n",
        "        print(\"차종:\",self.name)\n",
        "        print(\"색깔:\",self.color)\n",
        "        print(\"번호:\",self.num)\n",
        "\n",
        "morning = Car(\"모닝\",\"Blue\",1234)\n",
        "morning.set_info(\"렉서스\",\"Red\",\"3787\")\n",
        "\n",
        "morning.info()"
      ],
      "metadata": {
        "colab": {
          "base_uri": "https://localhost:8080/"
        },
        "id": "j2GfiRaTgQjm",
        "outputId": "05ef8e76-8383-416e-8b62-129936259f01"
      },
      "execution_count": null,
      "outputs": [
        {
          "output_type": "stream",
          "name": "stdout",
          "text": [
            "차종: 렉서스\n",
            "색깔: Red\n",
            "번호: 3787\n"
          ]
        }
      ]
    },
    {
      "cell_type": "markdown",
      "source": [
        "```\n",
        "다음과 같은 형태의 리스트를 입력받고 , key 이름들을 리스트로 입력 받아 dict 자료형을 생성하는 클래스를 만드시오\n",
        "ex)\n",
        "class DictDataset:\n",
        "    code context\n",
        "data = [\n",
        "        [1,2,3,4,5,6,7,8,9],\n",
        "        [10,20,30,40,50,60,70,80,90]\n",
        "]\n",
        "dict_dt = DictDataset(data,[\"col1\",\"col2\"])\n",
        "dict_dt.dataset\n",
        "Ouput:\n",
        "{'col1': [1, 2, 3, 4, 5, 6, 7, 8, 9],\n",
        " 'col2': [10, 20, 30, 40, 50, 60, 70, 80, 90]}\n",
        "```"
      ],
      "metadata": {
        "id": "KgzlZ6Eax6fZ"
      }
    },
    {
      "cell_type": "code",
      "source": [
        "# 강사님 코드\n",
        "class DictDataset:\n",
        "\n",
        "    def __init__(self, data, keys):\n",
        "        self.dataset = dict(zip(keys,data))\n",
        "\n",
        "data = [\n",
        "[1,2,3,4,5,6,7,8,9],\n",
        "[10,20,30,40,50,60,70,80,90]\n",
        "]\n",
        "keys = [\"col1\",\"col2\"]\n",
        "dict_dt = DictDataset(data,keys)\n",
        "dict_dt.dataset"
      ],
      "metadata": {
        "colab": {
          "base_uri": "https://localhost:8080/"
        },
        "id": "q3nacPtukjiY",
        "outputId": "63bd7b39-9392-4655-df32-18f3b8f99c03"
      },
      "execution_count": null,
      "outputs": [
        {
          "output_type": "execute_result",
          "data": {
            "text/plain": [
              "{'col1': [1, 2, 3, 4, 5, 6, 7, 8, 9],\n",
              " 'col2': [10, 20, 30, 40, 50, 60, 70, 80, 90]}"
            ]
          },
          "metadata": {},
          "execution_count": 52
        }
      ]
    },
    {
      "cell_type": "markdown",
      "source": [
        "```\n",
        "위에 구현한 클래스에서 추가 메소드를 작성하시오\n",
        "head 메소드와 tail 메소드를 작성하세요\n",
        "head 메소드의 경우 인자값이 없을경우 dict의 모든 value의 앞에서 5개의 값들이 key 와 함께 dict 형태로 리턴되게 하세요\n",
        "tail 메소드의 경우 인자값이 없을경우 dict의 모든 value의 뒤에서 5개의 값들이 key 와 함께 dict 형태로 리턴되게 하세요.\n",
        "(역순으로 출력되는 것이 아님)\n",
        "head , tail 모두 인자값이 주어질경우 인자값 개수만큼 value가 나오게 한다.\n",
        "(1 이상 인자값을 받는다는 가정을 하기 때문에 조건문으로 체크 안해도 됩니다.)\n",
        "ex)\n",
        "class DictDataset:\n",
        "    def __init__(self,lst,keys):\n",
        "        self.dataset = dict(zip(keys,lst))\n",
        "dict_dt = DictDataset(data,[\"col1\",\"col2\"])\n",
        "dict_dt.head()\n",
        "Output:\n",
        "{'col1': [1, 2, 3, 4, 5], 'col2': [10, 20, 30, 40, 50]}\n",
        "dict_dt.head(3)\n",
        "Output:\n",
        "{'col1': [1, 2, 3], 'col2': [10, 20, 30]}\n",
        "dict_dt.tail()\n",
        "Output:\n",
        "{'col1': [5, 6, 7, 8, 9], 'col2': [50, 60, 70, 80, 90]}\n",
        "dict_dt.tail(3)\n",
        "Output:\n",
        "{'col1': [7, 8, 9], 'col2': [70, 80, 90]}\n",
        "```"
      ],
      "metadata": {
        "id": "bkpd9wbEK4z7"
      }
    },
    {
      "cell_type": "code",
      "source": [
        "class DictDataset:\n",
        "    def __init__(self,lst,keys):\n",
        "        self.dataset = dict(zip(keys,lst))\n",
        "    \n",
        "    def head(self,n=5):\n",
        "        # if n == None:\n",
        "        #     dict(n.items(5))\n",
        "        # else:\n",
        "        #     dict(n.items())\n",
        "        result = { k:v[:n] for k,v in self.dataset.items()}\n",
        "        return result\n",
        "        \n",
        "    def tail(self,n=5):\n",
        "        result = { k:v[-n:] for k,v in self.dataset.items()}\n",
        "        return result\n",
        "\n",
        "\n",
        "data = [\n",
        "[1,2,3,4,5,6,7,8,9],\n",
        "[10,20,30,40,50,60,70,80,90]\n",
        "]\n",
        "keys = [\"col1\",\"col2\"]\n",
        "\n",
        "dict_dt = DictDataset(data,keys)\n",
        "dict_dt.tail(3)"
      ],
      "metadata": {
        "colab": {
          "base_uri": "https://localhost:8080/"
        },
        "id": "ZFPsPJ9T1A4x",
        "outputId": "7bc66088-32cb-4b8d-9f8c-3033193d6b33"
      },
      "execution_count": null,
      "outputs": [
        {
          "output_type": "execute_result",
          "data": {
            "text/plain": [
              "{'col1': [7, 8, 9], 'col2': [70, 80, 90]}"
            ]
          },
          "metadata": {},
          "execution_count": 86
        }
      ]
    },
    {
      "cell_type": "markdown",
      "source": [
        "```\n",
        "초기 숫자를 받아서 객체로 생성하는 클래스를 구현하라\n",
        "```"
      ],
      "metadata": {
        "id": "-SbM1t_cV_iR"
      }
    },
    {
      "cell_type": "code",
      "source": [
        "class Calculator:\n",
        "    def __init__(self,n):\n",
        "        self.x = n\n",
        "    def add(self,n):\n",
        "        self.x += n\n",
        "        return self.x\n",
        "\n",
        "    def sub(self,n):\n",
        "        self.x -= n\n",
        "\n",
        "    def mul(self,n):\n",
        "        self.x *= n\n",
        "\n",
        "    def div(self,n):\n",
        "        if n == 0:\n",
        "            return 0\n",
        "        else:\n",
        "            self.x = self.x / n\n",
        "    def get_result(self):\n",
        "        n = int(self.result)\n",
        "        return n\n",
        "\n",
        "cal1 = Calculator(3)\n",
        "print(cal1.add(3))"
      ],
      "metadata": {
        "colab": {
          "base_uri": "https://localhost:8080/"
        },
        "id": "K612VEJRMO3u",
        "outputId": "ee7ecbd5-d4ee-485b-89e5-1c10cfe22140"
      },
      "execution_count": null,
      "outputs": [
        {
          "output_type": "stream",
          "name": "stdout",
          "text": [
            "6\n"
          ]
        }
      ]
    },
    {
      "cell_type": "markdown",
      "source": [
        "```\n",
        "구현한 클래스에서 추가 메소드를 작성하시오\n",
        "rename 메소드를 작성하세요\n",
        "딕셔너리를 입력 받아 인스턴스 변수인 dataset의 key를 변경하는 메소드를 작성하세요.\n",
        "ex)\n",
        "dict_dt = DictDataset(data,[\"col1\",\"col2\"])\n",
        "keys_rename = {\n",
        "    \"col1\" : \"num1\",\n",
        "    \"col2\" : \"num2\"\n",
        "}\n",
        "dict_dt.rename(keys_rename)\n",
        "dict_dt.dataset\n",
        "Output:\n",
        "{'num1': [1, 2, 3, 4, 5, 6, 7, 8, 9],\n",
        " 'num2': [10, 20, 30, 40, 50, 60, 70, 80, 90]}\n",
        "```"
      ],
      "metadata": {
        "id": "fJejWs-lakrg"
      }
    },
    {
      "cell_type": "code",
      "source": [
        "class DictDataset:\n",
        "\n",
        "    def __init__(self,lst,keys):\n",
        "        self.dataset = dict(zip(keys,lst))\n",
        "\n",
        "    def head(self,n = 5 ):\n",
        "        result = { k:v[:n] for k,v in self.dataset.items() }\n",
        "        return result\n",
        "\n",
        "    def tail(self,n = 5):\n",
        "        result = { k:v[-n:] for k,v in self.dataset.items() }\n",
        "        return result\n",
        "\n",
        "    def rename(self,i):\n",
        "        for k,v in i.items():\n",
        "            self.dataset[v] = self.dataset.pop(k)\n",
        "        \n",
        "\n",
        "dict_dt = DictDataset(data,[\"col1\",\"col2\"])\n",
        "keys_rename = {\n",
        "    \"col1\" : \"num1\",\n",
        "    \"col2\" : \"num2\"\n",
        "}\n",
        "dict_dt.rename(keys_rename)\n",
        "dict_dt.dataset"
      ],
      "metadata": {
        "colab": {
          "base_uri": "https://localhost:8080/"
        },
        "id": "nuG1SJd-W0jt",
        "outputId": "8c351454-24d9-4a07-cb1a-bf546ea8e69b"
      },
      "execution_count": null,
      "outputs": [
        {
          "output_type": "execute_result",
          "data": {
            "text/plain": [
              "{'num1': [1, 2, 3, 4, 5, 6, 7, 8, 9],\n",
              " 'num2': [10, 20, 30, 40, 50, 60, 70, 80, 90]}"
            ]
          },
          "metadata": {},
          "execution_count": 89
        }
      ]
    },
    {
      "cell_type": "markdown",
      "source": [
        "# 상속\n",
        "- 구현된 클래스의 기능(메소드)을 그대로 사용하거나 기능을 수정, 추가할 때 사용하는 개념\n",
        "- 부모클래스의 속성(인스턴스 변수와 메소드)들을 자식클래스가 그대로 물려받는 개념\n"
      ],
      "metadata": {
        "id": "T4Arb0mzOMvL"
      }
    },
    {
      "cell_type": "code",
      "source": [
        "class PlayerCharacter:\n",
        "    def __init__(self, hp=100,exp=0): # 디폴트 파라미터 hp, exp\n",
        "        self.hp = hp\n",
        "        self.exp = exp\n",
        "\n",
        "    def attack(self):\n",
        "        print('공격하기')\n",
        "        self.exp += 2\n",
        "\n",
        "    def defend(self):\n",
        "        print('방어하기')\n",
        "        self.exp += 1"
      ],
      "metadata": {
        "id": "GROBhXyWPCVD"
      },
      "execution_count": null,
      "outputs": []
    },
    {
      "cell_type": "code",
      "source": [
        "class Wizard(PlayerCharacter):\n",
        "    def __init__(self, mp):\n",
        "        self.mp = mp\n",
        "        super().__init__() # 부모 클래스의 생성자를 실행하겠다.\n",
        "    def magic_skill(self):\n",
        "        print('마법 공격하기')\n",
        "        self.mp -= 5"
      ],
      "metadata": {
        "id": "cawEpHJIPCO7"
      },
      "execution_count": null,
      "outputs": []
    },
    {
      "cell_type": "code",
      "source": [
        "player = Wizard(10)\n",
        "player.attack()\n",
        "player.magic_skill()\n",
        "player.mp"
      ],
      "metadata": {
        "colab": {
          "base_uri": "https://localhost:8080/"
        },
        "id": "c77TA4_tRVcl",
        "outputId": "757385f9-d63e-4ad4-b1e6-bb55c7ba7545"
      },
      "execution_count": null,
      "outputs": [
        {
          "output_type": "stream",
          "name": "stdout",
          "text": [
            "공격하기\n",
            "마법 공격하기\n"
          ]
        },
        {
          "output_type": "execute_result",
          "data": {
            "text/plain": [
              "5"
            ]
          },
          "metadata": {},
          "execution_count": 9
        }
      ]
    },
    {
      "cell_type": "markdown",
      "source": [
        "- 상속이 된게 맞는지 주소값 확인해보기"
      ],
      "metadata": {
        "id": "9MdVEEQBShFn"
      }
    },
    {
      "cell_type": "code",
      "source": [
        "class PlayerCharacter:\n",
        "    def __init__(self, hp=100,exp=0): # 디폴트 파라미터 hp, exp\n",
        "        print(f\"부모의 주소값: {id(self)}\")\n",
        "        self.hp = hp\n",
        "        self.exp = exp\n",
        "\n",
        "    def attack(self):\n",
        "        print('공격하기')\n",
        "        self.exp += 2\n",
        "\n",
        "    def defend(self):\n",
        "        print('방어하기')\n",
        "        self.exp += 1\n",
        "\n",
        "class Wizard(PlayerCharacter):\n",
        "    def __init__(self, mp):\n",
        "        print(f\"자식의 주소값: {id(self)}\")\n",
        "        self.mp = mp\n",
        "        super().__init__() # 부모 클래스의 생성자를 실행하겠다.\n",
        "    def magic_skill(self):\n",
        "        print('마법 공격하기')\n",
        "        self.mp -= 5     "
      ],
      "metadata": {
        "id": "1lvIMx_ERf59"
      },
      "execution_count": null,
      "outputs": []
    },
    {
      "cell_type": "code",
      "source": [
        "Wizard(1)"
      ],
      "metadata": {
        "colab": {
          "base_uri": "https://localhost:8080/"
        },
        "id": "1c3Xrr1pTJq8",
        "outputId": "5d37ffde-bd9c-4013-d060-c784f5ea5420"
      },
      "execution_count": null,
      "outputs": [
        {
          "output_type": "stream",
          "name": "stdout",
          "text": [
            "자식의 주소값: 140453145562576\n",
            "부모의 주소값: 140453145562576\n"
          ]
        },
        {
          "output_type": "execute_result",
          "data": {
            "text/plain": [
              "<__main__.Wizard at 0x7fbdcbd94dd0>"
            ]
          },
          "metadata": {},
          "execution_count": 11
        }
      ]
    },
    {
      "cell_type": "markdown",
      "source": [
        "## 오버라이딩(Override)\n",
        "- 부모로부터 받는 메소드를 수정하고 싶을때 자식클래스에서 재정의 한다."
      ],
      "metadata": {
        "id": "ZPSBVZl1Tchf"
      }
    },
    {
      "cell_type": "code",
      "source": [
        "class PlayerCharacter:\n",
        "    def __init__(self, hp=100,exp=0): # 디폴트 파라미터 hp, exp\n",
        "        self.hp = hp\n",
        "        self.exp = exp\n",
        "\n",
        "    def attack(self):\n",
        "        print('공격하기')\n",
        "        self.exp += 2\n",
        "\n",
        "    def defend(self):\n",
        "        print('방어하기')\n",
        "        self.exp += 1\n",
        "\n",
        "class Wizard(PlayerCharacter):\n",
        "    def __init__(self, mp):\n",
        "        self.mp = mp\n",
        "        super().__init__() # 부모 클래스의 생성자를 실행하겠다.\n",
        "\n",
        "    def magic_skill(self):\n",
        "        print('마법 공격하기')\n",
        "        self.mp -= 5     \n",
        "    \n",
        "    #메소드 오버라이딩\n",
        "    def defend(self):\n",
        "        print('마법사가 방어하기')\n",
        "        self.exp += 3\n",
        "\n",
        "player = Wizard(30)\n",
        "player.defend()\n",
        "player.exp    "
      ],
      "metadata": {
        "colab": {
          "base_uri": "https://localhost:8080/"
        },
        "id": "2N2P-ehTTK8h",
        "outputId": "122a0e67-5eb7-4a3c-db18-e89138ea97f5"
      },
      "execution_count": null,
      "outputs": [
        {
          "output_type": "stream",
          "name": "stdout",
          "text": [
            "마법사가 방어하기\n"
          ]
        },
        {
          "output_type": "execute_result",
          "data": {
            "text/plain": [
              "3"
            ]
          },
          "metadata": {},
          "execution_count": 13
        }
      ]
    },
    {
      "cell_type": "markdown",
      "source": [
        "$$\n",
        "\\frac{x-\\mu}{σ}\n",
        "$$ \\"
      ],
      "metadata": {
        "id": "gr1mkN49prHX"
      }
    },
    {
      "cell_type": "code",
      "source": [
        "class Scaler:\n",
        "    def fit_transform(self,data):\n",
        "        pass\n",
        "    def transform(self,data):\n",
        "        pass\n",
        "\n",
        "class StandardScaler(Scaler):\n",
        "        \n",
        "    # def __init__(self,data):\n",
        "    #     super().__init__(data)\n",
        "    #     self.data = data\n",
        "    \n",
        "    def fit_transform(self,data):\n",
        "        self.avg = self.get_avg(data)\n",
        "        self.std = self.get_std(data)\n",
        "        return [ (x-self.avg)/self.std for x in data]\n",
        "\n",
        "    def transform(self,data):\n",
        "        return [ (x-self.avg)/self.std for x in data]\n",
        "\n",
        "    def get_avg(self,data):\n",
        "        return sum(data) / len(data)\n",
        "    \n",
        "    def get_std(self, data):\n",
        "        avg = self.get_avg(data)\n",
        "        diff_list = [(avg - x)**2 for x in data]\n",
        "        var = sum(diff_list) / len(data)\n",
        "        return var ** 0.5\n"
      ],
      "metadata": {
        "id": "K_SuM0Nim_dz"
      },
      "execution_count": null,
      "outputs": []
    },
    {
      "cell_type": "code",
      "source": [
        "data = [3000,3500,4000,9000,8000,12000]\n",
        "a = StandardScaler()\n",
        "a.fit_transform(data)"
      ],
      "metadata": {
        "colab": {
          "base_uri": "https://localhost:8080/"
        },
        "id": "f_N5OY7duc_2",
        "outputId": "8bd0164e-5d94-4351-94cc-aad9dd00fb0d"
      },
      "execution_count": null,
      "outputs": [
        {
          "output_type": "execute_result",
          "data": {
            "text/plain": [
              "[-1.0787144762791367,\n",
              " -0.9281961772634433,\n",
              " -0.7776778782477497,\n",
              " 0.7275051119091854,\n",
              " 0.4264685138777984,\n",
              " 1.6306149060033466]"
            ]
          },
          "metadata": {},
          "execution_count": 81
        }
      ]
    },
    {
      "cell_type": "markdown",
      "source": [
        "$$\n",
        "\\frac{x-Min(X)}{Max(X)-Min(X)}\n",
        "$$ \n",
        "\n",
        "- 역변환\n",
        "$$\n",
        "x \\times (Max(X)-Min(X)) + Min(X)  \n",
        "$$ "
      ],
      "metadata": {
        "id": "8C64R4Om7Js6"
      }
    },
    {
      "cell_type": "code",
      "source": [
        "class Scaler:\n",
        "    def fit(self,data):\n",
        "        pass\n",
        "    def fit_transform(self,data):\n",
        "        pass\n",
        "    def transform(self,data):\n",
        "        pass\n",
        "    def inverse_rtansform(self,data):\n",
        "        pass"
      ],
      "metadata": {
        "id": "Kp0X5q0iukTT"
      },
      "execution_count": null,
      "outputs": []
    },
    {
      "cell_type": "code",
      "source": [
        "class MinMaxScaler(Scaler):\n",
        "    def fit(self,data):\n",
        "        self.data = data\n",
        "        self.min_value = min(data)\n",
        "        self.size_value = (max(data) - min(data))\n",
        "\n",
        "    def fit_transform(self,data):\n",
        "        self.fit(data)\n",
        "        return self.transform(data)\n",
        "\n",
        "    def transform(self,data):\n",
        "        return [(x-self.min_value) / self.size_value for x in data]\n",
        "\n",
        "    def inverse_transform(self,data):\n",
        "        return  [x * self.size_value+self.min_value for x in data]"
      ],
      "metadata": {
        "id": "W_SyEU2U7TZQ"
      },
      "execution_count": 98,
      "outputs": []
    },
    {
      "cell_type": "code",
      "source": [
        "data = [20,30,60,65,38,63]\n",
        "a = MinMaxScaler()\n",
        "a.fit_transform(data)"
      ],
      "metadata": {
        "colab": {
          "base_uri": "https://localhost:8080/"
        },
        "id": "Zg1PmMH787XA",
        "outputId": "bc879677-4152-4c12-ec8e-8e0a1a0b818e"
      },
      "execution_count": null,
      "outputs": [
        {
          "output_type": "execute_result",
          "data": {
            "text/plain": [
              "[0.0, 0.2222222222222222, 0.8888888888888888, 1.0, 0.4, 0.9555555555555556]"
            ]
          },
          "metadata": {},
          "execution_count": 97
        }
      ]
    },
    {
      "cell_type": "code",
      "source": [
        "tmp = a.fit_transform(data)\n",
        "\n",
        "tmp.inverse_transform(data)"
      ],
      "metadata": {
        "id": "GN3eg1aU8_2U",
        "colab": {
          "base_uri": "https://localhost:8080/",
          "height": 201
        },
        "outputId": "2f17140a-3176-46ad-b74b-d0253b68a590"
      },
      "execution_count": 100,
      "outputs": [
        {
          "output_type": "error",
          "ename": "AttributeError",
          "evalue": "ignored",
          "traceback": [
            "\u001b[0;31m---------------------------------------------------------------------------\u001b[0m",
            "\u001b[0;31mAttributeError\u001b[0m                            Traceback (most recent call last)",
            "\u001b[0;32m<ipython-input-100-af5eed6b5c13>\u001b[0m in \u001b[0;36m<module>\u001b[0;34m()\u001b[0m\n\u001b[1;32m      1\u001b[0m \u001b[0mtmp\u001b[0m \u001b[0;34m=\u001b[0m \u001b[0ma\u001b[0m\u001b[0;34m.\u001b[0m\u001b[0mfit_transform\u001b[0m\u001b[0;34m(\u001b[0m\u001b[0mdata\u001b[0m\u001b[0;34m)\u001b[0m\u001b[0;34m\u001b[0m\u001b[0;34m\u001b[0m\u001b[0m\n\u001b[1;32m      2\u001b[0m \u001b[0;34m\u001b[0m\u001b[0m\n\u001b[0;32m----> 3\u001b[0;31m \u001b[0mtmp\u001b[0m\u001b[0;34m.\u001b[0m\u001b[0minverse_transform\u001b[0m\u001b[0;34m(\u001b[0m\u001b[0mdata\u001b[0m\u001b[0;34m)\u001b[0m\u001b[0;34m\u001b[0m\u001b[0;34m\u001b[0m\u001b[0m\n\u001b[0m",
            "\u001b[0;31mAttributeError\u001b[0m: 'list' object has no attribute 'inverse_transform'"
          ]
        }
      ]
    },
    {
      "cell_type": "markdown",
      "source": [
        "# non-public (private)\n",
        "- `private`: 인스턴스 변수나 메소드를 클래스 내부에서만 사용하게 하는것\n",
        "- 외부에서 사용이 불가능하게 하는 설정\n",
        "- 맹글링(mangling)기법을 이용해서 외부에서 접근하는것을 막을 수 있다."
      ],
      "metadata": {
        "id": "Sqr0EpTCfwH6"
      }
    },
    {
      "cell_type": "code",
      "source": [
        "class PlayerCharacter:\n",
        "    def __init__(self,hp=100,exp=0):\n",
        "        self.hp = hp\n",
        "        self.exp = exp\n",
        "\n",
        "    def attack(self):\n",
        "        print(\"공격하기\")\n",
        "        self.exp += 2\n",
        "\n",
        "    def defend(self):\n",
        "        print(\"방어하기\")\n",
        "        self.exp += 1\n",
        "\n",
        "    def attacked(self,attack_size):\n",
        "        print(\"공격받음\")\n",
        "        self.hp -= attack_size"
      ],
      "metadata": {
        "id": "jNfqi57ffkTC"
      },
      "execution_count": 75,
      "outputs": []
    },
    {
      "cell_type": "code",
      "source": [
        "class Wizard(PlayerCharacter):\n",
        "    def __init__(self,mp):\n",
        "        super().__init__() \n",
        "        self.__mp = mp # private\n",
        "    \n",
        "    def __magic_skill(self): # private\n",
        "        print(\"마법 공격하기\")\n",
        "        self.__mp -= 2\n",
        "\n",
        "    def magic_skill(self):\n",
        "        if self.__mp > 1:\n",
        "            self.__magic_skill()\n",
        "        else:\n",
        "            print(\"MP가 부족합니다.\")"
      ],
      "metadata": {
        "id": "f-JdZpGWAQ5P"
      },
      "execution_count": 76,
      "outputs": []
    },
    {
      "cell_type": "code",
      "source": [
        "player = Wizard(50)\n",
        "player.__magic_skill()"
      ],
      "metadata": {
        "colab": {
          "base_uri": "https://localhost:8080/",
          "height": 184
        },
        "id": "xAf8z7qEAU0W",
        "outputId": "e2126dbd-ee82-4346-876a-9f62e81e6ded"
      },
      "execution_count": 77,
      "outputs": [
        {
          "output_type": "error",
          "ename": "AttributeError",
          "evalue": "ignored",
          "traceback": [
            "\u001b[0;31m---------------------------------------------------------------------------\u001b[0m",
            "\u001b[0;31mAttributeError\u001b[0m                            Traceback (most recent call last)",
            "\u001b[0;32m<ipython-input-77-4ad15eaae4fe>\u001b[0m in \u001b[0;36m<module>\u001b[0;34m()\u001b[0m\n\u001b[1;32m      1\u001b[0m \u001b[0mplayer\u001b[0m \u001b[0;34m=\u001b[0m \u001b[0mWizard\u001b[0m\u001b[0;34m(\u001b[0m\u001b[0;36m50\u001b[0m\u001b[0;34m)\u001b[0m\u001b[0;34m\u001b[0m\u001b[0;34m\u001b[0m\u001b[0m\n\u001b[0;32m----> 2\u001b[0;31m \u001b[0mplayer\u001b[0m\u001b[0;34m.\u001b[0m\u001b[0m__magic_skill\u001b[0m\u001b[0;34m(\u001b[0m\u001b[0;34m)\u001b[0m\u001b[0;34m\u001b[0m\u001b[0;34m\u001b[0m\u001b[0m\n\u001b[0m",
            "\u001b[0;31mAttributeError\u001b[0m: 'Wizard' object has no attribute '__magic_skill'"
          ]
        }
      ]
    },
    {
      "cell_type": "code",
      "source": [
        "player.magic_skill()"
      ],
      "metadata": {
        "colab": {
          "base_uri": "https://localhost:8080/"
        },
        "id": "v2a8_w1yBL4a",
        "outputId": "3add4f31-1a45-40e6-b5b4-d86bbd57fb04"
      },
      "execution_count": 78,
      "outputs": [
        {
          "output_type": "stream",
          "name": "stdout",
          "text": [
            "마법 공격하기\n"
          ]
        }
      ]
    },
    {
      "cell_type": "code",
      "source": [
        "player = Wizard(1)\n",
        "player.magic_skill()"
      ],
      "metadata": {
        "colab": {
          "base_uri": "https://localhost:8080/"
        },
        "id": "dnQUenFIBNLC",
        "outputId": "7bb9b570-c415-486f-cb50-8cddec5b8b0a"
      },
      "execution_count": 85,
      "outputs": [
        {
          "output_type": "stream",
          "name": "stdout",
          "text": [
            "MP가 부족합니다.\n"
          ]
        }
      ]
    },
    {
      "cell_type": "code",
      "source": [
        "player.__mp"
      ],
      "metadata": {
        "colab": {
          "base_uri": "https://localhost:8080/",
          "height": 166
        },
        "id": "BDGJRrgLBORu",
        "outputId": "5ea0bbbc-fa8b-404b-d56b-36b13267265b"
      },
      "execution_count": 86,
      "outputs": [
        {
          "output_type": "error",
          "ename": "AttributeError",
          "evalue": "ignored",
          "traceback": [
            "\u001b[0;31m---------------------------------------------------------------------------\u001b[0m",
            "\u001b[0;31mAttributeError\u001b[0m                            Traceback (most recent call last)",
            "\u001b[0;32m<ipython-input-86-b1c0a85b281e>\u001b[0m in \u001b[0;36m<module>\u001b[0;34m()\u001b[0m\n\u001b[0;32m----> 1\u001b[0;31m \u001b[0mplayer\u001b[0m\u001b[0;34m.\u001b[0m\u001b[0m__mp\u001b[0m\u001b[0;34m\u001b[0m\u001b[0;34m\u001b[0m\u001b[0m\n\u001b[0m",
            "\u001b[0;31mAttributeError\u001b[0m: 'Wizard' object has no attribute '__mp'"
          ]
        }
      ]
    },
    {
      "cell_type": "markdown",
      "source": [
        "# getter & setter\n",
        "- 인스턴스 변수에 접근할때 특정 로직을 거쳐서 접근시키는 방법\n",
        "- getter & setter 정의할 인스턴스 변수는 private화 시키자"
      ],
      "metadata": {
        "id": "Nkc8zOPnkF46"
      }
    },
    {
      "cell_type": "code",
      "source": [
        "class Wizard(PlayerCharacter):\n",
        "    def __init__(self,mp):\n",
        "        super().__init__()\n",
        "        self.mp = mp\n",
        "        self.hp = 0\n",
        "\n",
        "\n",
        "    # getter 시 데코레이터 정의\n",
        "    @property\n",
        "    def mp(self):\n",
        "        print('getter 동작')\n",
        "        return self.__mp\n",
        "\n",
        "    # setter 시 getter의 메소드명.setter \n",
        "    @mp.setter\n",
        "    def mp(self,mp): # 받는거라 파라미터 추가\n",
        "        print('setter 동작')\n",
        "        if mp < 0:\n",
        "            mp = 0\n",
        "\n",
        "        self.__mp = mp"
      ],
      "metadata": {
        "id": "XrHtxWuOkWIW"
      },
      "execution_count": 65,
      "outputs": []
    },
    {
      "cell_type": "code",
      "source": [
        "user = Wizard(5)\n",
        "user.hp"
      ],
      "metadata": {
        "colab": {
          "base_uri": "https://localhost:8080/"
        },
        "id": "_mZCrhfGlyxm",
        "outputId": "8006253b-fb01-4857-8789-c330f6697b74"
      },
      "execution_count": 66,
      "outputs": [
        {
          "output_type": "stream",
          "name": "stdout",
          "text": [
            "setter 동작\n"
          ]
        },
        {
          "output_type": "execute_result",
          "data": {
            "text/plain": [
              "0"
            ]
          },
          "metadata": {},
          "execution_count": 66
        }
      ]
    },
    {
      "cell_type": "code",
      "source": [
        "user.mp"
      ],
      "metadata": {
        "colab": {
          "base_uri": "https://localhost:8080/"
        },
        "id": "W1xKSdlcl5Rm",
        "outputId": "e871b7ba-2920-4407-cc5d-26d1192ea974"
      },
      "execution_count": 61,
      "outputs": [
        {
          "output_type": "stream",
          "name": "stdout",
          "text": [
            "getter 동작\n"
          ]
        },
        {
          "output_type": "execute_result",
          "data": {
            "text/plain": [
              "5"
            ]
          },
          "metadata": {},
          "execution_count": 61
        }
      ]
    },
    {
      "cell_type": "code",
      "source": [
        "user.mp = -1"
      ],
      "metadata": {
        "colab": {
          "base_uri": "https://localhost:8080/"
        },
        "id": "vqDyQW3Ml9J-",
        "outputId": "1fbfee35-3a70-4458-9e7a-4552d028e82e"
      },
      "execution_count": 63,
      "outputs": [
        {
          "output_type": "stream",
          "name": "stdout",
          "text": [
            "setter 동작\n"
          ]
        }
      ]
    },
    {
      "cell_type": "code",
      "source": [
        "user.mp"
      ],
      "metadata": {
        "colab": {
          "base_uri": "https://localhost:8080/"
        },
        "id": "78xEIm4nl_Nh",
        "outputId": "364ce489-0e4d-4d40-9b02-2c7f2917b64b"
      },
      "execution_count": 64,
      "outputs": [
        {
          "output_type": "stream",
          "name": "stdout",
          "text": [
            "getter 동작\n"
          ]
        },
        {
          "output_type": "execute_result",
          "data": {
            "text/plain": [
              "0"
            ]
          },
          "metadata": {},
          "execution_count": 64
        }
      ]
    },
    {
      "cell_type": "markdown",
      "source": [
        "# 매직 메소드\n",
        "- 메소드 명이 두개의 언더바(`__a__`)로 감싸져있다.\n",
        "- 다양한 내장함수들이 클래스의 매직메소드들을 호출한다."
      ],
      "metadata": {
        "id": "5zrHx-CbniVq"
      }
    },
    {
      "cell_type": "code",
      "source": [
        "class MyDataSet:\n",
        "    def __init__(self,data):\n",
        "        self.data = data\n",
        "\n",
        "    def __call__(self,a):\n",
        "        print(f\"{a} 객체를 함수 호출하듯이 만들어주는 메소드\")\n",
        "\n",
        "    def __str__(self): # print 함수를 통해 리턴값을 출력\n",
        "        return \"My dataset Class\"\n",
        "\n",
        "    def __len__(self): # len() 함수는 객체의 이 매직메소드를 호출한다\n",
        "        return len(self.data)\n",
        "\n",
        "    def __getitem__(self,idx): # 인덱싱과 슬라이싱을 해줌\n",
        "        return self.data[idx]"
      ],
      "metadata": {
        "id": "YiiLs2-5r_sB"
      },
      "execution_count": 68,
      "outputs": []
    },
    {
      "cell_type": "code",
      "source": [
        "data = list(range(50,100))\n",
        "dt = MyDataSet(data)\n",
        "dt"
      ],
      "metadata": {
        "colab": {
          "base_uri": "https://localhost:8080/"
        },
        "id": "x5f7BnKns0zP",
        "outputId": "8b43a680-61b0-470a-9463-9bf78130bcee"
      },
      "execution_count": 69,
      "outputs": [
        {
          "output_type": "execute_result",
          "data": {
            "text/plain": [
              "<__main__.MyDataSet at 0x7f249d0ab190>"
            ]
          },
          "metadata": {},
          "execution_count": 69
        }
      ]
    },
    {
      "cell_type": "code",
      "source": [
        "dt(1)"
      ],
      "metadata": {
        "colab": {
          "base_uri": "https://localhost:8080/"
        },
        "id": "Y_SmRD8ltDmz",
        "outputId": "91ea3a44-929c-4f54-b239-bcee53a3d937"
      },
      "execution_count": 70,
      "outputs": [
        {
          "output_type": "stream",
          "name": "stdout",
          "text": [
            "1 객체를 함수 호출하듯이 만들어주는 메소드\n"
          ]
        }
      ]
    },
    {
      "cell_type": "code",
      "source": [
        "print(dt)"
      ],
      "metadata": {
        "colab": {
          "base_uri": "https://localhost:8080/"
        },
        "id": "XFLngaHTtE7K",
        "outputId": "28fd1111-45f3-4a0d-f2ac-5841b2eea9ad"
      },
      "execution_count": 9,
      "outputs": [
        {
          "output_type": "stream",
          "name": "stdout",
          "text": [
            "My dataset Class\n"
          ]
        }
      ]
    },
    {
      "cell_type": "code",
      "source": [
        "len(dt)"
      ],
      "metadata": {
        "colab": {
          "base_uri": "https://localhost:8080/"
        },
        "id": "D_DfWhWltdo4",
        "outputId": "e78b4fb7-8f69-4236-ee0f-2760ad2172a7"
      },
      "execution_count": 10,
      "outputs": [
        {
          "output_type": "execute_result",
          "data": {
            "text/plain": [
              "50"
            ]
          },
          "metadata": {},
          "execution_count": 10
        }
      ]
    },
    {
      "cell_type": "code",
      "source": [
        "dt[49]"
      ],
      "metadata": {
        "colab": {
          "base_uri": "https://localhost:8080/"
        },
        "id": "AJD8L7F-trje",
        "outputId": "b7509c72-c1a2-49c1-fa8d-cb86fbdf357b"
      },
      "execution_count": 13,
      "outputs": [
        {
          "output_type": "execute_result",
          "data": {
            "text/plain": [
              "99"
            ]
          },
          "metadata": {},
          "execution_count": 13
        }
      ]
    },
    {
      "cell_type": "markdown",
      "source": [
        "```\n",
        "객체 생성시 딕셔너리 데이터를 입력 받아 다음과 같은 예시로 데이터를 반환하는\n",
        "클래스를 만드시오.\n",
        "ex)\n",
        "data = {\n",
        "    \"x\" : [0.4,0.3,0.8,0.2,0.3,0.9,0.7],\n",
        "    \"y\" : [0,1,0,0,1,0,0]\n",
        "}\n",
        "dt = Dataset(data)\n",
        "len(dt)\n",
        "Output:\n",
        "7\n",
        "dt[0]\n",
        "Output:\n",
        "(0.4, 0)\n",
        "\n",
        "```"
      ],
      "metadata": {
        "id": "apRmKRkJvkkg"
      }
    },
    {
      "cell_type": "code",
      "source": [
        "class Dataset:\n",
        "    def __init__(self,data):\n",
        "        self.x = data[\"x\"]\n",
        "        self.y = data[\"y\"]\n",
        "\n",
        "    def __len__(self):\n",
        "        return len(self.x)\n",
        "\n",
        "    def __getitem__(self,idx):\n",
        "        return self.x[idx], self.y[idx]"
      ],
      "metadata": {
        "id": "b6GMkP5_uAPr"
      },
      "execution_count": 51,
      "outputs": []
    },
    {
      "cell_type": "code",
      "source": [
        "data = {\n",
        "    \"x\" : [0.4,0.3,0.8,0.2,0.3,0.9,0.7],\n",
        "    \"y\" : [0,1,0,0,1,0,0]\n",
        "}\n",
        "\n",
        "dt = Dataset(data)"
      ],
      "metadata": {
        "id": "Ybxizwixv57b"
      },
      "execution_count": 52,
      "outputs": []
    },
    {
      "cell_type": "code",
      "source": [
        "len(dt)"
      ],
      "metadata": {
        "colab": {
          "base_uri": "https://localhost:8080/"
        },
        "id": "UsZ4-1ZkxM-M",
        "outputId": "c3305f5e-9655-49b9-f303-0e4f0a1844d9"
      },
      "execution_count": 53,
      "outputs": [
        {
          "output_type": "execute_result",
          "data": {
            "text/plain": [
              "7"
            ]
          },
          "metadata": {},
          "execution_count": 53
        }
      ]
    },
    {
      "cell_type": "code",
      "source": [
        "dt[0]"
      ],
      "metadata": {
        "colab": {
          "base_uri": "https://localhost:8080/"
        },
        "id": "Kq-M-78Iv7P6",
        "outputId": "23013866-be8f-49e8-8ff7-c4460eb5f8c7"
      },
      "execution_count": 54,
      "outputs": [
        {
          "output_type": "execute_result",
          "data": {
            "text/plain": [
              "(0.4, 0)"
            ]
          },
          "metadata": {},
          "execution_count": 54
        }
      ]
    }
  ]
}