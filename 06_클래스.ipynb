{
  "nbformat": 4,
  "nbformat_minor": 0,
  "metadata": {
    "colab": {
      "name": "06-클래스.ipynb",
      "provenance": [],
      "authorship_tag": "ABX9TyMdqLwijw7/U6wMjFQCb6m1",
      "include_colab_link": true
    },
    "kernelspec": {
      "name": "python3",
      "display_name": "Python 3"
    },
    "language_info": {
      "name": "python"
    }
  },
  "cells": [
    {
      "cell_type": "markdown",
      "metadata": {
        "id": "view-in-github",
        "colab_type": "text"
      },
      "source": [
        "<a href=\"https://colab.research.google.com/github/Wooney98/playdata-python/blob/main/06_%ED%81%B4%EB%9E%98%EC%8A%A4.ipynb\" target=\"_parent\"><img src=\"https://colab.research.google.com/assets/colab-badge.svg\" alt=\"Open In Colab\"/></a>"
      ]
    },
    {
      "cell_type": "markdown",
      "source": [
        "# 클래스(Class)\n",
        "- 변수와 함수를 묶어놓은 개념\n",
        "- 클래스는 `객체`를 만들기 위한 설계도\n",
        "- 클래스를 객체화하면 그걸 `인스턴스`(instance)라고한다."
      ],
      "metadata": {
        "id": "rRx9wV0yB-TB"
      }
    },
    {
      "cell_type": "markdown",
      "source": [
        "## 클래스의 구조\n",
        "- 변수: 인스턴스(객체화되면 사용되는) 변수, 클래스(클래스 정의시 사용되는) 변수가 있음\n",
        "- 함수: 메소드(객체의 소속된 함수)\n",
        "- `__init__` 메소드: 생성자\n",
        "    - 객체의 초기화를 담당, 객체의 변수의 값을 초기 설정\n",
        "    - 객체화가 되었을때 생성해야하거나 초기값을 설정해야하는 인스턴스 변수들이 있다면 `__init__`메소드 안에 선언하면 됨"
      ],
      "metadata": {
        "id": "SIYXolcoCoYh"
      }
    },
    {
      "cell_type": "markdown",
      "source": [
        "### 클래스 정의\n",
        "```python\n",
        "class<ClassName>:\n",
        "    def __init__(self):\n",
        "        code context\n",
        "        ...\n",
        "    def<method_name>(self):\n",
        "        code context\n",
        "        ...\n",
        "        \n",
        "```"
      ],
      "metadata": {
        "id": "bl3PTy_REVV3"
      }
    },
    {
      "cell_type": "code",
      "execution_count": 1,
      "metadata": {
        "id": "ZPCnSsW8BvxS"
      },
      "outputs": [],
      "source": [
        "class PlayerCharacter:\n",
        "    def __init__(self,hp,exp): \n",
        "        # 참조연산자를 통해 인스턴스 변수를 정의\n",
        "        self.hp = hp\n",
        "        self.exp = exp "
      ]
    },
    {
      "cell_type": "code",
      "source": [
        "player1 = PlayerCharacter(100,0) # hp = 100, exp = 0\n",
        "player2 = PlayerCharacter(200,50)\n",
        "\n",
        "player1.hp, player1.exp, player2.hp, player2.exp"
      ],
      "metadata": {
        "colab": {
          "base_uri": "https://localhost:8080/"
        },
        "id": "QDUQcdEGGAWi",
        "outputId": "b212afdc-32ed-4afe-c88b-c5cd183ef894"
      },
      "execution_count": 2,
      "outputs": [
        {
          "output_type": "execute_result",
          "data": {
            "text/plain": [
              "(100, 0, 200, 50)"
            ]
          },
          "metadata": {},
          "execution_count": 2
        }
      ]
    },
    {
      "cell_type": "markdown",
      "source": [
        "- `self`\n",
        "    - 클래스가 객체화 되었을때 자기 자신의 주소를 받는 파라미터\n",
        "    - 클래스 내에 정의된 self는 클래스 인스턴스임을 알 수 있다."
      ],
      "metadata": {
        "id": "4qRpdzYLH7gJ"
      }
    },
    {
      "cell_type": "code",
      "source": [
        "class MyClass:\n",
        "    def __init__(self):\n",
        "        print(id(self))"
      ],
      "metadata": {
        "id": "zmBTJZIKGcW5"
      },
      "execution_count": 3,
      "outputs": []
    },
    {
      "cell_type": "code",
      "source": [
        "mc = MyClass() # 주소값"
      ],
      "metadata": {
        "colab": {
          "base_uri": "https://localhost:8080/"
        },
        "id": "_P5wqU-3JKWp",
        "outputId": "37f2523b-2a86-4a6e-8301-f343a08c5eea"
      },
      "execution_count": 4,
      "outputs": [
        {
          "output_type": "stream",
          "name": "stdout",
          "text": [
            "140341607861968\n"
          ]
        }
      ]
    },
    {
      "cell_type": "code",
      "source": [
        "id(mc)"
      ],
      "metadata": {
        "colab": {
          "base_uri": "https://localhost:8080/"
        },
        "id": "iVIZ2nHOJLtO",
        "outputId": "65d66067-e419-4c93-f206-7b5579000e85"
      },
      "execution_count": 5,
      "outputs": [
        {
          "output_type": "execute_result",
          "data": {
            "text/plain": [
              "140341607861968"
            ]
          },
          "metadata": {},
          "execution_count": 5
        }
      ]
    },
    {
      "cell_type": "markdown",
      "source": [
        "- `__init__` 메소드를 만들지 않았을 때"
      ],
      "metadata": {
        "id": "MN5tY2DoS6gO"
      }
    },
    {
      "cell_type": "code",
      "source": [
        "class PlayerCharacter:\n",
        "\n",
        "    def attack(self):\n",
        "        print('공격하기')\n",
        "        self.exp += 2\n",
        "\n",
        "    def set_up(self,exp):\n",
        "        self.exp = exp "
      ],
      "metadata": {
        "id": "hC6YfR7kJRYM"
      },
      "execution_count": 6,
      "outputs": []
    },
    {
      "cell_type": "code",
      "source": [
        "player = PlayerCharacter()\n",
        "\n",
        "player.set_up(10)\n",
        "player.exp"
      ],
      "metadata": {
        "colab": {
          "base_uri": "https://localhost:8080/"
        },
        "id": "WpPkds_AKPd0",
        "outputId": "336a3dfc-361d-479b-c33c-0b654625f04f"
      },
      "execution_count": 7,
      "outputs": [
        {
          "output_type": "execute_result",
          "data": {
            "text/plain": [
              "10"
            ]
          },
          "metadata": {},
          "execution_count": 7
        }
      ]
    },
    {
      "cell_type": "code",
      "source": [
        "player.attack()\n",
        "player.exp"
      ],
      "metadata": {
        "colab": {
          "base_uri": "https://localhost:8080/"
        },
        "id": "ydOyjQvBKg2Q",
        "outputId": "2703aa83-f08f-4926-9874-cb79e5e62d59"
      },
      "execution_count": 8,
      "outputs": [
        {
          "output_type": "stream",
          "name": "stdout",
          "text": [
            "공격하기\n"
          ]
        },
        {
          "output_type": "execute_result",
          "data": {
            "text/plain": [
              "12"
            ]
          },
          "metadata": {},
          "execution_count": 8
        }
      ]
    },
    {
      "cell_type": "code",
      "source": [
        "class PlayerCharacter:\n",
        "    def __init__(self,hp,exp): \n",
        "        # 참조연산자를 통해 인스턴스 변수를 정의\n",
        "        self.hp = hp\n",
        "        self.exp = exp \n",
        "\n",
        "    def attack(self):\n",
        "        print(\"공격하기\")\n",
        "        self.exp += 2 # self를 참조하여 인스턴스 변수에 접근\n",
        "\n",
        "    def defend(self):\n",
        "        print(\"방어하기\")\n",
        "        self.exp += 1\n",
        "    \n",
        "    def attacked(self,attack_size):\n",
        "        print(\"공격받음\")\n",
        "        self.hp = self.hp - attack_size"
      ],
      "metadata": {
        "id": "0KSdNsT1Kupf"
      },
      "execution_count": 28,
      "outputs": []
    },
    {
      "cell_type": "code",
      "source": [
        "player1 = PlayerCharacter(100,0)\n",
        "player2 = PlayerCharacter(120,10)"
      ],
      "metadata": {
        "id": "547IQynNUFW1"
      },
      "execution_count": 32,
      "outputs": []
    },
    {
      "cell_type": "code",
      "source": [
        "player1.attack()\n",
        "player1.defend()\n",
        "player1.attacked(3)"
      ],
      "metadata": {
        "colab": {
          "base_uri": "https://localhost:8080/"
        },
        "id": "ETVZeRYpUaLL",
        "outputId": "d08a079c-0d15-46aa-dc72-21603ffaba88"
      },
      "execution_count": 11,
      "outputs": [
        {
          "output_type": "stream",
          "name": "stdout",
          "text": [
            "공격하기\n",
            "방어하기\n",
            "공격받음\n"
          ]
        }
      ]
    },
    {
      "cell_type": "code",
      "source": [
        "print(player1.hp)\n",
        "print(player1.exp)"
      ],
      "metadata": {
        "colab": {
          "base_uri": "https://localhost:8080/"
        },
        "id": "FTv0X3LeU9_2",
        "outputId": "05e8f633-1888-4740-d24b-a974a644b350"
      },
      "execution_count": 15,
      "outputs": [
        {
          "output_type": "stream",
          "name": "stdout",
          "text": [
            "97\n",
            "3\n"
          ]
        }
      ]
    },
    {
      "cell_type": "code",
      "source": [
        "player2.attack()\n",
        "player2.attack()\n",
        "player2.attack()\n",
        "player2.attacked(10)"
      ],
      "metadata": {
        "colab": {
          "base_uri": "https://localhost:8080/"
        },
        "id": "PRd1HIVvV0qq",
        "outputId": "12161fe3-3b09-4f0e-e6eb-07ab30c706d4"
      },
      "execution_count": 33,
      "outputs": [
        {
          "output_type": "stream",
          "name": "stdout",
          "text": [
            "공격하기\n",
            "공격하기\n",
            "공격하기\n",
            "공격받음\n"
          ]
        }
      ]
    },
    {
      "cell_type": "code",
      "source": [
        "print(player2.hp)\n",
        "print(player2.exp)"
      ],
      "metadata": {
        "colab": {
          "base_uri": "https://localhost:8080/"
        },
        "id": "frU2srzaXKPD",
        "outputId": "788eb602-5a4a-46fc-a1d5-48ea9cfb418e"
      },
      "execution_count": 34,
      "outputs": [
        {
          "output_type": "stream",
          "name": "stdout",
          "text": [
            "110\n",
            "16\n"
          ]
        }
      ]
    },
    {
      "cell_type": "markdown",
      "source": [
        "- 클래스 변수"
      ],
      "metadata": {
        "id": "kbCOvjJEWDbi"
      }
    },
    {
      "cell_type": "code",
      "source": [
        "class User:\n",
        "    user = \"Wizard\"\n",
        "    def __init__(self,hp=100,exp=0):\n",
        "        self.hp = hp\n",
        "        self.exp = exp"
      ],
      "metadata": {
        "id": "81nKkQPKVY6S"
      },
      "execution_count": 25,
      "outputs": []
    },
    {
      "cell_type": "code",
      "source": [
        "User.hp # 객체화 되지 않았기 때문에 인스턴스 변수 hp 참조 불가"
      ],
      "metadata": {
        "colab": {
          "base_uri": "https://localhost:8080/",
          "height": 166
        },
        "id": "3KtwYhVsWOfK",
        "outputId": "b0641d54-f6bd-4d4b-983d-83586be2e7d6"
      },
      "execution_count": 30,
      "outputs": [
        {
          "output_type": "error",
          "ename": "AttributeError",
          "evalue": "ignored",
          "traceback": [
            "\u001b[0;31m---------------------------------------------------------------------------\u001b[0m",
            "\u001b[0;31mAttributeError\u001b[0m                            Traceback (most recent call last)",
            "\u001b[0;32m<ipython-input-30-f187915d75e5>\u001b[0m in \u001b[0;36m<module>\u001b[0;34m()\u001b[0m\n\u001b[0;32m----> 1\u001b[0;31m \u001b[0mUser\u001b[0m\u001b[0;34m.\u001b[0m\u001b[0mhp\u001b[0m\u001b[0;34m\u001b[0m\u001b[0;34m\u001b[0m\u001b[0m\n\u001b[0m",
            "\u001b[0;31mAttributeError\u001b[0m: type object 'User' has no attribute 'hp'"
          ]
        }
      ]
    },
    {
      "cell_type": "code",
      "source": [
        "User.user"
      ],
      "metadata": {
        "colab": {
          "base_uri": "https://localhost:8080/",
          "height": 35
        },
        "id": "Ncs6okfMWmuC",
        "outputId": "fcb453ff-177f-42e9-f7b6-ccd34c18e4c4"
      },
      "execution_count": 31,
      "outputs": [
        {
          "output_type": "execute_result",
          "data": {
            "text/plain": [
              "'Wizard'"
            ],
            "application/vnd.google.colaboratory.intrinsic+json": {
              "type": "string"
            }
          },
          "metadata": {},
          "execution_count": 31
        }
      ]
    },
    {
      "cell_type": "code",
      "source": [
        "player1 = User()\n",
        "player2 = User(200, 20)\n",
        "\n",
        "player1.user, player2.user"
      ],
      "metadata": {
        "colab": {
          "base_uri": "https://localhost:8080/"
        },
        "id": "wCWXUF96Woxz",
        "outputId": "a6813aa3-2220-4bbc-fa90-e2f8b814d273"
      },
      "execution_count": 35,
      "outputs": [
        {
          "output_type": "execute_result",
          "data": {
            "text/plain": [
              "('Wizard', 'Wizard')"
            ]
          },
          "metadata": {},
          "execution_count": 35
        }
      ]
    },
    {
      "cell_type": "markdown",
      "source": [
        "- 클래스  메소드\n",
        "    - 객체화 하지 않아도 사용 가능한 메소드"
      ],
      "metadata": {
        "id": "uBKLdL-UXl-W"
      }
    },
    {
      "cell_type": "code",
      "source": [
        "class User:\n",
        "    user_type = \"Wizard\"\n",
        "\n",
        "    @classmethod\n",
        "    def print_user_type(cls): # 클래스의 주소를 받는 파라미터 cls\n",
        "        print(cls.user_type)\n",
        "User.print_user_type()"
      ],
      "metadata": {
        "colab": {
          "base_uri": "https://localhost:8080/"
        },
        "id": "0qj2qOyPXTcA",
        "outputId": "e089d722-226e-444f-e2df-bc15819b66fb"
      },
      "execution_count": 36,
      "outputs": [
        {
          "output_type": "stream",
          "name": "stdout",
          "text": [
            "Wizard\n"
          ]
        }
      ]
    },
    {
      "cell_type": "code",
      "source": [
        "class CFG:\n",
        "    train_data_path = \"/data/train/\"\n",
        "    test_data_path = \"/data/test/\"\n",
        "    model_name = \"deep_model\""
      ],
      "metadata": {
        "id": "H33rdKCQY7NU"
      },
      "execution_count": 37,
      "outputs": []
    },
    {
      "cell_type": "code",
      "source": [
        "CFG.model_name"
      ],
      "metadata": {
        "colab": {
          "base_uri": "https://localhost:8080/",
          "height": 35
        },
        "id": "BT96992OZmlk",
        "outputId": "807f9e93-8f9d-4c42-e755-074d81cba6df"
      },
      "execution_count": 38,
      "outputs": [
        {
          "output_type": "execute_result",
          "data": {
            "text/plain": [
              "'deep_model'"
            ],
            "application/vnd.google.colaboratory.intrinsic+json": {
              "type": "string"
            }
          },
          "metadata": {},
          "execution_count": 38
        }
      ]
    },
    {
      "cell_type": "code",
      "source": [
        "def preprocess(cfg):\n",
        "    pass\n",
        "preprocess(CFG)"
      ],
      "metadata": {
        "id": "8CEVil9WZrLH"
      },
      "execution_count": 40,
      "outputs": []
    },
    {
      "cell_type": "markdown",
      "source": [
        "```\n",
        "Wizard 클래스 만들기\n",
        "인스턴스 변수 : hp, exp, mp\n",
        "메소드:\n",
        "    attack:공격하기 출력 exp+5\n",
        "    defend:방어하기 출력 exp+1\n",
        "    attacked: attacked_size인자, 공격받음 출력 hp-attacked_size\n",
        "    magic_skill : mp-3\n",
        "```"
      ],
      "metadata": {
        "id": "yLHtk3i_egLi"
      }
    },
    {
      "cell_type": "code",
      "source": [
        "class Wizard:\n",
        "    def __init__(self,hp,exp,mp):\n",
        "        self.hp = hp\n",
        "        self.mp = mp\n",
        "        self.exp = exp\n",
        "    def attack(self):\n",
        "        print(\"공격하기\")\n",
        "        self.exp += 5\n",
        "    def defend(self):\n",
        "        print(\"방어하기\")\n",
        "        self.exp += 1\n",
        "    def attacked(self,attacked_size):\n",
        "        print(\"공격받음\")\n",
        "        self.hp = self.hp - attacked_size\n",
        "    def magic_skill(self):\n",
        "        self.mp -= 3"
      ],
      "metadata": {
        "id": "f13SfjNHaBov"
      },
      "execution_count": 41,
      "outputs": []
    },
    {
      "cell_type": "code",
      "source": [
        "user1 = Wizard(200,50,100)\n",
        "user1.attack()\n",
        "user1.defend()\n",
        "user1.attacked(100)\n",
        "user1.magic_skill()"
      ],
      "metadata": {
        "colab": {
          "base_uri": "https://localhost:8080/"
        },
        "id": "lN-fdltkgAfD",
        "outputId": "d59e0292-7666-4f9e-c495-ec5174f63848"
      },
      "execution_count": 44,
      "outputs": [
        {
          "output_type": "stream",
          "name": "stdout",
          "text": [
            "공격하기\n",
            "방어하기\n",
            "공격받음\n"
          ]
        }
      ]
    },
    {
      "cell_type": "code",
      "source": [
        "class Car:\n",
        "    def __init__(self,name,color,num):\n",
        "        self.name = name\n",
        "        self.color = color\n",
        "        self.num = num\n",
        "    \n",
        "    def set_info(self,name,color,num):\n",
        "        self.name = name\n",
        "        self.color = color\n",
        "        self.num = num\n",
        "\n",
        "    def info(self):\n",
        "        print(\"차종:\",self.name)\n",
        "        print(\"색깔:\",self.color)\n",
        "        print(\"번호:\",self.num)\n",
        "\n",
        "morning = Car(\"모닝\",\"Blue\",1234)\n",
        "morning.set_info(\"렉서스\",\"Red\",\"3787\")\n",
        "\n",
        "morning.info()"
      ],
      "metadata": {
        "colab": {
          "base_uri": "https://localhost:8080/"
        },
        "id": "j2GfiRaTgQjm",
        "outputId": "05ef8e76-8383-416e-8b62-129936259f01"
      },
      "execution_count": 47,
      "outputs": [
        {
          "output_type": "stream",
          "name": "stdout",
          "text": [
            "차종: 렉서스\n",
            "색깔: Red\n",
            "번호: 3787\n"
          ]
        }
      ]
    },
    {
      "cell_type": "markdown",
      "source": [
        "```\n",
        "다음과 같은 형태의 리스트를 입력받고 , key 이름들을 리스트로 입력 받아 dict 자료형을 생성하는 클래스를 만드시오\n",
        "ex)\n",
        "class DictDataset:\n",
        "    code context\n",
        "data = [\n",
        "        [1,2,3,4,5,6,7,8,9],\n",
        "        [10,20,30,40,50,60,70,80,90]\n",
        "]\n",
        "dict_dt = DictDataset(data,[\"col1\",\"col2\"])\n",
        "dict_dt.dataset\n",
        "Ouput:\n",
        "{'col1': [1, 2, 3, 4, 5, 6, 7, 8, 9],\n",
        " 'col2': [10, 20, 30, 40, 50, 60, 70, 80, 90]}\n",
        "```"
      ],
      "metadata": {
        "id": "KgzlZ6Eax6fZ"
      }
    },
    {
      "cell_type": "code",
      "source": [
        "# 강사님 코드\n",
        "class DictDataset:\n",
        "\n",
        "    def __init__(self, data, keys):\n",
        "        self.dataset = dict(zip(keys,data))\n",
        "\n",
        "data = [\n",
        "[1,2,3,4,5,6,7,8,9],\n",
        "[10,20,30,40,50,60,70,80,90]\n",
        "]\n",
        "keys = [\"col1\",\"col2\"]\n",
        "dict_dt = DictDataset(data,keys)\n",
        "dict_dt.dataset"
      ],
      "metadata": {
        "colab": {
          "base_uri": "https://localhost:8080/"
        },
        "id": "q3nacPtukjiY",
        "outputId": "63bd7b39-9392-4655-df32-18f3b8f99c03"
      },
      "execution_count": 52,
      "outputs": [
        {
          "output_type": "execute_result",
          "data": {
            "text/plain": [
              "{'col1': [1, 2, 3, 4, 5, 6, 7, 8, 9],\n",
              " 'col2': [10, 20, 30, 40, 50, 60, 70, 80, 90]}"
            ]
          },
          "metadata": {},
          "execution_count": 52
        }
      ]
    },
    {
      "cell_type": "markdown",
      "source": [
        "```\n",
        "위에 구현한 클래스에서 추가 메소드를 작성하시오\n",
        "head 메소드와 tail 메소드를 작성하세요\n",
        "head 메소드의 경우 인자값이 없을경우 dict의 모든 value의 앞에서 5개의 값들이 key 와 함께 dict 형태로 리턴되게 하세요\n",
        "tail 메소드의 경우 인자값이 없을경우 dict의 모든 value의 뒤에서 5개의 값들이 key 와 함께 dict 형태로 리턴되게 하세요.\n",
        "(역순으로 출력되는 것이 아님)\n",
        "head , tail 모두 인자값이 주어질경우 인자값 개수만큼 value가 나오게 한다.\n",
        "(1 이상 인자값을 받는다는 가정을 하기 때문에 조건문으로 체크 안해도 됩니다.)\n",
        "ex)\n",
        "class DictDataset:\n",
        "    def __init__(self,lst,keys):\n",
        "        self.dataset = dict(zip(keys,lst))\n",
        "dict_dt = DictDataset(data,[\"col1\",\"col2\"])\n",
        "dict_dt.head()\n",
        "Output:\n",
        "{'col1': [1, 2, 3, 4, 5], 'col2': [10, 20, 30, 40, 50]}\n",
        "dict_dt.head(3)\n",
        "Output:\n",
        "{'col1': [1, 2, 3], 'col2': [10, 20, 30]}\n",
        "dict_dt.tail()\n",
        "Output:\n",
        "{'col1': [5, 6, 7, 8, 9], 'col2': [50, 60, 70, 80, 90]}\n",
        "dict_dt.tail(3)\n",
        "Output:\n",
        "{'col1': [7, 8, 9], 'col2': [70, 80, 90]}\n",
        "```"
      ],
      "metadata": {
        "id": "bkpd9wbEK4z7"
      }
    },
    {
      "cell_type": "code",
      "source": [
        "class DictDataset:\n",
        "    def __init__(self,lst,keys):\n",
        "        self.dataset = dict(zip(keys,lst))\n",
        "    \n",
        "    def head(self,n=5):\n",
        "        # if n == None:\n",
        "        #     dict(n.items(5))\n",
        "        # else:\n",
        "        #     dict(n.items())\n",
        "        result = { k:v[:n] for k,v in self.dataset.items()}\n",
        "        return result\n",
        "        \n",
        "    def tail(self,n=5):\n",
        "        result = { k:v[-n:] for k,v in self.dataset.items()}\n",
        "        return result\n",
        "\n",
        "\n",
        "data = [\n",
        "[1,2,3,4,5,6,7,8,9],\n",
        "[10,20,30,40,50,60,70,80,90]\n",
        "]\n",
        "keys = [\"col1\",\"col2\"]\n",
        "\n",
        "dict_dt = DictDataset(data,keys)\n",
        "dict_dt.tail(3)"
      ],
      "metadata": {
        "colab": {
          "base_uri": "https://localhost:8080/"
        },
        "id": "ZFPsPJ9T1A4x",
        "outputId": "7bc66088-32cb-4b8d-9f8c-3033193d6b33"
      },
      "execution_count": 86,
      "outputs": [
        {
          "output_type": "execute_result",
          "data": {
            "text/plain": [
              "{'col1': [7, 8, 9], 'col2': [70, 80, 90]}"
            ]
          },
          "metadata": {},
          "execution_count": 86
        }
      ]
    },
    {
      "cell_type": "markdown",
      "source": [
        "```\n",
        "초기 숫자를 받아서 객체로 생성하는 클래스를 구현하라\n",
        "```"
      ],
      "metadata": {
        "id": "-SbM1t_cV_iR"
      }
    },
    {
      "cell_type": "code",
      "source": [
        "class Calculator:\n",
        "    def __init__(self,n):\n",
        "        self.x = n\n",
        "    def add(self,n):\n",
        "        self.x += n\n",
        "        return self.x\n",
        "\n",
        "    def sub(self,n):\n",
        "        self.x -= n\n",
        "\n",
        "    def mul(self,n):\n",
        "        self.x *= n\n",
        "\n",
        "    def div(self,n):\n",
        "        if n == 0:\n",
        "            return 0\n",
        "        else:\n",
        "            self.x = self.x / n\n",
        "    def get_result(self):\n",
        "        n = int(self.result)\n",
        "        return n\n",
        "\n",
        "cal1 = Calculator(3)\n",
        "print(cal1.add(3))"
      ],
      "metadata": {
        "colab": {
          "base_uri": "https://localhost:8080/"
        },
        "id": "K612VEJRMO3u",
        "outputId": "ee7ecbd5-d4ee-485b-89e5-1c10cfe22140"
      },
      "execution_count": 88,
      "outputs": [
        {
          "output_type": "stream",
          "name": "stdout",
          "text": [
            "6\n"
          ]
        }
      ]
    },
    {
      "cell_type": "markdown",
      "source": [
        "```\n",
        "구현한 클래스에서 추가 메소드를 작성하시오\n",
        "rename 메소드를 작성하세요\n",
        "딕셔너리를 입력 받아 인스턴스 변수인 dataset의 key를 변경하는 메소드를 작성하세요.\n",
        "ex)\n",
        "dict_dt = DictDataset(data,[\"col1\",\"col2\"])\n",
        "keys_rename = {\n",
        "    \"col1\" : \"num1\",\n",
        "    \"col2\" : \"num2\"\n",
        "}\n",
        "dict_dt.rename(keys_rename)\n",
        "dict_dt.dataset\n",
        "Output:\n",
        "{'num1': [1, 2, 3, 4, 5, 6, 7, 8, 9],\n",
        " 'num2': [10, 20, 30, 40, 50, 60, 70, 80, 90]}\n",
        "```"
      ],
      "metadata": {
        "id": "fJejWs-lakrg"
      }
    },
    {
      "cell_type": "code",
      "source": [
        "class DictDataset:\n",
        "\n",
        "    def __init__(self,lst,keys):\n",
        "        self.dataset = dict(zip(keys,lst))\n",
        "\n",
        "    def head(self,n = 5 ):\n",
        "        result = { k:v[:n] for k,v in self.dataset.items() }\n",
        "        return result\n",
        "\n",
        "    def tail(self,n = 5):\n",
        "        result = { k:v[-n:] for k,v in self.dataset.items() }\n",
        "        return result\n",
        "\n",
        "    def rename(self,i):\n",
        "        for k,v in i.items():\n",
        "            self.dataset[v] = self.dataset.pop(k)\n",
        "        \n",
        "\n",
        "dict_dt = DictDataset(data,[\"col1\",\"col2\"])\n",
        "keys_rename = {\n",
        "    \"col1\" : \"num1\",\n",
        "    \"col2\" : \"num2\"\n",
        "}\n",
        "dict_dt.rename(keys_rename)\n",
        "dict_dt.dataset"
      ],
      "metadata": {
        "colab": {
          "base_uri": "https://localhost:8080/"
        },
        "id": "nuG1SJd-W0jt",
        "outputId": "8c351454-24d9-4a07-cb1a-bf546ea8e69b"
      },
      "execution_count": 89,
      "outputs": [
        {
          "output_type": "execute_result",
          "data": {
            "text/plain": [
              "{'num1': [1, 2, 3, 4, 5, 6, 7, 8, 9],\n",
              " 'num2': [10, 20, 30, 40, 50, 60, 70, 80, 90]}"
            ]
          },
          "metadata": {},
          "execution_count": 89
        }
      ]
    }
  ]
}