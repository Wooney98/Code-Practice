{
  "nbformat": 4,
  "nbformat_minor": 0,
  "metadata": {
    "colab": {
      "name": "02-컬렉션 자료형.ipynb",
      "provenance": [],
      "toc_visible": true,
      "authorship_tag": "ABX9TyPDtIOcuNdn+yOip1RerGH2",
      "include_colab_link": true
    },
    "kernelspec": {
      "name": "python3",
      "display_name": "Python 3"
    },
    "language_info": {
      "name": "python"
    }
  },
  "cells": [
    {
      "cell_type": "markdown",
      "metadata": {
        "id": "view-in-github",
        "colab_type": "text"
      },
      "source": [
        "<a href=\"https://colab.research.google.com/github/Wooney98/playdata-python/blob/main/02_%EC%BB%AC%EB%A0%89%EC%85%98_%EC%9E%90%EB%A3%8C%ED%98%95.ipynb\" target=\"_parent\"><img src=\"https://colab.research.google.com/assets/colab-badge.svg\" alt=\"Open In Colab\"/></a>"
      ]
    },
    {
      "cell_type": "markdown",
      "source": [
        "# 함수\n",
        "- 코드의 반복을 줄이거나 어떠한 기능을 하기 위해 특정 코드를 모여둔것\n",
        "$$\n",
        "f(x) = 2x\n",
        "$$\n"
      ],
      "metadata": {
        "id": "H-ncEoBHXKzF"
      }
    },
    {
      "cell_type": "markdown",
      "source": [
        "# 메소드\n",
        "- 객체(값)에 소속되어 있는 함수\n"
      ],
      "metadata": {
        "id": "9KD4kOyaXUf5"
      }
    },
    {
      "cell_type": "code",
      "source": [
        "S = 'ABCD'\n",
        "\n",
        "len(S)"
      ],
      "metadata": {
        "colab": {
          "base_uri": "https://localhost:8080/"
        },
        "id": "Z2Y8somVXaiF",
        "outputId": "f904201e-dc9f-45bd-8306-b0c58cb148fa"
      },
      "execution_count": null,
      "outputs": [
        {
          "output_type": "execute_result",
          "data": {
            "text/plain": [
              "4"
            ]
          },
          "metadata": {},
          "execution_count": 1
        }
      ]
    },
    {
      "cell_type": "code",
      "source": [
        "S.lower()"
      ],
      "metadata": {
        "colab": {
          "base_uri": "https://localhost:8080/",
          "height": 36
        },
        "id": "4Zv29gBQXh_j",
        "outputId": "28c4df0b-ab1c-4a83-8457-0e27cde50a31"
      },
      "execution_count": null,
      "outputs": [
        {
          "output_type": "execute_result",
          "data": {
            "text/plain": [
              "'abcd'"
            ],
            "application/vnd.google.colaboratory.intrinsic+json": {
              "type": "string"
            }
          },
          "metadata": {},
          "execution_count": 2
        }
      ]
    },
    {
      "cell_type": "markdown",
      "source": [
        "# 컬렉션 자료형(Collection data type)\n",
        "- 여러가지 요소를 하나로 묶어서 담을 수 있는 데이터 타입\n",
        "    - 문법적인 요소를 빼고 다 담을 수 있다.\n",
        "    - 격체, 변수, 함수, 클래스... 등 담을 수 있다.\n",
        "    - `list, set, dict, tuple`\n",
        "    "
      ],
      "metadata": {
        "id": "iypL-p3JXpGN"
      }
    },
    {
      "cell_type": "markdown",
      "source": [
        "# 자료형의 특징\n",
        "- Sequence 자료형\n",
        "    - 열거, 연속 되어있음.\n",
        "    - 순서, 순번(index)이 있음.\n",
        "- mutable 자료형\n",
        "    - 수정 가능한 객체\n",
        "    - 컬렉션 자료형 : `list, set, dict`\n",
        "- immutable 자료형\n",
        "    - 수정 불가능한 객체\n",
        "    - 기본 자료형 : `int, float, str, bool` \n",
        "    - 컬렉션 자료형 : `tuple`"
      ],
      "metadata": {
        "id": "EE7PnNA5YBOb"
      }
    },
    {
      "cell_type": "markdown",
      "source": [
        "#list\n",
        "- Sequence 자료형\n",
        "- mutable 자료형\n",
        "    - 수정 가능\n",
        "- 중복 데이터 저장 가능\n",
        "- `[]`를 이용해서 만들 수 있다."
      ],
      "metadata": {
        "id": "AFGCJnSoZCWA"
      }
    },
    {
      "cell_type": "code",
      "source": [
        "lst = [1,2,3,4,4, 'four', None, 7.0]\n",
        "lst"
      ],
      "metadata": {
        "colab": {
          "base_uri": "https://localhost:8080/"
        },
        "id": "slwsCs5MXlB-",
        "outputId": "1821378e-18a9-44d5-d183-ba23f68780bb"
      },
      "execution_count": null,
      "outputs": [
        {
          "output_type": "execute_result",
          "data": {
            "text/plain": [
              "[1, 2, 3, 4, 4, 'four', None, 7.0]"
            ]
          },
          "metadata": {},
          "execution_count": 6
        }
      ]
    },
    {
      "cell_type": "code",
      "source": [
        "type(lst)"
      ],
      "metadata": {
        "colab": {
          "base_uri": "https://localhost:8080/"
        },
        "id": "TO_N86lkZbdx",
        "outputId": "1cab037d-52df-4d30-933e-45719173ecfb"
      },
      "execution_count": null,
      "outputs": [
        {
          "output_type": "execute_result",
          "data": {
            "text/plain": [
              "list"
            ]
          },
          "metadata": {},
          "execution_count": 7
        }
      ]
    },
    {
      "cell_type": "code",
      "source": [
        "len(lst)"
      ],
      "metadata": {
        "colab": {
          "base_uri": "https://localhost:8080/"
        },
        "id": "2EeHk_g9Zsiu",
        "outputId": "524eeadf-ffa4-4d8c-c58d-413806e702a3"
      },
      "execution_count": null,
      "outputs": [
        {
          "output_type": "execute_result",
          "data": {
            "text/plain": [
              "8"
            ]
          },
          "metadata": {},
          "execution_count": 8
        }
      ]
    },
    {
      "cell_type": "code",
      "source": [
        "lst = [1,2,3,[1,2]]\n",
        "len(lst)"
      ],
      "metadata": {
        "colab": {
          "base_uri": "https://localhost:8080/"
        },
        "id": "qTpMw0oMZxXb",
        "outputId": "7ec45cf2-3456-4e5e-d630-5c07b55a3d2e"
      },
      "execution_count": null,
      "outputs": [
        {
          "output_type": "execute_result",
          "data": {
            "text/plain": [
              "4"
            ]
          },
          "metadata": {},
          "execution_count": 9
        }
      ]
    },
    {
      "cell_type": "code",
      "source": [
        "lst = [11,200,7,9,10]\n",
        "sorted(lst)  # 순방향 정렬 메서드"
      ],
      "metadata": {
        "colab": {
          "base_uri": "https://localhost:8080/"
        },
        "id": "z-he9HtMZ4Ip",
        "outputId": "95de6b02-ed0d-45d5-a858-47e7c063d483"
      },
      "execution_count": null,
      "outputs": [
        {
          "output_type": "execute_result",
          "data": {
            "text/plain": [
              "[7, 9, 10, 11, 200]"
            ]
          },
          "metadata": {},
          "execution_count": 14
        }
      ]
    },
    {
      "cell_type": "code",
      "source": [
        "max(lst)"
      ],
      "metadata": {
        "colab": {
          "base_uri": "https://localhost:8080/"
        },
        "id": "VK1g31TkaXzb",
        "outputId": "32b2045a-3712-41b3-ad03-d526cd976228"
      },
      "execution_count": null,
      "outputs": [
        {
          "output_type": "execute_result",
          "data": {
            "text/plain": [
              "200"
            ]
          },
          "metadata": {},
          "execution_count": 15
        }
      ]
    },
    {
      "cell_type": "code",
      "source": [
        "min(lst)"
      ],
      "metadata": {
        "colab": {
          "base_uri": "https://localhost:8080/"
        },
        "id": "jIte9NJqal9P",
        "outputId": "1234ae25-91d4-4393-9c21-16c5d846a462"
      },
      "execution_count": null,
      "outputs": [
        {
          "output_type": "execute_result",
          "data": {
            "text/plain": [
              "7"
            ]
          },
          "metadata": {},
          "execution_count": 16
        }
      ]
    },
    {
      "cell_type": "code",
      "source": [
        "sum(lst)"
      ],
      "metadata": {
        "colab": {
          "base_uri": "https://localhost:8080/"
        },
        "id": "LiZa2XoRanWJ",
        "outputId": "2a6b7570-7b56-40eb-ba47-4eeb1ffbeab8"
      },
      "execution_count": null,
      "outputs": [
        {
          "output_type": "execute_result",
          "data": {
            "text/plain": [
              "237"
            ]
          },
          "metadata": {},
          "execution_count": 17
        }
      ]
    },
    {
      "cell_type": "code",
      "source": [
        "avg = sum(lst)/len(lst)\n",
        "avg"
      ],
      "metadata": {
        "colab": {
          "base_uri": "https://localhost:8080/"
        },
        "id": "as7QI_MhaoEM",
        "outputId": "867a21d2-92ea-4455-de70-15ecdab96b68"
      },
      "execution_count": null,
      "outputs": [
        {
          "output_type": "execute_result",
          "data": {
            "text/plain": [
              "47.4"
            ]
          },
          "metadata": {},
          "execution_count": 20
        }
      ]
    },
    {
      "cell_type": "markdown",
      "source": [
        "## 시퀀스 다루기\n",
        "- Sequence는 순번이 있다.\n",
        "    - 순번을 index 라고 한다.\n",
        "- 파이썬의 인덱스는 두 종류가 있다.\n",
        "    - 양수 인덱스\n",
        "        - `0`을 포함하여 시작.\n",
        "        - 왼쪽에서 오른쪽으로 1씩 증가\n",
        "    - 음수 인덱스\n",
        "        - `-1`부터 시작.\n",
        "        - 오른쪽에서 왼쪽으로 1씩 감소\n",
        "- 인덱스는 `정수`로 선언"
      ],
      "metadata": {
        "id": "e7jQfI1jbtK4"
      }
    },
    {
      "cell_type": "code",
      "source": [
        "lst = [1,2,3,4,4, 'four', None, 7.0]\n",
        "\n",
        "lst[0] "
      ],
      "metadata": {
        "colab": {
          "base_uri": "https://localhost:8080/"
        },
        "id": "pafqwuE6bDa1",
        "outputId": "be008a83-9cc8-4dce-8721-741a9ab7714a"
      },
      "execution_count": null,
      "outputs": [
        {
          "output_type": "execute_result",
          "data": {
            "text/plain": [
              "1"
            ]
          },
          "metadata": {},
          "execution_count": 29
        }
      ]
    },
    {
      "cell_type": "code",
      "source": [
        "lst[3]"
      ],
      "metadata": {
        "colab": {
          "base_uri": "https://localhost:8080/"
        },
        "id": "3DcL1QbCcpab",
        "outputId": "03f661a4-4416-4b46-97bd-a1604a4db34b"
      },
      "execution_count": null,
      "outputs": [
        {
          "output_type": "execute_result",
          "data": {
            "text/plain": [
              "4"
            ]
          },
          "metadata": {},
          "execution_count": 25
        }
      ]
    },
    {
      "cell_type": "code",
      "source": [
        "lst[4]"
      ],
      "metadata": {
        "colab": {
          "base_uri": "https://localhost:8080/"
        },
        "id": "jmMzccpIct71",
        "outputId": "446bef61-80a2-4bc4-b4b3-633f6db37348"
      },
      "execution_count": null,
      "outputs": [
        {
          "output_type": "execute_result",
          "data": {
            "text/plain": [
              "4"
            ]
          },
          "metadata": {},
          "execution_count": 26
        }
      ]
    },
    {
      "cell_type": "code",
      "source": [
        "lst[-2] # None"
      ],
      "metadata": {
        "id": "5rDVifuVcv5R"
      },
      "execution_count": null,
      "outputs": []
    },
    {
      "cell_type": "code",
      "source": [
        "lst[-1]"
      ],
      "metadata": {
        "colab": {
          "base_uri": "https://localhost:8080/"
        },
        "id": "yQz0wMfvcz9m",
        "outputId": "5ca407df-ed2c-4dc0-a075-cc232de126cb"
      },
      "execution_count": null,
      "outputs": [
        {
          "output_type": "execute_result",
          "data": {
            "text/plain": [
              "7.0"
            ]
          },
          "metadata": {},
          "execution_count": 28
        }
      ]
    },
    {
      "cell_type": "markdown",
      "source": [
        "## 슬라이싱(Slicing)\n",
        "- 인덱스를 사용해서 시퀀스를 잘라낸다.\n",
        "- 시퀀스에서 특정 범위를 가리킨다.\n",
        "- `[ a: b: c]` \n",
        "    - a = start값\n",
        "    - b = end값\n",
        "    - c = step값(증가, 배수)\n",
        "- `start ~ end-1`부분을 `step`만큼 건너 뛰면서 잘라낸다.\n"
      ],
      "metadata": {
        "id": "uUX1-Eiuc-af"
      }
    },
    {
      "cell_type": "code",
      "source": [
        "lst = [\"a\",\"b\",\"c\",\"d\",\"e\",\"f\",\"g\"]\n",
        "lst"
      ],
      "metadata": {
        "colab": {
          "base_uri": "https://localhost:8080/"
        },
        "id": "N1DHJoDic1j8",
        "outputId": "76768939-86b4-4249-8f7a-e72ed7e3c7ab"
      },
      "execution_count": null,
      "outputs": [
        {
          "output_type": "execute_result",
          "data": {
            "text/plain": [
              "['a', 'b', 'c', 'd', 'e', 'f', 'g']"
            ]
          },
          "metadata": {},
          "execution_count": 30
        }
      ]
    },
    {
      "cell_type": "code",
      "source": [
        "lst[0:3]"
      ],
      "metadata": {
        "colab": {
          "base_uri": "https://localhost:8080/"
        },
        "id": "gCffEjwEd8SQ",
        "outputId": "e09ec408-30df-4211-b20e-cec75855d64c"
      },
      "execution_count": null,
      "outputs": [
        {
          "output_type": "execute_result",
          "data": {
            "text/plain": [
              "['a', 'b', 'c']"
            ]
          },
          "metadata": {},
          "execution_count": 31
        }
      ]
    },
    {
      "cell_type": "code",
      "source": [
        "lst[2:4]"
      ],
      "metadata": {
        "colab": {
          "base_uri": "https://localhost:8080/"
        },
        "id": "hZw1UwHid9da",
        "outputId": "fe7e1ddd-d847-45de-d23a-8c7af2a0cd80"
      },
      "execution_count": null,
      "outputs": [
        {
          "output_type": "execute_result",
          "data": {
            "text/plain": [
              "['c', 'd']"
            ]
          },
          "metadata": {},
          "execution_count": 32
        }
      ]
    },
    {
      "cell_type": "code",
      "source": [
        "lst[-3:-1]"
      ],
      "metadata": {
        "colab": {
          "base_uri": "https://localhost:8080/"
        },
        "id": "o4Whnsukd_ed",
        "outputId": "310ef912-bffc-4cd2-b849-00578ab84ea5"
      },
      "execution_count": null,
      "outputs": [
        {
          "output_type": "execute_result",
          "data": {
            "text/plain": [
              "['e', 'f']"
            ]
          },
          "metadata": {},
          "execution_count": 39
        }
      ]
    },
    {
      "cell_type": "markdown",
      "source": [
        "- `start, end, step`은 생략이 가능하다.\n",
        "- `start`생략 시, `0`이 들어간다.\n",
        "- `end`생략 시, `시퀀스의 길이(len())`가 들어간다."
      ],
      "metadata": {
        "id": "Ji96c765e7CZ"
      }
    },
    {
      "cell_type": "code",
      "source": [
        "lst[:] # lst[0:len(lst)]"
      ],
      "metadata": {
        "colab": {
          "base_uri": "https://localhost:8080/"
        },
        "id": "s8mwstH2eNv7",
        "outputId": "94858d88-3a9d-4c56-e586-30b7a8b82635"
      },
      "execution_count": null,
      "outputs": [
        {
          "output_type": "execute_result",
          "data": {
            "text/plain": [
              "['a', 'b', 'c', 'd', 'e', 'f', 'g']"
            ]
          },
          "metadata": {},
          "execution_count": 40
        }
      ]
    },
    {
      "cell_type": "code",
      "source": [
        "lst[:5]"
      ],
      "metadata": {
        "colab": {
          "base_uri": "https://localhost:8080/"
        },
        "id": "_MM3x5ApfbWg",
        "outputId": "acd2bfc5-bca8-4e6a-c2b5-97e1d45529d4"
      },
      "execution_count": null,
      "outputs": [
        {
          "output_type": "execute_result",
          "data": {
            "text/plain": [
              "['a', 'b', 'c', 'd', 'e']"
            ]
          },
          "metadata": {},
          "execution_count": 42
        }
      ]
    },
    {
      "cell_type": "code",
      "source": [
        "lst[-5:]"
      ],
      "metadata": {
        "colab": {
          "base_uri": "https://localhost:8080/"
        },
        "id": "i0gVaahYfpnX",
        "outputId": "1a3bb0a7-1a9e-4d9f-fa07-d068feb51629"
      },
      "execution_count": null,
      "outputs": [
        {
          "output_type": "execute_result",
          "data": {
            "text/plain": [
              "['c', 'd', 'e', 'f', 'g']"
            ]
          },
          "metadata": {},
          "execution_count": 46
        }
      ]
    },
    {
      "cell_type": "code",
      "source": [
        "lst[:-1]"
      ],
      "metadata": {
        "colab": {
          "base_uri": "https://localhost:8080/"
        },
        "id": "HAokXasyf8r7",
        "outputId": "a236a289-7fc0-4f8a-e96b-c1fd5f5133b1"
      },
      "execution_count": null,
      "outputs": [
        {
          "output_type": "execute_result",
          "data": {
            "text/plain": [
              "['a', 'b', 'c', 'd', 'e', 'f']"
            ]
          },
          "metadata": {},
          "execution_count": 48
        }
      ]
    },
    {
      "cell_type": "markdown",
      "source": [
        "- step\n",
        "    - 지정한 범위에서 `step` 만큼 건너뛰면서 슬라이싱\n",
        "    - `step`을 생략하면 기본적으로 1이 주어진다."
      ],
      "metadata": {
        "id": "zRwkGbkUj-h1"
      }
    },
    {
      "cell_type": "code",
      "source": [
        "lst[0:len(lst):1]"
      ],
      "metadata": {
        "colab": {
          "base_uri": "https://localhost:8080/"
        },
        "id": "SpyDXJIHkUAi",
        "outputId": "ca23e844-836c-4f26-8789-5e663073fdb0"
      },
      "execution_count": null,
      "outputs": [
        {
          "output_type": "execute_result",
          "data": {
            "text/plain": [
              "['a', 'b', 'c', 'd', 'e', 'f', 'g']"
            ]
          },
          "metadata": {},
          "execution_count": 50
        }
      ]
    },
    {
      "cell_type": "markdown",
      "source": [
        "- `step` 부분을 양수, 음수를 이용하여 방향 설정 가능\n",
        "    - 양수 = 정방향(왼->오)\n",
        "    - 음수 = 역방향(오->왼)"
      ],
      "metadata": {
        "id": "_sNYyeG-kpYz"
      }
    },
    {
      "cell_type": "code",
      "source": [
        "lst[::2]"
      ],
      "metadata": {
        "colab": {
          "base_uri": "https://localhost:8080/"
        },
        "id": "48vfzCzqkWms",
        "outputId": "9ee73321-8b67-4aa5-db50-20d97ca42ca4"
      },
      "execution_count": null,
      "outputs": [
        {
          "output_type": "execute_result",
          "data": {
            "text/plain": [
              "['a', 'c', 'e', 'g']"
            ]
          },
          "metadata": {},
          "execution_count": 51
        }
      ]
    },
    {
      "cell_type": "code",
      "source": [
        "lst[::-2]"
      ],
      "metadata": {
        "colab": {
          "base_uri": "https://localhost:8080/"
        },
        "id": "X0aPEsU1kgu8",
        "outputId": "9f25a730-0dd9-467c-afbd-3f27fbb72519"
      },
      "execution_count": null,
      "outputs": [
        {
          "output_type": "execute_result",
          "data": {
            "text/plain": [
              "['g', 'e', 'c', 'a']"
            ]
          },
          "metadata": {},
          "execution_count": 53
        }
      ]
    },
    {
      "cell_type": "code",
      "source": [
        "lst = [10,20,30,40,50,60,70]\n",
        "lst"
      ],
      "metadata": {
        "colab": {
          "base_uri": "https://localhost:8080/"
        },
        "id": "3C2b6ryDkjZ6",
        "outputId": "fdb33e2b-0c7b-4cea-d226-80f537a5185e"
      },
      "execution_count": null,
      "outputs": [
        {
          "output_type": "execute_result",
          "data": {
            "text/plain": [
              "[10, 20, 30, 40, 50, 60, 70]"
            ]
          },
          "metadata": {},
          "execution_count": 57
        }
      ]
    },
    {
      "cell_type": "code",
      "source": [
        "lst[3:4:1]"
      ],
      "metadata": {
        "colab": {
          "base_uri": "https://localhost:8080/"
        },
        "id": "Y9WtEFd6lQfc",
        "outputId": "f5f92c5c-262c-4196-c5f0-4a6f72761922"
      },
      "execution_count": null,
      "outputs": [
        {
          "output_type": "execute_result",
          "data": {
            "text/plain": [
              "[40]"
            ]
          },
          "metadata": {},
          "execution_count": 58
        }
      ]
    },
    {
      "cell_type": "code",
      "source": [
        "lst[-2:-6:-1]"
      ],
      "metadata": {
        "colab": {
          "base_uri": "https://localhost:8080/"
        },
        "id": "_LaCU-CilzcB",
        "outputId": "2ece4f2c-5137-4f86-9939-82c915485331"
      },
      "execution_count": null,
      "outputs": [
        {
          "output_type": "execute_result",
          "data": {
            "text/plain": [
              "[60, 50, 40, 30]"
            ]
          },
          "metadata": {},
          "execution_count": 62
        }
      ]
    },
    {
      "cell_type": "code",
      "source": [
        "lst[5:1:-1]"
      ],
      "metadata": {
        "colab": {
          "base_uri": "https://localhost:8080/"
        },
        "id": "kD85Hj9zl5Cd",
        "outputId": "1cd6ffd1-f215-4135-ded3-b81c11f767f9"
      },
      "execution_count": null,
      "outputs": [
        {
          "output_type": "execute_result",
          "data": {
            "text/plain": [
              "[60, 50, 40, 30]"
            ]
          },
          "metadata": {},
          "execution_count": 63
        }
      ]
    },
    {
      "cell_type": "markdown",
      "source": [
        "### 10보다 작은 3의 배수만 오름차순으로 슬라이싱 하시오."
      ],
      "metadata": {
        "id": "ilhbVJxPnx-v"
      }
    },
    {
      "cell_type": "code",
      "source": [
        "num_list = [2,3,4,5,6,7,8,9,10,11,12,13,14,15]\n",
        "num_list"
      ],
      "metadata": {
        "colab": {
          "base_uri": "https://localhost:8080/"
        },
        "id": "JSdMzN-mmjeW",
        "outputId": "c95900c7-3595-40e1-9a86-cd34408b3948"
      },
      "execution_count": null,
      "outputs": [
        {
          "output_type": "execute_result",
          "data": {
            "text/plain": [
              "[2, 3, 4, 5, 6, 7, 8, 9, 10, 11, 12, 13, 14, 15]"
            ]
          },
          "metadata": {},
          "execution_count": 65
        }
      ]
    },
    {
      "cell_type": "code",
      "source": [
        "num_list[1:-6:3]"
      ],
      "metadata": {
        "colab": {
          "base_uri": "https://localhost:8080/"
        },
        "id": "9qGgnHism-AX",
        "outputId": "2375756d-09f9-4f8b-b034-7f8358b16928"
      },
      "execution_count": null,
      "outputs": [
        {
          "output_type": "execute_result",
          "data": {
            "text/plain": [
              "[3, 6, 9]"
            ]
          },
          "metadata": {},
          "execution_count": 73
        }
      ]
    },
    {
      "cell_type": "markdown",
      "source": [
        "## mutable 한 리스트"
      ],
      "metadata": {
        "id": "9dwgDKo_o9WM"
      }
    },
    {
      "cell_type": "code",
      "source": [
        "lst = [1,2,3,4,5,6,7,8,9,10]\n",
        "lst[1] = 10000\n",
        "lst"
      ],
      "metadata": {
        "colab": {
          "base_uri": "https://localhost:8080/"
        },
        "id": "4l8SWsD1nICL",
        "outputId": "48d6051d-29d5-4538-f80b-4a85e06741b1"
      },
      "execution_count": null,
      "outputs": [
        {
          "output_type": "execute_result",
          "data": {
            "text/plain": [
              "[1, 10000, 3, 4, 5, 6, 7, 8, 9, 10]"
            ]
          },
          "metadata": {},
          "execution_count": 126
        }
      ]
    },
    {
      "cell_type": "code",
      "source": [
        "lst[:1] = 3\n",
        "lst\n",
        "# lst[:1] = 3 은 에러\n",
        "# why? 슬라이싱한 객체는 단일값이 아닌 리스트로 반환되기때문"
      ],
      "metadata": {
        "colab": {
          "base_uri": "https://localhost:8080/",
          "height": 229
        },
        "id": "6jDX6ca2pIbj",
        "outputId": "cdbef7bd-37db-4023-f0e6-760a081ee6c9"
      },
      "execution_count": null,
      "outputs": [
        {
          "output_type": "error",
          "ename": "TypeError",
          "evalue": "ignored",
          "traceback": [
            "\u001b[0;31m---------------------------------------------------------------------------\u001b[0m",
            "\u001b[0;31mTypeError\u001b[0m                                 Traceback (most recent call last)",
            "\u001b[0;32m<ipython-input-122-94278e4c491c>\u001b[0m in \u001b[0;36m<module>\u001b[0;34m()\u001b[0m\n\u001b[0;32m----> 1\u001b[0;31m \u001b[0mlst\u001b[0m\u001b[0;34m[\u001b[0m\u001b[0;34m:\u001b[0m\u001b[0;36m1\u001b[0m\u001b[0;34m]\u001b[0m \u001b[0;34m=\u001b[0m \u001b[0;36m3\u001b[0m\u001b[0;34m\u001b[0m\u001b[0;34m\u001b[0m\u001b[0m\n\u001b[0m\u001b[1;32m      2\u001b[0m \u001b[0mlst\u001b[0m\u001b[0;34m\u001b[0m\u001b[0;34m\u001b[0m\u001b[0m\n\u001b[1;32m      3\u001b[0m \u001b[0;31m# lst[:1] = 3 은 에러\u001b[0m\u001b[0;34m\u001b[0m\u001b[0;34m\u001b[0m\u001b[0;34m\u001b[0m\u001b[0m\n\u001b[1;32m      4\u001b[0m \u001b[0;31m# why? 슬라이싱한 객체는 단일값이 아닌 리스트로 반환되기때문\u001b[0m\u001b[0;34m\u001b[0m\u001b[0;34m\u001b[0m\u001b[0;34m\u001b[0m\u001b[0m\n",
            "\u001b[0;31mTypeError\u001b[0m: can only assign an iterable"
          ]
        }
      ]
    },
    {
      "cell_type": "code",
      "source": [
        "lst[1:] = [3] \n",
        "lst"
      ],
      "metadata": {
        "colab": {
          "base_uri": "https://localhost:8080/"
        },
        "id": "DmIunGiApm4p",
        "outputId": "1980e66c-99ee-4405-8b53-c819df58cb68"
      },
      "execution_count": null,
      "outputs": [
        {
          "output_type": "execute_result",
          "data": {
            "text/plain": [
              "[1, 3]"
            ]
          },
          "metadata": {},
          "execution_count": 128
        }
      ]
    },
    {
      "cell_type": "code",
      "source": [
        "lst[1:] = [1001,1002,1003,1004]\n",
        "lst"
      ],
      "metadata": {
        "colab": {
          "base_uri": "https://localhost:8080/"
        },
        "id": "sKTahJzsptzk",
        "outputId": "5caf95b0-4263-4805-a34d-5931522dda5c"
      },
      "execution_count": null,
      "outputs": [
        {
          "output_type": "execute_result",
          "data": {
            "text/plain": [
              "[1, 1001, 1002, 1003, 1004]"
            ]
          },
          "metadata": {},
          "execution_count": 79
        }
      ]
    },
    {
      "cell_type": "markdown",
      "source": [
        "- step 을 2 이상을 넣어 연속적인 공간이 아닌 리스트가 슬라이싱 되면 수정이 안된다."
      ],
      "metadata": {
        "id": "JvePZRg0qhae"
      }
    },
    {
      "cell_type": "code",
      "source": [
        "lst = [1,2,3,4,5,6,7,8,9,10]\n",
        "lst[1::2] = [0] "
      ],
      "metadata": {
        "colab": {
          "base_uri": "https://localhost:8080/",
          "height": 192
        },
        "id": "DiVNeWAkp3dr",
        "outputId": "8cbd2819-cf5b-42d7-f4bb-a972acc2bb88"
      },
      "execution_count": null,
      "outputs": [
        {
          "output_type": "error",
          "ename": "ValueError",
          "evalue": "ignored",
          "traceback": [
            "\u001b[0;31m---------------------------------------------------------------------------\u001b[0m",
            "\u001b[0;31mValueError\u001b[0m                                Traceback (most recent call last)",
            "\u001b[0;32m<ipython-input-80-8e2826eae555>\u001b[0m in \u001b[0;36m<module>\u001b[0;34m()\u001b[0m\n\u001b[1;32m      1\u001b[0m \u001b[0mlst\u001b[0m \u001b[0;34m=\u001b[0m \u001b[0;34m[\u001b[0m\u001b[0;36m1\u001b[0m\u001b[0;34m,\u001b[0m\u001b[0;36m2\u001b[0m\u001b[0;34m,\u001b[0m\u001b[0;36m3\u001b[0m\u001b[0;34m,\u001b[0m\u001b[0;36m4\u001b[0m\u001b[0;34m,\u001b[0m\u001b[0;36m5\u001b[0m\u001b[0;34m,\u001b[0m\u001b[0;36m6\u001b[0m\u001b[0;34m,\u001b[0m\u001b[0;36m7\u001b[0m\u001b[0;34m,\u001b[0m\u001b[0;36m8\u001b[0m\u001b[0;34m,\u001b[0m\u001b[0;36m9\u001b[0m\u001b[0;34m,\u001b[0m\u001b[0;36m10\u001b[0m\u001b[0;34m]\u001b[0m\u001b[0;34m\u001b[0m\u001b[0;34m\u001b[0m\u001b[0m\n\u001b[0;32m----> 2\u001b[0;31m \u001b[0mlst\u001b[0m\u001b[0;34m[\u001b[0m\u001b[0;36m1\u001b[0m\u001b[0;34m:\u001b[0m\u001b[0;34m:\u001b[0m\u001b[0;36m2\u001b[0m\u001b[0;34m]\u001b[0m \u001b[0;34m=\u001b[0m \u001b[0;34m[\u001b[0m\u001b[0;36m0\u001b[0m\u001b[0;34m]\u001b[0m\u001b[0;34m\u001b[0m\u001b[0;34m\u001b[0m\u001b[0m\n\u001b[0m",
            "\u001b[0;31mValueError\u001b[0m: attempt to assign sequence of size 1 to extended slice of size 5"
          ]
        }
      ]
    },
    {
      "cell_type": "markdown",
      "source": [
        "## `list` 의 메서드"
      ],
      "metadata": {
        "id": "y0LRn4-uqoo0"
      }
    },
    {
      "cell_type": "markdown",
      "source": [
        "- `append()`\n",
        "    - 리스트 맨뒤에 값을 추가"
      ],
      "metadata": {
        "id": "-fbh2sI3q3Sl"
      }
    },
    {
      "cell_type": "code",
      "source": [
        "lst = [1,2,3,4]\n",
        "lst.append(0)\n",
        "lst"
      ],
      "metadata": {
        "colab": {
          "base_uri": "https://localhost:8080/"
        },
        "id": "LT3_w2eIqZNi",
        "outputId": "7cce131d-7dbc-4e0d-bbd7-339fb7df6a94"
      },
      "execution_count": null,
      "outputs": [
        {
          "output_type": "execute_result",
          "data": {
            "text/plain": [
              "[1, 2, 3, 4, 0]"
            ]
          },
          "metadata": {},
          "execution_count": 131
        }
      ]
    },
    {
      "cell_type": "markdown",
      "source": [
        "- `sort()`\n",
        "    - 리스트 항목을 순방향으로 정렬"
      ],
      "metadata": {
        "id": "fnE9RJQUsvhn"
      }
    },
    {
      "cell_type": "code",
      "source": [
        "lst.sort()\n",
        "lst"
      ],
      "metadata": {
        "colab": {
          "base_uri": "https://localhost:8080/"
        },
        "id": "DpjKjnhmyDrp",
        "outputId": "4decc344-05ab-48a2-ac50-f9b275d0dc04"
      },
      "execution_count": null,
      "outputs": [
        {
          "output_type": "execute_result",
          "data": {
            "text/plain": [
              "[0, 1, 2, 3, 4]"
            ]
          },
          "metadata": {},
          "execution_count": 132
        }
      ]
    },
    {
      "cell_type": "code",
      "source": [
        "sorted(lst)"
      ],
      "metadata": {
        "colab": {
          "base_uri": "https://localhost:8080/"
        },
        "id": "Rq6328pYrPef",
        "outputId": "fc8849cb-9cd3-40e6-bc22-7f24c4743c8d"
      },
      "execution_count": null,
      "outputs": [
        {
          "output_type": "execute_result",
          "data": {
            "text/plain": [
              "[0, 1, 2, 3, 4]"
            ]
          },
          "metadata": {},
          "execution_count": 102
        }
      ]
    },
    {
      "cell_type": "code",
      "source": [
        "lst"
      ],
      "metadata": {
        "colab": {
          "base_uri": "https://localhost:8080/"
        },
        "id": "N62yOAhXrTov",
        "outputId": "78264e7e-0b31-4d7b-b3a5-6647f7c62be5"
      },
      "execution_count": null,
      "outputs": [
        {
          "output_type": "execute_result",
          "data": {
            "text/plain": [
              "[1, 2, 3, 4, 0]"
            ]
          },
          "metadata": {},
          "execution_count": 103
        }
      ]
    },
    {
      "cell_type": "code",
      "source": [
        "#함수와 메서드의 차이 (sorted()와 sort())\n",
        "#함수는 sum(), abs() 같이 독립적으로 사용되는 반면, 메서드는 a라는 객체가 존재할 때 a.upper(), a.lower()와 같은 형태로 사용됩니다. "
      ],
      "metadata": {
        "id": "FMEEK-B0rG9T"
      },
      "execution_count": null,
      "outputs": []
    },
    {
      "cell_type": "markdown",
      "source": [
        "$$\n",
        "funtion ⊃ method\n",
        "$$"
      ],
      "metadata": {
        "id": "bm_Ti9sOxt3Y"
      }
    },
    {
      "cell_type": "markdown",
      "source": [
        "- `pop()`\n",
        "    - 제일 뒤에 있는 데이터를 꺼내고 삭제\n",
        "    - 인덱스 값을 줄 경우 해당 인덱스 값을 꺼내고 삭제"
      ],
      "metadata": {
        "id": "yAU1-F-9smnD"
      }
    },
    {
      "cell_type": "code",
      "source": [
        "lst"
      ],
      "metadata": {
        "colab": {
          "base_uri": "https://localhost:8080/"
        },
        "id": "tfJK0t5ys10Y",
        "outputId": "45df08c6-18a4-468b-b380-001720cd890a"
      },
      "execution_count": null,
      "outputs": [
        {
          "output_type": "execute_result",
          "data": {
            "text/plain": [
              "[0, 1, 2, 3, 4]"
            ]
          },
          "metadata": {},
          "execution_count": 106
        }
      ]
    },
    {
      "cell_type": "code",
      "source": [
        "print(lst.pop())\n",
        "print(lst)\n",
        "\n",
        "print(lst.pop())\n",
        "print(lst)"
      ],
      "metadata": {
        "colab": {
          "base_uri": "https://localhost:8080/"
        },
        "id": "pPJZcqAms9Fo",
        "outputId": "03215af7-3a4c-4cbc-951e-13cfdfa440fe"
      },
      "execution_count": null,
      "outputs": [
        {
          "output_type": "stream",
          "name": "stdout",
          "text": [
            "4\n",
            "[0, 1, 2, 3]\n",
            "3\n",
            "[0, 1, 2]\n"
          ]
        }
      ]
    },
    {
      "cell_type": "code",
      "source": [
        "lst.pop(1)\n",
        "lst"
      ],
      "metadata": {
        "colab": {
          "base_uri": "https://localhost:8080/"
        },
        "id": "RUA49Q3ftOz4",
        "outputId": "9caff285-1a65-40c8-b347-eba88c1c804f"
      },
      "execution_count": null,
      "outputs": [
        {
          "output_type": "execute_result",
          "data": {
            "text/plain": [
              "[0, 2]"
            ]
          },
          "metadata": {},
          "execution_count": 108
        }
      ]
    },
    {
      "cell_type": "markdown",
      "source": [
        "- `extend()`\n",
        "    - 리스트와 리스트를 합친다."
      ],
      "metadata": {
        "id": "Ixizq5KYtcXO"
      }
    },
    {
      "cell_type": "code",
      "source": [
        "lst = [1,2,3]\n",
        "lst.extend([4,5,6])\n",
        "lst"
      ],
      "metadata": {
        "colab": {
          "base_uri": "https://localhost:8080/"
        },
        "id": "pSTgPvgJtbKZ",
        "outputId": "9d38e26d-304e-4eef-ad31-291b10cd6af9"
      },
      "execution_count": null,
      "outputs": [
        {
          "output_type": "execute_result",
          "data": {
            "text/plain": [
              "[1, 2, 3, 4, 5, 6]"
            ]
          },
          "metadata": {},
          "execution_count": 109
        }
      ]
    },
    {
      "cell_type": "markdown",
      "source": [
        "- append()와 차이점"
      ],
      "metadata": {
        "id": "2BwsxYpHtrKZ"
      }
    },
    {
      "cell_type": "code",
      "source": [
        "lst = [1,2,3]\n",
        "lst.append([4,5,6])\n",
        "lst"
      ],
      "metadata": {
        "colab": {
          "base_uri": "https://localhost:8080/"
        },
        "id": "Vp2PxN60tokR",
        "outputId": "bff4fb82-d7bf-44e2-8010-8546f8e1b946"
      },
      "execution_count": null,
      "outputs": [
        {
          "output_type": "execute_result",
          "data": {
            "text/plain": [
              "[1, 2, 3, [4, 5, 6]]"
            ]
          },
          "metadata": {},
          "execution_count": 110
        }
      ]
    },
    {
      "cell_type": "markdown",
      "source": [
        "- `insert()`\n",
        "    - 인덱스 위치에 값을 추가한다."
      ],
      "metadata": {
        "id": "eCSW5FSit5Mi"
      }
    },
    {
      "cell_type": "code",
      "source": [
        "lst = [1,2,3]\n",
        "lst.insert(0,9) #(위치, 추가할 객체)\n",
        "lst"
      ],
      "metadata": {
        "colab": {
          "base_uri": "https://localhost:8080/"
        },
        "id": "VviAIoSVtu4H",
        "outputId": "b05aaca0-e0c4-4041-9f07-a7aa8b5ceba1"
      },
      "execution_count": null,
      "outputs": [
        {
          "output_type": "execute_result",
          "data": {
            "text/plain": [
              "[9, 1, 2, 3]"
            ]
          },
          "metadata": {},
          "execution_count": 111
        }
      ]
    },
    {
      "cell_type": "markdown",
      "source": [
        "- `remove()`\n",
        "    - 리스트에서 값을 찾아 삭제한다."
      ],
      "metadata": {
        "id": "9T_F67q2uS-S"
      }
    },
    {
      "cell_type": "code",
      "source": [
        "lst = [10,20,30]\n",
        "lst.remove(20)\n",
        "lst"
      ],
      "metadata": {
        "colab": {
          "base_uri": "https://localhost:8080/"
        },
        "id": "sKhZdUwiuNnl",
        "outputId": "f5ba6f90-d5c0-49d2-9abb-ab901fe72c9c"
      },
      "execution_count": null,
      "outputs": [
        {
          "output_type": "execute_result",
          "data": {
            "text/plain": [
              "[10, 30]"
            ]
          },
          "metadata": {},
          "execution_count": 114
        }
      ]
    },
    {
      "cell_type": "markdown",
      "source": [
        "- `del` 키워드\n",
        "    - 리스트에 경우 특정 인덱스 값을 삭제한다.\n",
        "    - 삭제 가능한 것들 : 리스트 값, 변수, 변수가 참초한 객체값 "
      ],
      "metadata": {
        "id": "Qr3cR2eZuqes"
      }
    },
    {
      "cell_type": "code",
      "source": [
        "lst = [10,20,30]\n",
        "del lst[1]\n",
        "lst"
      ],
      "metadata": {
        "colab": {
          "base_uri": "https://localhost:8080/"
        },
        "id": "rnkpEJXvumKm",
        "outputId": "177a54a6-f777-4112-e8f8-9cf23f498eef"
      },
      "execution_count": null,
      "outputs": [
        {
          "output_type": "execute_result",
          "data": {
            "text/plain": [
              "[10, 30]"
            ]
          },
          "metadata": {},
          "execution_count": 116
        }
      ]
    },
    {
      "cell_type": "markdown",
      "source": [
        "- Quiz"
      ],
      "metadata": {
        "id": "Tf-4Vrmm4W4e"
      }
    },
    {
      "cell_type": "code",
      "source": [
        "#다음의 리스트에서 앞에서부터 하나씩 꺼내 값을 출력하면서 모든 값을 꺼내시오\n",
        "#lst = [1,2,3,4]\n",
        "\n",
        "lst = [1,2,3,4]\n",
        "lst.pop(0)"
      ],
      "metadata": {
        "colab": {
          "base_uri": "https://localhost:8080/"
        },
        "id": "yixpEI3azE-p",
        "outputId": "1dd85116-e1f7-4a4c-b623-f5637fd02be5"
      },
      "execution_count": null,
      "outputs": [
        {
          "output_type": "execute_result",
          "data": {
            "text/plain": [
              "1"
            ]
          },
          "metadata": {},
          "execution_count": 171
        }
      ]
    },
    {
      "cell_type": "code",
      "source": [
        "lst.pop(0)"
      ],
      "metadata": {
        "colab": {
          "base_uri": "https://localhost:8080/"
        },
        "id": "IPFegO243fbS",
        "outputId": "bc665e4c-e7ce-49e2-9d01-864bc3824d72"
      },
      "execution_count": null,
      "outputs": [
        {
          "output_type": "execute_result",
          "data": {
            "text/plain": [
              "2"
            ]
          },
          "metadata": {},
          "execution_count": 164
        }
      ]
    },
    {
      "cell_type": "code",
      "source": [
        "lst.pop(0)"
      ],
      "metadata": {
        "colab": {
          "base_uri": "https://localhost:8080/"
        },
        "id": "TXjBqcYJ3ghN",
        "outputId": "ed78d167-2b7d-43a7-c1b9-40ab50865493"
      },
      "execution_count": null,
      "outputs": [
        {
          "output_type": "execute_result",
          "data": {
            "text/plain": [
              "3"
            ]
          },
          "metadata": {},
          "execution_count": 165
        }
      ]
    },
    {
      "cell_type": "code",
      "source": [
        "lst.pop(0)"
      ],
      "metadata": {
        "colab": {
          "base_uri": "https://localhost:8080/"
        },
        "id": "vrfBzFVC3h0i",
        "outputId": "e0ab88d6-b09d-4e84-8bc6-13661a8711c9"
      },
      "execution_count": null,
      "outputs": [
        {
          "output_type": "execute_result",
          "data": {
            "text/plain": [
              "4"
            ]
          },
          "metadata": {},
          "execution_count": 166
        }
      ]
    },
    {
      "cell_type": "code",
      "source": [
        "#다음의 리스트에서 2의 배수만 내림차순으로 슬라이싱 하시오\n",
        "#num_lst=[2,3,4,5,6,7,8,9,10,11,12,13,14,15]\n",
        "#num_lst\n",
        "\n",
        "num_lst=[2,3,4,5,6,7,8,9,10,11,12,13,14,15]\n",
        "num_lst[ -2: : -2]"
      ],
      "metadata": {
        "colab": {
          "base_uri": "https://localhost:8080/"
        },
        "id": "tjz_1-BJzE8C",
        "outputId": "d24fa44a-d0d2-43f5-ccbb-06086598cf54"
      },
      "execution_count": null,
      "outputs": [
        {
          "output_type": "execute_result",
          "data": {
            "text/plain": [
              "[14, 12, 10, 8, 6, 4, 2]"
            ]
          },
          "metadata": {},
          "execution_count": 139
        }
      ]
    },
    {
      "cell_type": "code",
      "source": [
        "#다음의 리스트에서 sort메소드와 인덱싱만을 이용하여 최대값과 최소값을 구하시오\n",
        "#num_list = [6,7,8,9,11,12,13,14,15,2,3,4,5]\n",
        "#num_list\n",
        "\n",
        "num_list = [6,7,8,9,11,12,13,14,15,2,3,4,5]\n",
        "num_list.sort()\n",
        "print(num_list)\n",
        "\n",
        "print('최소값 : ',num_list.pop(0))\n",
        "print('최대값 : ',num_list.pop())"
      ],
      "metadata": {
        "colab": {
          "base_uri": "https://localhost:8080/"
        },
        "id": "ZhgNTH41zErK",
        "outputId": "42e4cd93-b901-482c-b53e-039444df14a4"
      },
      "execution_count": null,
      "outputs": [
        {
          "output_type": "stream",
          "name": "stdout",
          "text": [
            "[2, 3, 4, 5, 6, 7, 8, 9, 11, 12, 13, 14, 15]\n",
            "최소값 :  2\n",
            "최대값 :  15\n"
          ]
        }
      ]
    },
    {
      "cell_type": "markdown",
      "source": [
        "## 연산자를 이용한 list"
      ],
      "metadata": {
        "id": "N6Zk5HybS5IS"
      }
    },
    {
      "cell_type": "code",
      "source": [
        "list1 = [1,2,3]\n",
        "list2 = [4,5,6]"
      ],
      "metadata": {
        "id": "0illAWYRSxeQ"
      },
      "execution_count": null,
      "outputs": []
    },
    {
      "cell_type": "code",
      "source": [
        "list1 + list2 # 리스트끼리 합칠 때 extend()보다 속도가 빠르다."
      ],
      "metadata": {
        "colab": {
          "base_uri": "https://localhost:8080/"
        },
        "id": "M9YNTm6cSxMB",
        "outputId": "14f02c1f-abf6-4118-95bf-e0e993af0998"
      },
      "execution_count": null,
      "outputs": [
        {
          "output_type": "execute_result",
          "data": {
            "text/plain": [
              "[1, 2, 3, 4, 5, 6]"
            ]
          },
          "metadata": {},
          "execution_count": 2
        }
      ]
    },
    {
      "cell_type": "code",
      "source": [
        "list1 + [2]  # 하나의 요소를 추가할땐, append() 메서드가 더 빠르다."
      ],
      "metadata": {
        "colab": {
          "base_uri": "https://localhost:8080/"
        },
        "id": "azDura3zTPo-",
        "outputId": "7fe196e0-d51a-4ba7-87e3-813e7b5f366a"
      },
      "execution_count": null,
      "outputs": [
        {
          "output_type": "execute_result",
          "data": {
            "text/plain": [
              "[1, 2, 3, 2]"
            ]
          },
          "metadata": {},
          "execution_count": 3
        }
      ]
    },
    {
      "cell_type": "code",
      "source": [
        "list1 * 3"
      ],
      "metadata": {
        "colab": {
          "base_uri": "https://localhost:8080/"
        },
        "id": "uBZOx4WWTcxx",
        "outputId": "7c4cca5c-0faa-47b0-96a3-786dc53ce4d4"
      },
      "execution_count": null,
      "outputs": [
        {
          "output_type": "execute_result",
          "data": {
            "text/plain": [
              "[1, 2, 3, 1, 2, 3, 1, 2, 3]"
            ]
          },
          "metadata": {},
          "execution_count": 4
        }
      ]
    },
    {
      "cell_type": "code",
      "source": [
        "list1 # 원본 데이터는 수정되지 않는다."
      ],
      "metadata": {
        "colab": {
          "base_uri": "https://localhost:8080/"
        },
        "id": "BTGfZaVLTSUM",
        "outputId": "160ad8e9-c85f-476a-d443-610e27cfd11a"
      },
      "execution_count": null,
      "outputs": [
        {
          "output_type": "execute_result",
          "data": {
            "text/plain": [
              "[1, 2, 3]"
            ]
          },
          "metadata": {},
          "execution_count": 5
        }
      ]
    },
    {
      "cell_type": "code",
      "source": [
        "2 in list1"
      ],
      "metadata": {
        "colab": {
          "base_uri": "https://localhost:8080/"
        },
        "id": "FxbGPWdLT0gO",
        "outputId": "72e76dd7-c409-4787-ead9-bf52c5e6ac46"
      },
      "execution_count": null,
      "outputs": [
        {
          "output_type": "execute_result",
          "data": {
            "text/plain": [
              "True"
            ]
          },
          "metadata": {},
          "execution_count": 6
        }
      ]
    },
    {
      "cell_type": "code",
      "source": [
        "1004 not in list1"
      ],
      "metadata": {
        "colab": {
          "base_uri": "https://localhost:8080/"
        },
        "id": "lcUs2qQZT7aH",
        "outputId": "847c3714-c0bf-4a92-d612-9efa90d4fd3c"
      },
      "execution_count": null,
      "outputs": [
        {
          "output_type": "execute_result",
          "data": {
            "text/plain": [
              "True"
            ]
          },
          "metadata": {},
          "execution_count": 7
        }
      ]
    },
    {
      "cell_type": "code",
      "source": [
        "list1 == [1,2,3] # 각 인덱스 위치에 맞는 요소의 값을 검사한다."
      ],
      "metadata": {
        "colab": {
          "base_uri": "https://localhost:8080/"
        },
        "id": "55BtvdAQT_tb",
        "outputId": "55793480-473b-4451-b087-a4ef132a65bf"
      },
      "execution_count": null,
      "outputs": [
        {
          "output_type": "execute_result",
          "data": {
            "text/plain": [
              "True"
            ]
          },
          "metadata": {},
          "execution_count": 9
        }
      ]
    },
    {
      "cell_type": "markdown",
      "source": [
        "## is 연산자와 is not 연산자\n",
        "- 같은 객체인지 아닌지 검사한다.\n",
        "- 주소값이 같은지 검사한다.\n",
        "- 어떤 연산결과로 나온 변수값을 `True`인지 `False`인지 `None`인지 체크할 때 사용"
      ],
      "metadata": {
        "id": "35ZJB6hwUhQc"
      }
    },
    {
      "cell_type": "code",
      "source": [
        "lst = [1,2,3]\n",
        "\n",
        "lst is [1,2,3] # 새로 추가된 객체, 주소값이 다름"
      ],
      "metadata": {
        "colab": {
          "base_uri": "https://localhost:8080/"
        },
        "id": "8flxncMxULxW",
        "outputId": "88f5092b-6d31-4fa7-b486-80213ad23f86"
      },
      "execution_count": 1,
      "outputs": [
        {
          "output_type": "execute_result",
          "data": {
            "text/plain": [
              "False"
            ]
          },
          "metadata": {},
          "execution_count": 1
        }
      ]
    },
    {
      "cell_type": "code",
      "source": [
        "tmp = lst  # 주소값 포함 객체 그대로를 변수tmp에 저장\n",
        "tmp is lst"
      ],
      "metadata": {
        "colab": {
          "base_uri": "https://localhost:8080/"
        },
        "id": "xeChtHUIU8Xs",
        "outputId": "de183bda-71af-45c8-8ca4-2cce6a20f85c"
      },
      "execution_count": null,
      "outputs": [
        {
          "output_type": "execute_result",
          "data": {
            "text/plain": [
              "True"
            ]
          },
          "metadata": {},
          "execution_count": 13
        }
      ]
    },
    {
      "cell_type": "code",
      "source": [
        "tmp is not lst"
      ],
      "metadata": {
        "colab": {
          "base_uri": "https://localhost:8080/"
        },
        "id": "24Q2ja8EVGr1",
        "outputId": "8a59c4db-71a2-44d2-d188-2d726a751e2f"
      },
      "execution_count": null,
      "outputs": [
        {
          "output_type": "execute_result",
          "data": {
            "text/plain": [
              "False"
            ]
          },
          "metadata": {},
          "execution_count": 14
        }
      ]
    },
    {
      "cell_type": "code",
      "source": [
        "data_list = None\n",
        "data_list is not None"
      ],
      "metadata": {
        "colab": {
          "base_uri": "https://localhost:8080/"
        },
        "id": "hJFtYEJOVJDg",
        "outputId": "4d3a903e-c5dc-47f3-c128-78732fd6245b"
      },
      "execution_count": null,
      "outputs": [
        {
          "output_type": "execute_result",
          "data": {
            "text/plain": [
              "False"
            ]
          },
          "metadata": {},
          "execution_count": 15
        }
      ]
    },
    {
      "cell_type": "markdown",
      "source": [
        "# `tuple` 자료형\n",
        "- Sequence 자료형\n",
        "- Immutable 자료형(수정x)\n",
        "- 중복데이터 저장 가능\n",
        "- `()`를 이용하여 생성할 수 있다.(소괄호 생략가능)\n",
        "- 프로그램이 실행되는 동안 요소들이 변경되면 안될 때 사용\n",
        "- 리스트보다 메모리를 적게 차지하고, 속도가 빠르다."
      ],
      "metadata": {
        "id": "kuv-yzwldZVQ"
      }
    },
    {
      "cell_type": "code",
      "source": [
        "tuple1 = (1,2,3,4)\n",
        "tuple1"
      ],
      "metadata": {
        "colab": {
          "base_uri": "https://localhost:8080/"
        },
        "id": "wT7MYH1CWBb7",
        "outputId": "60c1b583-27ce-48f4-c1fe-b70035db1831"
      },
      "execution_count": null,
      "outputs": [
        {
          "output_type": "execute_result",
          "data": {
            "text/plain": [
              "(1, 2, 3, 4)"
            ]
          },
          "metadata": {},
          "execution_count": 17
        }
      ]
    },
    {
      "cell_type": "code",
      "source": [
        "tuple1 = \"h\", \"e\", \"l\",\"l\",\"o\"\n",
        "tuple1"
      ],
      "metadata": {
        "colab": {
          "base_uri": "https://localhost:8080/"
        },
        "id": "a2h3Up_feC1L",
        "outputId": "cb77b82c-6d7d-4271-915b-839b36070dfe"
      },
      "execution_count": null,
      "outputs": [
        {
          "output_type": "execute_result",
          "data": {
            "text/plain": [
              "('h', 'e', 'l', 'l', 'o')"
            ]
          },
          "metadata": {},
          "execution_count": 19
        }
      ]
    },
    {
      "cell_type": "code",
      "source": [
        "type(tuple1)"
      ],
      "metadata": {
        "colab": {
          "base_uri": "https://localhost:8080/"
        },
        "id": "ZYlt3KX0eNxc",
        "outputId": "fdbe2ea3-48d7-4671-b9cb-6a4bbb104bb1"
      },
      "execution_count": null,
      "outputs": [
        {
          "output_type": "execute_result",
          "data": {
            "text/plain": [
              "tuple"
            ]
          },
          "metadata": {},
          "execution_count": 20
        }
      ]
    },
    {
      "cell_type": "code",
      "source": [
        "tuple1[::-1]"
      ],
      "metadata": {
        "colab": {
          "base_uri": "https://localhost:8080/"
        },
        "id": "n4kCEERteVk-",
        "outputId": "ab9bed6f-1751-4197-e131-aff526305497"
      },
      "execution_count": null,
      "outputs": [
        {
          "output_type": "execute_result",
          "data": {
            "text/plain": [
              "('o', 'l', 'l', 'e', 'h')"
            ]
          },
          "metadata": {},
          "execution_count": 21
        }
      ]
    },
    {
      "cell_type": "code",
      "source": [
        "tuple1.count(\"l\")  # 인자값이 몇개 있는지 반환하는 메서드 count()"
      ],
      "metadata": {
        "colab": {
          "base_uri": "https://localhost:8080/"
        },
        "id": "QwzDUXPae3Fu",
        "outputId": "3705bd7b-677c-4ba7-b73b-4af448bf658d"
      },
      "execution_count": null,
      "outputs": [
        {
          "output_type": "execute_result",
          "data": {
            "text/plain": [
              "2"
            ]
          },
          "metadata": {},
          "execution_count": 23
        }
      ]
    },
    {
      "cell_type": "code",
      "source": [
        "tuple1.count(1)"
      ],
      "metadata": {
        "colab": {
          "base_uri": "https://localhost:8080/"
        },
        "id": "iViVyfw0e8ol",
        "outputId": "3085c24a-4fc4-4910-902f-6fda378f087b"
      },
      "execution_count": null,
      "outputs": [
        {
          "output_type": "execute_result",
          "data": {
            "text/plain": [
              "0"
            ]
          },
          "metadata": {},
          "execution_count": 25
        }
      ]
    },
    {
      "cell_type": "code",
      "source": [
        "tuple1 + tuple1"
      ],
      "metadata": {
        "colab": {
          "base_uri": "https://localhost:8080/"
        },
        "id": "21wMyuQMfQFl",
        "outputId": "d804d5c9-dc45-4f47-897e-9da5ead2bec4"
      },
      "execution_count": null,
      "outputs": [
        {
          "output_type": "execute_result",
          "data": {
            "text/plain": [
              "('h', 'e', 'l', 'l', 'o', 'h', 'e', 'l', 'l', 'o')"
            ]
          },
          "metadata": {},
          "execution_count": 26
        }
      ]
    },
    {
      "cell_type": "code",
      "source": [
        "tuple1 * 3"
      ],
      "metadata": {
        "colab": {
          "base_uri": "https://localhost:8080/"
        },
        "id": "NPQxspprfXl0",
        "outputId": "0532c512-9770-4724-b03a-ef98ccae5a07"
      },
      "execution_count": null,
      "outputs": [
        {
          "output_type": "execute_result",
          "data": {
            "text/plain": [
              "('h', 'e', 'l', 'l', 'o', 'h', 'e', 'l', 'l', 'o', 'h', 'e', 'l', 'l', 'o')"
            ]
          },
          "metadata": {},
          "execution_count": 28
        }
      ]
    },
    {
      "cell_type": "markdown",
      "source": [
        "- 슬라이싱 복습\n",
        "    - 다음의 튜플에서 슬라이싱을 활용하여 짝수만 출력해보자."
      ],
      "metadata": {
        "id": "mVgJ8hJ-f4a4"
      }
    },
    {
      "cell_type": "code",
      "source": [
        "num_tuple = (1,2,3,4,5,6,7,8,9,10)\n",
        "num_tuple[1::2]"
      ],
      "metadata": {
        "colab": {
          "base_uri": "https://localhost:8080/"
        },
        "id": "ITkrjjNPfa88",
        "outputId": "e963f146-0a24-4903-8939-cceabb13f930"
      },
      "execution_count": null,
      "outputs": [
        {
          "output_type": "execute_result",
          "data": {
            "text/plain": [
              "(2, 4, 6, 8, 10)"
            ]
          },
          "metadata": {},
          "execution_count": 36
        }
      ]
    },
    {
      "cell_type": "markdown",
      "source": [
        "- 짝수 내림차순"
      ],
      "metadata": {
        "id": "-ieV4ld3gmX4"
      }
    },
    {
      "cell_type": "code",
      "source": [
        "num_tuple[::-2]"
      ],
      "metadata": {
        "colab": {
          "base_uri": "https://localhost:8080/"
        },
        "id": "bk4IOh4igGNA",
        "outputId": "1e1a117f-f07c-4e1d-e842-f8f9d604495f"
      },
      "execution_count": null,
      "outputs": [
        {
          "output_type": "execute_result",
          "data": {
            "text/plain": [
              "(10, 8, 6, 4, 2)"
            ]
          },
          "metadata": {},
          "execution_count": 37
        }
      ]
    },
    {
      "cell_type": "markdown",
      "source": [
        "- 함수 복습\n",
        "    - num_tuple의 최대값,최소값,합계,튜플안에 요소개수를 출력해보자."
      ],
      "metadata": {
        "id": "ZasBIK2Hgscp"
      }
    },
    {
      "cell_type": "code",
      "source": [
        "print(\"최대값 :\",max(num_tuple))\n",
        "print(\"최소값 :\",min(num_tuple))\n",
        "print(\"합계 :\",sum(num_tuple))\n",
        "print(\"튜플의 요소개수 :\",len(num_tuple))"
      ],
      "metadata": {
        "colab": {
          "base_uri": "https://localhost:8080/"
        },
        "id": "r1E3ZxqogreM",
        "outputId": "37db16e4-68cc-4360-dc9b-a526fd41d648"
      },
      "execution_count": null,
      "outputs": [
        {
          "output_type": "stream",
          "name": "stdout",
          "text": [
            "최대값 : 10\n",
            "최소값 : 1\n",
            "합계 : 55\n",
            "튜플의 요소개수 : 10\n"
          ]
        }
      ]
    },
    {
      "cell_type": "markdown",
      "source": [
        "# `set` 자료형\n",
        "- Non-Sequence 자료형\n",
        "- 데이터의 저장 순서를 보장하지 않는다.\n",
        "    - 인덱싱과 슬라이싱을 지원하지 않음.\n",
        "- mutable 자료형    \n",
        "- 중복데이터의 저장 허용X\n",
        "- `{}` 를 이용하여 만든다.\n",
        "- in 연산자와 not in 연산자는 지원된다.\n",
        "- 덧셈이나 곱셈 연산자는 지원하지 않는다."
      ],
      "metadata": {
        "id": "K2i9tQEliErS"
      }
    },
    {
      "cell_type": "code",
      "source": [
        "sets = set()\n",
        "type(sets)"
      ],
      "metadata": {
        "colab": {
          "base_uri": "https://localhost:8080/"
        },
        "id": "0VNAhwhng8vs",
        "outputId": "6d051d0f-98da-4bcf-e580-1bd747b0d7d8"
      },
      "execution_count": null,
      "outputs": [
        {
          "output_type": "execute_result",
          "data": {
            "text/plain": [
              "set"
            ]
          },
          "metadata": {},
          "execution_count": 47
        }
      ]
    },
    {
      "cell_type": "code",
      "source": [
        "sets = {1001,1001,1001,1004,1004,11,22,33,44,100}\n",
        "sets"
      ],
      "metadata": {
        "colab": {
          "base_uri": "https://localhost:8080/"
        },
        "id": "OqJQALBai-91",
        "outputId": "518e0fca-f3f5-4cb6-e7f5-3bf21f4498f7"
      },
      "execution_count": null,
      "outputs": [
        {
          "output_type": "execute_result",
          "data": {
            "text/plain": [
              "{11, 22, 33, 44, 100, 1001, 1004}"
            ]
          },
          "metadata": {},
          "execution_count": 48
        }
      ]
    },
    {
      "cell_type": "code",
      "source": [
        "sets[0] # 인덱싱, 슬라이싱 X"
      ],
      "metadata": {
        "colab": {
          "base_uri": "https://localhost:8080/",
          "height": 173
        },
        "id": "W4lYxhq2jKPr",
        "outputId": "bf91e6e2-8599-45a2-8d00-9d3a21383ae4"
      },
      "execution_count": null,
      "outputs": [
        {
          "output_type": "error",
          "ename": "TypeError",
          "evalue": "ignored",
          "traceback": [
            "\u001b[0;31m---------------------------------------------------------------------------\u001b[0m",
            "\u001b[0;31mTypeError\u001b[0m                                 Traceback (most recent call last)",
            "\u001b[0;32m<ipython-input-49-d3627dfb5037>\u001b[0m in \u001b[0;36m<module>\u001b[0;34m()\u001b[0m\n\u001b[0;32m----> 1\u001b[0;31m \u001b[0msets\u001b[0m\u001b[0;34m[\u001b[0m\u001b[0;36m0\u001b[0m\u001b[0;34m]\u001b[0m\u001b[0;34m\u001b[0m\u001b[0;34m\u001b[0m\u001b[0m\n\u001b[0m",
            "\u001b[0;31mTypeError\u001b[0m: 'set' object is not subscriptable"
          ]
        }
      ]
    },
    {
      "cell_type": "markdown",
      "source": [
        "- set객체의 메서드"
      ],
      "metadata": {
        "id": "0I82AQlPj6u_"
      }
    },
    {
      "cell_type": "code",
      "source": [
        "A = {1,2,3}\n",
        "B = {2,3,4}\n",
        "A,B"
      ],
      "metadata": {
        "colab": {
          "base_uri": "https://localhost:8080/"
        },
        "id": "QC03UrkajOJz",
        "outputId": "b63ab16c-bbfe-43ba-92e5-8ed11e6bfe5e"
      },
      "execution_count": null,
      "outputs": [
        {
          "output_type": "execute_result",
          "data": {
            "text/plain": [
              "({1, 2, 3}, {2, 3, 4})"
            ]
          },
          "metadata": {},
          "execution_count": 50
        }
      ]
    },
    {
      "cell_type": "code",
      "source": [
        "A.intersection(B) # 교집합"
      ],
      "metadata": {
        "colab": {
          "base_uri": "https://localhost:8080/"
        },
        "id": "2nOvWCBGkACS",
        "outputId": "a4825795-61fa-49b8-ac9e-c482c5853566"
      },
      "execution_count": null,
      "outputs": [
        {
          "output_type": "execute_result",
          "data": {
            "text/plain": [
              "{2, 3}"
            ]
          },
          "metadata": {},
          "execution_count": 51
        }
      ]
    },
    {
      "cell_type": "code",
      "source": [
        "A.union(B) # 합집합"
      ],
      "metadata": {
        "colab": {
          "base_uri": "https://localhost:8080/"
        },
        "id": "UfjwOntZkGvg",
        "outputId": "9ba3f1ac-08d4-4fe3-e8dd-23f626acc099"
      },
      "execution_count": null,
      "outputs": [
        {
          "output_type": "execute_result",
          "data": {
            "text/plain": [
              "{1, 2, 3, 4}"
            ]
          },
          "metadata": {},
          "execution_count": 52
        }
      ]
    },
    {
      "cell_type": "code",
      "source": [
        "A.difference(B) # 차집합"
      ],
      "metadata": {
        "colab": {
          "base_uri": "https://localhost:8080/"
        },
        "id": "1E77lSq5kTr6",
        "outputId": "4496335f-716b-4845-d2fa-6746795a33d2"
      },
      "execution_count": null,
      "outputs": [
        {
          "output_type": "execute_result",
          "data": {
            "text/plain": [
              "{1}"
            ]
          },
          "metadata": {},
          "execution_count": 53
        }
      ]
    },
    {
      "cell_type": "code",
      "source": [
        "a = {1,2,3}\n",
        "a.add(100)  # mutable, 하나의 값 추가할 때\n",
        "a "
      ],
      "metadata": {
        "colab": {
          "base_uri": "https://localhost:8080/"
        },
        "id": "O_qFsWs7kZKj",
        "outputId": "d88cdf04-112f-4907-c5b2-d9a52f853305"
      },
      "execution_count": null,
      "outputs": [
        {
          "output_type": "execute_result",
          "data": {
            "text/plain": [
              "{1, 2, 3, 100}"
            ]
          },
          "metadata": {},
          "execution_count": 58
        }
      ]
    },
    {
      "cell_type": "code",
      "source": [
        "a.update([1,2,3,4,5,6,7,8,9,10]) # 여러 값 추가할 때\n",
        "a"
      ],
      "metadata": {
        "colab": {
          "base_uri": "https://localhost:8080/"
        },
        "id": "wnZZ1xTckk-j",
        "outputId": "95ddac40-647f-4a11-ecae-e6f7a9cd3f4a"
      },
      "execution_count": null,
      "outputs": [
        {
          "output_type": "execute_result",
          "data": {
            "text/plain": [
              "{1, 2, 3, 4, 5, 6, 7, 8, 9, 10, 100}"
            ]
          },
          "metadata": {},
          "execution_count": 59
        }
      ]
    },
    {
      "cell_type": "code",
      "source": [
        "a.remove(100) # 특정 값 제거할 때\n",
        "a"
      ],
      "metadata": {
        "colab": {
          "base_uri": "https://localhost:8080/"
        },
        "id": "TZA9F_JQkui8",
        "outputId": "554c7967-7f1e-4ffc-abc6-5d293d120171"
      },
      "execution_count": null,
      "outputs": [
        {
          "output_type": "execute_result",
          "data": {
            "text/plain": [
              "{1, 2, 3, 4, 5, 6, 7, 8, 9, 10}"
            ]
          },
          "metadata": {},
          "execution_count": 60
        }
      ]
    },
    {
      "cell_type": "markdown",
      "source": [
        "# `dict`(Dictionary)\n",
        "- Non-Sequence 자료형\n",
        "- mutable 자료형\n",
        "- key-value 구조\n",
        "- key 중복 x, value 중복 o\n",
        "```python\n",
        "{\n",
        "    key : value,\n",
        "    key2 : value,\n",
        "    ...\n",
        "}\n",
        "```"
      ],
      "metadata": {
        "id": "UuIQP5SWouPP"
      }
    },
    {
      "cell_type": "code",
      "source": [
        "city = {}\n",
        "type(city)"
      ],
      "metadata": {
        "colab": {
          "base_uri": "https://localhost:8080/"
        },
        "id": "O8ZZu_gwlBhv",
        "outputId": "d2c8e77e-abae-49cd-c627-ae2332d675ae"
      },
      "execution_count": null,
      "outputs": [
        {
          "output_type": "execute_result",
          "data": {
            "text/plain": [
              "dict"
            ]
          },
          "metadata": {},
          "execution_count": 94
        }
      ]
    },
    {
      "cell_type": "code",
      "source": [
        "city = {\n",
        "    \"한국\" : \"서울\",\n",
        "    \"일본\" : \"도쿄\",\n",
        "    \"캐나다\" : \"오타와\"\n",
        "}\n",
        "city"
      ],
      "metadata": {
        "colab": {
          "base_uri": "https://localhost:8080/"
        },
        "id": "qa1d64bKpsDp",
        "outputId": "bab9b3e7-09aa-4f9e-a1fb-5e409fbb929b"
      },
      "execution_count": null,
      "outputs": [
        {
          "output_type": "execute_result",
          "data": {
            "text/plain": [
              "{'일본': '도쿄', '캐나다': '오타와', '한국': '서울'}"
            ]
          },
          "metadata": {},
          "execution_count": 95
        }
      ]
    },
    {
      "cell_type": "code",
      "source": [
        "city[\"일본\"] # dict의 값을 가져 올떄는 key값을 활용"
      ],
      "metadata": {
        "colab": {
          "base_uri": "https://localhost:8080/",
          "height": 36
        },
        "id": "yY8teqNep44w",
        "outputId": "328d1c88-63bf-4433-c82d-83d053a0a0cc"
      },
      "execution_count": null,
      "outputs": [
        {
          "output_type": "execute_result",
          "data": {
            "text/plain": [
              "'도쿄'"
            ],
            "application/vnd.google.colaboratory.intrinsic+json": {
              "type": "string"
            }
          },
          "metadata": {},
          "execution_count": 96
        }
      ]
    },
    {
      "cell_type": "markdown",
      "source": [
        "- `get()`"
      ],
      "metadata": {
        "id": "82GYJUDNFntv"
      }
    },
    {
      "cell_type": "code",
      "source": [
        "city.get(\"중국\")\n",
        "city.get(\"중국\", \"없음\") # 중국이라는 키가 없을경우 `없음` 문자열로 반환, # key값의 value가 있는지 없는지 확인할 때 사용"
      ],
      "metadata": {
        "colab": {
          "base_uri": "https://localhost:8080/",
          "height": 36
        },
        "id": "2eOm_theqM6E",
        "outputId": "00ed2f0c-09f3-4f67-b60f-dbbdc40fadea"
      },
      "execution_count": null,
      "outputs": [
        {
          "output_type": "execute_result",
          "data": {
            "text/plain": [
              "'없음'"
            ],
            "application/vnd.google.colaboratory.intrinsic+json": {
              "type": "string"
            }
          },
          "metadata": {},
          "execution_count": 97
        }
      ]
    },
    {
      "cell_type": "code",
      "source": [
        "city[\"중국\"] = \"베이징\" # value 추가\n",
        "city"
      ],
      "metadata": {
        "colab": {
          "base_uri": "https://localhost:8080/"
        },
        "id": "_L18ZH83sdIe",
        "outputId": "e5f3b23f-f449-4010-ba70-3935246b2807"
      },
      "execution_count": null,
      "outputs": [
        {
          "output_type": "execute_result",
          "data": {
            "text/plain": [
              "{'일본': '도쿄', '중국': '베이징', '캐나다': '오타와', '한국': '서울'}"
            ]
          },
          "metadata": {},
          "execution_count": 98
        }
      ]
    },
    {
      "cell_type": "code",
      "source": [
        "  city[\"일본\"] = \"오사카\" # value 변경\n",
        "  city"
      ],
      "metadata": {
        "colab": {
          "base_uri": "https://localhost:8080/"
        },
        "id": "bohxDyUKsp3C",
        "outputId": "8d073e14-e351-4bc6-d55e-bac65e8a393a"
      },
      "execution_count": null,
      "outputs": [
        {
          "output_type": "execute_result",
          "data": {
            "text/plain": [
              "{'일본': '오사카', '중국': '베이징', '캐나다': '오타와', '한국': '서울'}"
            ]
          },
          "metadata": {},
          "execution_count": 99
        }
      ]
    },
    {
      "cell_type": "code",
      "source": [
        "add_city = {\"중국\": \"상하이\", \"미국\":\"워싱턴\"}\n",
        "city.update(add_city) # 여러개의 key와 value를 수정 or 추가 가능한 update()\n",
        "city"
      ],
      "metadata": {
        "colab": {
          "base_uri": "https://localhost:8080/"
        },
        "id": "2cd63UK9spxC",
        "outputId": "0a30e1da-e2c7-4139-8b55-eef85b6f4d78"
      },
      "execution_count": null,
      "outputs": [
        {
          "output_type": "execute_result",
          "data": {
            "text/plain": [
              "{'미국': '워싱턴', '일본': '오사카', '중국': '상하이', '캐나다': '오타와', '한국': '서울'}"
            ]
          },
          "metadata": {},
          "execution_count": 100
        }
      ]
    },
    {
      "cell_type": "code",
      "source": [
        "del city[\"일본\"] # key와 value를 쌍으로 삭제\n",
        "city"
      ],
      "metadata": {
        "colab": {
          "base_uri": "https://localhost:8080/"
        },
        "id": "_BSVHdilsprK",
        "outputId": "41c86558-2a45-4a15-8ce7-1e56d9f93466"
      },
      "execution_count": null,
      "outputs": [
        {
          "output_type": "execute_result",
          "data": {
            "text/plain": [
              "{'미국': '워싱턴', '중국': '상하이', '캐나다': '오타와', '한국': '서울'}"
            ]
          },
          "metadata": {},
          "execution_count": 101
        }
      ]
    },
    {
      "cell_type": "code",
      "source": [
        "print(city.pop(\"중국\")) # 삭제 하고자하는 key를 넣는다.\n",
        "city"
      ],
      "metadata": {
        "colab": {
          "base_uri": "https://localhost:8080/"
        },
        "id": "Bj5-2Bh0t4--",
        "outputId": "e66e260c-141d-4e0a-a3cf-837133462d94"
      },
      "execution_count": null,
      "outputs": [
        {
          "output_type": "stream",
          "name": "stdout",
          "text": [
            "상하이\n"
          ]
        },
        {
          "output_type": "execute_result",
          "data": {
            "text/plain": [
              "{'미국': '워싱턴', '캐나다': '오타와', '한국': '서울'}"
            ]
          },
          "metadata": {},
          "execution_count": 102
        }
      ]
    },
    {
      "cell_type": "code",
      "source": [
        "city.keys() # dict 내 전체 key를 확인"
      ],
      "metadata": {
        "colab": {
          "base_uri": "https://localhost:8080/"
        },
        "id": "_DWt76n7uMA5",
        "outputId": "f09b0f2c-8b56-4933-a8d4-de3d98777055"
      },
      "execution_count": null,
      "outputs": [
        {
          "output_type": "execute_result",
          "data": {
            "text/plain": [
              "dict_keys(['한국', '캐나다', '미국'])"
            ]
          },
          "metadata": {},
          "execution_count": 103
        }
      ]
    },
    {
      "cell_type": "code",
      "source": [
        "city.values() # dict 내 전체 value를 확인"
      ],
      "metadata": {
        "colab": {
          "base_uri": "https://localhost:8080/"
        },
        "id": "v7A_mqTvuL-Y",
        "outputId": "d559b48d-0b19-4209-86ae-72ff7e4d4bae"
      },
      "execution_count": null,
      "outputs": [
        {
          "output_type": "execute_result",
          "data": {
            "text/plain": [
              "dict_values(['서울', '오타와', '워싱턴'])"
            ]
          },
          "metadata": {},
          "execution_count": 104
        }
      ]
    },
    {
      "cell_type": "code",
      "source": [
        "city.items() # 리스트 형식으로 보는 key와 value"
      ],
      "metadata": {
        "colab": {
          "base_uri": "https://localhost:8080/"
        },
        "id": "o8GmhPwduL7x",
        "outputId": "b351476c-f971-405f-bfa4-f8f7bddb24dc"
      },
      "execution_count": null,
      "outputs": [
        {
          "output_type": "execute_result",
          "data": {
            "text/plain": [
              "dict_items([('한국', '서울'), ('캐나다', '오타와'), ('미국', '워싱턴')])"
            ]
          },
          "metadata": {},
          "execution_count": 105
        }
      ]
    },
    {
      "cell_type": "code",
      "source": [
        "\"한국\" in city.keys()"
      ],
      "metadata": {
        "colab": {
          "base_uri": "https://localhost:8080/"
        },
        "id": "iM9AuoZxv47H",
        "outputId": "3bc861da-c361-4472-9463-229801c928fa"
      },
      "execution_count": null,
      "outputs": [
        {
          "output_type": "execute_result",
          "data": {
            "text/plain": [
              "True"
            ]
          },
          "metadata": {},
          "execution_count": 106
        }
      ]
    },
    {
      "cell_type": "code",
      "source": [
        "num_dict = {\n",
        "    0:\"제로\",\n",
        "    3.14:\"원주율\",\n",
        "    True:\"T\",\n",
        "    \"etc\":{\n",
        "        \"Dream\":\"Developer\"\n",
        "    }\n",
        "}\n",
        "num_dict"
      ],
      "metadata": {
        "colab": {
          "base_uri": "https://localhost:8080/"
        },
        "id": "g30oAGB-v-ib",
        "outputId": "33052d17-199a-4b43-8026-e7e6e8c42504"
      },
      "execution_count": 3,
      "outputs": [
        {
          "output_type": "execute_result",
          "data": {
            "text/plain": [
              "{0: '제로', 3.14: '원주율', True: 'T', 'etc': {'Dream': 'Developer'}}"
            ]
          },
          "metadata": {},
          "execution_count": 3
        }
      ]
    },
    {
      "cell_type": "code",
      "source": [
        "num_dict[True]"
      ],
      "metadata": {
        "colab": {
          "base_uri": "https://localhost:8080/",
          "height": 35
        },
        "id": "lc_Zp7S7GGPh",
        "outputId": "ea79bfa6-b18e-44e7-9da4-516ffca621ff"
      },
      "execution_count": 4,
      "outputs": [
        {
          "output_type": "execute_result",
          "data": {
            "text/plain": [
              "'T'"
            ],
            "application/vnd.google.colaboratory.intrinsic+json": {
              "type": "string"
            }
          },
          "metadata": {},
          "execution_count": 4
        }
      ]
    },
    {
      "cell_type": "code",
      "source": [
        "num_dict[3.14]"
      ],
      "metadata": {
        "colab": {
          "base_uri": "https://localhost:8080/",
          "height": 36
        },
        "id": "8YKPW-9Mv-fq",
        "outputId": "673af4db-b995-49dd-ae03-43229f56c7e6"
      },
      "execution_count": null,
      "outputs": [
        {
          "output_type": "execute_result",
          "data": {
            "text/plain": [
              "'원주율'"
            ],
            "application/vnd.google.colaboratory.intrinsic+json": {
              "type": "string"
            }
          },
          "metadata": {},
          "execution_count": 108
        }
      ]
    },
    {
      "cell_type": "markdown",
      "source": [
        "- mean의 키를 avg로 변경하시오. pop메서드 이용"
      ],
      "metadata": {
        "id": "q67b0wV1xlhf"
      }
    },
    {
      "cell_type": "code",
      "source": [
        "num_dict = {\n",
        "    \"mean\" : 80,\n",
        "    \"std\" : 3.5\n",
        "}\n",
        "\n",
        "num_dict[\"avg\"] = num_dict.pop(\"mean\")\n",
        "num_dict"
      ],
      "metadata": {
        "colab": {
          "base_uri": "https://localhost:8080/"
        },
        "id": "QQxxA1qIv-af",
        "outputId": "082b55c0-12db-4e24-84b5-93464117180e"
      },
      "execution_count": null,
      "outputs": [
        {
          "output_type": "execute_result",
          "data": {
            "text/plain": [
              "{'avg': 80, 'std': 3.5}"
            ]
          },
          "metadata": {},
          "execution_count": 118
        }
      ]
    },
    {
      "cell_type": "markdown",
      "source": [
        "# 컬렉션 자료형 변환"
      ],
      "metadata": {
        "id": "X2YfAmiO21aO"
      }
    },
    {
      "cell_type": "markdown",
      "source": [
        "- `list` -> `tuple`"
      ],
      "metadata": {
        "id": "lXkbXBjH29B-"
      }
    },
    {
      "cell_type": "code",
      "source": [
        "lst = [1,2,3]\n",
        "tuple(lst)"
      ],
      "metadata": {
        "colab": {
          "base_uri": "https://localhost:8080/"
        },
        "id": "L6rw-yZIv-Xu",
        "outputId": "e9d7ed08-b82f-4138-d959-6d792b8c7624"
      },
      "execution_count": null,
      "outputs": [
        {
          "output_type": "execute_result",
          "data": {
            "text/plain": [
              "(1, 2, 3)"
            ]
          },
          "metadata": {},
          "execution_count": 120
        }
      ]
    },
    {
      "cell_type": "markdown",
      "source": [
        "- `tuple` -> `list`"
      ],
      "metadata": {
        "id": "VefJWwA23KLY"
      }
    },
    {
      "cell_type": "code",
      "source": [
        "tuple = 1,2,3\n",
        "list(tuple)"
      ],
      "metadata": {
        "colab": {
          "base_uri": "https://localhost:8080/"
        },
        "id": "c11lNpDh3Jg9",
        "outputId": "3b33d16c-8d0c-4710-d363-8f7b632dd072"
      },
      "execution_count": null,
      "outputs": [
        {
          "output_type": "execute_result",
          "data": {
            "text/plain": [
              "[1, 2, 3]"
            ]
          },
          "metadata": {},
          "execution_count": 122
        }
      ]
    },
    {
      "cell_type": "markdown",
      "source": [
        "- `set` -> `list`"
      ],
      "metadata": {
        "id": "72AzTNyJ3ZcG"
      }
    },
    {
      "cell_type": "code",
      "source": [
        "sets = {\"Apple\",\"Banana\",\"Mango\"}\n",
        "list(sets)"
      ],
      "metadata": {
        "colab": {
          "base_uri": "https://localhost:8080/"
        },
        "id": "uxub29DL3JeO",
        "outputId": "77851fd8-2051-49a4-cc40-92c3ca853a8a"
      },
      "execution_count": null,
      "outputs": [
        {
          "output_type": "execute_result",
          "data": {
            "text/plain": [
              "['Banana', 'Apple', 'Mango']"
            ]
          },
          "metadata": {},
          "execution_count": 123
        }
      ]
    },
    {
      "cell_type": "markdown",
      "source": [
        "- `dict` -> `list`"
      ],
      "metadata": {
        "id": "TMlfvcys3ylu"
      }
    },
    {
      "cell_type": "code",
      "source": [
        "dict1 = {\n",
        "    \"한국\":\"서울\",\n",
        "    \"미국\":\"워싱턴\",\n",
        "    \"일본\":\"도쿄\"\n",
        "}\n",
        "\n",
        "list(dict1) # key가 리스트로 반환, = list(city.keys())"
      ],
      "metadata": {
        "colab": {
          "base_uri": "https://localhost:8080/"
        },
        "id": "crsfQpKV3Jbm",
        "outputId": "794e9ad5-5eb3-49ac-96d1-b60419af00bc"
      },
      "execution_count": null,
      "outputs": [
        {
          "output_type": "execute_result",
          "data": {
            "text/plain": [
              "['한국', '미국', '일본']"
            ]
          },
          "metadata": {},
          "execution_count": 124
        }
      ]
    },
    {
      "cell_type": "code",
      "source": [
        "tup_list = list(dict1.items())\n",
        "tup_list"
      ],
      "metadata": {
        "colab": {
          "base_uri": "https://localhost:8080/"
        },
        "id": "hfedyUii4kH2",
        "outputId": "6a8a5f7a-57e8-4d17-8110-91a6fb131520"
      },
      "execution_count": null,
      "outputs": [
        {
          "output_type": "execute_result",
          "data": {
            "text/plain": [
              "[('한국', '서울'), ('미국', '워싱턴'), ('일본', '도쿄')]"
            ]
          },
          "metadata": {},
          "execution_count": 126
        }
      ]
    },
    {
      "cell_type": "code",
      "source": [
        "dict(tup_list)"
      ],
      "metadata": {
        "colab": {
          "base_uri": "https://localhost:8080/"
        },
        "id": "MRpqxFY_4kFe",
        "outputId": "3c3f0950-75b5-47fc-a84f-275f94d2e5cd"
      },
      "execution_count": null,
      "outputs": [
        {
          "output_type": "execute_result",
          "data": {
            "text/plain": [
              "{'미국': '워싱턴', '일본': '도쿄', '한국': '서울'}"
            ]
          },
          "metadata": {},
          "execution_count": 127
        }
      ]
    },
    {
      "cell_type": "code",
      "source": [
        "text = \"hello\"\n",
        "list(text) # 문자열에 각 문자가 리스트에 하나의 요소로 들어간다."
      ],
      "metadata": {
        "colab": {
          "base_uri": "https://localhost:8080/"
        },
        "id": "rKR17YuA4kDO",
        "outputId": "9e4e813e-02eb-4cbb-af28-14bd1fdbaef8"
      },
      "execution_count": null,
      "outputs": [
        {
          "output_type": "execute_result",
          "data": {
            "text/plain": [
              "['h', 'e', 'l', 'l', 'o']"
            ]
          },
          "metadata": {},
          "execution_count": 128
        }
      ]
    },
    {
      "cell_type": "code",
      "source": [
        "# text 의 문자열이 어떠한 알파벳으로 구성되어있을까?\n",
        "set(text)"
      ],
      "metadata": {
        "colab": {
          "base_uri": "https://localhost:8080/"
        },
        "id": "WfVM89Ri4kAn",
        "outputId": "2180d6bc-2fde-4013-d4b7-756cc50b6e68"
      },
      "execution_count": null,
      "outputs": [
        {
          "output_type": "execute_result",
          "data": {
            "text/plain": [
              "{'e', 'h', 'l', 'o'}"
            ]
          },
          "metadata": {},
          "execution_count": 129
        }
      ]
    }
  ]
}