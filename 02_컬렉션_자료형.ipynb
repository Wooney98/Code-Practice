{
  "nbformat": 4,
  "nbformat_minor": 0,
  "metadata": {
    "colab": {
      "name": "02-컬렉션 자료형.ipynb",
      "provenance": [],
      "toc_visible": true,
      "authorship_tag": "ABX9TyMH7clgCuiCfNDsj51vBYXs",
      "include_colab_link": true
    },
    "kernelspec": {
      "name": "python3",
      "display_name": "Python 3"
    },
    "language_info": {
      "name": "python"
    }
  },
  "cells": [
    {
      "cell_type": "markdown",
      "metadata": {
        "id": "view-in-github",
        "colab_type": "text"
      },
      "source": [
        "<a href=\"https://colab.research.google.com/github/Wooney98/playdata-colab/blob/main/02_%EC%BB%AC%EB%A0%89%EC%85%98_%EC%9E%90%EB%A3%8C%ED%98%95.ipynb\" target=\"_parent\"><img src=\"https://colab.research.google.com/assets/colab-badge.svg\" alt=\"Open In Colab\"/></a>"
      ]
    },
    {
      "cell_type": "markdown",
      "source": [
        "# 함수\n",
        "- 코드의 반복을 줄이거나 어떠한 기능을 하기 위해 특정 코드를 모여둔것\n",
        "$$\n",
        "f(x) = 2x\n",
        "$$\n"
      ],
      "metadata": {
        "id": "H-ncEoBHXKzF"
      }
    },
    {
      "cell_type": "markdown",
      "source": [
        "# 메소드\n",
        "- 객체(값)에 소속되어 있는 함수\n"
      ],
      "metadata": {
        "id": "9KD4kOyaXUf5"
      }
    },
    {
      "cell_type": "code",
      "source": [
        "S = 'ABCD'\n",
        "\n",
        "len(S)"
      ],
      "metadata": {
        "colab": {
          "base_uri": "https://localhost:8080/"
        },
        "id": "Z2Y8somVXaiF",
        "outputId": "f904201e-dc9f-45bd-8306-b0c58cb148fa"
      },
      "execution_count": 1,
      "outputs": [
        {
          "output_type": "execute_result",
          "data": {
            "text/plain": [
              "4"
            ]
          },
          "metadata": {},
          "execution_count": 1
        }
      ]
    },
    {
      "cell_type": "code",
      "source": [
        "S.lower()"
      ],
      "metadata": {
        "colab": {
          "base_uri": "https://localhost:8080/",
          "height": 35
        },
        "id": "4Zv29gBQXh_j",
        "outputId": "28c4df0b-ab1c-4a83-8457-0e27cde50a31"
      },
      "execution_count": 2,
      "outputs": [
        {
          "output_type": "execute_result",
          "data": {
            "text/plain": [
              "'abcd'"
            ],
            "application/vnd.google.colaboratory.intrinsic+json": {
              "type": "string"
            }
          },
          "metadata": {},
          "execution_count": 2
        }
      ]
    },
    {
      "cell_type": "markdown",
      "source": [
        "# 컬렉션 자료형(Collection data type)\n",
        "- 여러가지 요소를 하나로 묶어서 담을 수 있는 데이터 타입\n",
        "    - 문법적인 요소를 빼고 다 담을 수 있다.\n",
        "    - 격체, 변수, 함수, 클래스... 등 담을 수 있다.\n",
        "    - `list, set, dict, tuple`\n",
        "    "
      ],
      "metadata": {
        "id": "iypL-p3JXpGN"
      }
    },
    {
      "cell_type": "markdown",
      "source": [
        "# 자료형의 특징\n",
        "- Sequence 자료형\n",
        "    - 열거, 연속 되어있음.\n",
        "    - 순서, 순번(index)이 있음.\n",
        "- mutable 자료형\n",
        "    - 수정 가능한 객체\n",
        "    - 컬렉션 자료형 : `list, set, dict`\n",
        "- immutable 자료형\n",
        "    - 수정 불가능한 객체\n",
        "    - 기본 자료형 : `int, float, str, bool` \n",
        "    - 컬렉션 자료형 : `tuple`"
      ],
      "metadata": {
        "id": "EE7PnNA5YBOb"
      }
    },
    {
      "cell_type": "markdown",
      "source": [
        "#list\n",
        "- Sequence 자료형\n",
        "- mutable 자료형\n",
        "    - 수정 가능\n",
        "- 중복 데이터 저장 가능\n",
        "- `[]`를 이용해서 만들 수 있다."
      ],
      "metadata": {
        "id": "AFGCJnSoZCWA"
      }
    },
    {
      "cell_type": "code",
      "source": [
        "lst = [1,2,3,4,4, 'four', None, 7.0]\n",
        "lst"
      ],
      "metadata": {
        "colab": {
          "base_uri": "https://localhost:8080/"
        },
        "id": "slwsCs5MXlB-",
        "outputId": "1821378e-18a9-44d5-d183-ba23f68780bb"
      },
      "execution_count": 6,
      "outputs": [
        {
          "output_type": "execute_result",
          "data": {
            "text/plain": [
              "[1, 2, 3, 4, 4, 'four', None, 7.0]"
            ]
          },
          "metadata": {},
          "execution_count": 6
        }
      ]
    },
    {
      "cell_type": "code",
      "source": [
        "type(lst)"
      ],
      "metadata": {
        "colab": {
          "base_uri": "https://localhost:8080/"
        },
        "id": "TO_N86lkZbdx",
        "outputId": "1cab037d-52df-4d30-933e-45719173ecfb"
      },
      "execution_count": 7,
      "outputs": [
        {
          "output_type": "execute_result",
          "data": {
            "text/plain": [
              "list"
            ]
          },
          "metadata": {},
          "execution_count": 7
        }
      ]
    },
    {
      "cell_type": "code",
      "source": [
        "len(lst)"
      ],
      "metadata": {
        "colab": {
          "base_uri": "https://localhost:8080/"
        },
        "id": "2EeHk_g9Zsiu",
        "outputId": "524eeadf-ffa4-4d8c-c58d-413806e702a3"
      },
      "execution_count": 8,
      "outputs": [
        {
          "output_type": "execute_result",
          "data": {
            "text/plain": [
              "8"
            ]
          },
          "metadata": {},
          "execution_count": 8
        }
      ]
    },
    {
      "cell_type": "code",
      "source": [
        "lst = [1,2,3,[1,2]]\n",
        "len(lst)"
      ],
      "metadata": {
        "colab": {
          "base_uri": "https://localhost:8080/"
        },
        "id": "qTpMw0oMZxXb",
        "outputId": "7ec45cf2-3456-4e5e-d630-5c07b55a3d2e"
      },
      "execution_count": 9,
      "outputs": [
        {
          "output_type": "execute_result",
          "data": {
            "text/plain": [
              "4"
            ]
          },
          "metadata": {},
          "execution_count": 9
        }
      ]
    },
    {
      "cell_type": "code",
      "source": [
        "lst = [11,200,7,9,10]\n",
        "sorted(lst)  # 순방향 정렬 메서드"
      ],
      "metadata": {
        "colab": {
          "base_uri": "https://localhost:8080/"
        },
        "id": "z-he9HtMZ4Ip",
        "outputId": "95de6b02-ed0d-45d5-a858-47e7c063d483"
      },
      "execution_count": 14,
      "outputs": [
        {
          "output_type": "execute_result",
          "data": {
            "text/plain": [
              "[7, 9, 10, 11, 200]"
            ]
          },
          "metadata": {},
          "execution_count": 14
        }
      ]
    },
    {
      "cell_type": "code",
      "source": [
        "max(lst)"
      ],
      "metadata": {
        "colab": {
          "base_uri": "https://localhost:8080/"
        },
        "id": "VK1g31TkaXzb",
        "outputId": "32b2045a-3712-41b3-ad03-d526cd976228"
      },
      "execution_count": 15,
      "outputs": [
        {
          "output_type": "execute_result",
          "data": {
            "text/plain": [
              "200"
            ]
          },
          "metadata": {},
          "execution_count": 15
        }
      ]
    },
    {
      "cell_type": "code",
      "source": [
        "min(lst)"
      ],
      "metadata": {
        "colab": {
          "base_uri": "https://localhost:8080/"
        },
        "id": "jIte9NJqal9P",
        "outputId": "1234ae25-91d4-4393-9c21-16c5d846a462"
      },
      "execution_count": 16,
      "outputs": [
        {
          "output_type": "execute_result",
          "data": {
            "text/plain": [
              "7"
            ]
          },
          "metadata": {},
          "execution_count": 16
        }
      ]
    },
    {
      "cell_type": "code",
      "source": [
        "sum(lst)"
      ],
      "metadata": {
        "colab": {
          "base_uri": "https://localhost:8080/"
        },
        "id": "LiZa2XoRanWJ",
        "outputId": "2a6b7570-7b56-40eb-ba47-4eeb1ffbeab8"
      },
      "execution_count": 17,
      "outputs": [
        {
          "output_type": "execute_result",
          "data": {
            "text/plain": [
              "237"
            ]
          },
          "metadata": {},
          "execution_count": 17
        }
      ]
    },
    {
      "cell_type": "code",
      "source": [
        "avg = sum(lst)/len(lst)\n",
        "avg"
      ],
      "metadata": {
        "colab": {
          "base_uri": "https://localhost:8080/"
        },
        "id": "as7QI_MhaoEM",
        "outputId": "867a21d2-92ea-4455-de70-15ecdab96b68"
      },
      "execution_count": 20,
      "outputs": [
        {
          "output_type": "execute_result",
          "data": {
            "text/plain": [
              "47.4"
            ]
          },
          "metadata": {},
          "execution_count": 20
        }
      ]
    },
    {
      "cell_type": "markdown",
      "source": [
        "## 시퀀스 다루기\n",
        "- Sequence는 순번이 있다.\n",
        "    - 순번을 index 라고 한다.\n",
        "- 파이썬의 인덱스는 두 종류가 있다.\n",
        "    - 양수 인덱스\n",
        "        - `0`을 포함하여 시작.\n",
        "        - 왼쪽에서 오른쪽으로 1씩 증가\n",
        "    - 음수 인덱스\n",
        "        - `-1`부터 시작.\n",
        "        - 오른쪽에서 왼쪽으로 1씩 감소\n",
        "- 인덱스는 `정수`로 선언"
      ],
      "metadata": {
        "id": "e7jQfI1jbtK4"
      }
    },
    {
      "cell_type": "code",
      "source": [
        "lst = [1,2,3,4,4, 'four', None, 7.0]\n",
        "\n",
        "lst[0] "
      ],
      "metadata": {
        "colab": {
          "base_uri": "https://localhost:8080/"
        },
        "id": "pafqwuE6bDa1",
        "outputId": "be008a83-9cc8-4dce-8721-741a9ab7714a"
      },
      "execution_count": 29,
      "outputs": [
        {
          "output_type": "execute_result",
          "data": {
            "text/plain": [
              "1"
            ]
          },
          "metadata": {},
          "execution_count": 29
        }
      ]
    },
    {
      "cell_type": "code",
      "source": [
        "lst[3]"
      ],
      "metadata": {
        "colab": {
          "base_uri": "https://localhost:8080/"
        },
        "id": "3DcL1QbCcpab",
        "outputId": "03f661a4-4416-4b46-97bd-a1604a4db34b"
      },
      "execution_count": 25,
      "outputs": [
        {
          "output_type": "execute_result",
          "data": {
            "text/plain": [
              "4"
            ]
          },
          "metadata": {},
          "execution_count": 25
        }
      ]
    },
    {
      "cell_type": "code",
      "source": [
        "lst[4]"
      ],
      "metadata": {
        "colab": {
          "base_uri": "https://localhost:8080/"
        },
        "id": "jmMzccpIct71",
        "outputId": "446bef61-80a2-4bc4-b4b3-633f6db37348"
      },
      "execution_count": 26,
      "outputs": [
        {
          "output_type": "execute_result",
          "data": {
            "text/plain": [
              "4"
            ]
          },
          "metadata": {},
          "execution_count": 26
        }
      ]
    },
    {
      "cell_type": "code",
      "source": [
        "lst[-2] # None"
      ],
      "metadata": {
        "id": "5rDVifuVcv5R"
      },
      "execution_count": 27,
      "outputs": []
    },
    {
      "cell_type": "code",
      "source": [
        "lst[-1]"
      ],
      "metadata": {
        "colab": {
          "base_uri": "https://localhost:8080/"
        },
        "id": "yQz0wMfvcz9m",
        "outputId": "5ca407df-ed2c-4dc0-a075-cc232de126cb"
      },
      "execution_count": 28,
      "outputs": [
        {
          "output_type": "execute_result",
          "data": {
            "text/plain": [
              "7.0"
            ]
          },
          "metadata": {},
          "execution_count": 28
        }
      ]
    },
    {
      "cell_type": "markdown",
      "source": [
        "## 슬라이싱(Slicing)\n",
        "- 인덱스를 사용해서 시퀀스를 잘라낸다.\n",
        "- 시퀀스에서 특정 범위를 가리킨다.\n",
        "- `[ a: b: c]` \n",
        "    - a = start값\n",
        "    - b = end값\n",
        "    - c = step값(증가, 배수)\n",
        "- `start ~ end-1`부분을 `step`만큼 건너 뛰면서 잘라낸다.\n"
      ],
      "metadata": {
        "id": "uUX1-Eiuc-af"
      }
    },
    {
      "cell_type": "code",
      "source": [
        "lst = [\"a\",\"b\",\"c\",\"d\",\"e\",\"f\",\"g\"]\n",
        "lst"
      ],
      "metadata": {
        "colab": {
          "base_uri": "https://localhost:8080/"
        },
        "id": "N1DHJoDic1j8",
        "outputId": "76768939-86b4-4249-8f7a-e72ed7e3c7ab"
      },
      "execution_count": 30,
      "outputs": [
        {
          "output_type": "execute_result",
          "data": {
            "text/plain": [
              "['a', 'b', 'c', 'd', 'e', 'f', 'g']"
            ]
          },
          "metadata": {},
          "execution_count": 30
        }
      ]
    },
    {
      "cell_type": "code",
      "source": [
        "lst[0:3]"
      ],
      "metadata": {
        "colab": {
          "base_uri": "https://localhost:8080/"
        },
        "id": "gCffEjwEd8SQ",
        "outputId": "e09ec408-30df-4211-b20e-cec75855d64c"
      },
      "execution_count": 31,
      "outputs": [
        {
          "output_type": "execute_result",
          "data": {
            "text/plain": [
              "['a', 'b', 'c']"
            ]
          },
          "metadata": {},
          "execution_count": 31
        }
      ]
    },
    {
      "cell_type": "code",
      "source": [
        "lst[2:4]"
      ],
      "metadata": {
        "colab": {
          "base_uri": "https://localhost:8080/"
        },
        "id": "hZw1UwHid9da",
        "outputId": "fe7e1ddd-d847-45de-d23a-8c7af2a0cd80"
      },
      "execution_count": 32,
      "outputs": [
        {
          "output_type": "execute_result",
          "data": {
            "text/plain": [
              "['c', 'd']"
            ]
          },
          "metadata": {},
          "execution_count": 32
        }
      ]
    },
    {
      "cell_type": "code",
      "source": [
        "lst[-3:-1]"
      ],
      "metadata": {
        "colab": {
          "base_uri": "https://localhost:8080/"
        },
        "id": "o4Whnsukd_ed",
        "outputId": "310ef912-bffc-4cd2-b849-00578ab84ea5"
      },
      "execution_count": 39,
      "outputs": [
        {
          "output_type": "execute_result",
          "data": {
            "text/plain": [
              "['e', 'f']"
            ]
          },
          "metadata": {},
          "execution_count": 39
        }
      ]
    },
    {
      "cell_type": "markdown",
      "source": [
        "- `start, end, step`은 생략이 가능하다.\n",
        "- `start`생략 시, `0`이 들어간다.\n",
        "- `end`생략 시, `시퀀스의 길이(len())`가 들어간다."
      ],
      "metadata": {
        "id": "Ji96c765e7CZ"
      }
    },
    {
      "cell_type": "code",
      "source": [
        "lst[:] # lst[0:len(lst)]"
      ],
      "metadata": {
        "colab": {
          "base_uri": "https://localhost:8080/"
        },
        "id": "s8mwstH2eNv7",
        "outputId": "94858d88-3a9d-4c56-e586-30b7a8b82635"
      },
      "execution_count": 40,
      "outputs": [
        {
          "output_type": "execute_result",
          "data": {
            "text/plain": [
              "['a', 'b', 'c', 'd', 'e', 'f', 'g']"
            ]
          },
          "metadata": {},
          "execution_count": 40
        }
      ]
    },
    {
      "cell_type": "code",
      "source": [
        "lst[:5]"
      ],
      "metadata": {
        "colab": {
          "base_uri": "https://localhost:8080/"
        },
        "id": "_MM3x5ApfbWg",
        "outputId": "acd2bfc5-bca8-4e6a-c2b5-97e1d45529d4"
      },
      "execution_count": 42,
      "outputs": [
        {
          "output_type": "execute_result",
          "data": {
            "text/plain": [
              "['a', 'b', 'c', 'd', 'e']"
            ]
          },
          "metadata": {},
          "execution_count": 42
        }
      ]
    },
    {
      "cell_type": "code",
      "source": [
        "lst[-5:]"
      ],
      "metadata": {
        "colab": {
          "base_uri": "https://localhost:8080/"
        },
        "id": "i0gVaahYfpnX",
        "outputId": "1a3bb0a7-1a9e-4d9f-fa07-d068feb51629"
      },
      "execution_count": 46,
      "outputs": [
        {
          "output_type": "execute_result",
          "data": {
            "text/plain": [
              "['c', 'd', 'e', 'f', 'g']"
            ]
          },
          "metadata": {},
          "execution_count": 46
        }
      ]
    },
    {
      "cell_type": "code",
      "source": [
        "lst[:-1]"
      ],
      "metadata": {
        "colab": {
          "base_uri": "https://localhost:8080/"
        },
        "id": "HAokXasyf8r7",
        "outputId": "a236a289-7fc0-4f8a-e96b-c1fd5f5133b1"
      },
      "execution_count": 48,
      "outputs": [
        {
          "output_type": "execute_result",
          "data": {
            "text/plain": [
              "['a', 'b', 'c', 'd', 'e', 'f']"
            ]
          },
          "metadata": {},
          "execution_count": 48
        }
      ]
    },
    {
      "cell_type": "markdown",
      "source": [
        "- step\n",
        "    - 지정한 범위에서 `step` 만큼 건너뛰면서 슬라이싱\n",
        "    - `step`을 생략하면 기본적으로 1이 주어진다."
      ],
      "metadata": {
        "id": "zRwkGbkUj-h1"
      }
    },
    {
      "cell_type": "code",
      "source": [
        "lst[0:len(lst):1]"
      ],
      "metadata": {
        "colab": {
          "base_uri": "https://localhost:8080/"
        },
        "id": "SpyDXJIHkUAi",
        "outputId": "ca23e844-836c-4f26-8789-5e663073fdb0"
      },
      "execution_count": 50,
      "outputs": [
        {
          "output_type": "execute_result",
          "data": {
            "text/plain": [
              "['a', 'b', 'c', 'd', 'e', 'f', 'g']"
            ]
          },
          "metadata": {},
          "execution_count": 50
        }
      ]
    },
    {
      "cell_type": "markdown",
      "source": [
        "- `step` 부분을 양수, 음수를 이용하여 방향 설정 가능\n",
        "    - 양수 = 정방향(왼->오)\n",
        "    - 음수 = 역방향(오->왼)"
      ],
      "metadata": {
        "id": "_sNYyeG-kpYz"
      }
    },
    {
      "cell_type": "code",
      "source": [
        "lst[::2]"
      ],
      "metadata": {
        "colab": {
          "base_uri": "https://localhost:8080/"
        },
        "id": "48vfzCzqkWms",
        "outputId": "9ee73321-8b67-4aa5-db50-20d97ca42ca4"
      },
      "execution_count": 51,
      "outputs": [
        {
          "output_type": "execute_result",
          "data": {
            "text/plain": [
              "['a', 'c', 'e', 'g']"
            ]
          },
          "metadata": {},
          "execution_count": 51
        }
      ]
    },
    {
      "cell_type": "code",
      "source": [
        "lst[::-2]"
      ],
      "metadata": {
        "colab": {
          "base_uri": "https://localhost:8080/"
        },
        "id": "X0aPEsU1kgu8",
        "outputId": "9f25a730-0dd9-467c-afbd-3f27fbb72519"
      },
      "execution_count": 53,
      "outputs": [
        {
          "output_type": "execute_result",
          "data": {
            "text/plain": [
              "['g', 'e', 'c', 'a']"
            ]
          },
          "metadata": {},
          "execution_count": 53
        }
      ]
    },
    {
      "cell_type": "code",
      "source": [
        "lst = [10,20,30,40,50,60,70]\n",
        "lst"
      ],
      "metadata": {
        "colab": {
          "base_uri": "https://localhost:8080/"
        },
        "id": "3C2b6ryDkjZ6",
        "outputId": "fdb33e2b-0c7b-4cea-d226-80f537a5185e"
      },
      "execution_count": 57,
      "outputs": [
        {
          "output_type": "execute_result",
          "data": {
            "text/plain": [
              "[10, 20, 30, 40, 50, 60, 70]"
            ]
          },
          "metadata": {},
          "execution_count": 57
        }
      ]
    },
    {
      "cell_type": "code",
      "source": [
        "lst[3:4:1]"
      ],
      "metadata": {
        "colab": {
          "base_uri": "https://localhost:8080/"
        },
        "id": "Y9WtEFd6lQfc",
        "outputId": "f5f92c5c-262c-4196-c5f0-4a6f72761922"
      },
      "execution_count": 58,
      "outputs": [
        {
          "output_type": "execute_result",
          "data": {
            "text/plain": [
              "[40]"
            ]
          },
          "metadata": {},
          "execution_count": 58
        }
      ]
    },
    {
      "cell_type": "code",
      "source": [
        "lst[-2:-6:-1]"
      ],
      "metadata": {
        "colab": {
          "base_uri": "https://localhost:8080/"
        },
        "id": "_LaCU-CilzcB",
        "outputId": "2ece4f2c-5137-4f86-9939-82c915485331"
      },
      "execution_count": 62,
      "outputs": [
        {
          "output_type": "execute_result",
          "data": {
            "text/plain": [
              "[60, 50, 40, 30]"
            ]
          },
          "metadata": {},
          "execution_count": 62
        }
      ]
    },
    {
      "cell_type": "code",
      "source": [
        "lst[5:1:-1]"
      ],
      "metadata": {
        "colab": {
          "base_uri": "https://localhost:8080/"
        },
        "id": "kD85Hj9zl5Cd",
        "outputId": "1cd6ffd1-f215-4135-ded3-b81c11f767f9"
      },
      "execution_count": 63,
      "outputs": [
        {
          "output_type": "execute_result",
          "data": {
            "text/plain": [
              "[60, 50, 40, 30]"
            ]
          },
          "metadata": {},
          "execution_count": 63
        }
      ]
    },
    {
      "cell_type": "markdown",
      "source": [
        "### 10보다 작은 3의 배수만 오름차순으로 슬라이싱 하시오."
      ],
      "metadata": {
        "id": "ilhbVJxPnx-v"
      }
    },
    {
      "cell_type": "code",
      "source": [
        "num_list = [2,3,4,5,6,7,8,9,10,11,12,13,14,15]\n",
        "num_list"
      ],
      "metadata": {
        "colab": {
          "base_uri": "https://localhost:8080/"
        },
        "id": "JSdMzN-mmjeW",
        "outputId": "c95900c7-3595-40e1-9a86-cd34408b3948"
      },
      "execution_count": 65,
      "outputs": [
        {
          "output_type": "execute_result",
          "data": {
            "text/plain": [
              "[2, 3, 4, 5, 6, 7, 8, 9, 10, 11, 12, 13, 14, 15]"
            ]
          },
          "metadata": {},
          "execution_count": 65
        }
      ]
    },
    {
      "cell_type": "code",
      "source": [
        "num_list[1:-6:3]"
      ],
      "metadata": {
        "colab": {
          "base_uri": "https://localhost:8080/"
        },
        "id": "9qGgnHism-AX",
        "outputId": "2375756d-09f9-4f8b-b034-7f8358b16928"
      },
      "execution_count": 73,
      "outputs": [
        {
          "output_type": "execute_result",
          "data": {
            "text/plain": [
              "[3, 6, 9]"
            ]
          },
          "metadata": {},
          "execution_count": 73
        }
      ]
    },
    {
      "cell_type": "markdown",
      "source": [
        "## mutable 한 리스트"
      ],
      "metadata": {
        "id": "9dwgDKo_o9WM"
      }
    },
    {
      "cell_type": "code",
      "source": [
        "lst = [1,2,3,4,5,6,7,8,9,10]\n",
        "lst[1] = 10000\n",
        "lst"
      ],
      "metadata": {
        "colab": {
          "base_uri": "https://localhost:8080/"
        },
        "id": "4l8SWsD1nICL",
        "outputId": "48d6051d-29d5-4538-f80b-4a85e06741b1"
      },
      "execution_count": 126,
      "outputs": [
        {
          "output_type": "execute_result",
          "data": {
            "text/plain": [
              "[1, 10000, 3, 4, 5, 6, 7, 8, 9, 10]"
            ]
          },
          "metadata": {},
          "execution_count": 126
        }
      ]
    },
    {
      "cell_type": "code",
      "source": [
        "lst[:1] = 3\n",
        "lst\n",
        "# lst[:1] = 3 은 에러\n",
        "# why? 슬라이싱한 객체는 단일값이 아닌 리스트로 반환되기때문"
      ],
      "metadata": {
        "colab": {
          "base_uri": "https://localhost:8080/",
          "height": 227
        },
        "id": "6jDX6ca2pIbj",
        "outputId": "cdbef7bd-37db-4023-f0e6-760a081ee6c9"
      },
      "execution_count": 122,
      "outputs": [
        {
          "output_type": "error",
          "ename": "TypeError",
          "evalue": "ignored",
          "traceback": [
            "\u001b[0;31m---------------------------------------------------------------------------\u001b[0m",
            "\u001b[0;31mTypeError\u001b[0m                                 Traceback (most recent call last)",
            "\u001b[0;32m<ipython-input-122-94278e4c491c>\u001b[0m in \u001b[0;36m<module>\u001b[0;34m()\u001b[0m\n\u001b[0;32m----> 1\u001b[0;31m \u001b[0mlst\u001b[0m\u001b[0;34m[\u001b[0m\u001b[0;34m:\u001b[0m\u001b[0;36m1\u001b[0m\u001b[0;34m]\u001b[0m \u001b[0;34m=\u001b[0m \u001b[0;36m3\u001b[0m\u001b[0;34m\u001b[0m\u001b[0;34m\u001b[0m\u001b[0m\n\u001b[0m\u001b[1;32m      2\u001b[0m \u001b[0mlst\u001b[0m\u001b[0;34m\u001b[0m\u001b[0;34m\u001b[0m\u001b[0m\n\u001b[1;32m      3\u001b[0m \u001b[0;31m# lst[:1] = 3 은 에러\u001b[0m\u001b[0;34m\u001b[0m\u001b[0;34m\u001b[0m\u001b[0;34m\u001b[0m\u001b[0m\n\u001b[1;32m      4\u001b[0m \u001b[0;31m# why? 슬라이싱한 객체는 단일값이 아닌 리스트로 반환되기때문\u001b[0m\u001b[0;34m\u001b[0m\u001b[0;34m\u001b[0m\u001b[0;34m\u001b[0m\u001b[0m\n",
            "\u001b[0;31mTypeError\u001b[0m: can only assign an iterable"
          ]
        }
      ]
    },
    {
      "cell_type": "markdown",
      "source": [
        "- "
      ],
      "metadata": {
        "id": "AYoDLPJbqKpi"
      }
    },
    {
      "cell_type": "code",
      "source": [
        "lst[1:] = [3] \n",
        "lst"
      ],
      "metadata": {
        "colab": {
          "base_uri": "https://localhost:8080/"
        },
        "id": "DmIunGiApm4p",
        "outputId": "1980e66c-99ee-4405-8b53-c819df58cb68"
      },
      "execution_count": 128,
      "outputs": [
        {
          "output_type": "execute_result",
          "data": {
            "text/plain": [
              "[1, 3]"
            ]
          },
          "metadata": {},
          "execution_count": 128
        }
      ]
    },
    {
      "cell_type": "code",
      "source": [
        "lst[1:] = [1001,1002,1003,1004]\n",
        "lst"
      ],
      "metadata": {
        "colab": {
          "base_uri": "https://localhost:8080/"
        },
        "id": "sKTahJzsptzk",
        "outputId": "5caf95b0-4263-4805-a34d-5931522dda5c"
      },
      "execution_count": 79,
      "outputs": [
        {
          "output_type": "execute_result",
          "data": {
            "text/plain": [
              "[1, 1001, 1002, 1003, 1004]"
            ]
          },
          "metadata": {},
          "execution_count": 79
        }
      ]
    },
    {
      "cell_type": "markdown",
      "source": [
        "- step 을 2 이상을 넣어 연속적인 공간이 아닌 리스트가 슬라이싱 되면 수정이 안된다."
      ],
      "metadata": {
        "id": "JvePZRg0qhae"
      }
    },
    {
      "cell_type": "code",
      "source": [
        "lst = [1,2,3,4,5,6,7,8,9,10]\n",
        "lst[1::2] = [0] "
      ],
      "metadata": {
        "colab": {
          "base_uri": "https://localhost:8080/",
          "height": 190
        },
        "id": "DiVNeWAkp3dr",
        "outputId": "8cbd2819-cf5b-42d7-f4bb-a972acc2bb88"
      },
      "execution_count": 80,
      "outputs": [
        {
          "output_type": "error",
          "ename": "ValueError",
          "evalue": "ignored",
          "traceback": [
            "\u001b[0;31m---------------------------------------------------------------------------\u001b[0m",
            "\u001b[0;31mValueError\u001b[0m                                Traceback (most recent call last)",
            "\u001b[0;32m<ipython-input-80-8e2826eae555>\u001b[0m in \u001b[0;36m<module>\u001b[0;34m()\u001b[0m\n\u001b[1;32m      1\u001b[0m \u001b[0mlst\u001b[0m \u001b[0;34m=\u001b[0m \u001b[0;34m[\u001b[0m\u001b[0;36m1\u001b[0m\u001b[0;34m,\u001b[0m\u001b[0;36m2\u001b[0m\u001b[0;34m,\u001b[0m\u001b[0;36m3\u001b[0m\u001b[0;34m,\u001b[0m\u001b[0;36m4\u001b[0m\u001b[0;34m,\u001b[0m\u001b[0;36m5\u001b[0m\u001b[0;34m,\u001b[0m\u001b[0;36m6\u001b[0m\u001b[0;34m,\u001b[0m\u001b[0;36m7\u001b[0m\u001b[0;34m,\u001b[0m\u001b[0;36m8\u001b[0m\u001b[0;34m,\u001b[0m\u001b[0;36m9\u001b[0m\u001b[0;34m,\u001b[0m\u001b[0;36m10\u001b[0m\u001b[0;34m]\u001b[0m\u001b[0;34m\u001b[0m\u001b[0;34m\u001b[0m\u001b[0m\n\u001b[0;32m----> 2\u001b[0;31m \u001b[0mlst\u001b[0m\u001b[0;34m[\u001b[0m\u001b[0;36m1\u001b[0m\u001b[0;34m:\u001b[0m\u001b[0;34m:\u001b[0m\u001b[0;36m2\u001b[0m\u001b[0;34m]\u001b[0m \u001b[0;34m=\u001b[0m \u001b[0;34m[\u001b[0m\u001b[0;36m0\u001b[0m\u001b[0;34m]\u001b[0m\u001b[0;34m\u001b[0m\u001b[0;34m\u001b[0m\u001b[0m\n\u001b[0m",
            "\u001b[0;31mValueError\u001b[0m: attempt to assign sequence of size 1 to extended slice of size 5"
          ]
        }
      ]
    },
    {
      "cell_type": "markdown",
      "source": [
        "## `list` 의 메서드"
      ],
      "metadata": {
        "id": "y0LRn4-uqoo0"
      }
    },
    {
      "cell_type": "markdown",
      "source": [
        "- `append()`\n",
        "    - 리스트 맨뒤에 값을 추가"
      ],
      "metadata": {
        "id": "-fbh2sI3q3Sl"
      }
    },
    {
      "cell_type": "code",
      "source": [
        "lst = [1,2,3,4]\n",
        "lst.append(0)\n",
        "lst"
      ],
      "metadata": {
        "colab": {
          "base_uri": "https://localhost:8080/"
        },
        "id": "LT3_w2eIqZNi",
        "outputId": "7cce131d-7dbc-4e0d-bbd7-339fb7df6a94"
      },
      "execution_count": 131,
      "outputs": [
        {
          "output_type": "execute_result",
          "data": {
            "text/plain": [
              "[1, 2, 3, 4, 0]"
            ]
          },
          "metadata": {},
          "execution_count": 131
        }
      ]
    },
    {
      "cell_type": "markdown",
      "source": [
        "- `sort()`\n",
        "    - 리스트 항목을 순방향으로 정렬"
      ],
      "metadata": {
        "id": "fnE9RJQUsvhn"
      }
    },
    {
      "cell_type": "code",
      "source": [
        "lst.sort()\n",
        "lst"
      ],
      "metadata": {
        "colab": {
          "base_uri": "https://localhost:8080/"
        },
        "id": "DpjKjnhmyDrp",
        "outputId": "4decc344-05ab-48a2-ac50-f9b275d0dc04"
      },
      "execution_count": 132,
      "outputs": [
        {
          "output_type": "execute_result",
          "data": {
            "text/plain": [
              "[0, 1, 2, 3, 4]"
            ]
          },
          "metadata": {},
          "execution_count": 132
        }
      ]
    },
    {
      "cell_type": "code",
      "source": [
        "sorted(lst)"
      ],
      "metadata": {
        "colab": {
          "base_uri": "https://localhost:8080/"
        },
        "id": "Rq6328pYrPef",
        "outputId": "fc8849cb-9cd3-40e6-bc22-7f24c4743c8d"
      },
      "execution_count": 102,
      "outputs": [
        {
          "output_type": "execute_result",
          "data": {
            "text/plain": [
              "[0, 1, 2, 3, 4]"
            ]
          },
          "metadata": {},
          "execution_count": 102
        }
      ]
    },
    {
      "cell_type": "code",
      "source": [
        "lst"
      ],
      "metadata": {
        "colab": {
          "base_uri": "https://localhost:8080/"
        },
        "id": "N62yOAhXrTov",
        "outputId": "78264e7e-0b31-4d7b-b3a5-6647f7c62be5"
      },
      "execution_count": 103,
      "outputs": [
        {
          "output_type": "execute_result",
          "data": {
            "text/plain": [
              "[1, 2, 3, 4, 0]"
            ]
          },
          "metadata": {},
          "execution_count": 103
        }
      ]
    },
    {
      "cell_type": "code",
      "source": [
        "#함수와 메서드의 차이 (sort()와 sorted())\n",
        "#함수는 sum(), abs() 같이 독립적으로 사용되는 반면, 메서드는 a라는 객체가 존재할 때 a.upper(), a.lower()와 같은 형태로 사용됩니다. "
      ],
      "metadata": {
        "id": "FMEEK-B0rG9T"
      },
      "execution_count": 105,
      "outputs": []
    },
    {
      "cell_type": "markdown",
      "source": [
        "$$\n",
        "funtion ⊃ method\n",
        "$$"
      ],
      "metadata": {
        "id": "bm_Ti9sOxt3Y"
      }
    },
    {
      "cell_type": "markdown",
      "source": [
        "- `pop()`\n",
        "    - 제일 뒤에 있는 데이터를 꺼내고 삭제\n",
        "    - 인덱스 값을 줄 경우 해당 인덱스 값을 꺼내고 삭제"
      ],
      "metadata": {
        "id": "yAU1-F-9smnD"
      }
    },
    {
      "cell_type": "code",
      "source": [
        "lst"
      ],
      "metadata": {
        "colab": {
          "base_uri": "https://localhost:8080/"
        },
        "id": "tfJK0t5ys10Y",
        "outputId": "45df08c6-18a4-468b-b380-001720cd890a"
      },
      "execution_count": 106,
      "outputs": [
        {
          "output_type": "execute_result",
          "data": {
            "text/plain": [
              "[0, 1, 2, 3, 4]"
            ]
          },
          "metadata": {},
          "execution_count": 106
        }
      ]
    },
    {
      "cell_type": "code",
      "source": [
        "print(lst.pop())\n",
        "print(lst)\n",
        "\n",
        "print(lst.pop())\n",
        "print(lst)"
      ],
      "metadata": {
        "colab": {
          "base_uri": "https://localhost:8080/"
        },
        "id": "pPJZcqAms9Fo",
        "outputId": "03215af7-3a4c-4cbc-951e-13cfdfa440fe"
      },
      "execution_count": 107,
      "outputs": [
        {
          "output_type": "stream",
          "name": "stdout",
          "text": [
            "4\n",
            "[0, 1, 2, 3]\n",
            "3\n",
            "[0, 1, 2]\n"
          ]
        }
      ]
    },
    {
      "cell_type": "code",
      "source": [
        "lst.pop(1)\n",
        "lst"
      ],
      "metadata": {
        "colab": {
          "base_uri": "https://localhost:8080/"
        },
        "id": "RUA49Q3ftOz4",
        "outputId": "9caff285-1a65-40c8-b347-eba88c1c804f"
      },
      "execution_count": 108,
      "outputs": [
        {
          "output_type": "execute_result",
          "data": {
            "text/plain": [
              "[0, 2]"
            ]
          },
          "metadata": {},
          "execution_count": 108
        }
      ]
    },
    {
      "cell_type": "markdown",
      "source": [
        "- `extend()`\n",
        "    - 리스트와 리스트를 합친다."
      ],
      "metadata": {
        "id": "Ixizq5KYtcXO"
      }
    },
    {
      "cell_type": "code",
      "source": [
        "lst = [1,2,3]\n",
        "lst.extend([4,5,6])\n",
        "lst"
      ],
      "metadata": {
        "colab": {
          "base_uri": "https://localhost:8080/"
        },
        "id": "pSTgPvgJtbKZ",
        "outputId": "9d38e26d-304e-4eef-ad31-291b10cd6af9"
      },
      "execution_count": 109,
      "outputs": [
        {
          "output_type": "execute_result",
          "data": {
            "text/plain": [
              "[1, 2, 3, 4, 5, 6]"
            ]
          },
          "metadata": {},
          "execution_count": 109
        }
      ]
    },
    {
      "cell_type": "markdown",
      "source": [
        "- append()와 차이점"
      ],
      "metadata": {
        "id": "2BwsxYpHtrKZ"
      }
    },
    {
      "cell_type": "code",
      "source": [
        "lst = [1,2,3]\n",
        "lst.append([4,5,6])\n",
        "lst"
      ],
      "metadata": {
        "colab": {
          "base_uri": "https://localhost:8080/"
        },
        "id": "Vp2PxN60tokR",
        "outputId": "bff4fb82-d7bf-44e2-8010-8546f8e1b946"
      },
      "execution_count": 110,
      "outputs": [
        {
          "output_type": "execute_result",
          "data": {
            "text/plain": [
              "[1, 2, 3, [4, 5, 6]]"
            ]
          },
          "metadata": {},
          "execution_count": 110
        }
      ]
    },
    {
      "cell_type": "markdown",
      "source": [
        "- `insert()`\n",
        "    - 인덱스 위치에 값을 추가한다."
      ],
      "metadata": {
        "id": "eCSW5FSit5Mi"
      }
    },
    {
      "cell_type": "code",
      "source": [
        "lst = [1,2,3]\n",
        "lst.insert(0,9) #(위치, 추가할 객체)\n",
        "lst"
      ],
      "metadata": {
        "colab": {
          "base_uri": "https://localhost:8080/"
        },
        "id": "VviAIoSVtu4H",
        "outputId": "b05aaca0-e0c4-4041-9f07-a7aa8b5ceba1"
      },
      "execution_count": 111,
      "outputs": [
        {
          "output_type": "execute_result",
          "data": {
            "text/plain": [
              "[9, 1, 2, 3]"
            ]
          },
          "metadata": {},
          "execution_count": 111
        }
      ]
    },
    {
      "cell_type": "markdown",
      "source": [
        "- `remove()`\n",
        "    - 리스트에서 값을 찾아 삭제한다."
      ],
      "metadata": {
        "id": "9T_F67q2uS-S"
      }
    },
    {
      "cell_type": "code",
      "source": [
        "lst = [10,20,30]\n",
        "lst.remove(20)\n",
        "lst"
      ],
      "metadata": {
        "colab": {
          "base_uri": "https://localhost:8080/"
        },
        "id": "sKhZdUwiuNnl",
        "outputId": "f5ba6f90-d5c0-49d2-9abb-ab901fe72c9c"
      },
      "execution_count": 114,
      "outputs": [
        {
          "output_type": "execute_result",
          "data": {
            "text/plain": [
              "[10, 30]"
            ]
          },
          "metadata": {},
          "execution_count": 114
        }
      ]
    },
    {
      "cell_type": "markdown",
      "source": [
        "- `del` 키워드\n",
        "    - 리스트에 경우 특정 인덱스 값을 삭제한다.\n",
        "    - 삭제 가능한 것들 : 리스트 값, 변수, 변수가 참초한 객체값 "
      ],
      "metadata": {
        "id": "Qr3cR2eZuqes"
      }
    },
    {
      "cell_type": "code",
      "source": [
        "lst = [10,20,30]\n",
        "del lst[1]\n",
        "lst"
      ],
      "metadata": {
        "colab": {
          "base_uri": "https://localhost:8080/"
        },
        "id": "rnkpEJXvumKm",
        "outputId": "177a54a6-f777-4112-e8f8-9cf23f498eef"
      },
      "execution_count": 116,
      "outputs": [
        {
          "output_type": "execute_result",
          "data": {
            "text/plain": [
              "[10, 30]"
            ]
          },
          "metadata": {},
          "execution_count": 116
        }
      ]
    }
  ]
}