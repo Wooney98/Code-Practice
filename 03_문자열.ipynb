{
  "nbformat": 4,
  "nbformat_minor": 0,
  "metadata": {
    "colab": {
      "name": "03-문자열.ipynb",
      "provenance": [],
      "toc_visible": true,
      "authorship_tag": "ABX9TyOZ/DIi+lYAnUZiRu70Ie9u",
      "include_colab_link": true
    },
    "kernelspec": {
      "name": "python3",
      "display_name": "Python 3"
    },
    "language_info": {
      "name": "python"
    }
  },
  "cells": [
    {
      "cell_type": "markdown",
      "metadata": {
        "id": "view-in-github",
        "colab_type": "text"
      },
      "source": [
        "<a href=\"https://colab.research.google.com/github/Wooney98/playdata-colab/blob/main/03_%EB%AC%B8%EC%9E%90%EC%97%B4.ipynb\" target=\"_parent\"><img src=\"https://colab.research.google.com/assets/colab-badge.svg\" alt=\"Open In Colab\"/></a>"
      ]
    },
    {
      "cell_type": "markdown",
      "source": [
        "# 문자열이란?\n",
        "- 문자들이 열거 되어있으면 문자열(`str`)\n",
        "- 파이썬은 문자 하나도 문자열로 취급\n",
        "- Sequence 자료형, immutable 형\n",
        "- 문자를 숫자(이진수)로 변경해서 저장 또는 처리 \n",
        "- 이진수로 변경하는 표준규칙을 `인코딩`\n",
        "- 사람이 이해하는 문자로 원복하는 것을 `디코딩`\n",
        "- ASCII(영어 키보드에 할당되는 모든 키), EUC-KR, UTF-8 등"
      ],
      "metadata": {
        "id": "onNKrtiagRHs"
      }
    },
    {
      "cell_type": "code",
      "execution_count": 5,
      "metadata": {
        "id": "IFLuZEui9Nbr",
        "colab": {
          "base_uri": "https://localhost:8080/"
        },
        "outputId": "ef2d92b1-8479-4117-c400-683fab57d03c"
      },
      "outputs": [
        {
          "output_type": "stream",
          "name": "stdout",
          "text": [
            "String test\n"
          ]
        }
      ],
      "source": [
        "print(\"String test\")"
      ]
    },
    {
      "cell_type": "code",
      "source": [
        "String1 = 'this is a \"double\" quotation test'\n",
        "String2 = \"this is a 'single' quotation test\"\n",
        "print(String1)\n",
        "print(String2)"
      ],
      "metadata": {
        "colab": {
          "base_uri": "https://localhost:8080/"
        },
        "id": "TUFAF9ayijnl",
        "outputId": "3e3f69c7-7b0a-43e5-b9e1-24c5b2ee121f"
      },
      "execution_count": 6,
      "outputs": [
        {
          "output_type": "stream",
          "name": "stdout",
          "text": [
            "this is a \"double\" quotation test\n",
            "this is a 'single' quotation test\n"
          ]
        }
      ]
    },
    {
      "cell_type": "markdown",
      "source": [
        "- 이스케이프 문자 : `\\` 다음에 오는 문자가 특수문자라는 것을 알린다.\n",
        "    - `\\n` : 줄바꿈\n",
        "    - `\\t` : 들여쓰기"
      ],
      "metadata": {
        "id": "u4DgCYHNknbB"
      }
    },
    {
      "cell_type": "code",
      "source": [
        "txt = '나는 말했다. \"안녕하세요\\' 라고..' \n",
        "txt1 = '나는 말했다. \\n \"안녕하세요\" 라고..'\n",
        "txt2 = '나는 말했다. \\t 잘가라고'\n",
        "\n",
        "print(txt)\n",
        "print(txt1)\n",
        "print(txt2)"
      ],
      "metadata": {
        "colab": {
          "base_uri": "https://localhost:8080/"
        },
        "id": "sres-3sSi8Ct",
        "outputId": "d3c13ee0-a57d-4bad-9d3e-0755b5d55bbe"
      },
      "execution_count": 10,
      "outputs": [
        {
          "output_type": "stream",
          "name": "stdout",
          "text": [
            "나는 말했다. \"안녕하세요' 라고..\n",
            "나는 말했다. \n",
            " \"안녕하세요\" 라고..\n",
            "나는 말했다. \t 잘가라고\n"
          ]
        }
      ]
    },
    {
      "cell_type": "markdown",
      "source": [
        "## Doc String\n",
        "- 따옴표 3개를 사용. \n",
        "\n",
        "```\n",
        "\"\"\"문자열\"\"\"\n",
        "'''문자열'''\n",
        "```"
      ],
      "metadata": {
        "id": "9JCNpAIzlr8W"
      }
    },
    {
      "cell_type": "code",
      "source": [
        "txt = \"\"\"I said, \"i'm Student\" \"\"\"\n",
        "print(txt)"
      ],
      "metadata": {
        "colab": {
          "base_uri": "https://localhost:8080/"
        },
        "id": "6ZuKezAmkDxg",
        "outputId": "782ae66e-6b8f-4a1b-eb85-6671c5b346d2"
      },
      "execution_count": 12,
      "outputs": [
        {
          "output_type": "stream",
          "name": "stdout",
          "text": [
            "I said, \"i'm Student\" \n"
          ]
        }
      ]
    },
    {
      "cell_type": "markdown",
      "source": [
        "## 문자열 연산"
      ],
      "metadata": {
        "id": "30Cb9MT1m_QR"
      }
    },
    {
      "cell_type": "code",
      "source": [
        "txt = 'hello '\n",
        "txt1 = 'world '"
      ],
      "metadata": {
        "id": "VSTVC9zwmDy1"
      },
      "execution_count": 28,
      "outputs": []
    },
    {
      "cell_type": "code",
      "source": [
        "print(txt + txt1)"
      ],
      "metadata": {
        "colab": {
          "base_uri": "https://localhost:8080/"
        },
        "id": "3qPCoNsJnWqM",
        "outputId": "0c320e30-59c6-4fc9-85aa-0e3a6d7b7586"
      },
      "execution_count": 29,
      "outputs": [
        {
          "output_type": "stream",
          "name": "stdout",
          "text": [
            "hello world \n"
          ]
        }
      ]
    },
    {
      "cell_type": "code",
      "source": [
        "print(txt * 3)"
      ],
      "metadata": {
        "colab": {
          "base_uri": "https://localhost:8080/"
        },
        "id": "50KB3BOOn9VR",
        "outputId": "78691272-b694-40a6-c7be-42585884f45f"
      },
      "execution_count": 30,
      "outputs": [
        {
          "output_type": "stream",
          "name": "stdout",
          "text": [
            "hello hello hello \n"
          ]
        }
      ]
    },
    {
      "cell_type": "code",
      "source": [
        "'ll' in txt"
      ],
      "metadata": {
        "colab": {
          "base_uri": "https://localhost:8080/"
        },
        "id": "AhM3ZGc2oIrU",
        "outputId": "6df52133-ce08-4cfc-f7db-3369ea23c183"
      },
      "execution_count": 24,
      "outputs": [
        {
          "output_type": "execute_result",
          "data": {
            "text/plain": [
              "True"
            ]
          },
          "metadata": {},
          "execution_count": 24
        }
      ]
    },
    {
      "cell_type": "code",
      "source": [
        "txt == txt1"
      ],
      "metadata": {
        "colab": {
          "base_uri": "https://localhost:8080/"
        },
        "id": "N0kWGFF6oxyz",
        "outputId": "16b078e4-eed9-42f3-939d-42b3a0933957"
      },
      "execution_count": 25,
      "outputs": [
        {
          "output_type": "execute_result",
          "data": {
            "text/plain": [
              "False"
            ]
          },
          "metadata": {},
          "execution_count": 25
        }
      ]
    },
    {
      "cell_type": "markdown",
      "source": [
        "## 인덱싱 & 슬라이싱 가능"
      ],
      "metadata": {
        "id": "_PJQEAo_o2GX"
      }
    },
    {
      "cell_type": "code",
      "source": [
        "txt[-1]"
      ],
      "metadata": {
        "colab": {
          "base_uri": "https://localhost:8080/",
          "height": 35
        },
        "id": "YCUxyh1sozcf",
        "outputId": "972425d5-409e-4e9d-8141-2d7252edd63c"
      },
      "execution_count": 26,
      "outputs": [
        {
          "output_type": "execute_result",
          "data": {
            "text/plain": [
              "'o'"
            ],
            "application/vnd.google.colaboratory.intrinsic+json": {
              "type": "string"
            }
          },
          "metadata": {},
          "execution_count": 26
        }
      ]
    },
    {
      "cell_type": "markdown",
      "source": [
        "- 슬라이싱과 더하기 연산자를 이용해서 다음과 같은 출력이 나오게 하시오.\n",
        "\n",
        "```\n",
        "01011112222\n",
        "```"
      ],
      "metadata": {
        "id": "FAtj7UK5pW6P"
      }
    },
    {
      "cell_type": "code",
      "source": [
        "nm = '010-1111-2222'\n",
        "nm[:3]+nm[4:8]+nm[9:]"
      ],
      "metadata": {
        "colab": {
          "base_uri": "https://localhost:8080/",
          "height": 35
        },
        "id": "rgOeuMTIo7Z7",
        "outputId": "ed3033f5-c445-4b1e-a741-a67fc1dc47df"
      },
      "execution_count": 31,
      "outputs": [
        {
          "output_type": "execute_result",
          "data": {
            "text/plain": [
              "'01011112222'"
            ],
            "application/vnd.google.colaboratory.intrinsic+json": {
              "type": "string"
            }
          },
          "metadata": {},
          "execution_count": 31
        }
      ]
    },
    {
      "cell_type": "markdown",
      "source": [
        "## String Formatting\n",
        "- 문자열 내의 특정한 값을 변수로부터 동적으로 받아 문자열을 생성"
      ],
      "metadata": {
        "id": "_qDKtS5luaqQ"
      }
    },
    {
      "cell_type": "code",
      "source": [
        "nm = '펭수'\n",
        "age = 20"
      ],
      "metadata": {
        "id": "UGb1BOp9o-5W"
      },
      "execution_count": 32,
      "outputs": []
    },
    {
      "cell_type": "code",
      "source": [
        "txt = '제 이름은 ' + nm + \"입니다.\\n나이는 \" + str(age) + \"살 입니다.\"\n",
        "print(txt)"
      ],
      "metadata": {
        "colab": {
          "base_uri": "https://localhost:8080/"
        },
        "id": "heI2KHzOu2bm",
        "outputId": "786a1f16-d4bf-4cce-89e2-832259346de4"
      },
      "execution_count": 38,
      "outputs": [
        {
          "output_type": "stream",
          "name": "stdout",
          "text": [
            "제 이름은 펭수입니다.\n",
            "나이는 20살 입니다.\n"
          ]
        }
      ]
    },
    {
      "cell_type": "code",
      "source": [
        "txt = '제 이름은 {}입니다.\\n나이는 {}살 입니다.'\n",
        "print(txt.format(nm,age))"
      ],
      "metadata": {
        "colab": {
          "base_uri": "https://localhost:8080/"
        },
        "id": "EX39FOwAvDPE",
        "outputId": "034b3cea-8e0e-4ced-bb7d-7270b6beb731"
      },
      "execution_count": 41,
      "outputs": [
        {
          "output_type": "stream",
          "name": "stdout",
          "text": [
            "제 이름은 펭수입니다.\n",
            "나이는 20살 입니다.\n"
          ]
        }
      ]
    },
    {
      "cell_type": "markdown",
      "source": [
        "- F-String"
      ],
      "metadata": {
        "id": "DSBY8DDEwDuL"
      }
    },
    {
      "cell_type": "code",
      "source": [
        "txt = f'제 이름은 {nm}입니다. \\n나이는 {age}입니다.'\n",
        "print(txt)"
      ],
      "metadata": {
        "colab": {
          "base_uri": "https://localhost:8080/"
        },
        "id": "xpG4TXDCv4c_",
        "outputId": "1234eb6d-48fa-4d22-c546-e183ebf31009"
      },
      "execution_count": 43,
      "outputs": [
        {
          "output_type": "stream",
          "name": "stdout",
          "text": [
            "제 이름은 펭수입니다. \n",
            "나이는 20입니다.\n"
          ]
        }
      ]
    },
    {
      "cell_type": "markdown",
      "source": [
        "- 다음과 같이 9단을 print와 f-string을 사용하여 출력하시오\n",
        "```\n",
        "9 X 1 = 9\n",
        "9 X 2 = 18\n",
        "...\n",
        "9 X 9 = 81\n",
        "```"
      ],
      "metadata": {
        "id": "H28UEuAlwur9"
      }
    },
    {
      "cell_type": "code",
      "source": [
        "num = 9 \n",
        "txt = f'{num} X 1 = {num*1}\\n{num} X 2 = {num*2}\\n{num} X 3 = {num*3}\\n{num} X 4 = {num*4}\\n{num} X 5 = {num*5}\\n{num} X 6 = {num*6}\\n{num} X 7 = {num*7}\\n{num} X 8 = {num*8}\\n{num} X 9 = {num*9}'\n",
        "print(txt)"
      ],
      "metadata": {
        "colab": {
          "base_uri": "https://localhost:8080/"
        },
        "id": "u8BADODqwXcj",
        "outputId": "73a33fbd-2abc-4a8d-d8e7-88d3cc837da8"
      },
      "execution_count": 48,
      "outputs": [
        {
          "output_type": "stream",
          "name": "stdout",
          "text": [
            "9 X 1 = 9\n",
            "9 X 2 = 18\n",
            "9 X 3 = 27\n",
            "9 X 4 = 36\n",
            "9 X 5 = 45\n",
            "9 X 6 = 54\n",
            "9 X 7 = 63\n",
            "9 X 8 = 72\n",
            "9 X 9 = 81\n"
          ]
        }
      ]
    },
    {
      "cell_type": "markdown",
      "source": [
        "## 문자열 메서드\n"
      ],
      "metadata": {
        "id": "F_m362UrzchA"
      }
    },
    {
      "cell_type": "markdown",
      "source": [
        "- 대/소문자 만들기"
      ],
      "metadata": {
        "id": "ewFDQ10wzraC"
      }
    },
    {
      "cell_type": "code",
      "source": [
        "txt = 'Hello Python'\n",
        "print(txt.upper())\n",
        "print(txt.lower())"
      ],
      "metadata": {
        "colab": {
          "base_uri": "https://localhost:8080/"
        },
        "id": "b_7BCQJexR3q",
        "outputId": "dcfc0941-3b0e-44a9-871c-54079a7b36cb"
      },
      "execution_count": 53,
      "outputs": [
        {
          "output_type": "stream",
          "name": "stdout",
          "text": [
            "HELLO PYTHON\n",
            "hello python\n"
          ]
        }
      ]
    },
    {
      "cell_type": "markdown",
      "source": [
        "- 문자열 치환(`replace`)\n",
        "    - 바꾸려는 문자열이 없어도 에러x"
      ],
      "metadata": {
        "id": "6BxuDUjI0NKA"
      }
    },
    {
      "cell_type": "code",
      "source": [
        "txt"
      ],
      "metadata": {
        "colab": {
          "base_uri": "https://localhost:8080/",
          "height": 35
        },
        "id": "di_ErLQPyP3W",
        "outputId": "e47a2d34-dd05-495e-f2fd-bc6391268124"
      },
      "execution_count": 58,
      "outputs": [
        {
          "output_type": "execute_result",
          "data": {
            "text/plain": [
              "'Hello Python'"
            ],
            "application/vnd.google.colaboratory.intrinsic+json": {
              "type": "string"
            }
          },
          "metadata": {},
          "execution_count": 58
        }
      ]
    },
    {
      "cell_type": "code",
      "source": [
        "txt.replace('o','i')  # replace(변경 할 문자, 변경 될 문자)"
      ],
      "metadata": {
        "colab": {
          "base_uri": "https://localhost:8080/",
          "height": 35
        },
        "id": "MXAw06zD0q-K",
        "outputId": "bfd7cec7-1116-4933-84a9-790dfbe2edce"
      },
      "execution_count": 59,
      "outputs": [
        {
          "output_type": "execute_result",
          "data": {
            "text/plain": [
              "'Helli Pythin'"
            ],
            "application/vnd.google.colaboratory.intrinsic+json": {
              "type": "string"
            }
          },
          "metadata": {},
          "execution_count": 59
        }
      ]
    },
    {
      "cell_type": "code",
      "source": [
        "txt.replace('Hello','Bye')"
      ],
      "metadata": {
        "colab": {
          "base_uri": "https://localhost:8080/",
          "height": 35
        },
        "id": "xG7WMpcV071l",
        "outputId": "1010982f-468e-4b17-f823-22fc8b844718"
      },
      "execution_count": 60,
      "outputs": [
        {
          "output_type": "execute_result",
          "data": {
            "text/plain": [
              "'Bye Python'"
            ],
            "application/vnd.google.colaboratory.intrinsic+json": {
              "type": "string"
            }
          },
          "metadata": {},
          "execution_count": 60
        }
      ]
    },
    {
      "cell_type": "markdown",
      "source": [
        "- 문자열 분리(`split`)\n",
        "    - 특정 구분자를 이용해서 문자열을 분리하여 리스트로 반환"
      ],
      "metadata": {
        "id": "KBL9borr17NH"
      }
    },
    {
      "cell_type": "code",
      "source": [
        "txt = '날이 더워서 힘드네요. 내일은 시원 했으면 좋겠어요'\n",
        "txt.split()"
      ],
      "metadata": {
        "colab": {
          "base_uri": "https://localhost:8080/"
        },
        "id": "UOdIPfZG1T0M",
        "outputId": "c1267c4d-98f2-4441-ba4a-407df2583d6b"
      },
      "execution_count": 61,
      "outputs": [
        {
          "output_type": "execute_result",
          "data": {
            "text/plain": [
              "['날이', '더워서', '힘드네요.', '내일은', '시원', '했으면', '좋겠어요']"
            ]
          },
          "metadata": {},
          "execution_count": 61
        }
      ]
    },
    {
      "cell_type": "code",
      "source": [
        "txt = '   오늘 하루 너무 행복하다.'\n",
        "txt.split() # 공백만 있거나 비어있는 문자열인 경우 리스트 포함X"
      ],
      "metadata": {
        "colab": {
          "base_uri": "https://localhost:8080/"
        },
        "id": "Idk9y5--2aX6",
        "outputId": "947c1283-811c-4292-9089-a6342308e1e4"
      },
      "execution_count": 65,
      "outputs": [
        {
          "output_type": "execute_result",
          "data": {
            "text/plain": [
              "['오늘', '하루', '너무', '행복하다.']"
            ]
          },
          "metadata": {},
          "execution_count": 65
        }
      ]
    },
    {
      "cell_type": "code",
      "source": [
        "txt = '#8시간#하루종일#취업#플레이데이터'\n",
        "txt.split('#') # 기준값이 주어진 경우, 리스트에 공백 포함"
      ],
      "metadata": {
        "colab": {
          "base_uri": "https://localhost:8080/"
        },
        "id": "hdMVUHFz2ecH",
        "outputId": "60aabd02-43d0-4713-f3b4-f2949ba02668"
      },
      "execution_count": 67,
      "outputs": [
        {
          "output_type": "execute_result",
          "data": {
            "text/plain": [
              "['', '8시간', '하루종일', '취업', '플레이데이터']"
            ]
          },
          "metadata": {},
          "execution_count": 67
        }
      ]
    },
    {
      "cell_type": "code",
      "source": [
        "# 공백을 지우고 싶을 때\n",
        "txt = '#8시간#하루종일#취업#플레이데이터'\n",
        "tmp = txt.split('#')\n",
        "tmp[1:] "
      ],
      "metadata": {
        "colab": {
          "base_uri": "https://localhost:8080/"
        },
        "id": "8PWP9Ex23Scr",
        "outputId": "47d19f8d-804e-42f3-fd7f-00a99d909945"
      },
      "execution_count": 68,
      "outputs": [
        {
          "output_type": "execute_result",
          "data": {
            "text/plain": [
              "['8시간', '하루종일', '취업', '플레이데이터']"
            ]
          },
          "metadata": {},
          "execution_count": 68
        }
      ]
    },
    {
      "cell_type": "markdown",
      "source": [
        "- 문자열의 좌/우 공백 제거(`strip`)"
      ],
      "metadata": {
        "id": "qfbOYax34IbP"
      }
    },
    {
      "cell_type": "code",
      "source": [
        "txt = '        곧 집간다\\n\\n\\n\\n'\n",
        "print(txt)"
      ],
      "metadata": {
        "colab": {
          "base_uri": "https://localhost:8080/"
        },
        "id": "nFCVaWst4HHl",
        "outputId": "c699b9a8-6ae1-4bad-f727-ef508fb2fd83"
      },
      "execution_count": 69,
      "outputs": [
        {
          "output_type": "stream",
          "name": "stdout",
          "text": [
            "        곧 집간다\n",
            "\n",
            "\n",
            "\n",
            "\n"
          ]
        }
      ]
    },
    {
      "cell_type": "code",
      "source": [
        "print(txt.strip())\n",
        "print(txt.rstrip())  # 오른쪽 공백 제거\n",
        "print(txt.lstrip())  # 왼쪽 공백 제거"
      ],
      "metadata": {
        "colab": {
          "base_uri": "https://localhost:8080/"
        },
        "id": "GaL_FWQ54dqL",
        "outputId": "039e362e-0621-443b-b792-acecdf1467bf"
      },
      "execution_count": 73,
      "outputs": [
        {
          "output_type": "stream",
          "name": "stdout",
          "text": [
            "곧 집간다\n",
            "        곧 집간다\n",
            "곧 집간다\n",
            "\n",
            "\n",
            "\n",
            "\n"
          ]
        }
      ]
    },
    {
      "cell_type": "markdown",
      "source": [
        "- 문자열 합치기(`join`)\n",
        "    - 'split`과 반대 개념\n",
        "    - 특정 문자열을 기준으로 리스트에 있는 문자열들과 합쳐주는 역할"
      ],
      "metadata": {
        "id": "QSXAZreD8XOm"
      }
    },
    {
      "cell_type": "code",
      "source": [
        "txt = '오늘 하루 너무 힘들다.'\n",
        "result = txt.split()\n",
        "\n",
        "\"#\".join(result)  # 리스트 요소들 사이에 인자값을 넣어 합친다."
      ],
      "metadata": {
        "colab": {
          "base_uri": "https://localhost:8080/",
          "height": 35
        },
        "id": "Ay9myKRe4jyU",
        "outputId": "fe6c5e84-457a-4be6-a2d2-846d843d8d00"
      },
      "execution_count": 76,
      "outputs": [
        {
          "output_type": "execute_result",
          "data": {
            "text/plain": [
              "'오늘#하루#너무#힘들다.'"
            ],
            "application/vnd.google.colaboratory.intrinsic+json": {
              "type": "string"
            }
          },
          "metadata": {},
          "execution_count": 76
        }
      ]
    },
    {
      "cell_type": "markdown",
      "source": [
        "- 특정 문자열로 시작하는지에 대한 여부 반환(`startswith`)"
      ],
      "metadata": {
        "id": "Np3FEv7P-B8l"
      }
    },
    {
      "cell_type": "code",
      "source": [
        "txt = '이제는 날이 점점 덥고 습해지고 있어요.'\n",
        "txt.startswith('이제는')"
      ],
      "metadata": {
        "colab": {
          "base_uri": "https://localhost:8080/"
        },
        "id": "D3RkmxfR-CrY",
        "outputId": "cfecce10-e0ad-4492-cf2d-d9766aedd3dd"
      },
      "execution_count": 82,
      "outputs": [
        {
          "output_type": "execute_result",
          "data": {
            "text/plain": [
              "True"
            ]
          },
          "metadata": {},
          "execution_count": 82
        }
      ]
    },
    {
      "cell_type": "markdown",
      "source": [
        "- 특정 문자열로 끝나는지에 대한 여부 반환(`endswith`)"
      ],
      "metadata": {
        "id": "PpMcJ4DZ-m5w"
      }
    },
    {
      "cell_type": "code",
      "source": [
        "txt = ['오늘은 몇일 입니까?','파이썬 쉽다.', '내일 만나요...?']\n",
        "print(txt[0].endswith('?'))\n",
        "print(txt[1].endswith('?'))\n",
        "print(txt[2].endswith('?'))"
      ],
      "metadata": {
        "colab": {
          "base_uri": "https://localhost:8080/"
        },
        "id": "6cFwMuU7-C_p",
        "outputId": "ac9d4a2b-2d8d-4410-c0ca-27a62e8d3726"
      },
      "execution_count": 90,
      "outputs": [
        {
          "output_type": "stream",
          "name": "stdout",
          "text": [
            "True\n",
            "False\n",
            "True\n"
          ]
        }
      ]
    },
    {
      "cell_type": "markdown",
      "source": [
        "- 부분 문자열의 개수를 세는 메서드(`count`)"
      ],
      "metadata": {
        "id": "5X_tkIpl_rAj"
      }
    },
    {
      "cell_type": "code",
      "source": [
        "txt = '이제는 날이 점점 덥고 습해지고 있어요.'\n",
        "txt.count('이')"
      ],
      "metadata": {
        "colab": {
          "base_uri": "https://localhost:8080/"
        },
        "id": "7Bw-bs-e-wGK",
        "outputId": "5718e51f-de29-4d4d-b356-57ea3005b8bc"
      },
      "execution_count": 91,
      "outputs": [
        {
          "output_type": "execute_result",
          "data": {
            "text/plain": [
              "2"
            ]
          },
          "metadata": {},
          "execution_count": 91
        }
      ]
    },
    {
      "cell_type": "markdown",
      "source": [
        "- 문자열이 특정 길이가 되도록 문자열 앞에 0을 채우는 메서드(`zfill`)"
      ],
      "metadata": {
        "id": "7Ogp-KJSAROJ"
      }
    },
    {
      "cell_type": "code",
      "source": [
        "a = '1'\n",
        "a.zfill(5)"
      ],
      "metadata": {
        "colab": {
          "base_uri": "https://localhost:8080/",
          "height": 35
        },
        "id": "DxN0UYSX_6EH",
        "outputId": "8f3df3e8-5fa6-463e-b2c7-7c92d91ce93f"
      },
      "execution_count": 93,
      "outputs": [
        {
          "output_type": "execute_result",
          "data": {
            "text/plain": [
              "'00001'"
            ],
            "application/vnd.google.colaboratory.intrinsic+json": {
              "type": "string"
            }
          },
          "metadata": {},
          "execution_count": 93
        }
      ]
    },
    {
      "cell_type": "code",
      "source": [
        "text_codetorial = 'codetorial'\n",
        "text_codetorial.zfill(8)"
      ],
      "metadata": {
        "colab": {
          "base_uri": "https://localhost:8080/",
          "height": 35
        },
        "id": "iTFYDNY0Af5P",
        "outputId": "ac6f910a-43f6-40c6-b984-aedeb2a86afc"
      },
      "execution_count": 94,
      "outputs": [
        {
          "output_type": "execute_result",
          "data": {
            "text/plain": [
              "'codetorial'"
            ],
            "application/vnd.google.colaboratory.intrinsic+json": {
              "type": "string"
            }
          },
          "metadata": {},
          "execution_count": 94
        }
      ]
    }
  ]
}